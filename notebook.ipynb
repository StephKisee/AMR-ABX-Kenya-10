{
 "cells": [
  {
   "cell_type": "markdown",
   "source": [
    "# Antimicrobial Resistance (AMR) and Antibiotic Use (ABX) in 10 Select Counties in Kenya"
   ],
   "metadata": {
    "collapsed": false
   },
   "id": "f8fe02b042043f6a"
  },
  {
   "cell_type": "code",
   "execution_count": 436,
   "id": "initial_id",
   "metadata": {
    "collapsed": true,
    "ExecuteTime": {
     "end_time": "2024-01-23T13:41:30.603921900Z",
     "start_time": "2024-01-23T13:41:30.521534300Z"
    }
   },
   "outputs": [],
   "source": [
    "from src import *\n",
    "import pandas as pd\n",
    "import regex as re\n",
    "import numpy as np\n",
    "import matplotlib.pyplot as plt\n",
    "import geopandas as gpd\n",
    "from shapely.geometry import Point\n",
    "import plotly.express as px"
   ]
  },
  {
   "cell_type": "code",
   "outputs": [],
   "source": [
    "amr_path = 'data/AMR24_Dx_Capacity_assessment_in_counties_-_all_versions_-_labels_-_2023-10-24-09-26-34.xlsx'\n",
    "abx_path = 'data/ABX24_Use_Assessment_in_Counties_-_all_versions_-_labels_-_2023-10-25-07-36-51.xlsx'\n",
    "\n",
    "# kenya = gpd.read_file('./data/spatial-data/kenya_counties.geojson')\n",
    "# counties = gpd.read_file('./data/spatial-data/kenya_counties.geojson')\n",
    "# sub_counties = gpd.read_file('./data/spatial-data/kenya_sub_counties.geojson')\n",
    "# wards = gpd.read_file('./data/spatial-data/kenya_wards.geojson')\n",
    "# \n",
    "# kenya.crs = counties.crs = sub_counties.crs = wards.crs = 'EPSG:4326'"
   ],
   "metadata": {
    "collapsed": false,
    "ExecuteTime": {
     "end_time": "2024-01-23T13:41:30.641795Z",
     "start_time": "2024-01-23T13:41:30.576381800Z"
    }
   },
   "id": "3e6fdefd7cc3892",
   "execution_count": 437
  },
  {
   "cell_type": "code",
   "outputs": [],
   "source": [
    "amr_df = pd.read_excel(amr_path)\n",
    "abx_df = pd.read_excel(abx_path)"
   ],
   "metadata": {
    "collapsed": false,
    "ExecuteTime": {
     "end_time": "2024-01-23T13:41:30.952439300Z",
     "start_time": "2024-01-23T13:41:30.645776700Z"
    }
   },
   "id": "926e55a7d586c3f6",
   "execution_count": 438
  },
  {
   "cell_type": "code",
   "outputs": [
    {
     "data": {
      "text/plain": "                    start                     end  \\\n0 2023-09-19 09:38:40.129 2023-09-19 12:10:07.529   \n1 2023-09-20 09:14:18.598 2023-09-20 11:26:12.117   \n2 2023-09-20 10:28:13.467 2023-09-20 15:14:25.455   \n3 2023-09-20 10:53:46.163 2023-09-20 16:28:45.251   \n4 2023-09-21 08:15:34.204 2023-09-21 09:40:45.038   \n\n   The Ministry of Health, in collaboration with JKUAT, FIND, the global alliance for diagnostics, and GARDP is carrying out an activity to assess AMR diagnostic capacity, antibiotic use and existing antimicrobial stewardship practices in preparation for the introduction of cefiderocol (and other antibiotics) and new low blood culture and molecular Point of care testing (POCT) platforms in Kenya. The activity is taking place at selected levels 4,5 and 6 of health facilities in Isiolo, Laikipia, Vihiga, Nyeri, Nairobi, Kirinyaga, Kericho, Kajiado, Nandi and Kilifi counties. \\nPlease complete this questionnaire for the facilities that you are reporting on, and where indicated, provide additional details on your selected responses.  \\n\\nFindings will be published by MoH, Isiolo, Laikipia, Vihiga, Nyeri, Nairobi, Kirinyaga, Kericho, Kajiado, Nandi and Kilifi Counties, as well as JKUAT, FIND and GARDP.  \\\n0                                                NaN                                                                                                                                                                                                                                                                                                                                                                                                                                                                                                                                                                                                                                                                                                                                                                                                                                                                                             \n1                                                NaN                                                                                                                                                                                                                                                                                                                                                                                                                                                                                                                                                                                                                                                                                                                                                                                                                                                                                             \n2                                                NaN                                                                                                                                                                                                                                                                                                                                                                                                                                                                                                                                                                                                                                                                                                                                                                                                                                                                                             \n3                                                NaN                                                                                                                                                                                                                                                                                                                                                                                                                                                                                                                                                                                                                                                                                                                                                                                                                                                                                             \n4                                                NaN                                                                                                                                                                                                                                                                                                                                                                                                                                                                                                                                                                                                                                                                                                                                                                                                                                                                                             \n\n    County Sub county        Ward              Name of health facility  \\\n0   Isiolo     Isiolo      Wabera  Isiolo County and Referral Hospital   \n1   Isiolo     Isiolo  Bulla Pesa                 Anka Hospital Isiolo   \n2  Nairobi    Ruaraka   Korogocho         Mama Margaret Uhuru Hospital   \n3    Nandi     Emgwen    Kapsabet    Kapsabet County Referral Hospital   \n4   Isiolo     Isiolo  Bulla Pesa         MaterCare Maternity Hospital   \n\n   Facility code        Assessor name  \\\n0          12094  GEORGE MUCHIRI NJAU   \n1          29530  GEORGE MUCHIRI NJAU   \n2          28885      Peter Kinyanjui   \n3          14749       Mmboyi Onesmus   \n4          19912  GEORGE MUCHIRI NJAU   \n\n                                GPS coordinates  ...  _notes  \\\n0            0.3647273 37.5896959 1081.5 25.136  ...     NaN   \n1  0.3498341 37.5820279 1093.7000732421875 15.5  ...     NaN   \n2  -1.2513671 36.8864047 1584.300048828125 20.0  ...     NaN   \n3      0.2021363 35.10287 1985.300048828125 5.0  ...     NaN   \n4             0.3274352 37.5638683 1190.0 4.957  ...     NaN   \n\n             _status  _submitted_by             __version__ _tags _index  \\\n0  submitted_via_web        amr_abx  vDeNhdSRZ7scoW8UrHD6hm   NaN      1   \n1  submitted_via_web        amr_abx  v7dgbgEbVY8RrodPdYpYiU   NaN      2   \n2  submitted_via_web        amr_abx  v7dgbgEbVY8RrodPdYpYiU   NaN      3   \n3  submitted_via_web        amr_abx  v7dgbgEbVY8RrodPdYpYiU   NaN      4   \n4  submitted_via_web        amr_abx  v7dgbgEbVY8RrodPdYpYiU   NaN      5   \n\n  Unnamed: 375  Unnamed: 376 Unnamed: 377  Unnamed: 378  \n0          NaN           NaN          NaN           NaN  \n1          1.0           0.0          1.0           0.0  \n2          0.0           0.0          0.0           1.0  \n3          NaN           NaN          NaN           NaN  \n4          NaN           NaN          NaN           NaN  \n\n[5 rows x 379 columns]",
      "text/html": "<div>\n<style scoped>\n    .dataframe tbody tr th:only-of-type {\n        vertical-align: middle;\n    }\n\n    .dataframe tbody tr th {\n        vertical-align: top;\n    }\n\n    .dataframe thead th {\n        text-align: right;\n    }\n</style>\n<table border=\"1\" class=\"dataframe\">\n  <thead>\n    <tr style=\"text-align: right;\">\n      <th></th>\n      <th>start</th>\n      <th>end</th>\n      <th>The Ministry of Health, in collaboration with JKUAT, FIND, the global alliance for diagnostics, and GARDP is carrying out an activity to assess AMR diagnostic capacity, antibiotic use and existing antimicrobial stewardship practices in preparation for the introduction of cefiderocol (and other antibiotics) and new low blood culture and molecular Point of care testing (POCT) platforms in Kenya. The activity is taking place at selected levels 4,5 and 6 of health facilities in Isiolo, Laikipia, Vihiga, Nyeri, Nairobi, Kirinyaga, Kericho, Kajiado, Nandi and Kilifi counties. \\nPlease complete this questionnaire for the facilities that you are reporting on, and where indicated, provide additional details on your selected responses.  \\n\\nFindings will be published by MoH, Isiolo, Laikipia, Vihiga, Nyeri, Nairobi, Kirinyaga, Kericho, Kajiado, Nandi and Kilifi Counties, as well as JKUAT, FIND and GARDP.</th>\n      <th>County</th>\n      <th>Sub county</th>\n      <th>Ward</th>\n      <th>Name of health facility</th>\n      <th>Facility code</th>\n      <th>Assessor name</th>\n      <th>GPS coordinates</th>\n      <th>...</th>\n      <th>_notes</th>\n      <th>_status</th>\n      <th>_submitted_by</th>\n      <th>__version__</th>\n      <th>_tags</th>\n      <th>_index</th>\n      <th>Unnamed: 375</th>\n      <th>Unnamed: 376</th>\n      <th>Unnamed: 377</th>\n      <th>Unnamed: 378</th>\n    </tr>\n  </thead>\n  <tbody>\n    <tr>\n      <th>0</th>\n      <td>2023-09-19 09:38:40.129</td>\n      <td>2023-09-19 12:10:07.529</td>\n      <td>NaN</td>\n      <td>Isiolo</td>\n      <td>Isiolo</td>\n      <td>Wabera</td>\n      <td>Isiolo County and Referral Hospital</td>\n      <td>12094</td>\n      <td>GEORGE MUCHIRI NJAU</td>\n      <td>0.3647273 37.5896959 1081.5 25.136</td>\n      <td>...</td>\n      <td>NaN</td>\n      <td>submitted_via_web</td>\n      <td>amr_abx</td>\n      <td>vDeNhdSRZ7scoW8UrHD6hm</td>\n      <td>NaN</td>\n      <td>1</td>\n      <td>NaN</td>\n      <td>NaN</td>\n      <td>NaN</td>\n      <td>NaN</td>\n    </tr>\n    <tr>\n      <th>1</th>\n      <td>2023-09-20 09:14:18.598</td>\n      <td>2023-09-20 11:26:12.117</td>\n      <td>NaN</td>\n      <td>Isiolo</td>\n      <td>Isiolo</td>\n      <td>Bulla Pesa</td>\n      <td>Anka Hospital Isiolo</td>\n      <td>29530</td>\n      <td>GEORGE MUCHIRI NJAU</td>\n      <td>0.3498341 37.5820279 1093.7000732421875 15.5</td>\n      <td>...</td>\n      <td>NaN</td>\n      <td>submitted_via_web</td>\n      <td>amr_abx</td>\n      <td>v7dgbgEbVY8RrodPdYpYiU</td>\n      <td>NaN</td>\n      <td>2</td>\n      <td>1.0</td>\n      <td>0.0</td>\n      <td>1.0</td>\n      <td>0.0</td>\n    </tr>\n    <tr>\n      <th>2</th>\n      <td>2023-09-20 10:28:13.467</td>\n      <td>2023-09-20 15:14:25.455</td>\n      <td>NaN</td>\n      <td>Nairobi</td>\n      <td>Ruaraka</td>\n      <td>Korogocho</td>\n      <td>Mama Margaret Uhuru Hospital</td>\n      <td>28885</td>\n      <td>Peter Kinyanjui</td>\n      <td>-1.2513671 36.8864047 1584.300048828125 20.0</td>\n      <td>...</td>\n      <td>NaN</td>\n      <td>submitted_via_web</td>\n      <td>amr_abx</td>\n      <td>v7dgbgEbVY8RrodPdYpYiU</td>\n      <td>NaN</td>\n      <td>3</td>\n      <td>0.0</td>\n      <td>0.0</td>\n      <td>0.0</td>\n      <td>1.0</td>\n    </tr>\n    <tr>\n      <th>3</th>\n      <td>2023-09-20 10:53:46.163</td>\n      <td>2023-09-20 16:28:45.251</td>\n      <td>NaN</td>\n      <td>Nandi</td>\n      <td>Emgwen</td>\n      <td>Kapsabet</td>\n      <td>Kapsabet County Referral Hospital</td>\n      <td>14749</td>\n      <td>Mmboyi Onesmus</td>\n      <td>0.2021363 35.10287 1985.300048828125 5.0</td>\n      <td>...</td>\n      <td>NaN</td>\n      <td>submitted_via_web</td>\n      <td>amr_abx</td>\n      <td>v7dgbgEbVY8RrodPdYpYiU</td>\n      <td>NaN</td>\n      <td>4</td>\n      <td>NaN</td>\n      <td>NaN</td>\n      <td>NaN</td>\n      <td>NaN</td>\n    </tr>\n    <tr>\n      <th>4</th>\n      <td>2023-09-21 08:15:34.204</td>\n      <td>2023-09-21 09:40:45.038</td>\n      <td>NaN</td>\n      <td>Isiolo</td>\n      <td>Isiolo</td>\n      <td>Bulla Pesa</td>\n      <td>MaterCare Maternity Hospital</td>\n      <td>19912</td>\n      <td>GEORGE MUCHIRI NJAU</td>\n      <td>0.3274352 37.5638683 1190.0 4.957</td>\n      <td>...</td>\n      <td>NaN</td>\n      <td>submitted_via_web</td>\n      <td>amr_abx</td>\n      <td>v7dgbgEbVY8RrodPdYpYiU</td>\n      <td>NaN</td>\n      <td>5</td>\n      <td>NaN</td>\n      <td>NaN</td>\n      <td>NaN</td>\n      <td>NaN</td>\n    </tr>\n  </tbody>\n</table>\n<p>5 rows × 379 columns</p>\n</div>"
     },
     "execution_count": 439,
     "metadata": {},
     "output_type": "execute_result"
    }
   ],
   "source": [
    "amr_df.head()"
   ],
   "metadata": {
    "collapsed": false,
    "ExecuteTime": {
     "end_time": "2024-01-23T13:41:30.980295100Z",
     "start_time": "2024-01-23T13:41:30.904012300Z"
    }
   },
   "id": "2bb32a53400074c4",
   "execution_count": 439
  },
  {
   "cell_type": "code",
   "outputs": [
    {
     "data": {
      "text/plain": "   The Ministry of Health, in collaboration with FIND, the global alliance for diagnostics, GARDP and JKUAT  is carrying out an activity to assess AMR diagnostic capacity, antibiotic use and existing antimicrobial stewardship practices in preparation for the introduction of cefiderocol (and other antibiotics) and new low blood culture and molecular Point of care testing (POCT) platforms in Kenya. The activity is taking place at selected levels 4,5 and 6 of health facilities in Isiolo, Laikipia, Vihiga, Nyeri, Nairobi, Kirinyaga, Kericho, Kajiado, Nandi and Kilifi counties. \\nPlease complete this questionnaire for the facilities that you are reporting on, and where indicated, provide additional details on your selected responses.  \\n\\nFindings will be published by MoH, Isiolo, Laikipia, Vihiga, Nyeri, Nairobi, Kirinyaga, Kericho, Kajiado, Nandi and Kilifi Counties, as well as JKUAT, FIND and GARDP.  \\\n0                                                NaN                                                                                                                                                                                                                                                                                                                                                                                                                                                                                                                                                                                                                                                                                                                                                                                                                                                                                             \n1                                                NaN                                                                                                                                                                                                                                                                                                                                                                                                                                                                                                                                                                                                                                                                                                                                                                                                                                                                                             \n2                                                NaN                                                                                                                                                                                                                                                                                                                                                                                                                                                                                                                                                                                                                                                                                                                                                                                                                                                                                             \n3                                                NaN                                                                                                                                                                                                                                                                                                                                                                                                                                                                                                                                                                                                                                                                                                                                                                                                                                                                                             \n4                                                NaN                                                                                                                                                                                                                                                                                                                                                                                                                                                                                                                                                                                                                                                                                                                                                                                                                                                                                             \n\n      County         Sub county        Ward  \\\n0     Isiolo             Isiolo      Wabera   \n1     Isiolo             Isiolo  Bulla Pesa   \n2    Nairobi            Ruaraka   Korogocho   \n3      Nandi             Emgwen    Kapsabet   \n4  Kirinyaga  Kirinyaga Central    Kerugoya   \n\n               Name of health facility  Facility code Name of assessor  \\\n0  Isiolo County and Referral Hospital          12094    Robert Mwangi   \n1                 Anka Hospital Isiolo          29530   Robert Mwangi    \n2         Mama Margaret Uhuru Hospital          28885       Jill Mutua   \n3    Kapsabet County Referral Hospital          14749       Edna kubai   \n4    Kerugoya County Refferal Hospital          10520    Bettinah Ngei   \n\n                                GPS coordinates  _GPS coordinates_latitude  \\\n0   0.3648593 37.5894629 1081.300048828125 22.5                   0.364859   \n1  0.3498041 37.5820205 1093.7000732421875 23.6                   0.349804   \n2                                           NaN                        NaN   \n3    0.2021236 35.1027124 1985.300048828125 3.7                   0.202124   \n4  -0.5048047 37.2816151 1504.5999755859375 4.8                  -0.504805   \n\n   _GPS coordinates_longitude  ...                 _id  _uuid  \\\n0                   37.589463  ... 2023-09-19 10:23:18    NaN   \n1                   37.582020  ... 2023-09-20 09:10:22    NaN   \n2                         NaN  ... 2023-09-20 11:23:31    NaN   \n3                   35.102712  ... 2023-09-20 13:35:56    NaN   \n4                   37.281615  ... 2023-09-21 06:45:48    NaN   \n\n  _submission_time  _validation_status   _notes                 _status  \\\n0              NaN   submitted_via_web  amr_abx  vNBX3rx7DgMhoSCacYCHKF   \n1              NaN   submitted_via_web  amr_abx  vGF5BaecH7dbx7nXfyW5uj   \n2              NaN   submitted_via_web  amr_abx  vGF5BaecH7dbx7nXfyW5uj   \n3              NaN   submitted_via_web  amr_abx  vGF5BaecH7dbx7nXfyW5uj   \n4              NaN   submitted_via_web  amr_abx  vGF5BaecH7dbx7nXfyW5uj   \n\n   _submitted_by  __version__ _tags  _index  \n0            NaN            1   NaN     NaN  \n1            NaN            2   NaN     NaN  \n2            NaN            3   NaN     NaN  \n3            NaN            4   NaN     NaN  \n4            NaN            5   NaN     NaN  \n\n[5 rows x 695 columns]",
      "text/html": "<div>\n<style scoped>\n    .dataframe tbody tr th:only-of-type {\n        vertical-align: middle;\n    }\n\n    .dataframe tbody tr th {\n        vertical-align: top;\n    }\n\n    .dataframe thead th {\n        text-align: right;\n    }\n</style>\n<table border=\"1\" class=\"dataframe\">\n  <thead>\n    <tr style=\"text-align: right;\">\n      <th></th>\n      <th>The Ministry of Health, in collaboration with FIND, the global alliance for diagnostics, GARDP and JKUAT  is carrying out an activity to assess AMR diagnostic capacity, antibiotic use and existing antimicrobial stewardship practices in preparation for the introduction of cefiderocol (and other antibiotics) and new low blood culture and molecular Point of care testing (POCT) platforms in Kenya. The activity is taking place at selected levels 4,5 and 6 of health facilities in Isiolo, Laikipia, Vihiga, Nyeri, Nairobi, Kirinyaga, Kericho, Kajiado, Nandi and Kilifi counties. \\nPlease complete this questionnaire for the facilities that you are reporting on, and where indicated, provide additional details on your selected responses.  \\n\\nFindings will be published by MoH, Isiolo, Laikipia, Vihiga, Nyeri, Nairobi, Kirinyaga, Kericho, Kajiado, Nandi and Kilifi Counties, as well as JKUAT, FIND and GARDP.</th>\n      <th>County</th>\n      <th>Sub county</th>\n      <th>Ward</th>\n      <th>Name of health facility</th>\n      <th>Facility code</th>\n      <th>Name of assessor</th>\n      <th>GPS coordinates</th>\n      <th>_GPS coordinates_latitude</th>\n      <th>_GPS coordinates_longitude</th>\n      <th>...</th>\n      <th>_id</th>\n      <th>_uuid</th>\n      <th>_submission_time</th>\n      <th>_validation_status</th>\n      <th>_notes</th>\n      <th>_status</th>\n      <th>_submitted_by</th>\n      <th>__version__</th>\n      <th>_tags</th>\n      <th>_index</th>\n    </tr>\n  </thead>\n  <tbody>\n    <tr>\n      <th>0</th>\n      <td>NaN</td>\n      <td>Isiolo</td>\n      <td>Isiolo</td>\n      <td>Wabera</td>\n      <td>Isiolo County and Referral Hospital</td>\n      <td>12094</td>\n      <td>Robert Mwangi</td>\n      <td>0.3648593 37.5894629 1081.300048828125 22.5</td>\n      <td>0.364859</td>\n      <td>37.589463</td>\n      <td>...</td>\n      <td>2023-09-19 10:23:18</td>\n      <td>NaN</td>\n      <td>NaN</td>\n      <td>submitted_via_web</td>\n      <td>amr_abx</td>\n      <td>vNBX3rx7DgMhoSCacYCHKF</td>\n      <td>NaN</td>\n      <td>1</td>\n      <td>NaN</td>\n      <td>NaN</td>\n    </tr>\n    <tr>\n      <th>1</th>\n      <td>NaN</td>\n      <td>Isiolo</td>\n      <td>Isiolo</td>\n      <td>Bulla Pesa</td>\n      <td>Anka Hospital Isiolo</td>\n      <td>29530</td>\n      <td>Robert Mwangi</td>\n      <td>0.3498041 37.5820205 1093.7000732421875 23.6</td>\n      <td>0.349804</td>\n      <td>37.582020</td>\n      <td>...</td>\n      <td>2023-09-20 09:10:22</td>\n      <td>NaN</td>\n      <td>NaN</td>\n      <td>submitted_via_web</td>\n      <td>amr_abx</td>\n      <td>vGF5BaecH7dbx7nXfyW5uj</td>\n      <td>NaN</td>\n      <td>2</td>\n      <td>NaN</td>\n      <td>NaN</td>\n    </tr>\n    <tr>\n      <th>2</th>\n      <td>NaN</td>\n      <td>Nairobi</td>\n      <td>Ruaraka</td>\n      <td>Korogocho</td>\n      <td>Mama Margaret Uhuru Hospital</td>\n      <td>28885</td>\n      <td>Jill Mutua</td>\n      <td>NaN</td>\n      <td>NaN</td>\n      <td>NaN</td>\n      <td>...</td>\n      <td>2023-09-20 11:23:31</td>\n      <td>NaN</td>\n      <td>NaN</td>\n      <td>submitted_via_web</td>\n      <td>amr_abx</td>\n      <td>vGF5BaecH7dbx7nXfyW5uj</td>\n      <td>NaN</td>\n      <td>3</td>\n      <td>NaN</td>\n      <td>NaN</td>\n    </tr>\n    <tr>\n      <th>3</th>\n      <td>NaN</td>\n      <td>Nandi</td>\n      <td>Emgwen</td>\n      <td>Kapsabet</td>\n      <td>Kapsabet County Referral Hospital</td>\n      <td>14749</td>\n      <td>Edna kubai</td>\n      <td>0.2021236 35.1027124 1985.300048828125 3.7</td>\n      <td>0.202124</td>\n      <td>35.102712</td>\n      <td>...</td>\n      <td>2023-09-20 13:35:56</td>\n      <td>NaN</td>\n      <td>NaN</td>\n      <td>submitted_via_web</td>\n      <td>amr_abx</td>\n      <td>vGF5BaecH7dbx7nXfyW5uj</td>\n      <td>NaN</td>\n      <td>4</td>\n      <td>NaN</td>\n      <td>NaN</td>\n    </tr>\n    <tr>\n      <th>4</th>\n      <td>NaN</td>\n      <td>Kirinyaga</td>\n      <td>Kirinyaga Central</td>\n      <td>Kerugoya</td>\n      <td>Kerugoya County Refferal Hospital</td>\n      <td>10520</td>\n      <td>Bettinah Ngei</td>\n      <td>-0.5048047 37.2816151 1504.5999755859375 4.8</td>\n      <td>-0.504805</td>\n      <td>37.281615</td>\n      <td>...</td>\n      <td>2023-09-21 06:45:48</td>\n      <td>NaN</td>\n      <td>NaN</td>\n      <td>submitted_via_web</td>\n      <td>amr_abx</td>\n      <td>vGF5BaecH7dbx7nXfyW5uj</td>\n      <td>NaN</td>\n      <td>5</td>\n      <td>NaN</td>\n      <td>NaN</td>\n    </tr>\n  </tbody>\n</table>\n<p>5 rows × 695 columns</p>\n</div>"
     },
     "execution_count": 440,
     "metadata": {},
     "output_type": "execute_result"
    }
   ],
   "source": [
    "abx_df.head()"
   ],
   "metadata": {
    "collapsed": false,
    "ExecuteTime": {
     "end_time": "2024-01-23T13:41:31.024466700Z",
     "start_time": "2024-01-23T13:41:30.926990800Z"
    }
   },
   "id": "baac61424c8ba05c",
   "execution_count": 440
  },
  {
   "cell_type": "code",
   "outputs": [],
   "source": [
    "# amr_df.dropna(axis=1, how='all', inplace=True)\n",
    "# abx_df.dropna(axis=1, how='all', inplace=True)"
   ],
   "metadata": {
    "collapsed": false,
    "ExecuteTime": {
     "end_time": "2024-01-23T13:41:31.025462900Z",
     "start_time": "2024-01-23T13:41:30.945752Z"
    }
   },
   "id": "44f08911a8b42936",
   "execution_count": 441
  },
  {
   "cell_type": "code",
   "outputs": [
    {
     "data": {
      "text/plain": "                     start                     end  \\\n0  2023-09-19 09:38:40.129 2023-09-19 12:10:07.529   \n1  2023-09-20 09:14:18.598 2023-09-20 11:26:12.117   \n2  2023-09-20 10:28:13.467 2023-09-20 15:14:25.455   \n3  2023-09-20 10:53:46.163 2023-09-20 16:28:45.251   \n4  2023-09-21 08:15:34.204 2023-09-21 09:40:45.038   \n5  2023-09-13 15:48:03.077 2023-09-20 13:25:49.965   \n6  2023-09-21 09:38:28.402 2023-09-21 11:59:44.721   \n7  2023-09-21 10:00:03.058 2023-09-21 12:14:57.098   \n8  2023-09-21 11:41:30.481 2023-09-21 23:39:11.485   \n9  2023-09-21 14:57:18.761 2023-09-21 23:43:53.600   \n10 2023-09-22 09:04:26.511 2023-09-22 11:30:34.206   \n11 2023-09-22 09:15:34.481 2023-09-22 11:48:09.191   \n12 2023-09-25 08:59:11.565 2023-09-25 11:57:54.882   \n13 2023-09-25 09:18:12.531 2023-09-25 11:27:40.667   \n14 2023-09-25 10:19:00.334 2023-09-25 16:27:10.378   \n15 2023-09-26 10:13:07.817 2023-09-26 12:29:58.494   \n16 2023-09-27 09:03:57.336 2023-09-27 14:41:41.843   \n17 2023-09-26 09:20:11.886 2023-09-28 09:35:49.561   \n18 2023-09-27 10:14:29.537 2023-09-27 15:40:26.519   \n19 2023-09-28 14:30:45.749 2023-09-28 15:44:48.991   \n20 2023-09-28 09:38:34.011 2023-09-28 16:17:02.981   \n21 2023-10-02 09:48:36.975 2023-10-02 14:06:01.850   \n22 2023-10-02 09:58:14.436 2023-10-03 10:08:30.310   \n23 2023-10-03 10:32:27.630 2023-10-03 13:48:57.534   \n24 2023-10-03 09:11:27.475 2023-10-03 13:45:24.236   \n25 2023-10-03 09:06:03.788 2023-10-03 12:02:45.032   \n26 2023-10-04 09:17:05.027 2023-10-04 14:12:53.497   \n27 2023-10-05 09:00:58.956 2023-10-05 14:51:35.551   \n\n    The Ministry of Health, in collaboration with JKUAT, FIND, the global alliance for diagnostics, and GARDP is carrying out an activity to assess AMR diagnostic capacity, antibiotic use and existing antimicrobial stewardship practices in preparation for the introduction of cefiderocol (and other antibiotics) and new low blood culture and molecular Point of care testing (POCT) platforms in Kenya. The activity is taking place at selected levels 4,5 and 6 of health facilities in Isiolo, Laikipia, Vihiga, Nyeri, Nairobi, Kirinyaga, Kericho, Kajiado, Nandi and Kilifi counties. \\nPlease complete this questionnaire for the facilities that you are reporting on, and where indicated, provide additional details on your selected responses.  \\n\\nFindings will be published by MoH, Isiolo, Laikipia, Vihiga, Nyeri, Nairobi, Kirinyaga, Kericho, Kajiado, Nandi and Kilifi Counties, as well as JKUAT, FIND and GARDP.  \\\n0                                                 NaN                                                                                                                                                                                                                                                                                                                                                                                                                                                                                                                                                                                                                                                                                                                                                                                                                                                                                             \n1                                                 NaN                                                                                                                                                                                                                                                                                                                                                                                                                                                                                                                                                                                                                                                                                                                                                                                                                                                                                             \n2                                                 NaN                                                                                                                                                                                                                                                                                                                                                                                                                                                                                                                                                                                                                                                                                                                                                                                                                                                                                             \n3                                                 NaN                                                                                                                                                                                                                                                                                                                                                                                                                                                                                                                                                                                                                                                                                                                                                                                                                                                                                             \n4                                                 NaN                                                                                                                                                                                                                                                                                                                                                                                                                                                                                                                                                                                                                                                                                                                                                                                                                                                                                             \n5                                                 NaN                                                                                                                                                                                                                                                                                                                                                                                                                                                                                                                                                                                                                                                                                                                                                                                                                                                                                             \n6                                                 NaN                                                                                                                                                                                                                                                                                                                                                                                                                                                                                                                                                                                                                                                                                                                                                                                                                                                                                             \n7                                                 NaN                                                                                                                                                                                                                                                                                                                                                                                                                                                                                                                                                                                                                                                                                                                                                                                                                                                                                             \n8                                                 NaN                                                                                                                                                                                                                                                                                                                                                                                                                                                                                                                                                                                                                                                                                                                                                                                                                                                                                             \n9                                                 NaN                                                                                                                                                                                                                                                                                                                                                                                                                                                                                                                                                                                                                                                                                                                                                                                                                                                                                             \n10                                                NaN                                                                                                                                                                                                                                                                                                                                                                                                                                                                                                                                                                                                                                                                                                                                                                                                                                                                                             \n11                                                NaN                                                                                                                                                                                                                                                                                                                                                                                                                                                                                                                                                                                                                                                                                                                                                                                                                                                                                             \n12                                                NaN                                                                                                                                                                                                                                                                                                                                                                                                                                                                                                                                                                                                                                                                                                                                                                                                                                                                                             \n13                                                NaN                                                                                                                                                                                                                                                                                                                                                                                                                                                                                                                                                                                                                                                                                                                                                                                                                                                                                             \n14                                                NaN                                                                                                                                                                                                                                                                                                                                                                                                                                                                                                                                                                                                                                                                                                                                                                                                                                                                                             \n15                                                NaN                                                                                                                                                                                                                                                                                                                                                                                                                                                                                                                                                                                                                                                                                                                                                                                                                                                                                             \n16                                                NaN                                                                                                                                                                                                                                                                                                                                                                                                                                                                                                                                                                                                                                                                                                                                                                                                                                                                                             \n17                                                NaN                                                                                                                                                                                                                                                                                                                                                                                                                                                                                                                                                                                                                                                                                                                                                                                                                                                                                             \n18                                                NaN                                                                                                                                                                                                                                                                                                                                                                                                                                                                                                                                                                                                                                                                                                                                                                                                                                                                                             \n19                                                NaN                                                                                                                                                                                                                                                                                                                                                                                                                                                                                                                                                                                                                                                                                                                                                                                                                                                                                             \n20                                                NaN                                                                                                                                                                                                                                                                                                                                                                                                                                                                                                                                                                                                                                                                                                                                                                                                                                                                                             \n21                                                NaN                                                                                                                                                                                                                                                                                                                                                                                                                                                                                                                                                                                                                                                                                                                                                                                                                                                                                             \n22                                                NaN                                                                                                                                                                                                                                                                                                                                                                                                                                                                                                                                                                                                                                                                                                                                                                                                                                                                                             \n23                                                NaN                                                                                                                                                                                                                                                                                                                                                                                                                                                                                                                                                                                                                                                                                                                                                                                                                                                                                             \n24                                                NaN                                                                                                                                                                                                                                                                                                                                                                                                                                                                                                                                                                                                                                                                                                                                                                                                                                                                                             \n25                                                NaN                                                                                                                                                                                                                                                                                                                                                                                                                                                                                                                                                                                                                                                                                                                                                                                                                                                                                             \n26                                                NaN                                                                                                                                                                                                                                                                                                                                                                                                                                                                                                                                                                                                                                                                                                                                                                                                                                                                                             \n27                                                NaN                                                                                                                                                                                                                                                                                                                                                                                                                                                                                                                                                                                                                                                                                                                                                                                                                                                                                             \n\n       County         Sub county                   Ward  \\\n0      Isiolo             Isiolo                 Wabera   \n1      Isiolo             Isiolo             Bulla Pesa   \n2     Nairobi            Ruaraka              Korogocho   \n3       Nandi             Emgwen               Kapsabet   \n4      Isiolo             Isiolo             Bulla Pesa   \n5   Kirinyaga  Kirinyaga Central               Kerugoya   \n6   Kirinyaga  Kirinyaga Central               Kerugoya   \n7     Nairobi   Embakasi Central               Komarock   \n8       Nandi              Mosop             Chepterwai   \n9       Nandi           Chesumei  Chemundu/Kapng'etunyi   \n10  Kirinyaga    Kirinyaga South                 Tebere   \n11    Nairobi     Dagoreti North               Kilimani   \n12   Laikipia      Laikipia west               Igwamiti   \n13    Kericho             Bureti                 Litein   \n14     Vihiga             Vihiga        Lugaga-wamuluma   \n15     Vihiga             Luanda               Emabungo   \n16     Vihiga             Hamisi                  Shiru   \n17    Kericho            Ainamoi              Kipchebor   \n18      Nyeri        Nyeri South               Iria-ini   \n19   Laikipia      Laikipia East                Nanyuki   \n20    Kajiado      Kajiado North                  Ngong   \n21     Kilifi            Malindi                 Barani   \n22    Kajiado    Kajiado Central                Ildamat   \n23    Kajiado       Kajiado East              Kitengela   \n24     Kilifi           Kaloleni              Mariakani   \n25    Nairobi            Starehe          Nairobi South   \n26     Kilifi       Kilifi North                 Sokoni   \n27    Nairobi           Roysambu                 Kahawa   \n\n                              Name of health facility  Facility code  \\\n0                 Isiolo County and Referral Hospital          12094   \n1                                Anka Hospital Isiolo          29530   \n2                        Mama Margaret Uhuru Hospital          28885   \n3                   Kapsabet County Referral Hospital          14749   \n4                        MaterCare Maternity Hospital          19912   \n5                   Kerugoya County Refferal Hospital          10520   \n6                             Mt Kenya (ACK) Hospital          10738   \n7                Mama Lucy Kibaki Hospital (Embakasi)          17411   \n8                      Chepterwai Sub-County Hospital          14369   \n9                         Kapsabet Health Care Centre          17632   \n10                           Afya Link Medical Centre          22887   \n11                                    Coptic Hospital          12905   \n12                         Pope Benedict XVI Hospital          10056   \n13                        AIC Litein Mission Hospital          14178   \n14                    Vihiga County Referral Hospital          16157   \n15               Emuhaya Sub County Referral Hospital          15876   \n16                    Jumuia Mission Hospital Kaimosi          15913   \n17                   Kericho County Referral Hospital          14831   \n18                                   KNH Othaya Annex          10922   \n19             Nanyuki teaching and Referral Hospital          15305   \n20                          Ngong Sub-County Hospital          15351   \n21                                    Tawfiq Hospital          11843   \n22                   Kajiado County Referral Hospital          14652   \n23                         Kitengela Medical Services          14951   \n24                      Mariakani Sub County Hospital          11566   \n25          The Mater Misericordiae Hospital (Mukuru)          13074   \n26                             Kilifi County Hospital          11474   \n27  Kenyatta University Teaching Refferal and Rese...          24979   \n\n          Assessor name                                GPS coordinates  ...  \\\n0   GEORGE MUCHIRI NJAU             0.3647273 37.5896959 1081.5 25.136  ...   \n1   GEORGE MUCHIRI NJAU   0.3498341 37.5820279 1093.7000732421875 15.5  ...   \n2       Peter Kinyanjui   -1.2513671 36.8864047 1584.300048828125 20.0  ...   \n3        Mmboyi Onesmus       0.2021363 35.10287 1985.300048828125 5.0  ...   \n4   GEORGE MUCHIRI NJAU              0.3274352 37.5638683 1190.0 4.957  ...   \n5          Mercy Zawadi  -0.5045383 37.2816453 1504.9000244140625 42.5  ...   \n6          Mercy Zawadi             -0.4919027 37.2648278 1601.7 7.125  ...   \n7                   NaN               -1.2736578 36.8988722 1579.9 5.0  ...   \n8        Mmboyi Onesmus               0.5228784 34.9273134 2111.5 4.88  ...   \n9        Mmboyi Onesmus    0.2022083 35.093048 1967.4000244140625 4.95  ...   \n10         Mercy Zawadi                -0.684036 37.3579395 1112.3 9.2  ...   \n11      Peter Kinyanjui                                            NaN  ...   \n12  GEORGE MUCHIRI NJAU               0.039552 36.3347396 2367.8 4.983  ...   \n13        Teresia Nyaga  -0.5880781 35.1893373 1945.5999755859375 4.64  ...   \n14       Mmboyi Onesmus   0.0791925 34.7221088 1615.7000732421875 4.95  ...   \n15       Mmboyi Onesmus   0.0377136 34.626255 1553.0999755859375 4.983  ...   \n16       Mmboyi Onesmus     0.126106 34.8450415 1664.1000000000001 4.8  ...   \n17        Teresia Nyaga             -0.3708371 35.2798934 1952.5 4.433  ...   \n18  GEORGE MUCHIRI NJAU   -0.542148 36.9415137 1858.0999755859375 30.0  ...   \n19  GEORGE MUCHIRI NJAU   0.0205241 37.0727092 1915.0999755859375 4.94  ...   \n20     MS Teresia Nyaga  -1.3650087 36.6539734 1972.5999755859375 3.84  ...   \n21         Mercy Zawadi                 -3.2211167 40.1128567 61.5 9.1  ...   \n22     Ms Teresia Nyaga              -1.8577889 36.7720039 1687.0 4.88  ...   \n23        Teresia Nyaga   -1.4711174 36.9633821 1548.7000732421875 4.6  ...   \n24         Mercy Zawadi              -3.8638728 39.4721508 52.0 18.852  ...   \n25      Peter Kinyanjui  -1.3073287 36.8351397 1632.4000244140625 5.84  ...   \n26         Mercy Zawadi   -3.6321941 39.8572894 43.699999999999996 7.3  ...   \n27     Ms Teresia Nyaga   -1.1778603 36.9161721 1539.0999755859375 3.2  ...   \n\n    _notes            _status  _submitted_by             __version__ _tags  \\\n0      NaN  submitted_via_web        amr_abx  vDeNhdSRZ7scoW8UrHD6hm   NaN   \n1      NaN  submitted_via_web        amr_abx  v7dgbgEbVY8RrodPdYpYiU   NaN   \n2      NaN  submitted_via_web        amr_abx  v7dgbgEbVY8RrodPdYpYiU   NaN   \n3      NaN  submitted_via_web        amr_abx  v7dgbgEbVY8RrodPdYpYiU   NaN   \n4      NaN  submitted_via_web        amr_abx  v7dgbgEbVY8RrodPdYpYiU   NaN   \n5      NaN  submitted_via_web        amr_abx  v7dgbgEbVY8RrodPdYpYiU   NaN   \n6      NaN  submitted_via_web        amr_abx  v7dgbgEbVY8RrodPdYpYiU   NaN   \n7      NaN  submitted_via_web        amr_abx  v7dgbgEbVY8RrodPdYpYiU   NaN   \n8      NaN  submitted_via_web        amr_abx  v7dgbgEbVY8RrodPdYpYiU   NaN   \n9      NaN  submitted_via_web        amr_abx  v7dgbgEbVY8RrodPdYpYiU   NaN   \n10     NaN  submitted_via_web        amr_abx  v7dgbgEbVY8RrodPdYpYiU   NaN   \n11     NaN  submitted_via_web        amr_abx  v7dgbgEbVY8RrodPdYpYiU   NaN   \n12     NaN  submitted_via_web        amr_abx  v4QNFGsKMuVLynH4k2rb2i   NaN   \n13     NaN  submitted_via_web        amr_abx  v4QNFGsKMuVLynH4k2rb2i   NaN   \n14     NaN  submitted_via_web        amr_abx  v4QNFGsKMuVLynH4k2rb2i   NaN   \n15     NaN  submitted_via_web        amr_abx  v4QNFGsKMuVLynH4k2rb2i   NaN   \n16     NaN  submitted_via_web        amr_abx  v4QNFGsKMuVLynH4k2rb2i   NaN   \n17     NaN  submitted_via_web        amr_abx  v4QNFGsKMuVLynH4k2rb2i   NaN   \n18     NaN  submitted_via_web        amr_abx  v4QNFGsKMuVLynH4k2rb2i   NaN   \n19     NaN  submitted_via_web        amr_abx  v4QNFGsKMuVLynH4k2rb2i   NaN   \n20     NaN  submitted_via_web        amr_abx  v4QNFGsKMuVLynH4k2rb2i   NaN   \n21     NaN  submitted_via_web        amr_abx  vBJPgy6jVZRSST5GCUsNTD   NaN   \n22     NaN  submitted_via_web        amr_abx  vBJPgy6jVZRSST5GCUsNTD   NaN   \n23     NaN  submitted_via_web        amr_abx  vJQKcLb69MUNC99PTSA5MA   NaN   \n24     NaN  submitted_via_web        amr_abx  vJQKcLb69MUNC99PTSA5MA   NaN   \n25     NaN  submitted_via_web        amr_abx  vBJPgy6jVZRSST5GCUsNTD   NaN   \n26     NaN  submitted_via_web        amr_abx  vJQKcLb69MUNC99PTSA5MA   NaN   \n27     NaN  submitted_via_web        amr_abx  vJQKcLb69MUNC99PTSA5MA   NaN   \n\n   _index Unnamed: 375  Unnamed: 376 Unnamed: 377  Unnamed: 378  \n0       1          NaN           NaN          NaN           NaN  \n1       2          1.0           0.0          1.0           0.0  \n2       3          0.0           0.0          0.0           1.0  \n3       4          NaN           NaN          NaN           NaN  \n4       5          NaN           NaN          NaN           NaN  \n5       6          NaN           NaN          NaN           NaN  \n6       7          1.0           0.0          1.0           0.0  \n7       8          NaN           NaN          NaN           NaN  \n8       9          1.0           1.0          1.0           1.0  \n9      10          1.0           0.0          1.0           1.0  \n10     11          1.0           0.0          1.0           0.0  \n11     12          NaN           NaN          NaN           NaN  \n12     13          NaN           NaN          NaN           NaN  \n13     14          NaN           NaN          NaN           NaN  \n14     15          NaN           NaN          NaN           NaN  \n15     16          NaN           NaN          NaN           NaN  \n16     17          NaN           NaN          NaN           NaN  \n17     18          NaN           NaN          NaN           NaN  \n18     19          NaN           NaN          NaN           NaN  \n19     20          NaN           NaN          NaN           NaN  \n20     21          NaN           NaN          NaN           NaN  \n21     22          NaN           NaN          NaN           NaN  \n22     23          NaN           NaN          NaN           NaN  \n23     24          NaN           NaN          NaN           NaN  \n24     25          NaN           NaN          NaN           NaN  \n25     26          NaN           NaN          NaN           NaN  \n26     27          NaN           NaN          NaN           NaN  \n27     28          NaN           NaN          NaN           NaN  \n\n[28 rows x 379 columns]",
      "text/html": "<div>\n<style scoped>\n    .dataframe tbody tr th:only-of-type {\n        vertical-align: middle;\n    }\n\n    .dataframe tbody tr th {\n        vertical-align: top;\n    }\n\n    .dataframe thead th {\n        text-align: right;\n    }\n</style>\n<table border=\"1\" class=\"dataframe\">\n  <thead>\n    <tr style=\"text-align: right;\">\n      <th></th>\n      <th>start</th>\n      <th>end</th>\n      <th>The Ministry of Health, in collaboration with JKUAT, FIND, the global alliance for diagnostics, and GARDP is carrying out an activity to assess AMR diagnostic capacity, antibiotic use and existing antimicrobial stewardship practices in preparation for the introduction of cefiderocol (and other antibiotics) and new low blood culture and molecular Point of care testing (POCT) platforms in Kenya. The activity is taking place at selected levels 4,5 and 6 of health facilities in Isiolo, Laikipia, Vihiga, Nyeri, Nairobi, Kirinyaga, Kericho, Kajiado, Nandi and Kilifi counties. \\nPlease complete this questionnaire for the facilities that you are reporting on, and where indicated, provide additional details on your selected responses.  \\n\\nFindings will be published by MoH, Isiolo, Laikipia, Vihiga, Nyeri, Nairobi, Kirinyaga, Kericho, Kajiado, Nandi and Kilifi Counties, as well as JKUAT, FIND and GARDP.</th>\n      <th>County</th>\n      <th>Sub county</th>\n      <th>Ward</th>\n      <th>Name of health facility</th>\n      <th>Facility code</th>\n      <th>Assessor name</th>\n      <th>GPS coordinates</th>\n      <th>...</th>\n      <th>_notes</th>\n      <th>_status</th>\n      <th>_submitted_by</th>\n      <th>__version__</th>\n      <th>_tags</th>\n      <th>_index</th>\n      <th>Unnamed: 375</th>\n      <th>Unnamed: 376</th>\n      <th>Unnamed: 377</th>\n      <th>Unnamed: 378</th>\n    </tr>\n  </thead>\n  <tbody>\n    <tr>\n      <th>0</th>\n      <td>2023-09-19 09:38:40.129</td>\n      <td>2023-09-19 12:10:07.529</td>\n      <td>NaN</td>\n      <td>Isiolo</td>\n      <td>Isiolo</td>\n      <td>Wabera</td>\n      <td>Isiolo County and Referral Hospital</td>\n      <td>12094</td>\n      <td>GEORGE MUCHIRI NJAU</td>\n      <td>0.3647273 37.5896959 1081.5 25.136</td>\n      <td>...</td>\n      <td>NaN</td>\n      <td>submitted_via_web</td>\n      <td>amr_abx</td>\n      <td>vDeNhdSRZ7scoW8UrHD6hm</td>\n      <td>NaN</td>\n      <td>1</td>\n      <td>NaN</td>\n      <td>NaN</td>\n      <td>NaN</td>\n      <td>NaN</td>\n    </tr>\n    <tr>\n      <th>1</th>\n      <td>2023-09-20 09:14:18.598</td>\n      <td>2023-09-20 11:26:12.117</td>\n      <td>NaN</td>\n      <td>Isiolo</td>\n      <td>Isiolo</td>\n      <td>Bulla Pesa</td>\n      <td>Anka Hospital Isiolo</td>\n      <td>29530</td>\n      <td>GEORGE MUCHIRI NJAU</td>\n      <td>0.3498341 37.5820279 1093.7000732421875 15.5</td>\n      <td>...</td>\n      <td>NaN</td>\n      <td>submitted_via_web</td>\n      <td>amr_abx</td>\n      <td>v7dgbgEbVY8RrodPdYpYiU</td>\n      <td>NaN</td>\n      <td>2</td>\n      <td>1.0</td>\n      <td>0.0</td>\n      <td>1.0</td>\n      <td>0.0</td>\n    </tr>\n    <tr>\n      <th>2</th>\n      <td>2023-09-20 10:28:13.467</td>\n      <td>2023-09-20 15:14:25.455</td>\n      <td>NaN</td>\n      <td>Nairobi</td>\n      <td>Ruaraka</td>\n      <td>Korogocho</td>\n      <td>Mama Margaret Uhuru Hospital</td>\n      <td>28885</td>\n      <td>Peter Kinyanjui</td>\n      <td>-1.2513671 36.8864047 1584.300048828125 20.0</td>\n      <td>...</td>\n      <td>NaN</td>\n      <td>submitted_via_web</td>\n      <td>amr_abx</td>\n      <td>v7dgbgEbVY8RrodPdYpYiU</td>\n      <td>NaN</td>\n      <td>3</td>\n      <td>0.0</td>\n      <td>0.0</td>\n      <td>0.0</td>\n      <td>1.0</td>\n    </tr>\n    <tr>\n      <th>3</th>\n      <td>2023-09-20 10:53:46.163</td>\n      <td>2023-09-20 16:28:45.251</td>\n      <td>NaN</td>\n      <td>Nandi</td>\n      <td>Emgwen</td>\n      <td>Kapsabet</td>\n      <td>Kapsabet County Referral Hospital</td>\n      <td>14749</td>\n      <td>Mmboyi Onesmus</td>\n      <td>0.2021363 35.10287 1985.300048828125 5.0</td>\n      <td>...</td>\n      <td>NaN</td>\n      <td>submitted_via_web</td>\n      <td>amr_abx</td>\n      <td>v7dgbgEbVY8RrodPdYpYiU</td>\n      <td>NaN</td>\n      <td>4</td>\n      <td>NaN</td>\n      <td>NaN</td>\n      <td>NaN</td>\n      <td>NaN</td>\n    </tr>\n    <tr>\n      <th>4</th>\n      <td>2023-09-21 08:15:34.204</td>\n      <td>2023-09-21 09:40:45.038</td>\n      <td>NaN</td>\n      <td>Isiolo</td>\n      <td>Isiolo</td>\n      <td>Bulla Pesa</td>\n      <td>MaterCare Maternity Hospital</td>\n      <td>19912</td>\n      <td>GEORGE MUCHIRI NJAU</td>\n      <td>0.3274352 37.5638683 1190.0 4.957</td>\n      <td>...</td>\n      <td>NaN</td>\n      <td>submitted_via_web</td>\n      <td>amr_abx</td>\n      <td>v7dgbgEbVY8RrodPdYpYiU</td>\n      <td>NaN</td>\n      <td>5</td>\n      <td>NaN</td>\n      <td>NaN</td>\n      <td>NaN</td>\n      <td>NaN</td>\n    </tr>\n    <tr>\n      <th>5</th>\n      <td>2023-09-13 15:48:03.077</td>\n      <td>2023-09-20 13:25:49.965</td>\n      <td>NaN</td>\n      <td>Kirinyaga</td>\n      <td>Kirinyaga Central</td>\n      <td>Kerugoya</td>\n      <td>Kerugoya County Refferal Hospital</td>\n      <td>10520</td>\n      <td>Mercy Zawadi</td>\n      <td>-0.5045383 37.2816453 1504.9000244140625 42.5</td>\n      <td>...</td>\n      <td>NaN</td>\n      <td>submitted_via_web</td>\n      <td>amr_abx</td>\n      <td>v7dgbgEbVY8RrodPdYpYiU</td>\n      <td>NaN</td>\n      <td>6</td>\n      <td>NaN</td>\n      <td>NaN</td>\n      <td>NaN</td>\n      <td>NaN</td>\n    </tr>\n    <tr>\n      <th>6</th>\n      <td>2023-09-21 09:38:28.402</td>\n      <td>2023-09-21 11:59:44.721</td>\n      <td>NaN</td>\n      <td>Kirinyaga</td>\n      <td>Kirinyaga Central</td>\n      <td>Kerugoya</td>\n      <td>Mt Kenya (ACK) Hospital</td>\n      <td>10738</td>\n      <td>Mercy Zawadi</td>\n      <td>-0.4919027 37.2648278 1601.7 7.125</td>\n      <td>...</td>\n      <td>NaN</td>\n      <td>submitted_via_web</td>\n      <td>amr_abx</td>\n      <td>v7dgbgEbVY8RrodPdYpYiU</td>\n      <td>NaN</td>\n      <td>7</td>\n      <td>1.0</td>\n      <td>0.0</td>\n      <td>1.0</td>\n      <td>0.0</td>\n    </tr>\n    <tr>\n      <th>7</th>\n      <td>2023-09-21 10:00:03.058</td>\n      <td>2023-09-21 12:14:57.098</td>\n      <td>NaN</td>\n      <td>Nairobi</td>\n      <td>Embakasi Central</td>\n      <td>Komarock</td>\n      <td>Mama Lucy Kibaki Hospital (Embakasi)</td>\n      <td>17411</td>\n      <td>NaN</td>\n      <td>-1.2736578 36.8988722 1579.9 5.0</td>\n      <td>...</td>\n      <td>NaN</td>\n      <td>submitted_via_web</td>\n      <td>amr_abx</td>\n      <td>v7dgbgEbVY8RrodPdYpYiU</td>\n      <td>NaN</td>\n      <td>8</td>\n      <td>NaN</td>\n      <td>NaN</td>\n      <td>NaN</td>\n      <td>NaN</td>\n    </tr>\n    <tr>\n      <th>8</th>\n      <td>2023-09-21 11:41:30.481</td>\n      <td>2023-09-21 23:39:11.485</td>\n      <td>NaN</td>\n      <td>Nandi</td>\n      <td>Mosop</td>\n      <td>Chepterwai</td>\n      <td>Chepterwai Sub-County Hospital</td>\n      <td>14369</td>\n      <td>Mmboyi Onesmus</td>\n      <td>0.5228784 34.9273134 2111.5 4.88</td>\n      <td>...</td>\n      <td>NaN</td>\n      <td>submitted_via_web</td>\n      <td>amr_abx</td>\n      <td>v7dgbgEbVY8RrodPdYpYiU</td>\n      <td>NaN</td>\n      <td>9</td>\n      <td>1.0</td>\n      <td>1.0</td>\n      <td>1.0</td>\n      <td>1.0</td>\n    </tr>\n    <tr>\n      <th>9</th>\n      <td>2023-09-21 14:57:18.761</td>\n      <td>2023-09-21 23:43:53.600</td>\n      <td>NaN</td>\n      <td>Nandi</td>\n      <td>Chesumei</td>\n      <td>Chemundu/Kapng'etunyi</td>\n      <td>Kapsabet Health Care Centre</td>\n      <td>17632</td>\n      <td>Mmboyi Onesmus</td>\n      <td>0.2022083 35.093048 1967.4000244140625 4.95</td>\n      <td>...</td>\n      <td>NaN</td>\n      <td>submitted_via_web</td>\n      <td>amr_abx</td>\n      <td>v7dgbgEbVY8RrodPdYpYiU</td>\n      <td>NaN</td>\n      <td>10</td>\n      <td>1.0</td>\n      <td>0.0</td>\n      <td>1.0</td>\n      <td>1.0</td>\n    </tr>\n    <tr>\n      <th>10</th>\n      <td>2023-09-22 09:04:26.511</td>\n      <td>2023-09-22 11:30:34.206</td>\n      <td>NaN</td>\n      <td>Kirinyaga</td>\n      <td>Kirinyaga South</td>\n      <td>Tebere</td>\n      <td>Afya Link Medical Centre</td>\n      <td>22887</td>\n      <td>Mercy Zawadi</td>\n      <td>-0.684036 37.3579395 1112.3 9.2</td>\n      <td>...</td>\n      <td>NaN</td>\n      <td>submitted_via_web</td>\n      <td>amr_abx</td>\n      <td>v7dgbgEbVY8RrodPdYpYiU</td>\n      <td>NaN</td>\n      <td>11</td>\n      <td>1.0</td>\n      <td>0.0</td>\n      <td>1.0</td>\n      <td>0.0</td>\n    </tr>\n    <tr>\n      <th>11</th>\n      <td>2023-09-22 09:15:34.481</td>\n      <td>2023-09-22 11:48:09.191</td>\n      <td>NaN</td>\n      <td>Nairobi</td>\n      <td>Dagoreti North</td>\n      <td>Kilimani</td>\n      <td>Coptic Hospital</td>\n      <td>12905</td>\n      <td>Peter Kinyanjui</td>\n      <td>NaN</td>\n      <td>...</td>\n      <td>NaN</td>\n      <td>submitted_via_web</td>\n      <td>amr_abx</td>\n      <td>v7dgbgEbVY8RrodPdYpYiU</td>\n      <td>NaN</td>\n      <td>12</td>\n      <td>NaN</td>\n      <td>NaN</td>\n      <td>NaN</td>\n      <td>NaN</td>\n    </tr>\n    <tr>\n      <th>12</th>\n      <td>2023-09-25 08:59:11.565</td>\n      <td>2023-09-25 11:57:54.882</td>\n      <td>NaN</td>\n      <td>Laikipia</td>\n      <td>Laikipia west</td>\n      <td>Igwamiti</td>\n      <td>Pope Benedict XVI Hospital</td>\n      <td>10056</td>\n      <td>GEORGE MUCHIRI NJAU</td>\n      <td>0.039552 36.3347396 2367.8 4.983</td>\n      <td>...</td>\n      <td>NaN</td>\n      <td>submitted_via_web</td>\n      <td>amr_abx</td>\n      <td>v4QNFGsKMuVLynH4k2rb2i</td>\n      <td>NaN</td>\n      <td>13</td>\n      <td>NaN</td>\n      <td>NaN</td>\n      <td>NaN</td>\n      <td>NaN</td>\n    </tr>\n    <tr>\n      <th>13</th>\n      <td>2023-09-25 09:18:12.531</td>\n      <td>2023-09-25 11:27:40.667</td>\n      <td>NaN</td>\n      <td>Kericho</td>\n      <td>Bureti</td>\n      <td>Litein</td>\n      <td>AIC Litein Mission Hospital</td>\n      <td>14178</td>\n      <td>Teresia Nyaga</td>\n      <td>-0.5880781 35.1893373 1945.5999755859375 4.64</td>\n      <td>...</td>\n      <td>NaN</td>\n      <td>submitted_via_web</td>\n      <td>amr_abx</td>\n      <td>v4QNFGsKMuVLynH4k2rb2i</td>\n      <td>NaN</td>\n      <td>14</td>\n      <td>NaN</td>\n      <td>NaN</td>\n      <td>NaN</td>\n      <td>NaN</td>\n    </tr>\n    <tr>\n      <th>14</th>\n      <td>2023-09-25 10:19:00.334</td>\n      <td>2023-09-25 16:27:10.378</td>\n      <td>NaN</td>\n      <td>Vihiga</td>\n      <td>Vihiga</td>\n      <td>Lugaga-wamuluma</td>\n      <td>Vihiga County Referral Hospital</td>\n      <td>16157</td>\n      <td>Mmboyi Onesmus</td>\n      <td>0.0791925 34.7221088 1615.7000732421875 4.95</td>\n      <td>...</td>\n      <td>NaN</td>\n      <td>submitted_via_web</td>\n      <td>amr_abx</td>\n      <td>v4QNFGsKMuVLynH4k2rb2i</td>\n      <td>NaN</td>\n      <td>15</td>\n      <td>NaN</td>\n      <td>NaN</td>\n      <td>NaN</td>\n      <td>NaN</td>\n    </tr>\n    <tr>\n      <th>15</th>\n      <td>2023-09-26 10:13:07.817</td>\n      <td>2023-09-26 12:29:58.494</td>\n      <td>NaN</td>\n      <td>Vihiga</td>\n      <td>Luanda</td>\n      <td>Emabungo</td>\n      <td>Emuhaya Sub County Referral Hospital</td>\n      <td>15876</td>\n      <td>Mmboyi Onesmus</td>\n      <td>0.0377136 34.626255 1553.0999755859375 4.983</td>\n      <td>...</td>\n      <td>NaN</td>\n      <td>submitted_via_web</td>\n      <td>amr_abx</td>\n      <td>v4QNFGsKMuVLynH4k2rb2i</td>\n      <td>NaN</td>\n      <td>16</td>\n      <td>NaN</td>\n      <td>NaN</td>\n      <td>NaN</td>\n      <td>NaN</td>\n    </tr>\n    <tr>\n      <th>16</th>\n      <td>2023-09-27 09:03:57.336</td>\n      <td>2023-09-27 14:41:41.843</td>\n      <td>NaN</td>\n      <td>Vihiga</td>\n      <td>Hamisi</td>\n      <td>Shiru</td>\n      <td>Jumuia Mission Hospital Kaimosi</td>\n      <td>15913</td>\n      <td>Mmboyi Onesmus</td>\n      <td>0.126106 34.8450415 1664.1000000000001 4.8</td>\n      <td>...</td>\n      <td>NaN</td>\n      <td>submitted_via_web</td>\n      <td>amr_abx</td>\n      <td>v4QNFGsKMuVLynH4k2rb2i</td>\n      <td>NaN</td>\n      <td>17</td>\n      <td>NaN</td>\n      <td>NaN</td>\n      <td>NaN</td>\n      <td>NaN</td>\n    </tr>\n    <tr>\n      <th>17</th>\n      <td>2023-09-26 09:20:11.886</td>\n      <td>2023-09-28 09:35:49.561</td>\n      <td>NaN</td>\n      <td>Kericho</td>\n      <td>Ainamoi</td>\n      <td>Kipchebor</td>\n      <td>Kericho County Referral Hospital</td>\n      <td>14831</td>\n      <td>Teresia Nyaga</td>\n      <td>-0.3708371 35.2798934 1952.5 4.433</td>\n      <td>...</td>\n      <td>NaN</td>\n      <td>submitted_via_web</td>\n      <td>amr_abx</td>\n      <td>v4QNFGsKMuVLynH4k2rb2i</td>\n      <td>NaN</td>\n      <td>18</td>\n      <td>NaN</td>\n      <td>NaN</td>\n      <td>NaN</td>\n      <td>NaN</td>\n    </tr>\n    <tr>\n      <th>18</th>\n      <td>2023-09-27 10:14:29.537</td>\n      <td>2023-09-27 15:40:26.519</td>\n      <td>NaN</td>\n      <td>Nyeri</td>\n      <td>Nyeri South</td>\n      <td>Iria-ini</td>\n      <td>KNH Othaya Annex</td>\n      <td>10922</td>\n      <td>GEORGE MUCHIRI NJAU</td>\n      <td>-0.542148 36.9415137 1858.0999755859375 30.0</td>\n      <td>...</td>\n      <td>NaN</td>\n      <td>submitted_via_web</td>\n      <td>amr_abx</td>\n      <td>v4QNFGsKMuVLynH4k2rb2i</td>\n      <td>NaN</td>\n      <td>19</td>\n      <td>NaN</td>\n      <td>NaN</td>\n      <td>NaN</td>\n      <td>NaN</td>\n    </tr>\n    <tr>\n      <th>19</th>\n      <td>2023-09-28 14:30:45.749</td>\n      <td>2023-09-28 15:44:48.991</td>\n      <td>NaN</td>\n      <td>Laikipia</td>\n      <td>Laikipia East</td>\n      <td>Nanyuki</td>\n      <td>Nanyuki teaching and Referral Hospital</td>\n      <td>15305</td>\n      <td>GEORGE MUCHIRI NJAU</td>\n      <td>0.0205241 37.0727092 1915.0999755859375 4.94</td>\n      <td>...</td>\n      <td>NaN</td>\n      <td>submitted_via_web</td>\n      <td>amr_abx</td>\n      <td>v4QNFGsKMuVLynH4k2rb2i</td>\n      <td>NaN</td>\n      <td>20</td>\n      <td>NaN</td>\n      <td>NaN</td>\n      <td>NaN</td>\n      <td>NaN</td>\n    </tr>\n    <tr>\n      <th>20</th>\n      <td>2023-09-28 09:38:34.011</td>\n      <td>2023-09-28 16:17:02.981</td>\n      <td>NaN</td>\n      <td>Kajiado</td>\n      <td>Kajiado North</td>\n      <td>Ngong</td>\n      <td>Ngong Sub-County Hospital</td>\n      <td>15351</td>\n      <td>MS Teresia Nyaga</td>\n      <td>-1.3650087 36.6539734 1972.5999755859375 3.84</td>\n      <td>...</td>\n      <td>NaN</td>\n      <td>submitted_via_web</td>\n      <td>amr_abx</td>\n      <td>v4QNFGsKMuVLynH4k2rb2i</td>\n      <td>NaN</td>\n      <td>21</td>\n      <td>NaN</td>\n      <td>NaN</td>\n      <td>NaN</td>\n      <td>NaN</td>\n    </tr>\n    <tr>\n      <th>21</th>\n      <td>2023-10-02 09:48:36.975</td>\n      <td>2023-10-02 14:06:01.850</td>\n      <td>NaN</td>\n      <td>Kilifi</td>\n      <td>Malindi</td>\n      <td>Barani</td>\n      <td>Tawfiq Hospital</td>\n      <td>11843</td>\n      <td>Mercy Zawadi</td>\n      <td>-3.2211167 40.1128567 61.5 9.1</td>\n      <td>...</td>\n      <td>NaN</td>\n      <td>submitted_via_web</td>\n      <td>amr_abx</td>\n      <td>vBJPgy6jVZRSST5GCUsNTD</td>\n      <td>NaN</td>\n      <td>22</td>\n      <td>NaN</td>\n      <td>NaN</td>\n      <td>NaN</td>\n      <td>NaN</td>\n    </tr>\n    <tr>\n      <th>22</th>\n      <td>2023-10-02 09:58:14.436</td>\n      <td>2023-10-03 10:08:30.310</td>\n      <td>NaN</td>\n      <td>Kajiado</td>\n      <td>Kajiado Central</td>\n      <td>Ildamat</td>\n      <td>Kajiado County Referral Hospital</td>\n      <td>14652</td>\n      <td>Ms Teresia Nyaga</td>\n      <td>-1.8577889 36.7720039 1687.0 4.88</td>\n      <td>...</td>\n      <td>NaN</td>\n      <td>submitted_via_web</td>\n      <td>amr_abx</td>\n      <td>vBJPgy6jVZRSST5GCUsNTD</td>\n      <td>NaN</td>\n      <td>23</td>\n      <td>NaN</td>\n      <td>NaN</td>\n      <td>NaN</td>\n      <td>NaN</td>\n    </tr>\n    <tr>\n      <th>23</th>\n      <td>2023-10-03 10:32:27.630</td>\n      <td>2023-10-03 13:48:57.534</td>\n      <td>NaN</td>\n      <td>Kajiado</td>\n      <td>Kajiado East</td>\n      <td>Kitengela</td>\n      <td>Kitengela Medical Services</td>\n      <td>14951</td>\n      <td>Teresia Nyaga</td>\n      <td>-1.4711174 36.9633821 1548.7000732421875 4.6</td>\n      <td>...</td>\n      <td>NaN</td>\n      <td>submitted_via_web</td>\n      <td>amr_abx</td>\n      <td>vJQKcLb69MUNC99PTSA5MA</td>\n      <td>NaN</td>\n      <td>24</td>\n      <td>NaN</td>\n      <td>NaN</td>\n      <td>NaN</td>\n      <td>NaN</td>\n    </tr>\n    <tr>\n      <th>24</th>\n      <td>2023-10-03 09:11:27.475</td>\n      <td>2023-10-03 13:45:24.236</td>\n      <td>NaN</td>\n      <td>Kilifi</td>\n      <td>Kaloleni</td>\n      <td>Mariakani</td>\n      <td>Mariakani Sub County Hospital</td>\n      <td>11566</td>\n      <td>Mercy Zawadi</td>\n      <td>-3.8638728 39.4721508 52.0 18.852</td>\n      <td>...</td>\n      <td>NaN</td>\n      <td>submitted_via_web</td>\n      <td>amr_abx</td>\n      <td>vJQKcLb69MUNC99PTSA5MA</td>\n      <td>NaN</td>\n      <td>25</td>\n      <td>NaN</td>\n      <td>NaN</td>\n      <td>NaN</td>\n      <td>NaN</td>\n    </tr>\n    <tr>\n      <th>25</th>\n      <td>2023-10-03 09:06:03.788</td>\n      <td>2023-10-03 12:02:45.032</td>\n      <td>NaN</td>\n      <td>Nairobi</td>\n      <td>Starehe</td>\n      <td>Nairobi South</td>\n      <td>The Mater Misericordiae Hospital (Mukuru)</td>\n      <td>13074</td>\n      <td>Peter Kinyanjui</td>\n      <td>-1.3073287 36.8351397 1632.4000244140625 5.84</td>\n      <td>...</td>\n      <td>NaN</td>\n      <td>submitted_via_web</td>\n      <td>amr_abx</td>\n      <td>vBJPgy6jVZRSST5GCUsNTD</td>\n      <td>NaN</td>\n      <td>26</td>\n      <td>NaN</td>\n      <td>NaN</td>\n      <td>NaN</td>\n      <td>NaN</td>\n    </tr>\n    <tr>\n      <th>26</th>\n      <td>2023-10-04 09:17:05.027</td>\n      <td>2023-10-04 14:12:53.497</td>\n      <td>NaN</td>\n      <td>Kilifi</td>\n      <td>Kilifi North</td>\n      <td>Sokoni</td>\n      <td>Kilifi County Hospital</td>\n      <td>11474</td>\n      <td>Mercy Zawadi</td>\n      <td>-3.6321941 39.8572894 43.699999999999996 7.3</td>\n      <td>...</td>\n      <td>NaN</td>\n      <td>submitted_via_web</td>\n      <td>amr_abx</td>\n      <td>vJQKcLb69MUNC99PTSA5MA</td>\n      <td>NaN</td>\n      <td>27</td>\n      <td>NaN</td>\n      <td>NaN</td>\n      <td>NaN</td>\n      <td>NaN</td>\n    </tr>\n    <tr>\n      <th>27</th>\n      <td>2023-10-05 09:00:58.956</td>\n      <td>2023-10-05 14:51:35.551</td>\n      <td>NaN</td>\n      <td>Nairobi</td>\n      <td>Roysambu</td>\n      <td>Kahawa</td>\n      <td>Kenyatta University Teaching Refferal and Rese...</td>\n      <td>24979</td>\n      <td>Ms Teresia Nyaga</td>\n      <td>-1.1778603 36.9161721 1539.0999755859375 3.2</td>\n      <td>...</td>\n      <td>NaN</td>\n      <td>submitted_via_web</td>\n      <td>amr_abx</td>\n      <td>vJQKcLb69MUNC99PTSA5MA</td>\n      <td>NaN</td>\n      <td>28</td>\n      <td>NaN</td>\n      <td>NaN</td>\n      <td>NaN</td>\n      <td>NaN</td>\n    </tr>\n  </tbody>\n</table>\n<p>28 rows × 379 columns</p>\n</div>"
     },
     "execution_count": 442,
     "metadata": {},
     "output_type": "execute_result"
    }
   ],
   "source": [
    "amr_df"
   ],
   "metadata": {
    "collapsed": false,
    "ExecuteTime": {
     "end_time": "2024-01-23T13:41:31.078581700Z",
     "start_time": "2024-01-23T13:41:30.949450100Z"
    }
   },
   "id": "1bd977d5d758bcba",
   "execution_count": 442
  },
  {
   "cell_type": "code",
   "outputs": [
    {
     "data": {
      "text/plain": "    The Ministry of Health, in collaboration with FIND, the global alliance for diagnostics, GARDP and JKUAT  is carrying out an activity to assess AMR diagnostic capacity, antibiotic use and existing antimicrobial stewardship practices in preparation for the introduction of cefiderocol (and other antibiotics) and new low blood culture and molecular Point of care testing (POCT) platforms in Kenya. The activity is taking place at selected levels 4,5 and 6 of health facilities in Isiolo, Laikipia, Vihiga, Nyeri, Nairobi, Kirinyaga, Kericho, Kajiado, Nandi and Kilifi counties. \\nPlease complete this questionnaire for the facilities that you are reporting on, and where indicated, provide additional details on your selected responses.  \\n\\nFindings will be published by MoH, Isiolo, Laikipia, Vihiga, Nyeri, Nairobi, Kirinyaga, Kericho, Kajiado, Nandi and Kilifi Counties, as well as JKUAT, FIND and GARDP.  \\\n0                                                 NaN                                                                                                                                                                                                                                                                                                                                                                                                                                                                                                                                                                                                                                                                                                                                                                                                                                                                                             \n1                                                 NaN                                                                                                                                                                                                                                                                                                                                                                                                                                                                                                                                                                                                                                                                                                                                                                                                                                                                                             \n2                                                 NaN                                                                                                                                                                                                                                                                                                                                                                                                                                                                                                                                                                                                                                                                                                                                                                                                                                                                                             \n3                                                 NaN                                                                                                                                                                                                                                                                                                                                                                                                                                                                                                                                                                                                                                                                                                                                                                                                                                                                                             \n4                                                 NaN                                                                                                                                                                                                                                                                                                                                                                                                                                                                                                                                                                                                                                                                                                                                                                                                                                                                                             \n5                                                 NaN                                                                                                                                                                                                                                                                                                                                                                                                                                                                                                                                                                                                                                                                                                                                                                                                                                                                                             \n6                                                 NaN                                                                                                                                                                                                                                                                                                                                                                                                                                                                                                                                                                                                                                                                                                                                                                                                                                                                                             \n7                                                 NaN                                                                                                                                                                                                                                                                                                                                                                                                                                                                                                                                                                                                                                                                                                                                                                                                                                                                                             \n8                                                 NaN                                                                                                                                                                                                                                                                                                                                                                                                                                                                                                                                                                                                                                                                                                                                                                                                                                                                                             \n9                                                 NaN                                                                                                                                                                                                                                                                                                                                                                                                                                                                                                                                                                                                                                                                                                                                                                                                                                                                                             \n10                                                NaN                                                                                                                                                                                                                                                                                                                                                                                                                                                                                                                                                                                                                                                                                                                                                                                                                                                                                             \n11                                                NaN                                                                                                                                                                                                                                                                                                                                                                                                                                                                                                                                                                                                                                                                                                                                                                                                                                                                                             \n12                                                NaN                                                                                                                                                                                                                                                                                                                                                                                                                                                                                                                                                                                                                                                                                                                                                                                                                                                                                             \n13                                                NaN                                                                                                                                                                                                                                                                                                                                                                                                                                                                                                                                                                                                                                                                                                                                                                                                                                                                                             \n14                                                NaN                                                                                                                                                                                                                                                                                                                                                                                                                                                                                                                                                                                                                                                                                                                                                                                                                                                                                             \n15                                                NaN                                                                                                                                                                                                                                                                                                                                                                                                                                                                                                                                                                                                                                                                                                                                                                                                                                                                                             \n16                                                NaN                                                                                                                                                                                                                                                                                                                                                                                                                                                                                                                                                                                                                                                                                                                                                                                                                                                                                             \n17                                                NaN                                                                                                                                                                                                                                                                                                                                                                                                                                                                                                                                                                                                                                                                                                                                                                                                                                                                                             \n18                                                NaN                                                                                                                                                                                                                                                                                                                                                                                                                                                                                                                                                                                                                                                                                                                                                                                                                                                                                             \n19                                                NaN                                                                                                                                                                                                                                                                                                                                                                                                                                                                                                                                                                                                                                                                                                                                                                                                                                                                                             \n20                                                NaN                                                                                                                                                                                                                                                                                                                                                                                                                                                                                                                                                                                                                                                                                                                                                                                                                                                                                             \n21                                                NaN                                                                                                                                                                                                                                                                                                                                                                                                                                                                                                                                                                                                                                                                                                                                                                                                                                                                                             \n22                                                NaN                                                                                                                                                                                                                                                                                                                                                                                                                                                                                                                                                                                                                                                                                                                                                                                                                                                                                             \n23                                                NaN                                                                                                                                                                                                                                                                                                                                                                                                                                                                                                                                                                                                                                                                                                                                                                                                                                                                                             \n24                                                NaN                                                                                                                                                                                                                                                                                                                                                                                                                                                                                                                                                                                                                                                                                                                                                                                                                                                                                             \n25                                                NaN                                                                                                                                                                                                                                                                                                                                                                                                                                                                                                                                                                                                                                                                                                                                                                                                                                                                                             \n26                                                NaN                                                                                                                                                                                                                                                                                                                                                                                                                                                                                                                                                                                                                                                                                                                                                                                                                                                                                             \n27                                                NaN                                                                                                                                                                                                                                                                                                                                                                                                                                                                                                                                                                                                                                                                                                                                                                                                                                                                                             \n\n       County         Sub county                   Ward  \\\n0      Isiolo             Isiolo                 Wabera   \n1      Isiolo             Isiolo             Bulla Pesa   \n2     Nairobi            Ruaraka              Korogocho   \n3       Nandi             Emgwen               Kapsabet   \n4   Kirinyaga  Kirinyaga Central               Kerugoya   \n5   Kirinyaga  Kirinyaga Central               Kerugoya   \n6      Isiolo             Isiolo             Bulla Pesa   \n7     Nairobi   Embakasi Central               Komarock   \n8       Nandi              Mosop             Chepterwai   \n9       Nandi           Chesumei  Chemundu/Kapng'etunyi   \n10  Kirinyaga    Kirinyaga South                 Tebere   \n11    Nairobi     Dagoreti North               Kilimani   \n12   Laikipia      Laikipia west               Igwamiti   \n13     Vihiga             Vihiga        Lugaga-wamuluma   \n14    Kericho             Bureti                 Litein   \n15     Vihiga             Luanda               Emabungo   \n16     Vihiga             Hamisi                  Shiru   \n17      Nyeri        Nyeri South               Iria-ini   \n18    Kericho            Ainamoi              Kipchebor   \n19   Laikipia      Laikipia East                Nanyuki   \n20    Kajiado      Kajiado North                  Ngong   \n21     Kilifi            Malindi                 Barani   \n22    Kajiado    Kajiado Central                Ildamat   \n23    Kajiado       Kajiado East              Kitengela   \n24    Nairobi            Starehe          Nairobi South   \n25     Kilifi           Kaloleni              Mariakani   \n26     Kilifi       Kilifi North                 Sokoni   \n27    Nairobi           Roysambu                 Kahawa   \n\n                              Name of health facility  Facility code  \\\n0                 Isiolo County and Referral Hospital          12094   \n1                                Anka Hospital Isiolo          29530   \n2                        Mama Margaret Uhuru Hospital          28885   \n3                   Kapsabet County Referral Hospital          14749   \n4                   Kerugoya County Refferal Hospital          10520   \n5                             Mt Kenya (ACK) Hospital          10738   \n6                        MaterCare Maternity Hospital          19912   \n7                Mama Lucy Kibaki Hospital (Embakasi)          17411   \n8                      Chepterwai Sub-County Hospital          14369   \n9                         Kapsabet Health Care Centre          17632   \n10                           Afya Link Medical Centre          22887   \n11                                    Coptic Hospital          12905   \n12                         Pope Benedict XVI Hospital          10056   \n13                    Vihiga County Referral Hospital          16157   \n14                        AIC Litein Mission Hospital          14178   \n15               Emuhaya Sub County Referral Hospital          15876   \n16                    Jumuia Mission Hospital Kaimosi          15913   \n17                                   KNH Othaya Annex          10922   \n18                   Kericho County Referral Hospital          14831   \n19             Nanyuki teaching and Referral Hospital          15305   \n20                          Ngong Sub-County Hospital          15351   \n21                                    Tawfiq Hospital          11843   \n22                   Kajiado County Referral Hospital          14652   \n23                         Kitengela Medical Services          14951   \n24          The Mater Misericordiae Hospital (Mukuru)          13074   \n25                      Mariakani Sub County Hospital          11566   \n26                             Kilifi County Hospital          11474   \n27  Kenyatta University Teaching Refferal and Rese...          24979   \n\n    Name of assessor                                  GPS coordinates  \\\n0      Robert Mwangi      0.3648593 37.5894629 1081.300048828125 22.5   \n1     Robert Mwangi      0.3498041 37.5820205 1093.7000732421875 23.6   \n2         Jill Mutua                                              NaN   \n3         Edna kubai       0.2021236 35.1027124 1985.300048828125 3.7   \n4      Bettinah Ngei     -0.5048047 37.2816151 1504.5999755859375 4.8   \n5      Bettinah Ngei               -0.4918374 37.2648367 1598.2 4.966   \n6     Robert Mwangi      0.3273347 37.5639202 1163.2000732421875 20.0   \n7         Jill Mutua                                              NaN   \n8         Edna kubai                0.5228328 34.9272041 2111.5 3.601   \n9         Edna kubai     0.2024871 35.0928024 1967.4000244140625 4.66   \n10     Bettinan Ngei   -0.6840609 37.3577425 1149.3999999999999 4.883   \n11        Jill Mutua                                              NaN   \n12    Robert Mwangi                   0.0393489 36.3316936 0.0 2400.0   \n13        Edna kubai     0.0789445 34.7226809 1616.5999755859375 4.94   \n14      GAVIN ORANGI               -0.5883787 35.1888942 1947.5 3.566   \n15        Edna kubai     0.0376647 34.6263094 1553.300048828125 4.983   \n16        Edna kubai     0.1260574 34.844988 1673.1000000000001 3.569   \n17    Robert Mwangi     -0.5421446 36.9415183 1858.0999755859375 20.0   \n18      GAVIN ORANGI     -0.371057 35.2801426 1980.9000244140625 4.65   \n19    Robert Mwangi      0.0205625 37.0726616 1915.0999755859375 20.0   \n20  Dr. Gavin Orangi     -1.3648673 36.6544168 1974.7000732421875 4.3   \n21     Bettinah Ngei  -3.2210517 40.1125373 -25.700000762939453 104.1   \n22  Dr. ORANGI GAVIN    -1.857839 36.7720905 1687.7000732421875 4.366   \n23  Dr. ORANGI GAVIN    -1.4710942 36.9633958 1548.7000732421875 4.55   \n24        Jill Mutua                                              NaN   \n25     Bettinah Ngei      -3.8638396 39.4721948 83.9000015258789 20.0   \n26     Bettinah Ngei                 -3.6317789 39.8573438 0.5 15.345   \n27   DR.GAVIN ORANGI    -1.1778628 36.9163527 1539.0999755859375 4.15   \n\n    _GPS coordinates_latitude  _GPS coordinates_longitude  ...  \\\n0                    0.364859                   37.589463  ...   \n1                    0.349804                   37.582020  ...   \n2                         NaN                         NaN  ...   \n3                    0.202124                   35.102712  ...   \n4                   -0.504805                   37.281615  ...   \n5                   -0.491837                   37.264837  ...   \n6                    0.327335                   37.563920  ...   \n7                         NaN                         NaN  ...   \n8                    0.522833                   34.927204  ...   \n9                    0.202487                   35.092802  ...   \n10                  -0.684061                   37.357743  ...   \n11                        NaN                         NaN  ...   \n12                   0.039349                   36.331694  ...   \n13                   0.078945                   34.722681  ...   \n14                  -0.588379                   35.188894  ...   \n15                   0.037665                   34.626309  ...   \n16                   0.126057                   34.844988  ...   \n17                  -0.542145                   36.941518  ...   \n18                  -0.371057                   35.280143  ...   \n19                   0.020563                   37.072662  ...   \n20                  -1.364867                   36.654417  ...   \n21                  -3.221052                   40.112537  ...   \n22                  -1.857839                   36.772090  ...   \n23                  -1.471094                   36.963396  ...   \n24                        NaN                         NaN  ...   \n25                  -3.863840                   39.472195  ...   \n26                  -3.631779                   39.857344  ...   \n27                  -1.177863                   36.916353  ...   \n\n                   _id  _uuid _submission_time  _validation_status   _notes  \\\n0  2023-09-19 10:23:18    NaN              NaN   submitted_via_web  amr_abx   \n1  2023-09-20 09:10:22    NaN              NaN   submitted_via_web  amr_abx   \n2  2023-09-20 11:23:31    NaN              NaN   submitted_via_web  amr_abx   \n3  2023-09-20 13:35:56    NaN              NaN   submitted_via_web  amr_abx   \n4  2023-09-21 06:45:48    NaN              NaN   submitted_via_web  amr_abx   \n5  2023-09-21 09:26:29    NaN              NaN   submitted_via_web  amr_abx   \n6  2023-09-21 09:30:16    NaN              NaN   submitted_via_web  amr_abx   \n7  2023-09-21 13:43:02    NaN              NaN   submitted_via_web  amr_abx   \n8  2023-09-21 17:14:54    NaN              NaN   submitted_via_web  amr_abx   \n9  2023-09-21 17:27:25    NaN              NaN   submitted_via_web  amr_abx   \n10 2023-09-22 07:34:51    NaN              NaN   submitted_via_web  amr_abx   \n11 2023-09-23 04:45:58    NaN              NaN   submitted_via_web  amr_abx   \n12 2023-09-25 12:51:14    NaN              NaN   submitted_via_web  amr_abx   \n13 2023-09-25 16:37:55    NaN              NaN   submitted_via_web  amr_abx   \n14 2023-09-25 20:06:54    NaN              NaN   submitted_via_web  amr_abx   \n15 2023-09-26 10:14:41    NaN              NaN   submitted_via_web  amr_abx   \n16 2023-09-27 10:54:08    NaN              NaN   submitted_via_web  amr_abx   \n17 2023-09-27 11:47:30    NaN              NaN   submitted_via_web  amr_abx   \n18 2023-09-27 13:15:30    NaN              NaN   submitted_via_web  amr_abx   \n19 2023-09-28 14:24:37    NaN              NaN   submitted_via_web  amr_abx   \n20 2023-09-29 11:09:21    NaN              NaN   submitted_via_web  amr_abx   \n21 2023-10-03 03:50:32    NaN              NaN   submitted_via_web  amr_abx   \n22 2023-10-03 07:08:37    NaN              NaN   submitted_via_web  amr_abx   \n23 2023-10-03 11:45:10    NaN              NaN   submitted_via_web  amr_abx   \n24 2023-10-03 18:02:51    NaN              NaN   submitted_via_web  amr_abx   \n25 2023-10-04 11:29:06    NaN              NaN   submitted_via_web  amr_abx   \n26 2023-10-04 11:29:07    NaN              NaN   submitted_via_web  amr_abx   \n27 2023-10-05 11:37:32    NaN              NaN   submitted_via_web  amr_abx   \n\n                   _status  _submitted_by  __version__ _tags  _index  \n0   vNBX3rx7DgMhoSCacYCHKF            NaN            1   NaN     NaN  \n1   vGF5BaecH7dbx7nXfyW5uj            NaN            2   NaN     NaN  \n2   vGF5BaecH7dbx7nXfyW5uj            NaN            3   NaN     NaN  \n3   vGF5BaecH7dbx7nXfyW5uj            NaN            4   NaN     NaN  \n4   vGF5BaecH7dbx7nXfyW5uj            NaN            5   NaN     NaN  \n5   vGF5BaecH7dbx7nXfyW5uj            NaN            6   NaN     NaN  \n6   vQAQb94SUWzqLJNxCWcEaW            NaN            7   NaN     NaN  \n7   vGF5BaecH7dbx7nXfyW5uj            NaN            8   NaN     NaN  \n8   vQAQb94SUWzqLJNxCWcEaW            NaN            9   NaN     NaN  \n9   vQAQb94SUWzqLJNxCWcEaW            NaN           10   NaN     NaN  \n10  vGF5BaecH7dbx7nXfyW5uj            NaN           11   NaN     NaN  \n11  vGF5BaecH7dbx7nXfyW5uj            NaN           12   NaN     NaN  \n12  vCMUppsh9DVvK4o4J4MkfJ            NaN           13   NaN     NaN  \n13  vCMUppsh9DVvK4o4J4MkfJ            NaN           14   NaN     NaN  \n14  vCMUppsh9DVvK4o4J4MkfJ            NaN           15   NaN     NaN  \n15  vCMUppsh9DVvK4o4J4MkfJ            NaN           16   NaN     NaN  \n16  vCMUppsh9DVvK4o4J4MkfJ            NaN           17   NaN     NaN  \n17  vCkJdk2rBaY2BYoGSiRHLQ            NaN           18   NaN     NaN  \n18  vCMUppsh9DVvK4o4J4MkfJ            NaN           19   NaN     NaN  \n19  vCkJdk2rBaY2BYoGSiRHLQ            NaN           20   NaN     NaN  \n20  vCMUppsh9DVvK4o4J4MkfJ            NaN           21   NaN     NaN  \n21  v3meaYzjbiXzrYSehRwwzi            NaN           22   NaN     NaN  \n22  v3meaYzjbiXzrYSehRwwzi            NaN           23   NaN     NaN  \n23  vPGkWLgF94YD9Fcv3PeELf            NaN           24   NaN     NaN  \n24  vGF5BaecH7dbx7nXfyW5uj            NaN           25   NaN     NaN  \n25  vPGkWLgF94YD9Fcv3PeELf            NaN           26   NaN     NaN  \n26  vPGkWLgF94YD9Fcv3PeELf            NaN           27   NaN     NaN  \n27  vPGkWLgF94YD9Fcv3PeELf            NaN           28   NaN     NaN  \n\n[28 rows x 695 columns]",
      "text/html": "<div>\n<style scoped>\n    .dataframe tbody tr th:only-of-type {\n        vertical-align: middle;\n    }\n\n    .dataframe tbody tr th {\n        vertical-align: top;\n    }\n\n    .dataframe thead th {\n        text-align: right;\n    }\n</style>\n<table border=\"1\" class=\"dataframe\">\n  <thead>\n    <tr style=\"text-align: right;\">\n      <th></th>\n      <th>The Ministry of Health, in collaboration with FIND, the global alliance for diagnostics, GARDP and JKUAT  is carrying out an activity to assess AMR diagnostic capacity, antibiotic use and existing antimicrobial stewardship practices in preparation for the introduction of cefiderocol (and other antibiotics) and new low blood culture and molecular Point of care testing (POCT) platforms in Kenya. The activity is taking place at selected levels 4,5 and 6 of health facilities in Isiolo, Laikipia, Vihiga, Nyeri, Nairobi, Kirinyaga, Kericho, Kajiado, Nandi and Kilifi counties. \\nPlease complete this questionnaire for the facilities that you are reporting on, and where indicated, provide additional details on your selected responses.  \\n\\nFindings will be published by MoH, Isiolo, Laikipia, Vihiga, Nyeri, Nairobi, Kirinyaga, Kericho, Kajiado, Nandi and Kilifi Counties, as well as JKUAT, FIND and GARDP.</th>\n      <th>County</th>\n      <th>Sub county</th>\n      <th>Ward</th>\n      <th>Name of health facility</th>\n      <th>Facility code</th>\n      <th>Name of assessor</th>\n      <th>GPS coordinates</th>\n      <th>_GPS coordinates_latitude</th>\n      <th>_GPS coordinates_longitude</th>\n      <th>...</th>\n      <th>_id</th>\n      <th>_uuid</th>\n      <th>_submission_time</th>\n      <th>_validation_status</th>\n      <th>_notes</th>\n      <th>_status</th>\n      <th>_submitted_by</th>\n      <th>__version__</th>\n      <th>_tags</th>\n      <th>_index</th>\n    </tr>\n  </thead>\n  <tbody>\n    <tr>\n      <th>0</th>\n      <td>NaN</td>\n      <td>Isiolo</td>\n      <td>Isiolo</td>\n      <td>Wabera</td>\n      <td>Isiolo County and Referral Hospital</td>\n      <td>12094</td>\n      <td>Robert Mwangi</td>\n      <td>0.3648593 37.5894629 1081.300048828125 22.5</td>\n      <td>0.364859</td>\n      <td>37.589463</td>\n      <td>...</td>\n      <td>2023-09-19 10:23:18</td>\n      <td>NaN</td>\n      <td>NaN</td>\n      <td>submitted_via_web</td>\n      <td>amr_abx</td>\n      <td>vNBX3rx7DgMhoSCacYCHKF</td>\n      <td>NaN</td>\n      <td>1</td>\n      <td>NaN</td>\n      <td>NaN</td>\n    </tr>\n    <tr>\n      <th>1</th>\n      <td>NaN</td>\n      <td>Isiolo</td>\n      <td>Isiolo</td>\n      <td>Bulla Pesa</td>\n      <td>Anka Hospital Isiolo</td>\n      <td>29530</td>\n      <td>Robert Mwangi</td>\n      <td>0.3498041 37.5820205 1093.7000732421875 23.6</td>\n      <td>0.349804</td>\n      <td>37.582020</td>\n      <td>...</td>\n      <td>2023-09-20 09:10:22</td>\n      <td>NaN</td>\n      <td>NaN</td>\n      <td>submitted_via_web</td>\n      <td>amr_abx</td>\n      <td>vGF5BaecH7dbx7nXfyW5uj</td>\n      <td>NaN</td>\n      <td>2</td>\n      <td>NaN</td>\n      <td>NaN</td>\n    </tr>\n    <tr>\n      <th>2</th>\n      <td>NaN</td>\n      <td>Nairobi</td>\n      <td>Ruaraka</td>\n      <td>Korogocho</td>\n      <td>Mama Margaret Uhuru Hospital</td>\n      <td>28885</td>\n      <td>Jill Mutua</td>\n      <td>NaN</td>\n      <td>NaN</td>\n      <td>NaN</td>\n      <td>...</td>\n      <td>2023-09-20 11:23:31</td>\n      <td>NaN</td>\n      <td>NaN</td>\n      <td>submitted_via_web</td>\n      <td>amr_abx</td>\n      <td>vGF5BaecH7dbx7nXfyW5uj</td>\n      <td>NaN</td>\n      <td>3</td>\n      <td>NaN</td>\n      <td>NaN</td>\n    </tr>\n    <tr>\n      <th>3</th>\n      <td>NaN</td>\n      <td>Nandi</td>\n      <td>Emgwen</td>\n      <td>Kapsabet</td>\n      <td>Kapsabet County Referral Hospital</td>\n      <td>14749</td>\n      <td>Edna kubai</td>\n      <td>0.2021236 35.1027124 1985.300048828125 3.7</td>\n      <td>0.202124</td>\n      <td>35.102712</td>\n      <td>...</td>\n      <td>2023-09-20 13:35:56</td>\n      <td>NaN</td>\n      <td>NaN</td>\n      <td>submitted_via_web</td>\n      <td>amr_abx</td>\n      <td>vGF5BaecH7dbx7nXfyW5uj</td>\n      <td>NaN</td>\n      <td>4</td>\n      <td>NaN</td>\n      <td>NaN</td>\n    </tr>\n    <tr>\n      <th>4</th>\n      <td>NaN</td>\n      <td>Kirinyaga</td>\n      <td>Kirinyaga Central</td>\n      <td>Kerugoya</td>\n      <td>Kerugoya County Refferal Hospital</td>\n      <td>10520</td>\n      <td>Bettinah Ngei</td>\n      <td>-0.5048047 37.2816151 1504.5999755859375 4.8</td>\n      <td>-0.504805</td>\n      <td>37.281615</td>\n      <td>...</td>\n      <td>2023-09-21 06:45:48</td>\n      <td>NaN</td>\n      <td>NaN</td>\n      <td>submitted_via_web</td>\n      <td>amr_abx</td>\n      <td>vGF5BaecH7dbx7nXfyW5uj</td>\n      <td>NaN</td>\n      <td>5</td>\n      <td>NaN</td>\n      <td>NaN</td>\n    </tr>\n    <tr>\n      <th>5</th>\n      <td>NaN</td>\n      <td>Kirinyaga</td>\n      <td>Kirinyaga Central</td>\n      <td>Kerugoya</td>\n      <td>Mt Kenya (ACK) Hospital</td>\n      <td>10738</td>\n      <td>Bettinah Ngei</td>\n      <td>-0.4918374 37.2648367 1598.2 4.966</td>\n      <td>-0.491837</td>\n      <td>37.264837</td>\n      <td>...</td>\n      <td>2023-09-21 09:26:29</td>\n      <td>NaN</td>\n      <td>NaN</td>\n      <td>submitted_via_web</td>\n      <td>amr_abx</td>\n      <td>vGF5BaecH7dbx7nXfyW5uj</td>\n      <td>NaN</td>\n      <td>6</td>\n      <td>NaN</td>\n      <td>NaN</td>\n    </tr>\n    <tr>\n      <th>6</th>\n      <td>NaN</td>\n      <td>Isiolo</td>\n      <td>Isiolo</td>\n      <td>Bulla Pesa</td>\n      <td>MaterCare Maternity Hospital</td>\n      <td>19912</td>\n      <td>Robert Mwangi</td>\n      <td>0.3273347 37.5639202 1163.2000732421875 20.0</td>\n      <td>0.327335</td>\n      <td>37.563920</td>\n      <td>...</td>\n      <td>2023-09-21 09:30:16</td>\n      <td>NaN</td>\n      <td>NaN</td>\n      <td>submitted_via_web</td>\n      <td>amr_abx</td>\n      <td>vQAQb94SUWzqLJNxCWcEaW</td>\n      <td>NaN</td>\n      <td>7</td>\n      <td>NaN</td>\n      <td>NaN</td>\n    </tr>\n    <tr>\n      <th>7</th>\n      <td>NaN</td>\n      <td>Nairobi</td>\n      <td>Embakasi Central</td>\n      <td>Komarock</td>\n      <td>Mama Lucy Kibaki Hospital (Embakasi)</td>\n      <td>17411</td>\n      <td>Jill Mutua</td>\n      <td>NaN</td>\n      <td>NaN</td>\n      <td>NaN</td>\n      <td>...</td>\n      <td>2023-09-21 13:43:02</td>\n      <td>NaN</td>\n      <td>NaN</td>\n      <td>submitted_via_web</td>\n      <td>amr_abx</td>\n      <td>vGF5BaecH7dbx7nXfyW5uj</td>\n      <td>NaN</td>\n      <td>8</td>\n      <td>NaN</td>\n      <td>NaN</td>\n    </tr>\n    <tr>\n      <th>8</th>\n      <td>NaN</td>\n      <td>Nandi</td>\n      <td>Mosop</td>\n      <td>Chepterwai</td>\n      <td>Chepterwai Sub-County Hospital</td>\n      <td>14369</td>\n      <td>Edna kubai</td>\n      <td>0.5228328 34.9272041 2111.5 3.601</td>\n      <td>0.522833</td>\n      <td>34.927204</td>\n      <td>...</td>\n      <td>2023-09-21 17:14:54</td>\n      <td>NaN</td>\n      <td>NaN</td>\n      <td>submitted_via_web</td>\n      <td>amr_abx</td>\n      <td>vQAQb94SUWzqLJNxCWcEaW</td>\n      <td>NaN</td>\n      <td>9</td>\n      <td>NaN</td>\n      <td>NaN</td>\n    </tr>\n    <tr>\n      <th>9</th>\n      <td>NaN</td>\n      <td>Nandi</td>\n      <td>Chesumei</td>\n      <td>Chemundu/Kapng'etunyi</td>\n      <td>Kapsabet Health Care Centre</td>\n      <td>17632</td>\n      <td>Edna kubai</td>\n      <td>0.2024871 35.0928024 1967.4000244140625 4.66</td>\n      <td>0.202487</td>\n      <td>35.092802</td>\n      <td>...</td>\n      <td>2023-09-21 17:27:25</td>\n      <td>NaN</td>\n      <td>NaN</td>\n      <td>submitted_via_web</td>\n      <td>amr_abx</td>\n      <td>vQAQb94SUWzqLJNxCWcEaW</td>\n      <td>NaN</td>\n      <td>10</td>\n      <td>NaN</td>\n      <td>NaN</td>\n    </tr>\n    <tr>\n      <th>10</th>\n      <td>NaN</td>\n      <td>Kirinyaga</td>\n      <td>Kirinyaga South</td>\n      <td>Tebere</td>\n      <td>Afya Link Medical Centre</td>\n      <td>22887</td>\n      <td>Bettinan Ngei</td>\n      <td>-0.6840609 37.3577425 1149.3999999999999 4.883</td>\n      <td>-0.684061</td>\n      <td>37.357743</td>\n      <td>...</td>\n      <td>2023-09-22 07:34:51</td>\n      <td>NaN</td>\n      <td>NaN</td>\n      <td>submitted_via_web</td>\n      <td>amr_abx</td>\n      <td>vGF5BaecH7dbx7nXfyW5uj</td>\n      <td>NaN</td>\n      <td>11</td>\n      <td>NaN</td>\n      <td>NaN</td>\n    </tr>\n    <tr>\n      <th>11</th>\n      <td>NaN</td>\n      <td>Nairobi</td>\n      <td>Dagoreti North</td>\n      <td>Kilimani</td>\n      <td>Coptic Hospital</td>\n      <td>12905</td>\n      <td>Jill Mutua</td>\n      <td>NaN</td>\n      <td>NaN</td>\n      <td>NaN</td>\n      <td>...</td>\n      <td>2023-09-23 04:45:58</td>\n      <td>NaN</td>\n      <td>NaN</td>\n      <td>submitted_via_web</td>\n      <td>amr_abx</td>\n      <td>vGF5BaecH7dbx7nXfyW5uj</td>\n      <td>NaN</td>\n      <td>12</td>\n      <td>NaN</td>\n      <td>NaN</td>\n    </tr>\n    <tr>\n      <th>12</th>\n      <td>NaN</td>\n      <td>Laikipia</td>\n      <td>Laikipia west</td>\n      <td>Igwamiti</td>\n      <td>Pope Benedict XVI Hospital</td>\n      <td>10056</td>\n      <td>Robert Mwangi</td>\n      <td>0.0393489 36.3316936 0.0 2400.0</td>\n      <td>0.039349</td>\n      <td>36.331694</td>\n      <td>...</td>\n      <td>2023-09-25 12:51:14</td>\n      <td>NaN</td>\n      <td>NaN</td>\n      <td>submitted_via_web</td>\n      <td>amr_abx</td>\n      <td>vCMUppsh9DVvK4o4J4MkfJ</td>\n      <td>NaN</td>\n      <td>13</td>\n      <td>NaN</td>\n      <td>NaN</td>\n    </tr>\n    <tr>\n      <th>13</th>\n      <td>NaN</td>\n      <td>Vihiga</td>\n      <td>Vihiga</td>\n      <td>Lugaga-wamuluma</td>\n      <td>Vihiga County Referral Hospital</td>\n      <td>16157</td>\n      <td>Edna kubai</td>\n      <td>0.0789445 34.7226809 1616.5999755859375 4.94</td>\n      <td>0.078945</td>\n      <td>34.722681</td>\n      <td>...</td>\n      <td>2023-09-25 16:37:55</td>\n      <td>NaN</td>\n      <td>NaN</td>\n      <td>submitted_via_web</td>\n      <td>amr_abx</td>\n      <td>vCMUppsh9DVvK4o4J4MkfJ</td>\n      <td>NaN</td>\n      <td>14</td>\n      <td>NaN</td>\n      <td>NaN</td>\n    </tr>\n    <tr>\n      <th>14</th>\n      <td>NaN</td>\n      <td>Kericho</td>\n      <td>Bureti</td>\n      <td>Litein</td>\n      <td>AIC Litein Mission Hospital</td>\n      <td>14178</td>\n      <td>GAVIN ORANGI</td>\n      <td>-0.5883787 35.1888942 1947.5 3.566</td>\n      <td>-0.588379</td>\n      <td>35.188894</td>\n      <td>...</td>\n      <td>2023-09-25 20:06:54</td>\n      <td>NaN</td>\n      <td>NaN</td>\n      <td>submitted_via_web</td>\n      <td>amr_abx</td>\n      <td>vCMUppsh9DVvK4o4J4MkfJ</td>\n      <td>NaN</td>\n      <td>15</td>\n      <td>NaN</td>\n      <td>NaN</td>\n    </tr>\n    <tr>\n      <th>15</th>\n      <td>NaN</td>\n      <td>Vihiga</td>\n      <td>Luanda</td>\n      <td>Emabungo</td>\n      <td>Emuhaya Sub County Referral Hospital</td>\n      <td>15876</td>\n      <td>Edna kubai</td>\n      <td>0.0376647 34.6263094 1553.300048828125 4.983</td>\n      <td>0.037665</td>\n      <td>34.626309</td>\n      <td>...</td>\n      <td>2023-09-26 10:14:41</td>\n      <td>NaN</td>\n      <td>NaN</td>\n      <td>submitted_via_web</td>\n      <td>amr_abx</td>\n      <td>vCMUppsh9DVvK4o4J4MkfJ</td>\n      <td>NaN</td>\n      <td>16</td>\n      <td>NaN</td>\n      <td>NaN</td>\n    </tr>\n    <tr>\n      <th>16</th>\n      <td>NaN</td>\n      <td>Vihiga</td>\n      <td>Hamisi</td>\n      <td>Shiru</td>\n      <td>Jumuia Mission Hospital Kaimosi</td>\n      <td>15913</td>\n      <td>Edna kubai</td>\n      <td>0.1260574 34.844988 1673.1000000000001 3.569</td>\n      <td>0.126057</td>\n      <td>34.844988</td>\n      <td>...</td>\n      <td>2023-09-27 10:54:08</td>\n      <td>NaN</td>\n      <td>NaN</td>\n      <td>submitted_via_web</td>\n      <td>amr_abx</td>\n      <td>vCMUppsh9DVvK4o4J4MkfJ</td>\n      <td>NaN</td>\n      <td>17</td>\n      <td>NaN</td>\n      <td>NaN</td>\n    </tr>\n    <tr>\n      <th>17</th>\n      <td>NaN</td>\n      <td>Nyeri</td>\n      <td>Nyeri South</td>\n      <td>Iria-ini</td>\n      <td>KNH Othaya Annex</td>\n      <td>10922</td>\n      <td>Robert Mwangi</td>\n      <td>-0.5421446 36.9415183 1858.0999755859375 20.0</td>\n      <td>-0.542145</td>\n      <td>36.941518</td>\n      <td>...</td>\n      <td>2023-09-27 11:47:30</td>\n      <td>NaN</td>\n      <td>NaN</td>\n      <td>submitted_via_web</td>\n      <td>amr_abx</td>\n      <td>vCkJdk2rBaY2BYoGSiRHLQ</td>\n      <td>NaN</td>\n      <td>18</td>\n      <td>NaN</td>\n      <td>NaN</td>\n    </tr>\n    <tr>\n      <th>18</th>\n      <td>NaN</td>\n      <td>Kericho</td>\n      <td>Ainamoi</td>\n      <td>Kipchebor</td>\n      <td>Kericho County Referral Hospital</td>\n      <td>14831</td>\n      <td>GAVIN ORANGI</td>\n      <td>-0.371057 35.2801426 1980.9000244140625 4.65</td>\n      <td>-0.371057</td>\n      <td>35.280143</td>\n      <td>...</td>\n      <td>2023-09-27 13:15:30</td>\n      <td>NaN</td>\n      <td>NaN</td>\n      <td>submitted_via_web</td>\n      <td>amr_abx</td>\n      <td>vCMUppsh9DVvK4o4J4MkfJ</td>\n      <td>NaN</td>\n      <td>19</td>\n      <td>NaN</td>\n      <td>NaN</td>\n    </tr>\n    <tr>\n      <th>19</th>\n      <td>NaN</td>\n      <td>Laikipia</td>\n      <td>Laikipia East</td>\n      <td>Nanyuki</td>\n      <td>Nanyuki teaching and Referral Hospital</td>\n      <td>15305</td>\n      <td>Robert Mwangi</td>\n      <td>0.0205625 37.0726616 1915.0999755859375 20.0</td>\n      <td>0.020563</td>\n      <td>37.072662</td>\n      <td>...</td>\n      <td>2023-09-28 14:24:37</td>\n      <td>NaN</td>\n      <td>NaN</td>\n      <td>submitted_via_web</td>\n      <td>amr_abx</td>\n      <td>vCkJdk2rBaY2BYoGSiRHLQ</td>\n      <td>NaN</td>\n      <td>20</td>\n      <td>NaN</td>\n      <td>NaN</td>\n    </tr>\n    <tr>\n      <th>20</th>\n      <td>NaN</td>\n      <td>Kajiado</td>\n      <td>Kajiado North</td>\n      <td>Ngong</td>\n      <td>Ngong Sub-County Hospital</td>\n      <td>15351</td>\n      <td>Dr. Gavin Orangi</td>\n      <td>-1.3648673 36.6544168 1974.7000732421875 4.3</td>\n      <td>-1.364867</td>\n      <td>36.654417</td>\n      <td>...</td>\n      <td>2023-09-29 11:09:21</td>\n      <td>NaN</td>\n      <td>NaN</td>\n      <td>submitted_via_web</td>\n      <td>amr_abx</td>\n      <td>vCMUppsh9DVvK4o4J4MkfJ</td>\n      <td>NaN</td>\n      <td>21</td>\n      <td>NaN</td>\n      <td>NaN</td>\n    </tr>\n    <tr>\n      <th>21</th>\n      <td>NaN</td>\n      <td>Kilifi</td>\n      <td>Malindi</td>\n      <td>Barani</td>\n      <td>Tawfiq Hospital</td>\n      <td>11843</td>\n      <td>Bettinah Ngei</td>\n      <td>-3.2210517 40.1125373 -25.700000762939453 104.1</td>\n      <td>-3.221052</td>\n      <td>40.112537</td>\n      <td>...</td>\n      <td>2023-10-03 03:50:32</td>\n      <td>NaN</td>\n      <td>NaN</td>\n      <td>submitted_via_web</td>\n      <td>amr_abx</td>\n      <td>v3meaYzjbiXzrYSehRwwzi</td>\n      <td>NaN</td>\n      <td>22</td>\n      <td>NaN</td>\n      <td>NaN</td>\n    </tr>\n    <tr>\n      <th>22</th>\n      <td>NaN</td>\n      <td>Kajiado</td>\n      <td>Kajiado Central</td>\n      <td>Ildamat</td>\n      <td>Kajiado County Referral Hospital</td>\n      <td>14652</td>\n      <td>Dr. ORANGI GAVIN</td>\n      <td>-1.857839 36.7720905 1687.7000732421875 4.366</td>\n      <td>-1.857839</td>\n      <td>36.772090</td>\n      <td>...</td>\n      <td>2023-10-03 07:08:37</td>\n      <td>NaN</td>\n      <td>NaN</td>\n      <td>submitted_via_web</td>\n      <td>amr_abx</td>\n      <td>v3meaYzjbiXzrYSehRwwzi</td>\n      <td>NaN</td>\n      <td>23</td>\n      <td>NaN</td>\n      <td>NaN</td>\n    </tr>\n    <tr>\n      <th>23</th>\n      <td>NaN</td>\n      <td>Kajiado</td>\n      <td>Kajiado East</td>\n      <td>Kitengela</td>\n      <td>Kitengela Medical Services</td>\n      <td>14951</td>\n      <td>Dr. ORANGI GAVIN</td>\n      <td>-1.4710942 36.9633958 1548.7000732421875 4.55</td>\n      <td>-1.471094</td>\n      <td>36.963396</td>\n      <td>...</td>\n      <td>2023-10-03 11:45:10</td>\n      <td>NaN</td>\n      <td>NaN</td>\n      <td>submitted_via_web</td>\n      <td>amr_abx</td>\n      <td>vPGkWLgF94YD9Fcv3PeELf</td>\n      <td>NaN</td>\n      <td>24</td>\n      <td>NaN</td>\n      <td>NaN</td>\n    </tr>\n    <tr>\n      <th>24</th>\n      <td>NaN</td>\n      <td>Nairobi</td>\n      <td>Starehe</td>\n      <td>Nairobi South</td>\n      <td>The Mater Misericordiae Hospital (Mukuru)</td>\n      <td>13074</td>\n      <td>Jill Mutua</td>\n      <td>NaN</td>\n      <td>NaN</td>\n      <td>NaN</td>\n      <td>...</td>\n      <td>2023-10-03 18:02:51</td>\n      <td>NaN</td>\n      <td>NaN</td>\n      <td>submitted_via_web</td>\n      <td>amr_abx</td>\n      <td>vGF5BaecH7dbx7nXfyW5uj</td>\n      <td>NaN</td>\n      <td>25</td>\n      <td>NaN</td>\n      <td>NaN</td>\n    </tr>\n    <tr>\n      <th>25</th>\n      <td>NaN</td>\n      <td>Kilifi</td>\n      <td>Kaloleni</td>\n      <td>Mariakani</td>\n      <td>Mariakani Sub County Hospital</td>\n      <td>11566</td>\n      <td>Bettinah Ngei</td>\n      <td>-3.8638396 39.4721948 83.9000015258789 20.0</td>\n      <td>-3.863840</td>\n      <td>39.472195</td>\n      <td>...</td>\n      <td>2023-10-04 11:29:06</td>\n      <td>NaN</td>\n      <td>NaN</td>\n      <td>submitted_via_web</td>\n      <td>amr_abx</td>\n      <td>vPGkWLgF94YD9Fcv3PeELf</td>\n      <td>NaN</td>\n      <td>26</td>\n      <td>NaN</td>\n      <td>NaN</td>\n    </tr>\n    <tr>\n      <th>26</th>\n      <td>NaN</td>\n      <td>Kilifi</td>\n      <td>Kilifi North</td>\n      <td>Sokoni</td>\n      <td>Kilifi County Hospital</td>\n      <td>11474</td>\n      <td>Bettinah Ngei</td>\n      <td>-3.6317789 39.8573438 0.5 15.345</td>\n      <td>-3.631779</td>\n      <td>39.857344</td>\n      <td>...</td>\n      <td>2023-10-04 11:29:07</td>\n      <td>NaN</td>\n      <td>NaN</td>\n      <td>submitted_via_web</td>\n      <td>amr_abx</td>\n      <td>vPGkWLgF94YD9Fcv3PeELf</td>\n      <td>NaN</td>\n      <td>27</td>\n      <td>NaN</td>\n      <td>NaN</td>\n    </tr>\n    <tr>\n      <th>27</th>\n      <td>NaN</td>\n      <td>Nairobi</td>\n      <td>Roysambu</td>\n      <td>Kahawa</td>\n      <td>Kenyatta University Teaching Refferal and Rese...</td>\n      <td>24979</td>\n      <td>DR.GAVIN ORANGI</td>\n      <td>-1.1778628 36.9163527 1539.0999755859375 4.15</td>\n      <td>-1.177863</td>\n      <td>36.916353</td>\n      <td>...</td>\n      <td>2023-10-05 11:37:32</td>\n      <td>NaN</td>\n      <td>NaN</td>\n      <td>submitted_via_web</td>\n      <td>amr_abx</td>\n      <td>vPGkWLgF94YD9Fcv3PeELf</td>\n      <td>NaN</td>\n      <td>28</td>\n      <td>NaN</td>\n      <td>NaN</td>\n    </tr>\n  </tbody>\n</table>\n<p>28 rows × 695 columns</p>\n</div>"
     },
     "execution_count": 443,
     "metadata": {},
     "output_type": "execute_result"
    }
   ],
   "source": [
    "abx_df"
   ],
   "metadata": {
    "collapsed": false,
    "ExecuteTime": {
     "end_time": "2024-01-23T13:41:31.109975600Z",
     "start_time": "2024-01-23T13:41:30.977302200Z"
    }
   },
   "id": "507b2c930f4202c0",
   "execution_count": 443
  },
  {
   "cell_type": "code",
   "outputs": [],
   "source": [
    "def remove_prefix(df):\n",
    "    df = df.rename(columns=lambda x: re.sub(r'^_GPS coordinates_', '', x))\n",
    "    return df\n",
    "\n",
    "amr_df = remove_prefix(amr_df)\n",
    "abx_df = remove_prefix(abx_df)"
   ],
   "metadata": {
    "collapsed": false,
    "ExecuteTime": {
     "end_time": "2024-01-23T13:41:31.140125300Z",
     "start_time": "2024-01-23T13:41:31.005594400Z"
    }
   },
   "id": "ee77a5652af2277e",
   "execution_count": 444
  },
  {
   "cell_type": "code",
   "outputs": [
    {
     "name": "stderr",
     "output_type": "stream",
     "text": [
      "C:\\Users\\kisee\\AppData\\Local\\Programs\\Python\\Python311\\Lib\\site-packages\\plotly\\express\\_core.py:2065: FutureWarning:\n",
      "\n",
      "When grouping with a length-1 list-like, you will need to pass a length-1 tuple to get_group in a future version of pandas. Pass `(name,)` instead of `name` to silence this warning.\n",
      "\n"
     ]
    },
    {
     "data": {
      "application/vnd.plotly.v1+json": {
       "data": [
        {
         "customdata": [
          [
           "Isiolo",
           "Isiolo",
           "Wabera",
           "Level 4",
           "Public/Government"
          ],
          [
           "Isiolo",
           "Isiolo",
           "Bulla Pesa",
           "Level 4",
           "Private"
          ],
          [
           "Isiolo",
           "Isiolo",
           "Bulla Pesa",
           "Level 4",
           "NGO/Faith-based/Donors"
          ]
         ],
         "hovertemplate": "<b>%{hovertext}</b><br><br>County=%{customdata[0]}<br>c1. Total number of laboratory staff=%{marker.size}<br>Latitude=%{lat}<br>Longitude=%{lon}<br>Sub county=%{customdata[1]}<br>Ward=%{customdata[2]}<br>b1. Level of the health facility=%{customdata[3]}<br>b2. Ownership of health facility=%{customdata[4]}<extra></extra>",
         "hovertext": [
          "Isiolo County and Referral Hospital",
          "Anka Hospital Isiolo",
          "MaterCare Maternity Hospital"
         ],
         "lat": [
          0.3647273,
          0.3498341,
          0.3274352
         ],
         "legendgroup": "Isiolo",
         "lon": [
          37.5896959,
          37.5820279,
          37.5638683
         ],
         "marker": {
          "color": "#636efa",
          "size": [
           21,
           1,
           3
          ],
          "sizemode": "area",
          "sizeref": 0.15
         },
         "mode": "markers",
         "name": "Isiolo",
         "showlegend": true,
         "subplot": "mapbox",
         "type": "scattermapbox"
        },
        {
         "customdata": [
          [
           "Nairobi",
           "Ruaraka",
           "Korogocho",
           "Level 4",
           "Public/Government"
          ],
          [
           "Nairobi",
           "Embakasi Central",
           "Komarock",
           "Level 5",
           "Public/Government"
          ],
          [
           "Nairobi",
           "Dagoreti North",
           "Kilimani",
           "Level 6",
           "NGO/Faith-based/Donors"
          ],
          [
           "Nairobi",
           "Starehe",
           "Nairobi South",
           "Level 5",
           "NGO/Faith-based/Donors"
          ],
          [
           "Nairobi",
           "Roysambu",
           "Kahawa",
           "Level 6",
           "Public/Government"
          ]
         ],
         "hovertemplate": "<b>%{hovertext}</b><br><br>County=%{customdata[0]}<br>c1. Total number of laboratory staff=%{marker.size}<br>Latitude=%{lat}<br>Longitude=%{lon}<br>Sub county=%{customdata[1]}<br>Ward=%{customdata[2]}<br>b1. Level of the health facility=%{customdata[3]}<br>b2. Ownership of health facility=%{customdata[4]}<extra></extra>",
         "hovertext": [
          "Mama Margaret Uhuru Hospital",
          "Mama Lucy Kibaki Hospital (Embakasi)",
          "Coptic Hospital",
          "The Mater Misericordiae Hospital (Mukuru)",
          "Kenyatta University Teaching Refferal and Research Hospital"
         ],
         "lat": [
          -1.2513671,
          -1.2736578,
          null,
          -1.3073287,
          -1.1778603
         ],
         "legendgroup": "Nairobi",
         "lon": [
          36.8864047,
          36.8988722,
          null,
          36.8351397,
          36.9161721
         ],
         "marker": {
          "color": "#EF553B",
          "size": [
           6,
           34,
           31,
           43,
           60
          ],
          "sizemode": "area",
          "sizeref": 0.15
         },
         "mode": "markers",
         "name": "Nairobi",
         "showlegend": true,
         "subplot": "mapbox",
         "type": "scattermapbox"
        },
        {
         "customdata": [
          [
           "Nandi",
           "Emgwen",
           "Kapsabet",
           "Level 5",
           "Public/Government"
          ],
          [
           "Nandi",
           "Mosop",
           "Chepterwai",
           "Level 4",
           "Public/Government"
          ],
          [
           "Nandi",
           "Chesumei",
           "Chemundu/Kapng'etunyi",
           "Level 4",
           "Private"
          ]
         ],
         "hovertemplate": "<b>%{hovertext}</b><br><br>County=%{customdata[0]}<br>c1. Total number of laboratory staff=%{marker.size}<br>Latitude=%{lat}<br>Longitude=%{lon}<br>Sub county=%{customdata[1]}<br>Ward=%{customdata[2]}<br>b1. Level of the health facility=%{customdata[3]}<br>b2. Ownership of health facility=%{customdata[4]}<extra></extra>",
         "hovertext": [
          "Kapsabet County Referral Hospital",
          "Chepterwai Sub-County Hospital",
          "Kapsabet Health Care Centre"
         ],
         "lat": [
          0.2021363,
          0.5228784,
          0.2022083
         ],
         "legendgroup": "Nandi",
         "lon": [
          35.10287,
          34.9273134,
          35.093048
         ],
         "marker": {
          "color": "#00cc96",
          "size": [
           21,
           2,
           2
          ],
          "sizemode": "area",
          "sizeref": 0.15
         },
         "mode": "markers",
         "name": "Nandi",
         "showlegend": true,
         "subplot": "mapbox",
         "type": "scattermapbox"
        },
        {
         "customdata": [
          [
           "Kirinyaga",
           "Kirinyaga Central",
           "Kerugoya",
           "Level 5",
           "Public/Government"
          ],
          [
           "Kirinyaga",
           "Kirinyaga Central",
           "Kerugoya",
           "Level 4",
           "NGO/Faith-based/Donors"
          ],
          [
           "Kirinyaga",
           "Kirinyaga South",
           "Tebere",
           "Level 4",
           "Private"
          ]
         ],
         "hovertemplate": "<b>%{hovertext}</b><br><br>County=%{customdata[0]}<br>c1. Total number of laboratory staff=%{marker.size}<br>Latitude=%{lat}<br>Longitude=%{lon}<br>Sub county=%{customdata[1]}<br>Ward=%{customdata[2]}<br>b1. Level of the health facility=%{customdata[3]}<br>b2. Ownership of health facility=%{customdata[4]}<extra></extra>",
         "hovertext": [
          "Kerugoya County Refferal Hospital",
          "Mt Kenya (ACK) Hospital",
          "Afya Link Medical Centre"
         ],
         "lat": [
          -0.5045383,
          -0.4919027,
          -0.684036
         ],
         "legendgroup": "Kirinyaga",
         "lon": [
          37.2816453,
          37.2648278,
          37.3579395
         ],
         "marker": {
          "color": "#ab63fa",
          "size": [
           22,
           4,
           2
          ],
          "sizemode": "area",
          "sizeref": 0.15
         },
         "mode": "markers",
         "name": "Kirinyaga",
         "showlegend": true,
         "subplot": "mapbox",
         "type": "scattermapbox"
        },
        {
         "customdata": [
          [
           "Laikipia",
           "Laikipia west",
           "Igwamiti",
           "Level 4",
           "NGO/Faith-based/Donors"
          ],
          [
           "Laikipia",
           "Laikipia East",
           "Nanyuki",
           "Level 4",
           "Public/Government"
          ]
         ],
         "hovertemplate": "<b>%{hovertext}</b><br><br>County=%{customdata[0]}<br>c1. Total number of laboratory staff=%{marker.size}<br>Latitude=%{lat}<br>Longitude=%{lon}<br>Sub county=%{customdata[1]}<br>Ward=%{customdata[2]}<br>b1. Level of the health facility=%{customdata[3]}<br>b2. Ownership of health facility=%{customdata[4]}<extra></extra>",
         "hovertext": [
          "Pope Benedict XVI Hospital",
          "Nanyuki teaching and Referral Hospital"
         ],
         "lat": [
          0.039552,
          0.0205241
         ],
         "legendgroup": "Laikipia",
         "lon": [
          36.3347396,
          37.0727092
         ],
         "marker": {
          "color": "#FFA15A",
          "size": [
           10,
           19
          ],
          "sizemode": "area",
          "sizeref": 0.15
         },
         "mode": "markers",
         "name": "Laikipia",
         "showlegend": true,
         "subplot": "mapbox",
         "type": "scattermapbox"
        },
        {
         "customdata": [
          [
           "Kericho",
           "Bureti",
           "Litein",
           "Level 5",
           "NGO/Faith-based/Donors"
          ],
          [
           "Kericho",
           "Ainamoi",
           "Kipchebor",
           "Level 5",
           "Public/Government"
          ]
         ],
         "hovertemplate": "<b>%{hovertext}</b><br><br>County=%{customdata[0]}<br>c1. Total number of laboratory staff=%{marker.size}<br>Latitude=%{lat}<br>Longitude=%{lon}<br>Sub county=%{customdata[1]}<br>Ward=%{customdata[2]}<br>b1. Level of the health facility=%{customdata[3]}<br>b2. Ownership of health facility=%{customdata[4]}<extra></extra>",
         "hovertext": [
          "AIC Litein Mission Hospital",
          "Kericho County Referral Hospital"
         ],
         "lat": [
          -0.5880781,
          -0.3708371
         ],
         "legendgroup": "Kericho",
         "lon": [
          35.1893373,
          35.2798934
         ],
         "marker": {
          "color": "#19d3f3",
          "size": [
           22,
           25
          ],
          "sizemode": "area",
          "sizeref": 0.15
         },
         "mode": "markers",
         "name": "Kericho",
         "showlegend": true,
         "subplot": "mapbox",
         "type": "scattermapbox"
        },
        {
         "customdata": [
          [
           "Vihiga",
           "Vihiga",
           "Lugaga-wamuluma",
           "Level 4",
           "Public/Government"
          ],
          [
           "Vihiga",
           "Luanda",
           "Emabungo",
           "Level 4",
           "Public/Government"
          ],
          [
           "Vihiga",
           "Hamisi",
           "Shiru",
           "Level 5",
           "NGO/Faith-based/Donors"
          ]
         ],
         "hovertemplate": "<b>%{hovertext}</b><br><br>County=%{customdata[0]}<br>c1. Total number of laboratory staff=%{marker.size}<br>Latitude=%{lat}<br>Longitude=%{lon}<br>Sub county=%{customdata[1]}<br>Ward=%{customdata[2]}<br>b1. Level of the health facility=%{customdata[3]}<br>b2. Ownership of health facility=%{customdata[4]}<extra></extra>",
         "hovertext": [
          "Vihiga County Referral Hospital",
          "Emuhaya Sub County Referral Hospital",
          "Jumuia Mission Hospital Kaimosi"
         ],
         "lat": [
          0.0791925,
          0.0377136,
          0.126106
         ],
         "legendgroup": "Vihiga",
         "lon": [
          34.7221088,
          34.626255,
          34.8450415
         ],
         "marker": {
          "color": "#FF6692",
          "size": [
           22,
           8,
           6
          ],
          "sizemode": "area",
          "sizeref": 0.15
         },
         "mode": "markers",
         "name": "Vihiga",
         "showlegend": true,
         "subplot": "mapbox",
         "type": "scattermapbox"
        },
        {
         "customdata": [
          [
           "Nyeri",
           "Nyeri South",
           "Iria-ini",
           "Level 6",
           "Public/Government"
          ]
         ],
         "hovertemplate": "<b>%{hovertext}</b><br><br>County=%{customdata[0]}<br>c1. Total number of laboratory staff=%{marker.size}<br>Latitude=%{lat}<br>Longitude=%{lon}<br>Sub county=%{customdata[1]}<br>Ward=%{customdata[2]}<br>b1. Level of the health facility=%{customdata[3]}<br>b2. Ownership of health facility=%{customdata[4]}<extra></extra>",
         "hovertext": [
          "KNH Othaya Annex"
         ],
         "lat": [
          -0.542148
         ],
         "legendgroup": "Nyeri",
         "lon": [
          36.9415137
         ],
         "marker": {
          "color": "#B6E880",
          "size": [
           13
          ],
          "sizemode": "area",
          "sizeref": 0.15
         },
         "mode": "markers",
         "name": "Nyeri",
         "showlegend": true,
         "subplot": "mapbox",
         "type": "scattermapbox"
        },
        {
         "customdata": [
          [
           "Kajiado",
           "Kajiado North",
           "Ngong",
           "Level 4",
           "Public/Government"
          ],
          [
           "Kajiado",
           "Kajiado Central",
           "Ildamat",
           "Level 4",
           "Public/Government"
          ],
          [
           "Kajiado",
           "Kajiado East",
           "Kitengela",
           "Level 4",
           "Other"
          ]
         ],
         "hovertemplate": "<b>%{hovertext}</b><br><br>County=%{customdata[0]}<br>c1. Total number of laboratory staff=%{marker.size}<br>Latitude=%{lat}<br>Longitude=%{lon}<br>Sub county=%{customdata[1]}<br>Ward=%{customdata[2]}<br>b1. Level of the health facility=%{customdata[3]}<br>b2. Ownership of health facility=%{customdata[4]}<extra></extra>",
         "hovertext": [
          "Ngong Sub-County Hospital",
          "Kajiado County Referral Hospital",
          "Kitengela Medical Services"
         ],
         "lat": [
          -1.3650087,
          -1.8577889,
          -1.4711174
         ],
         "legendgroup": "Kajiado",
         "lon": [
          36.6539734,
          36.7720039,
          36.9633821
         ],
         "marker": {
          "color": "#FF97FF",
          "size": [
           5,
           11,
           6
          ],
          "sizemode": "area",
          "sizeref": 0.15
         },
         "mode": "markers",
         "name": "Kajiado",
         "showlegend": true,
         "subplot": "mapbox",
         "type": "scattermapbox"
        },
        {
         "customdata": [
          [
           "Kilifi",
           "Malindi",
           "Barani",
           "Level 4",
           "NGO/Faith-based/Donors"
          ],
          [
           "Kilifi",
           "Kaloleni",
           "Mariakani",
           "Level 4",
           "Public/Government"
          ],
          [
           "Kilifi",
           "Kilifi North",
           "Sokoni",
           "Level 4",
           "Public/Government"
          ]
         ],
         "hovertemplate": "<b>%{hovertext}</b><br><br>County=%{customdata[0]}<br>c1. Total number of laboratory staff=%{marker.size}<br>Latitude=%{lat}<br>Longitude=%{lon}<br>Sub county=%{customdata[1]}<br>Ward=%{customdata[2]}<br>b1. Level of the health facility=%{customdata[3]}<br>b2. Ownership of health facility=%{customdata[4]}<extra></extra>",
         "hovertext": [
          "Tawfiq Hospital",
          "Mariakani Sub County Hospital",
          "Kilifi County Hospital"
         ],
         "lat": [
          -3.2211167,
          -3.8638728,
          -3.6321941
         ],
         "legendgroup": "Kilifi",
         "lon": [
          40.1128567,
          39.4721508,
          39.8572894
         ],
         "marker": {
          "color": "#FECB52",
          "size": [
           10,
           13,
           24
          ],
          "sizemode": "area",
          "sizeref": 0.15
         },
         "mode": "markers",
         "name": "Kilifi",
         "showlegend": true,
         "subplot": "mapbox",
         "type": "scattermapbox"
        }
       ],
       "layout": {
        "template": {
         "data": {
          "histogram2dcontour": [
           {
            "type": "histogram2dcontour",
            "colorbar": {
             "outlinewidth": 0,
             "ticks": ""
            },
            "colorscale": [
             [
              0.0,
              "#0d0887"
             ],
             [
              0.1111111111111111,
              "#46039f"
             ],
             [
              0.2222222222222222,
              "#7201a8"
             ],
             [
              0.3333333333333333,
              "#9c179e"
             ],
             [
              0.4444444444444444,
              "#bd3786"
             ],
             [
              0.5555555555555556,
              "#d8576b"
             ],
             [
              0.6666666666666666,
              "#ed7953"
             ],
             [
              0.7777777777777778,
              "#fb9f3a"
             ],
             [
              0.8888888888888888,
              "#fdca26"
             ],
             [
              1.0,
              "#f0f921"
             ]
            ]
           }
          ],
          "choropleth": [
           {
            "type": "choropleth",
            "colorbar": {
             "outlinewidth": 0,
             "ticks": ""
            }
           }
          ],
          "histogram2d": [
           {
            "type": "histogram2d",
            "colorbar": {
             "outlinewidth": 0,
             "ticks": ""
            },
            "colorscale": [
             [
              0.0,
              "#0d0887"
             ],
             [
              0.1111111111111111,
              "#46039f"
             ],
             [
              0.2222222222222222,
              "#7201a8"
             ],
             [
              0.3333333333333333,
              "#9c179e"
             ],
             [
              0.4444444444444444,
              "#bd3786"
             ],
             [
              0.5555555555555556,
              "#d8576b"
             ],
             [
              0.6666666666666666,
              "#ed7953"
             ],
             [
              0.7777777777777778,
              "#fb9f3a"
             ],
             [
              0.8888888888888888,
              "#fdca26"
             ],
             [
              1.0,
              "#f0f921"
             ]
            ]
           }
          ],
          "heatmap": [
           {
            "type": "heatmap",
            "colorbar": {
             "outlinewidth": 0,
             "ticks": ""
            },
            "colorscale": [
             [
              0.0,
              "#0d0887"
             ],
             [
              0.1111111111111111,
              "#46039f"
             ],
             [
              0.2222222222222222,
              "#7201a8"
             ],
             [
              0.3333333333333333,
              "#9c179e"
             ],
             [
              0.4444444444444444,
              "#bd3786"
             ],
             [
              0.5555555555555556,
              "#d8576b"
             ],
             [
              0.6666666666666666,
              "#ed7953"
             ],
             [
              0.7777777777777778,
              "#fb9f3a"
             ],
             [
              0.8888888888888888,
              "#fdca26"
             ],
             [
              1.0,
              "#f0f921"
             ]
            ]
           }
          ],
          "heatmapgl": [
           {
            "type": "heatmapgl",
            "colorbar": {
             "outlinewidth": 0,
             "ticks": ""
            },
            "colorscale": [
             [
              0.0,
              "#0d0887"
             ],
             [
              0.1111111111111111,
              "#46039f"
             ],
             [
              0.2222222222222222,
              "#7201a8"
             ],
             [
              0.3333333333333333,
              "#9c179e"
             ],
             [
              0.4444444444444444,
              "#bd3786"
             ],
             [
              0.5555555555555556,
              "#d8576b"
             ],
             [
              0.6666666666666666,
              "#ed7953"
             ],
             [
              0.7777777777777778,
              "#fb9f3a"
             ],
             [
              0.8888888888888888,
              "#fdca26"
             ],
             [
              1.0,
              "#f0f921"
             ]
            ]
           }
          ],
          "contourcarpet": [
           {
            "type": "contourcarpet",
            "colorbar": {
             "outlinewidth": 0,
             "ticks": ""
            }
           }
          ],
          "contour": [
           {
            "type": "contour",
            "colorbar": {
             "outlinewidth": 0,
             "ticks": ""
            },
            "colorscale": [
             [
              0.0,
              "#0d0887"
             ],
             [
              0.1111111111111111,
              "#46039f"
             ],
             [
              0.2222222222222222,
              "#7201a8"
             ],
             [
              0.3333333333333333,
              "#9c179e"
             ],
             [
              0.4444444444444444,
              "#bd3786"
             ],
             [
              0.5555555555555556,
              "#d8576b"
             ],
             [
              0.6666666666666666,
              "#ed7953"
             ],
             [
              0.7777777777777778,
              "#fb9f3a"
             ],
             [
              0.8888888888888888,
              "#fdca26"
             ],
             [
              1.0,
              "#f0f921"
             ]
            ]
           }
          ],
          "surface": [
           {
            "type": "surface",
            "colorbar": {
             "outlinewidth": 0,
             "ticks": ""
            },
            "colorscale": [
             [
              0.0,
              "#0d0887"
             ],
             [
              0.1111111111111111,
              "#46039f"
             ],
             [
              0.2222222222222222,
              "#7201a8"
             ],
             [
              0.3333333333333333,
              "#9c179e"
             ],
             [
              0.4444444444444444,
              "#bd3786"
             ],
             [
              0.5555555555555556,
              "#d8576b"
             ],
             [
              0.6666666666666666,
              "#ed7953"
             ],
             [
              0.7777777777777778,
              "#fb9f3a"
             ],
             [
              0.8888888888888888,
              "#fdca26"
             ],
             [
              1.0,
              "#f0f921"
             ]
            ]
           }
          ],
          "mesh3d": [
           {
            "type": "mesh3d",
            "colorbar": {
             "outlinewidth": 0,
             "ticks": ""
            }
           }
          ],
          "scatter": [
           {
            "fillpattern": {
             "fillmode": "overlay",
             "size": 10,
             "solidity": 0.2
            },
            "type": "scatter"
           }
          ],
          "parcoords": [
           {
            "type": "parcoords",
            "line": {
             "colorbar": {
              "outlinewidth": 0,
              "ticks": ""
             }
            }
           }
          ],
          "scatterpolargl": [
           {
            "type": "scatterpolargl",
            "marker": {
             "colorbar": {
              "outlinewidth": 0,
              "ticks": ""
             }
            }
           }
          ],
          "bar": [
           {
            "error_x": {
             "color": "#2a3f5f"
            },
            "error_y": {
             "color": "#2a3f5f"
            },
            "marker": {
             "line": {
              "color": "#E5ECF6",
              "width": 0.5
             },
             "pattern": {
              "fillmode": "overlay",
              "size": 10,
              "solidity": 0.2
             }
            },
            "type": "bar"
           }
          ],
          "scattergeo": [
           {
            "type": "scattergeo",
            "marker": {
             "colorbar": {
              "outlinewidth": 0,
              "ticks": ""
             }
            }
           }
          ],
          "scatterpolar": [
           {
            "type": "scatterpolar",
            "marker": {
             "colorbar": {
              "outlinewidth": 0,
              "ticks": ""
             }
            }
           }
          ],
          "histogram": [
           {
            "marker": {
             "pattern": {
              "fillmode": "overlay",
              "size": 10,
              "solidity": 0.2
             }
            },
            "type": "histogram"
           }
          ],
          "scattergl": [
           {
            "type": "scattergl",
            "marker": {
             "colorbar": {
              "outlinewidth": 0,
              "ticks": ""
             }
            }
           }
          ],
          "scatter3d": [
           {
            "type": "scatter3d",
            "line": {
             "colorbar": {
              "outlinewidth": 0,
              "ticks": ""
             }
            },
            "marker": {
             "colorbar": {
              "outlinewidth": 0,
              "ticks": ""
             }
            }
           }
          ],
          "scattermapbox": [
           {
            "type": "scattermapbox",
            "marker": {
             "colorbar": {
              "outlinewidth": 0,
              "ticks": ""
             }
            }
           }
          ],
          "scatterternary": [
           {
            "type": "scatterternary",
            "marker": {
             "colorbar": {
              "outlinewidth": 0,
              "ticks": ""
             }
            }
           }
          ],
          "scattercarpet": [
           {
            "type": "scattercarpet",
            "marker": {
             "colorbar": {
              "outlinewidth": 0,
              "ticks": ""
             }
            }
           }
          ],
          "carpet": [
           {
            "aaxis": {
             "endlinecolor": "#2a3f5f",
             "gridcolor": "white",
             "linecolor": "white",
             "minorgridcolor": "white",
             "startlinecolor": "#2a3f5f"
            },
            "baxis": {
             "endlinecolor": "#2a3f5f",
             "gridcolor": "white",
             "linecolor": "white",
             "minorgridcolor": "white",
             "startlinecolor": "#2a3f5f"
            },
            "type": "carpet"
           }
          ],
          "table": [
           {
            "cells": {
             "fill": {
              "color": "#EBF0F8"
             },
             "line": {
              "color": "white"
             }
            },
            "header": {
             "fill": {
              "color": "#C8D4E3"
             },
             "line": {
              "color": "white"
             }
            },
            "type": "table"
           }
          ],
          "barpolar": [
           {
            "marker": {
             "line": {
              "color": "#E5ECF6",
              "width": 0.5
             },
             "pattern": {
              "fillmode": "overlay",
              "size": 10,
              "solidity": 0.2
             }
            },
            "type": "barpolar"
           }
          ],
          "pie": [
           {
            "automargin": true,
            "type": "pie"
           }
          ]
         },
         "layout": {
          "autotypenumbers": "strict",
          "colorway": [
           "#636efa",
           "#EF553B",
           "#00cc96",
           "#ab63fa",
           "#FFA15A",
           "#19d3f3",
           "#FF6692",
           "#B6E880",
           "#FF97FF",
           "#FECB52"
          ],
          "font": {
           "color": "#2a3f5f"
          },
          "hovermode": "closest",
          "hoverlabel": {
           "align": "left"
          },
          "paper_bgcolor": "white",
          "plot_bgcolor": "#E5ECF6",
          "polar": {
           "bgcolor": "#E5ECF6",
           "angularaxis": {
            "gridcolor": "white",
            "linecolor": "white",
            "ticks": ""
           },
           "radialaxis": {
            "gridcolor": "white",
            "linecolor": "white",
            "ticks": ""
           }
          },
          "ternary": {
           "bgcolor": "#E5ECF6",
           "aaxis": {
            "gridcolor": "white",
            "linecolor": "white",
            "ticks": ""
           },
           "baxis": {
            "gridcolor": "white",
            "linecolor": "white",
            "ticks": ""
           },
           "caxis": {
            "gridcolor": "white",
            "linecolor": "white",
            "ticks": ""
           }
          },
          "coloraxis": {
           "colorbar": {
            "outlinewidth": 0,
            "ticks": ""
           }
          },
          "colorscale": {
           "sequential": [
            [
             0.0,
             "#0d0887"
            ],
            [
             0.1111111111111111,
             "#46039f"
            ],
            [
             0.2222222222222222,
             "#7201a8"
            ],
            [
             0.3333333333333333,
             "#9c179e"
            ],
            [
             0.4444444444444444,
             "#bd3786"
            ],
            [
             0.5555555555555556,
             "#d8576b"
            ],
            [
             0.6666666666666666,
             "#ed7953"
            ],
            [
             0.7777777777777778,
             "#fb9f3a"
            ],
            [
             0.8888888888888888,
             "#fdca26"
            ],
            [
             1.0,
             "#f0f921"
            ]
           ],
           "sequentialminus": [
            [
             0.0,
             "#0d0887"
            ],
            [
             0.1111111111111111,
             "#46039f"
            ],
            [
             0.2222222222222222,
             "#7201a8"
            ],
            [
             0.3333333333333333,
             "#9c179e"
            ],
            [
             0.4444444444444444,
             "#bd3786"
            ],
            [
             0.5555555555555556,
             "#d8576b"
            ],
            [
             0.6666666666666666,
             "#ed7953"
            ],
            [
             0.7777777777777778,
             "#fb9f3a"
            ],
            [
             0.8888888888888888,
             "#fdca26"
            ],
            [
             1.0,
             "#f0f921"
            ]
           ],
           "diverging": [
            [
             0,
             "#8e0152"
            ],
            [
             0.1,
             "#c51b7d"
            ],
            [
             0.2,
             "#de77ae"
            ],
            [
             0.3,
             "#f1b6da"
            ],
            [
             0.4,
             "#fde0ef"
            ],
            [
             0.5,
             "#f7f7f7"
            ],
            [
             0.6,
             "#e6f5d0"
            ],
            [
             0.7,
             "#b8e186"
            ],
            [
             0.8,
             "#7fbc41"
            ],
            [
             0.9,
             "#4d9221"
            ],
            [
             1,
             "#276419"
            ]
           ]
          },
          "xaxis": {
           "gridcolor": "white",
           "linecolor": "white",
           "ticks": "",
           "title": {
            "standoff": 15
           },
           "zerolinecolor": "white",
           "automargin": true,
           "zerolinewidth": 2
          },
          "yaxis": {
           "gridcolor": "white",
           "linecolor": "white",
           "ticks": "",
           "title": {
            "standoff": 15
           },
           "zerolinecolor": "white",
           "automargin": true,
           "zerolinewidth": 2
          },
          "scene": {
           "xaxis": {
            "backgroundcolor": "#E5ECF6",
            "gridcolor": "white",
            "linecolor": "white",
            "showbackground": true,
            "ticks": "",
            "zerolinecolor": "white",
            "gridwidth": 2
           },
           "yaxis": {
            "backgroundcolor": "#E5ECF6",
            "gridcolor": "white",
            "linecolor": "white",
            "showbackground": true,
            "ticks": "",
            "zerolinecolor": "white",
            "gridwidth": 2
           },
           "zaxis": {
            "backgroundcolor": "#E5ECF6",
            "gridcolor": "white",
            "linecolor": "white",
            "showbackground": true,
            "ticks": "",
            "zerolinecolor": "white",
            "gridwidth": 2
           }
          },
          "shapedefaults": {
           "line": {
            "color": "#2a3f5f"
           }
          },
          "annotationdefaults": {
           "arrowcolor": "#2a3f5f",
           "arrowhead": 0,
           "arrowwidth": 1
          },
          "geo": {
           "bgcolor": "white",
           "landcolor": "#E5ECF6",
           "subunitcolor": "white",
           "showland": true,
           "showlakes": true,
           "lakecolor": "white"
          },
          "title": {
           "x": 0.05
          },
          "mapbox": {
           "style": "light"
          }
         }
        },
        "mapbox": {
         "domain": {
          "x": [
           0.0,
           1.0
          ],
          "y": [
           0.0,
           1.0
          ]
         },
         "center": {
          "lat": -0.7900201814814815,
          "lon": 36.74603998518519
         },
         "zoom": 5.25,
         "style": "carto-positron"
        },
        "legend": {
         "title": {
          "text": "County"
         },
         "tracegroupgap": 0,
         "itemsizing": "constant"
        },
        "title": {
         "text": "Surveyed Health Facilities in Kenya - color coded by county, sized by number of laboratory staff"
        },
        "height": 800,
        "width": 1200
       },
       "config": {
        "plotlyServerURL": "https://plot.ly"
       }
      },
      "text/html": "<div>                            <div id=\"08d9b2cf-75ec-43d0-a597-5e3a6f8b7158\" class=\"plotly-graph-div\" style=\"height:800px; width:1200px;\"></div>            <script type=\"text/javascript\">                require([\"plotly\"], function(Plotly) {                    window.PLOTLYENV=window.PLOTLYENV || {};                                    if (document.getElementById(\"08d9b2cf-75ec-43d0-a597-5e3a6f8b7158\")) {                    Plotly.newPlot(                        \"08d9b2cf-75ec-43d0-a597-5e3a6f8b7158\",                        [{\"customdata\":[[\"Isiolo\",\"Isiolo\",\"Wabera\",\"Level 4\",\"Public\\u002fGovernment\"],[\"Isiolo\",\"Isiolo\",\"Bulla Pesa\",\"Level 4\",\"Private\"],[\"Isiolo\",\"Isiolo\",\"Bulla Pesa\",\"Level 4\",\"NGO\\u002fFaith-based\\u002fDonors\"]],\"hovertemplate\":\"\\u003cb\\u003e%{hovertext}\\u003c\\u002fb\\u003e\\u003cbr\\u003e\\u003cbr\\u003eCounty=%{customdata[0]}\\u003cbr\\u003ec1. Total number of laboratory staff=%{marker.size}\\u003cbr\\u003eLatitude=%{lat}\\u003cbr\\u003eLongitude=%{lon}\\u003cbr\\u003eSub county=%{customdata[1]}\\u003cbr\\u003eWard=%{customdata[2]}\\u003cbr\\u003eb1. Level of the health facility=%{customdata[3]}\\u003cbr\\u003eb2. Ownership of health facility=%{customdata[4]}\\u003cextra\\u003e\\u003c\\u002fextra\\u003e\",\"hovertext\":[\"Isiolo County and Referral Hospital\",\"Anka Hospital Isiolo\",\"MaterCare Maternity Hospital\"],\"lat\":[0.3647273,0.3498341,0.3274352],\"legendgroup\":\"Isiolo\",\"lon\":[37.5896959,37.5820279,37.5638683],\"marker\":{\"color\":\"#636efa\",\"size\":[21,1,3],\"sizemode\":\"area\",\"sizeref\":0.15},\"mode\":\"markers\",\"name\":\"Isiolo\",\"showlegend\":true,\"subplot\":\"mapbox\",\"type\":\"scattermapbox\"},{\"customdata\":[[\"Nairobi\",\"Ruaraka\",\"Korogocho\",\"Level 4\",\"Public\\u002fGovernment\"],[\"Nairobi\",\"Embakasi Central\",\"Komarock\",\"Level 5\",\"Public\\u002fGovernment\"],[\"Nairobi\",\"Dagoreti North\",\"Kilimani\",\"Level 6\",\"NGO\\u002fFaith-based\\u002fDonors\"],[\"Nairobi\",\"Starehe\",\"Nairobi South\",\"Level 5\",\"NGO\\u002fFaith-based\\u002fDonors\"],[\"Nairobi\",\"Roysambu\",\"Kahawa\",\"Level 6\",\"Public\\u002fGovernment\"]],\"hovertemplate\":\"\\u003cb\\u003e%{hovertext}\\u003c\\u002fb\\u003e\\u003cbr\\u003e\\u003cbr\\u003eCounty=%{customdata[0]}\\u003cbr\\u003ec1. Total number of laboratory staff=%{marker.size}\\u003cbr\\u003eLatitude=%{lat}\\u003cbr\\u003eLongitude=%{lon}\\u003cbr\\u003eSub county=%{customdata[1]}\\u003cbr\\u003eWard=%{customdata[2]}\\u003cbr\\u003eb1. Level of the health facility=%{customdata[3]}\\u003cbr\\u003eb2. Ownership of health facility=%{customdata[4]}\\u003cextra\\u003e\\u003c\\u002fextra\\u003e\",\"hovertext\":[\"Mama Margaret Uhuru Hospital\",\"Mama Lucy Kibaki Hospital (Embakasi)\",\"Coptic Hospital\",\"The Mater Misericordiae Hospital (Mukuru)\",\"Kenyatta University Teaching Refferal and Research Hospital\"],\"lat\":[-1.2513671,-1.2736578,null,-1.3073287,-1.1778603],\"legendgroup\":\"Nairobi\",\"lon\":[36.8864047,36.8988722,null,36.8351397,36.9161721],\"marker\":{\"color\":\"#EF553B\",\"size\":[6,34,31,43,60],\"sizemode\":\"area\",\"sizeref\":0.15},\"mode\":\"markers\",\"name\":\"Nairobi\",\"showlegend\":true,\"subplot\":\"mapbox\",\"type\":\"scattermapbox\"},{\"customdata\":[[\"Nandi\",\"Emgwen\",\"Kapsabet\",\"Level 5\",\"Public\\u002fGovernment\"],[\"Nandi\",\"Mosop\",\"Chepterwai\",\"Level 4\",\"Public\\u002fGovernment\"],[\"Nandi\",\"Chesumei\",\"Chemundu\\u002fKapng'etunyi\",\"Level 4\",\"Private\"]],\"hovertemplate\":\"\\u003cb\\u003e%{hovertext}\\u003c\\u002fb\\u003e\\u003cbr\\u003e\\u003cbr\\u003eCounty=%{customdata[0]}\\u003cbr\\u003ec1. Total number of laboratory staff=%{marker.size}\\u003cbr\\u003eLatitude=%{lat}\\u003cbr\\u003eLongitude=%{lon}\\u003cbr\\u003eSub county=%{customdata[1]}\\u003cbr\\u003eWard=%{customdata[2]}\\u003cbr\\u003eb1. Level of the health facility=%{customdata[3]}\\u003cbr\\u003eb2. Ownership of health facility=%{customdata[4]}\\u003cextra\\u003e\\u003c\\u002fextra\\u003e\",\"hovertext\":[\"Kapsabet County Referral Hospital\",\"Chepterwai Sub-County Hospital\",\"Kapsabet Health Care Centre\"],\"lat\":[0.2021363,0.5228784,0.2022083],\"legendgroup\":\"Nandi\",\"lon\":[35.10287,34.9273134,35.093048],\"marker\":{\"color\":\"#00cc96\",\"size\":[21,2,2],\"sizemode\":\"area\",\"sizeref\":0.15},\"mode\":\"markers\",\"name\":\"Nandi\",\"showlegend\":true,\"subplot\":\"mapbox\",\"type\":\"scattermapbox\"},{\"customdata\":[[\"Kirinyaga\",\"Kirinyaga Central\",\"Kerugoya\",\"Level 5\",\"Public\\u002fGovernment\"],[\"Kirinyaga\",\"Kirinyaga Central\",\"Kerugoya\",\"Level 4\",\"NGO\\u002fFaith-based\\u002fDonors\"],[\"Kirinyaga\",\"Kirinyaga South\",\"Tebere\",\"Level 4\",\"Private\"]],\"hovertemplate\":\"\\u003cb\\u003e%{hovertext}\\u003c\\u002fb\\u003e\\u003cbr\\u003e\\u003cbr\\u003eCounty=%{customdata[0]}\\u003cbr\\u003ec1. Total number of laboratory staff=%{marker.size}\\u003cbr\\u003eLatitude=%{lat}\\u003cbr\\u003eLongitude=%{lon}\\u003cbr\\u003eSub county=%{customdata[1]}\\u003cbr\\u003eWard=%{customdata[2]}\\u003cbr\\u003eb1. Level of the health facility=%{customdata[3]}\\u003cbr\\u003eb2. Ownership of health facility=%{customdata[4]}\\u003cextra\\u003e\\u003c\\u002fextra\\u003e\",\"hovertext\":[\"Kerugoya County Refferal Hospital\",\"Mt Kenya (ACK) Hospital\",\"Afya Link Medical Centre\"],\"lat\":[-0.5045383,-0.4919027,-0.684036],\"legendgroup\":\"Kirinyaga\",\"lon\":[37.2816453,37.2648278,37.3579395],\"marker\":{\"color\":\"#ab63fa\",\"size\":[22,4,2],\"sizemode\":\"area\",\"sizeref\":0.15},\"mode\":\"markers\",\"name\":\"Kirinyaga\",\"showlegend\":true,\"subplot\":\"mapbox\",\"type\":\"scattermapbox\"},{\"customdata\":[[\"Laikipia\",\"Laikipia west\",\"Igwamiti\",\"Level 4\",\"NGO\\u002fFaith-based\\u002fDonors\"],[\"Laikipia\",\"Laikipia East\",\"Nanyuki\",\"Level 4\",\"Public\\u002fGovernment\"]],\"hovertemplate\":\"\\u003cb\\u003e%{hovertext}\\u003c\\u002fb\\u003e\\u003cbr\\u003e\\u003cbr\\u003eCounty=%{customdata[0]}\\u003cbr\\u003ec1. Total number of laboratory staff=%{marker.size}\\u003cbr\\u003eLatitude=%{lat}\\u003cbr\\u003eLongitude=%{lon}\\u003cbr\\u003eSub county=%{customdata[1]}\\u003cbr\\u003eWard=%{customdata[2]}\\u003cbr\\u003eb1. Level of the health facility=%{customdata[3]}\\u003cbr\\u003eb2. Ownership of health facility=%{customdata[4]}\\u003cextra\\u003e\\u003c\\u002fextra\\u003e\",\"hovertext\":[\"Pope Benedict XVI Hospital\",\"Nanyuki teaching and Referral Hospital\"],\"lat\":[0.039552,0.0205241],\"legendgroup\":\"Laikipia\",\"lon\":[36.3347396,37.0727092],\"marker\":{\"color\":\"#FFA15A\",\"size\":[10,19],\"sizemode\":\"area\",\"sizeref\":0.15},\"mode\":\"markers\",\"name\":\"Laikipia\",\"showlegend\":true,\"subplot\":\"mapbox\",\"type\":\"scattermapbox\"},{\"customdata\":[[\"Kericho\",\"Bureti\",\"Litein\",\"Level 5\",\"NGO\\u002fFaith-based\\u002fDonors\"],[\"Kericho\",\"Ainamoi\",\"Kipchebor\",\"Level 5\",\"Public\\u002fGovernment\"]],\"hovertemplate\":\"\\u003cb\\u003e%{hovertext}\\u003c\\u002fb\\u003e\\u003cbr\\u003e\\u003cbr\\u003eCounty=%{customdata[0]}\\u003cbr\\u003ec1. Total number of laboratory staff=%{marker.size}\\u003cbr\\u003eLatitude=%{lat}\\u003cbr\\u003eLongitude=%{lon}\\u003cbr\\u003eSub county=%{customdata[1]}\\u003cbr\\u003eWard=%{customdata[2]}\\u003cbr\\u003eb1. Level of the health facility=%{customdata[3]}\\u003cbr\\u003eb2. Ownership of health facility=%{customdata[4]}\\u003cextra\\u003e\\u003c\\u002fextra\\u003e\",\"hovertext\":[\"AIC Litein Mission Hospital\",\"Kericho County Referral Hospital\"],\"lat\":[-0.5880781,-0.3708371],\"legendgroup\":\"Kericho\",\"lon\":[35.1893373,35.2798934],\"marker\":{\"color\":\"#19d3f3\",\"size\":[22,25],\"sizemode\":\"area\",\"sizeref\":0.15},\"mode\":\"markers\",\"name\":\"Kericho\",\"showlegend\":true,\"subplot\":\"mapbox\",\"type\":\"scattermapbox\"},{\"customdata\":[[\"Vihiga\",\"Vihiga\",\"Lugaga-wamuluma\",\"Level 4\",\"Public\\u002fGovernment\"],[\"Vihiga\",\"Luanda\",\"Emabungo\",\"Level 4\",\"Public\\u002fGovernment\"],[\"Vihiga\",\"Hamisi\",\"Shiru\",\"Level 5\",\"NGO\\u002fFaith-based\\u002fDonors\"]],\"hovertemplate\":\"\\u003cb\\u003e%{hovertext}\\u003c\\u002fb\\u003e\\u003cbr\\u003e\\u003cbr\\u003eCounty=%{customdata[0]}\\u003cbr\\u003ec1. Total number of laboratory staff=%{marker.size}\\u003cbr\\u003eLatitude=%{lat}\\u003cbr\\u003eLongitude=%{lon}\\u003cbr\\u003eSub county=%{customdata[1]}\\u003cbr\\u003eWard=%{customdata[2]}\\u003cbr\\u003eb1. Level of the health facility=%{customdata[3]}\\u003cbr\\u003eb2. Ownership of health facility=%{customdata[4]}\\u003cextra\\u003e\\u003c\\u002fextra\\u003e\",\"hovertext\":[\"Vihiga County Referral Hospital\",\"Emuhaya Sub County Referral Hospital\",\"Jumuia Mission Hospital Kaimosi\"],\"lat\":[0.0791925,0.0377136,0.126106],\"legendgroup\":\"Vihiga\",\"lon\":[34.7221088,34.626255,34.8450415],\"marker\":{\"color\":\"#FF6692\",\"size\":[22,8,6],\"sizemode\":\"area\",\"sizeref\":0.15},\"mode\":\"markers\",\"name\":\"Vihiga\",\"showlegend\":true,\"subplot\":\"mapbox\",\"type\":\"scattermapbox\"},{\"customdata\":[[\"Nyeri\",\"Nyeri South\",\"Iria-ini\",\"Level 6\",\"Public\\u002fGovernment\"]],\"hovertemplate\":\"\\u003cb\\u003e%{hovertext}\\u003c\\u002fb\\u003e\\u003cbr\\u003e\\u003cbr\\u003eCounty=%{customdata[0]}\\u003cbr\\u003ec1. Total number of laboratory staff=%{marker.size}\\u003cbr\\u003eLatitude=%{lat}\\u003cbr\\u003eLongitude=%{lon}\\u003cbr\\u003eSub county=%{customdata[1]}\\u003cbr\\u003eWard=%{customdata[2]}\\u003cbr\\u003eb1. Level of the health facility=%{customdata[3]}\\u003cbr\\u003eb2. Ownership of health facility=%{customdata[4]}\\u003cextra\\u003e\\u003c\\u002fextra\\u003e\",\"hovertext\":[\"KNH Othaya Annex\"],\"lat\":[-0.542148],\"legendgroup\":\"Nyeri\",\"lon\":[36.9415137],\"marker\":{\"color\":\"#B6E880\",\"size\":[13],\"sizemode\":\"area\",\"sizeref\":0.15},\"mode\":\"markers\",\"name\":\"Nyeri\",\"showlegend\":true,\"subplot\":\"mapbox\",\"type\":\"scattermapbox\"},{\"customdata\":[[\"Kajiado\",\"Kajiado North\",\"Ngong\",\"Level 4\",\"Public\\u002fGovernment\"],[\"Kajiado\",\"Kajiado Central\",\"Ildamat\",\"Level 4\",\"Public\\u002fGovernment\"],[\"Kajiado\",\"Kajiado East\",\"Kitengela\",\"Level 4\",\"Other\"]],\"hovertemplate\":\"\\u003cb\\u003e%{hovertext}\\u003c\\u002fb\\u003e\\u003cbr\\u003e\\u003cbr\\u003eCounty=%{customdata[0]}\\u003cbr\\u003ec1. Total number of laboratory staff=%{marker.size}\\u003cbr\\u003eLatitude=%{lat}\\u003cbr\\u003eLongitude=%{lon}\\u003cbr\\u003eSub county=%{customdata[1]}\\u003cbr\\u003eWard=%{customdata[2]}\\u003cbr\\u003eb1. Level of the health facility=%{customdata[3]}\\u003cbr\\u003eb2. Ownership of health facility=%{customdata[4]}\\u003cextra\\u003e\\u003c\\u002fextra\\u003e\",\"hovertext\":[\"Ngong Sub-County Hospital\",\"Kajiado County Referral Hospital\",\"Kitengela Medical Services\"],\"lat\":[-1.3650087,-1.8577889,-1.4711174],\"legendgroup\":\"Kajiado\",\"lon\":[36.6539734,36.7720039,36.9633821],\"marker\":{\"color\":\"#FF97FF\",\"size\":[5,11,6],\"sizemode\":\"area\",\"sizeref\":0.15},\"mode\":\"markers\",\"name\":\"Kajiado\",\"showlegend\":true,\"subplot\":\"mapbox\",\"type\":\"scattermapbox\"},{\"customdata\":[[\"Kilifi\",\"Malindi\",\"Barani\",\"Level 4\",\"NGO\\u002fFaith-based\\u002fDonors\"],[\"Kilifi\",\"Kaloleni\",\"Mariakani\",\"Level 4\",\"Public\\u002fGovernment\"],[\"Kilifi\",\"Kilifi North\",\"Sokoni\",\"Level 4\",\"Public\\u002fGovernment\"]],\"hovertemplate\":\"\\u003cb\\u003e%{hovertext}\\u003c\\u002fb\\u003e\\u003cbr\\u003e\\u003cbr\\u003eCounty=%{customdata[0]}\\u003cbr\\u003ec1. Total number of laboratory staff=%{marker.size}\\u003cbr\\u003eLatitude=%{lat}\\u003cbr\\u003eLongitude=%{lon}\\u003cbr\\u003eSub county=%{customdata[1]}\\u003cbr\\u003eWard=%{customdata[2]}\\u003cbr\\u003eb1. Level of the health facility=%{customdata[3]}\\u003cbr\\u003eb2. Ownership of health facility=%{customdata[4]}\\u003cextra\\u003e\\u003c\\u002fextra\\u003e\",\"hovertext\":[\"Tawfiq Hospital\",\"Mariakani Sub County Hospital\",\"Kilifi County Hospital\"],\"lat\":[-3.2211167,-3.8638728,-3.6321941],\"legendgroup\":\"Kilifi\",\"lon\":[40.1128567,39.4721508,39.8572894],\"marker\":{\"color\":\"#FECB52\",\"size\":[10,13,24],\"sizemode\":\"area\",\"sizeref\":0.15},\"mode\":\"markers\",\"name\":\"Kilifi\",\"showlegend\":true,\"subplot\":\"mapbox\",\"type\":\"scattermapbox\"}],                        {\"template\":{\"data\":{\"histogram2dcontour\":[{\"type\":\"histogram2dcontour\",\"colorbar\":{\"outlinewidth\":0,\"ticks\":\"\"},\"colorscale\":[[0.0,\"#0d0887\"],[0.1111111111111111,\"#46039f\"],[0.2222222222222222,\"#7201a8\"],[0.3333333333333333,\"#9c179e\"],[0.4444444444444444,\"#bd3786\"],[0.5555555555555556,\"#d8576b\"],[0.6666666666666666,\"#ed7953\"],[0.7777777777777778,\"#fb9f3a\"],[0.8888888888888888,\"#fdca26\"],[1.0,\"#f0f921\"]]}],\"choropleth\":[{\"type\":\"choropleth\",\"colorbar\":{\"outlinewidth\":0,\"ticks\":\"\"}}],\"histogram2d\":[{\"type\":\"histogram2d\",\"colorbar\":{\"outlinewidth\":0,\"ticks\":\"\"},\"colorscale\":[[0.0,\"#0d0887\"],[0.1111111111111111,\"#46039f\"],[0.2222222222222222,\"#7201a8\"],[0.3333333333333333,\"#9c179e\"],[0.4444444444444444,\"#bd3786\"],[0.5555555555555556,\"#d8576b\"],[0.6666666666666666,\"#ed7953\"],[0.7777777777777778,\"#fb9f3a\"],[0.8888888888888888,\"#fdca26\"],[1.0,\"#f0f921\"]]}],\"heatmap\":[{\"type\":\"heatmap\",\"colorbar\":{\"outlinewidth\":0,\"ticks\":\"\"},\"colorscale\":[[0.0,\"#0d0887\"],[0.1111111111111111,\"#46039f\"],[0.2222222222222222,\"#7201a8\"],[0.3333333333333333,\"#9c179e\"],[0.4444444444444444,\"#bd3786\"],[0.5555555555555556,\"#d8576b\"],[0.6666666666666666,\"#ed7953\"],[0.7777777777777778,\"#fb9f3a\"],[0.8888888888888888,\"#fdca26\"],[1.0,\"#f0f921\"]]}],\"heatmapgl\":[{\"type\":\"heatmapgl\",\"colorbar\":{\"outlinewidth\":0,\"ticks\":\"\"},\"colorscale\":[[0.0,\"#0d0887\"],[0.1111111111111111,\"#46039f\"],[0.2222222222222222,\"#7201a8\"],[0.3333333333333333,\"#9c179e\"],[0.4444444444444444,\"#bd3786\"],[0.5555555555555556,\"#d8576b\"],[0.6666666666666666,\"#ed7953\"],[0.7777777777777778,\"#fb9f3a\"],[0.8888888888888888,\"#fdca26\"],[1.0,\"#f0f921\"]]}],\"contourcarpet\":[{\"type\":\"contourcarpet\",\"colorbar\":{\"outlinewidth\":0,\"ticks\":\"\"}}],\"contour\":[{\"type\":\"contour\",\"colorbar\":{\"outlinewidth\":0,\"ticks\":\"\"},\"colorscale\":[[0.0,\"#0d0887\"],[0.1111111111111111,\"#46039f\"],[0.2222222222222222,\"#7201a8\"],[0.3333333333333333,\"#9c179e\"],[0.4444444444444444,\"#bd3786\"],[0.5555555555555556,\"#d8576b\"],[0.6666666666666666,\"#ed7953\"],[0.7777777777777778,\"#fb9f3a\"],[0.8888888888888888,\"#fdca26\"],[1.0,\"#f0f921\"]]}],\"surface\":[{\"type\":\"surface\",\"colorbar\":{\"outlinewidth\":0,\"ticks\":\"\"},\"colorscale\":[[0.0,\"#0d0887\"],[0.1111111111111111,\"#46039f\"],[0.2222222222222222,\"#7201a8\"],[0.3333333333333333,\"#9c179e\"],[0.4444444444444444,\"#bd3786\"],[0.5555555555555556,\"#d8576b\"],[0.6666666666666666,\"#ed7953\"],[0.7777777777777778,\"#fb9f3a\"],[0.8888888888888888,\"#fdca26\"],[1.0,\"#f0f921\"]]}],\"mesh3d\":[{\"type\":\"mesh3d\",\"colorbar\":{\"outlinewidth\":0,\"ticks\":\"\"}}],\"scatter\":[{\"fillpattern\":{\"fillmode\":\"overlay\",\"size\":10,\"solidity\":0.2},\"type\":\"scatter\"}],\"parcoords\":[{\"type\":\"parcoords\",\"line\":{\"colorbar\":{\"outlinewidth\":0,\"ticks\":\"\"}}}],\"scatterpolargl\":[{\"type\":\"scatterpolargl\",\"marker\":{\"colorbar\":{\"outlinewidth\":0,\"ticks\":\"\"}}}],\"bar\":[{\"error_x\":{\"color\":\"#2a3f5f\"},\"error_y\":{\"color\":\"#2a3f5f\"},\"marker\":{\"line\":{\"color\":\"#E5ECF6\",\"width\":0.5},\"pattern\":{\"fillmode\":\"overlay\",\"size\":10,\"solidity\":0.2}},\"type\":\"bar\"}],\"scattergeo\":[{\"type\":\"scattergeo\",\"marker\":{\"colorbar\":{\"outlinewidth\":0,\"ticks\":\"\"}}}],\"scatterpolar\":[{\"type\":\"scatterpolar\",\"marker\":{\"colorbar\":{\"outlinewidth\":0,\"ticks\":\"\"}}}],\"histogram\":[{\"marker\":{\"pattern\":{\"fillmode\":\"overlay\",\"size\":10,\"solidity\":0.2}},\"type\":\"histogram\"}],\"scattergl\":[{\"type\":\"scattergl\",\"marker\":{\"colorbar\":{\"outlinewidth\":0,\"ticks\":\"\"}}}],\"scatter3d\":[{\"type\":\"scatter3d\",\"line\":{\"colorbar\":{\"outlinewidth\":0,\"ticks\":\"\"}},\"marker\":{\"colorbar\":{\"outlinewidth\":0,\"ticks\":\"\"}}}],\"scattermapbox\":[{\"type\":\"scattermapbox\",\"marker\":{\"colorbar\":{\"outlinewidth\":0,\"ticks\":\"\"}}}],\"scatterternary\":[{\"type\":\"scatterternary\",\"marker\":{\"colorbar\":{\"outlinewidth\":0,\"ticks\":\"\"}}}],\"scattercarpet\":[{\"type\":\"scattercarpet\",\"marker\":{\"colorbar\":{\"outlinewidth\":0,\"ticks\":\"\"}}}],\"carpet\":[{\"aaxis\":{\"endlinecolor\":\"#2a3f5f\",\"gridcolor\":\"white\",\"linecolor\":\"white\",\"minorgridcolor\":\"white\",\"startlinecolor\":\"#2a3f5f\"},\"baxis\":{\"endlinecolor\":\"#2a3f5f\",\"gridcolor\":\"white\",\"linecolor\":\"white\",\"minorgridcolor\":\"white\",\"startlinecolor\":\"#2a3f5f\"},\"type\":\"carpet\"}],\"table\":[{\"cells\":{\"fill\":{\"color\":\"#EBF0F8\"},\"line\":{\"color\":\"white\"}},\"header\":{\"fill\":{\"color\":\"#C8D4E3\"},\"line\":{\"color\":\"white\"}},\"type\":\"table\"}],\"barpolar\":[{\"marker\":{\"line\":{\"color\":\"#E5ECF6\",\"width\":0.5},\"pattern\":{\"fillmode\":\"overlay\",\"size\":10,\"solidity\":0.2}},\"type\":\"barpolar\"}],\"pie\":[{\"automargin\":true,\"type\":\"pie\"}]},\"layout\":{\"autotypenumbers\":\"strict\",\"colorway\":[\"#636efa\",\"#EF553B\",\"#00cc96\",\"#ab63fa\",\"#FFA15A\",\"#19d3f3\",\"#FF6692\",\"#B6E880\",\"#FF97FF\",\"#FECB52\"],\"font\":{\"color\":\"#2a3f5f\"},\"hovermode\":\"closest\",\"hoverlabel\":{\"align\":\"left\"},\"paper_bgcolor\":\"white\",\"plot_bgcolor\":\"#E5ECF6\",\"polar\":{\"bgcolor\":\"#E5ECF6\",\"angularaxis\":{\"gridcolor\":\"white\",\"linecolor\":\"white\",\"ticks\":\"\"},\"radialaxis\":{\"gridcolor\":\"white\",\"linecolor\":\"white\",\"ticks\":\"\"}},\"ternary\":{\"bgcolor\":\"#E5ECF6\",\"aaxis\":{\"gridcolor\":\"white\",\"linecolor\":\"white\",\"ticks\":\"\"},\"baxis\":{\"gridcolor\":\"white\",\"linecolor\":\"white\",\"ticks\":\"\"},\"caxis\":{\"gridcolor\":\"white\",\"linecolor\":\"white\",\"ticks\":\"\"}},\"coloraxis\":{\"colorbar\":{\"outlinewidth\":0,\"ticks\":\"\"}},\"colorscale\":{\"sequential\":[[0.0,\"#0d0887\"],[0.1111111111111111,\"#46039f\"],[0.2222222222222222,\"#7201a8\"],[0.3333333333333333,\"#9c179e\"],[0.4444444444444444,\"#bd3786\"],[0.5555555555555556,\"#d8576b\"],[0.6666666666666666,\"#ed7953\"],[0.7777777777777778,\"#fb9f3a\"],[0.8888888888888888,\"#fdca26\"],[1.0,\"#f0f921\"]],\"sequentialminus\":[[0.0,\"#0d0887\"],[0.1111111111111111,\"#46039f\"],[0.2222222222222222,\"#7201a8\"],[0.3333333333333333,\"#9c179e\"],[0.4444444444444444,\"#bd3786\"],[0.5555555555555556,\"#d8576b\"],[0.6666666666666666,\"#ed7953\"],[0.7777777777777778,\"#fb9f3a\"],[0.8888888888888888,\"#fdca26\"],[1.0,\"#f0f921\"]],\"diverging\":[[0,\"#8e0152\"],[0.1,\"#c51b7d\"],[0.2,\"#de77ae\"],[0.3,\"#f1b6da\"],[0.4,\"#fde0ef\"],[0.5,\"#f7f7f7\"],[0.6,\"#e6f5d0\"],[0.7,\"#b8e186\"],[0.8,\"#7fbc41\"],[0.9,\"#4d9221\"],[1,\"#276419\"]]},\"xaxis\":{\"gridcolor\":\"white\",\"linecolor\":\"white\",\"ticks\":\"\",\"title\":{\"standoff\":15},\"zerolinecolor\":\"white\",\"automargin\":true,\"zerolinewidth\":2},\"yaxis\":{\"gridcolor\":\"white\",\"linecolor\":\"white\",\"ticks\":\"\",\"title\":{\"standoff\":15},\"zerolinecolor\":\"white\",\"automargin\":true,\"zerolinewidth\":2},\"scene\":{\"xaxis\":{\"backgroundcolor\":\"#E5ECF6\",\"gridcolor\":\"white\",\"linecolor\":\"white\",\"showbackground\":true,\"ticks\":\"\",\"zerolinecolor\":\"white\",\"gridwidth\":2},\"yaxis\":{\"backgroundcolor\":\"#E5ECF6\",\"gridcolor\":\"white\",\"linecolor\":\"white\",\"showbackground\":true,\"ticks\":\"\",\"zerolinecolor\":\"white\",\"gridwidth\":2},\"zaxis\":{\"backgroundcolor\":\"#E5ECF6\",\"gridcolor\":\"white\",\"linecolor\":\"white\",\"showbackground\":true,\"ticks\":\"\",\"zerolinecolor\":\"white\",\"gridwidth\":2}},\"shapedefaults\":{\"line\":{\"color\":\"#2a3f5f\"}},\"annotationdefaults\":{\"arrowcolor\":\"#2a3f5f\",\"arrowhead\":0,\"arrowwidth\":1},\"geo\":{\"bgcolor\":\"white\",\"landcolor\":\"#E5ECF6\",\"subunitcolor\":\"white\",\"showland\":true,\"showlakes\":true,\"lakecolor\":\"white\"},\"title\":{\"x\":0.05},\"mapbox\":{\"style\":\"light\"}}},\"mapbox\":{\"domain\":{\"x\":[0.0,1.0],\"y\":[0.0,1.0]},\"center\":{\"lat\":-0.7900201814814815,\"lon\":36.74603998518519},\"zoom\":5.25,\"style\":\"carto-positron\"},\"legend\":{\"title\":{\"text\":\"County\"},\"tracegroupgap\":0,\"itemsizing\":\"constant\"},\"title\":{\"text\":\"Surveyed Health Facilities in Kenya - color coded by county, sized by number of laboratory staff\"},\"height\":800,\"width\":1200},                        {\"responsive\": true}                    ).then(function(){\n                            \nvar gd = document.getElementById('08d9b2cf-75ec-43d0-a597-5e3a6f8b7158');\nvar x = new MutationObserver(function (mutations, observer) {{\n        var display = window.getComputedStyle(gd).display;\n        if (!display || display === 'none') {{\n            console.log([gd, 'removed!']);\n            Plotly.purge(gd);\n            observer.disconnect();\n        }}\n}});\n\n// Listen for the removal of the full notebook cells\nvar notebookContainer = gd.closest('#notebook-container');\nif (notebookContainer) {{\n    x.observe(notebookContainer, {childList: true});\n}}\n\n// Listen for the clearing of the current output cell\nvar outputEl = gd.closest('.output');\nif (outputEl) {{\n    x.observe(outputEl, {childList: true});\n}}\n\n                        })                };                });            </script>        </div>"
     },
     "metadata": {},
     "output_type": "display_data"
    }
   ],
   "source": [
    "fig = px.scatter_mapbox(amr_df, lat='latitude', lon='longitude',\n",
    "                        color='County',\n",
    "                        size='c1. Total number of laboratory staff',\n",
    "                        hover_name='Name of health facility', \n",
    "                        hover_data=['County', 'Sub county', 'Ward', 'b1. Level of the health facility',\n",
    "                                    'b2. Ownership of health facility'], \n",
    "                        zoom=5.25, width=1200, height=800, title='Surveyed Health Facilities in Kenya - color coded by county, sized by number of laboratory staff',\n",
    "                        labels={'latitude': 'Latitude', 'longitude': 'Longitude'})\n",
    "fig.update_layout(mapbox_style='carto-positron')\n",
    "fig.show() "
   ],
   "metadata": {
    "collapsed": false,
    "ExecuteTime": {
     "end_time": "2024-01-23T13:41:31.276485900Z",
     "start_time": "2024-01-23T13:41:31.029449100Z"
    }
   },
   "id": "9e6c501a40774f19",
   "execution_count": 445
  },
  {
   "cell_type": "code",
   "outputs": [],
   "source": [
    "amr_gdf = amr_df.apply(lambda x: Point(x['longitude'], x['latitude']), axis=1)\n",
    "amr_gdf = gpd.GeoDataFrame(amr_df, geometry=amr_gdf)\n",
    "# geo_cols = ['_GPS coordinates_longitude', '_GPS coordinates_latitude']\n",
    "# amr_gdf = amr_gdf.drop(geo_cols, axis=1)\n",
    "# fig, ax = plt.subplots(figsize=(10, 10))\n",
    "# kenya.plot(ax=ax, color='white', edgecolor='black')\n",
    "# amr_gdf.plot(ax=ax, color='red', markersize=10)"
   ],
   "metadata": {
    "collapsed": false,
    "ExecuteTime": {
     "end_time": "2024-01-23T13:41:31.276485900Z",
     "start_time": "2024-01-23T13:41:31.119211300Z"
    }
   },
   "id": "dabf5974373b7d02",
   "execution_count": 446
  },
  {
   "cell_type": "code",
   "outputs": [],
   "source": [],
   "metadata": {
    "collapsed": false,
    "ExecuteTime": {
     "end_time": "2024-01-23T13:41:31.277990400Z",
     "start_time": "2024-01-23T13:41:31.128280Z"
    }
   },
   "id": "823552324e72fe95",
   "execution_count": 446
  },
  {
   "cell_type": "code",
   "outputs": [],
   "source": [
    "# If the column prefix is repeated several times, drop the first column\n",
    "# Example: 'a1. column_name', 'a2. column_name', 'a3. column_name', drop 'a1. column_name'\n",
    "\n",
    "# \n",
    "# abx_df = drop_repeated_prefix(abx_df)\n",
    "# abx_df.head()"
   ],
   "metadata": {
    "collapsed": false,
    "ExecuteTime": {
     "end_time": "2024-01-23T13:41:31.383155800Z",
     "start_time": "2024-01-23T13:41:31.201427100Z"
    }
   },
   "id": "7f470ae72ef59de0",
   "execution_count": 447
  },
  {
   "cell_type": "code",
   "outputs": [
    {
     "name": "stdout",
     "output_type": "stream",
     "text": [
      "d2. Does the lab perform the following cultures/Blood Blood\n",
      "-----------------------------------------------------\n",
      "[nan 'Blood']\n",
      "d2. Does the lab perform the following cultures/Urine Urine\n",
      "-----------------------------------------------------\n",
      "[nan 'Urine']\n",
      "d2. Does the lab perform the following cultures/Stool Stool\n",
      "-----------------------------------------------------\n",
      "[nan 'Stool']\n",
      "d2. Does the lab perform the following cultures/Respiratory Respiratory\n",
      "-----------------------------------------------------------\n",
      "[nan]\n",
      "d2. Does the lab perform the following cultures/TB TB\n",
      "--------------------------------------------------\n",
      "[nan]\n",
      "d8. Does the lab conduct manual or automated blood cultures?/Yes Yes\n",
      "----------------------------------------------------------------\n",
      "[nan]\n",
      "d8. Does the lab conduct manual or automated blood cultures?/No No\n",
      "---------------------------------------------------------------\n",
      "[nan]\n",
      "d8. Does the lab conduct manual or automated blood cultures?/Automated Automated\n",
      "----------------------------------------------------------------------\n",
      "[nan 'Automated']\n",
      "d8. Does the lab conduct manual or automated blood cultures?/Manual Manual\n",
      "-------------------------------------------------------------------\n",
      "[nan 'Manual']\n",
      "d9. What blood culture machine is available?/Bactec Bactec\n",
      "---------------------------------------------------\n",
      "[nan 'Bactec']\n",
      "d9. What blood culture machine is available?/BacT/ALERT ALERT\n",
      "-------------------------------------------------------\n",
      "[nan 'ALERT']\n",
      "d42 What automated AST methods are in use?/Vitek Vitek\n",
      "------------------------------------------------\n",
      "[nan 'Vitek']\n",
      "d42 What automated AST methods are in use?/Phoenix Phoenix\n",
      "--------------------------------------------------\n",
      "[nan 'Phoenix']\n",
      "d42 What automated AST methods are in use?/Microscan Microscan\n",
      "----------------------------------------------------\n",
      "[nan]\n",
      "d42 What automated AST methods are in use?/SIRScan SIRScan\n",
      "--------------------------------------------------\n",
      "[nan]\n",
      "d42 What automated AST methods are in use?/BIOMIC BIOMIC\n",
      "-------------------------------------------------\n",
      "[nan 'BIOMIC']\n",
      "d80 Who collects samples for  blood culture test?/Clinician Clinician\n",
      "-----------------------------------------------------------\n",
      "[nan 'Clinician']\n",
      "d80 Who collects samples for  blood culture test?/Phlebotomist Phlebotomist\n",
      "--------------------------------------------------------------\n",
      "[nan 'Phlebotomist']\n",
      "d80 Who collects samples for  blood culture test?/Others Others\n",
      "--------------------------------------------------------\n",
      "[nan]\n",
      "e2. Who is responsible for entering the data in the selected option above?/Microbiology students/interns interns\n",
      "--------------------------------------------------------------------------------------------------------\n",
      "[nan]\n",
      "e2. Who is responsible for entering the data in the selected option above?/IT students/interns interns\n",
      "----------------------------------------------------------------------------------------------\n",
      "[nan]\n",
      "f1. How does the patient pay for culture and sensitivity testing?/Free Free\n",
      "----------------------------------------------------------------------\n",
      "[nan 'Free']\n",
      "h1. Has the laboratory been enrolled to any of the following mentorship programmes/None None\n",
      "---------------------------------------------------------------------------------------\n",
      "['None' nan]\n",
      "h1. Has the laboratory been enrolled to any of the following mentorship programmes/Other Other\n",
      "----------------------------------------------------------------------------------------\n",
      "[nan]\n",
      "i2 Which of the following cultures are covered by the accreditation certificate/other other\n",
      "-------------------------------------------------------------------------------------\n",
      "[nan 'other']\n",
      "T1. Does the lab perform the following cultures/Blood Blood\n",
      "-----------------------------------------------------\n",
      "[nan]\n",
      "T1. Does the lab perform the following cultures/Urine Urine\n",
      "-----------------------------------------------------\n",
      "[nan]\n",
      "T1. Does the lab perform the following cultures/Stool Stool\n",
      "-----------------------------------------------------\n",
      "[nan]\n",
      "T1. Does the lab perform the following cultures/Respiratory Respiratory\n",
      "-----------------------------------------------------------\n",
      "[nan]\n",
      "T1a. Does the lab conduct manual or automated ${C1} cultures?/Automated Automated\n",
      "-----------------------------------------------------------------------\n",
      "[nan]\n",
      "T1a. Does the lab conduct manual or automated ${C1} cultures?/Manual Manual\n",
      "--------------------------------------------------------------------\n",
      "[nan]\n",
      "d9. Does the lab conduct manual or automated ${C1} cultures?/Automated Automated\n",
      "----------------------------------------------------------------------\n",
      "[nan]\n",
      "d9. Does the lab conduct manual or automated ${C1} cultures?/Manual Manual\n",
      "-------------------------------------------------------------------\n",
      "[nan]\n",
      "T1b. What ${C1} culture machine is available?/Bactec Bactec\n",
      "----------------------------------------------------\n",
      "[nan]\n",
      "T1b. What ${C1} culture machine is available?/BacT/ALERT ALERT\n",
      "--------------------------------------------------------\n",
      "[nan]\n",
      "d10. What ${C1} culture machine is available?/Bactec Bactec\n",
      "----------------------------------------------------\n",
      "[nan]\n",
      "d10. What ${C1} culture machine is available?/BacT/ALERT ALERT\n",
      "--------------------------------------------------------\n",
      "[nan]\n",
      "T1c.2 What challenges do you experience with the use of the blood culture machine?/Breakdown Breakdown\n",
      "--------------------------------------------------------------------------------------------\n",
      "[nan]\n",
      "T1c.2 What challenges do you experience with the use of the blood culture machine?/None None\n",
      "---------------------------------------------------------------------------------------\n",
      "[nan]\n",
      "T3d. What automated AST methods are in use?/Vitek Vitek\n",
      "-------------------------------------------------\n",
      "[nan]\n",
      "T3d. What automated AST methods are in use?/Phoenix Phoenix\n",
      "---------------------------------------------------\n",
      "[nan]\n",
      "T3d. What automated AST methods are in use?/Microscan Microscan\n",
      "-----------------------------------------------------\n",
      "[nan]\n",
      "T3d. What automated AST methods are in use?/SIRScan SIRScan\n",
      "---------------------------------------------------\n",
      "[nan]\n",
      "T3d. What automated AST methods are in use?/BIOMIC BIOMIC\n",
      "--------------------------------------------------\n",
      "[nan]\n",
      "T3d. What automated AST methods are in use?/N/A A\n",
      "-----------------------------------------------\n",
      "[nan]\n",
      "T3d. What automated AST methods are in use?/Other Other\n",
      "-------------------------------------------------\n",
      "[nan]\n",
      "T8. Who collects samples for  blood culture test?/Clinician Clinician\n",
      "-----------------------------------------------------------\n",
      "[nan]\n",
      "T8. Who collects samples for  blood culture test?/Phlebotomist Phlebotomist\n",
      "--------------------------------------------------------------\n",
      "[nan]\n",
      "T8. Who collects samples for  blood culture test?/Others Others\n",
      "--------------------------------------------------------\n",
      "[nan]\n",
      "D2. Who is responsible for entering the data in the selected option above?/Microbiology students/interns interns\n",
      "--------------------------------------------------------------------------------------------------------\n",
      "[nan]\n",
      "D2. Who is responsible for entering the data in the selected option above?/IT students/interns interns\n",
      "----------------------------------------------------------------------------------------------\n",
      "[nan]\n",
      "C2. How does the patient pay for culture and sensitivity testing?/Free Free\n",
      "----------------------------------------------------------------------\n",
      "[nan]\n",
      "Q1. Has the laboratory been enrolled to/None None\n",
      "--------------------------------------------\n",
      "[nan]\n",
      "Q1. Has the laboratory been enrolled to/Other Other\n",
      "---------------------------------------------\n",
      "[nan]\n"
     ]
    },
    {
     "data": {
      "text/plain": "                    start                     end  \\\n0 2023-09-19 09:38:40.129 2023-09-19 12:10:07.529   \n1 2023-09-20 09:14:18.598 2023-09-20 11:26:12.117   \n2 2023-09-20 10:28:13.467 2023-09-20 15:14:25.455   \n3 2023-09-20 10:53:46.163 2023-09-20 16:28:45.251   \n4 2023-09-21 08:15:34.204 2023-09-21 09:40:45.038   \n\n   The Ministry of Health, in collaboration with JKUAT, FIND, the global alliance for diagnostics, and GARDP is carrying out an activity to assess AMR diagnostic capacity, antibiotic use and existing antimicrobial stewardship practices in preparation for the introduction of cefiderocol (and other antibiotics) and new low blood culture and molecular Point of care testing (POCT) platforms in Kenya. The activity is taking place at selected levels 4,5 and 6 of health facilities in Isiolo, Laikipia, Vihiga, Nyeri, Nairobi, Kirinyaga, Kericho, Kajiado, Nandi and Kilifi counties. \\nPlease complete this questionnaire for the facilities that you are reporting on, and where indicated, provide additional details on your selected responses.  \\n\\nFindings will be published by MoH, Isiolo, Laikipia, Vihiga, Nyeri, Nairobi, Kirinyaga, Kericho, Kajiado, Nandi and Kilifi Counties, as well as JKUAT, FIND and GARDP.  \\\n0                                                NaN                                                                                                                                                                                                                                                                                                                                                                                                                                                                                                                                                                                                                                                                                                                                                                                                                                                                                             \n1                                                NaN                                                                                                                                                                                                                                                                                                                                                                                                                                                                                                                                                                                                                                                                                                                                                                                                                                                                                             \n2                                                NaN                                                                                                                                                                                                                                                                                                                                                                                                                                                                                                                                                                                                                                                                                                                                                                                                                                                                                             \n3                                                NaN                                                                                                                                                                                                                                                                                                                                                                                                                                                                                                                                                                                                                                                                                                                                                                                                                                                                                             \n4                                                NaN                                                                                                                                                                                                                                                                                                                                                                                                                                                                                                                                                                                                                                                                                                                                                                                                                                                                                             \n\n    County Sub county        Ward              Name of health facility  \\\n0   Isiolo     Isiolo      Wabera  Isiolo County and Referral Hospital   \n1   Isiolo     Isiolo  Bulla Pesa                 Anka Hospital Isiolo   \n2  Nairobi    Ruaraka   Korogocho         Mama Margaret Uhuru Hospital   \n3    Nandi     Emgwen    Kapsabet    Kapsabet County Referral Hospital   \n4   Isiolo     Isiolo  Bulla Pesa         MaterCare Maternity Hospital   \n\n   Facility code        Assessor name  \\\n0          12094  GEORGE MUCHIRI NJAU   \n1          29530  GEORGE MUCHIRI NJAU   \n2          28885      Peter Kinyanjui   \n3          14749       Mmboyi Onesmus   \n4          19912  GEORGE MUCHIRI NJAU   \n\n                                GPS coordinates  ...  _notes  \\\n0            0.3647273 37.5896959 1081.5 25.136  ...     NaN   \n1  0.3498341 37.5820279 1093.7000732421875 15.5  ...     NaN   \n2  -1.2513671 36.8864047 1584.300048828125 20.0  ...     NaN   \n3      0.2021363 35.10287 1985.300048828125 5.0  ...     NaN   \n4             0.3274352 37.5638683 1190.0 4.957  ...     NaN   \n\n             _status  _submitted_by             __version__ _tags _index  \\\n0  submitted_via_web        amr_abx  vDeNhdSRZ7scoW8UrHD6hm   NaN      1   \n1  submitted_via_web        amr_abx  v7dgbgEbVY8RrodPdYpYiU   NaN      2   \n2  submitted_via_web        amr_abx  v7dgbgEbVY8RrodPdYpYiU   NaN      3   \n3  submitted_via_web        amr_abx  v7dgbgEbVY8RrodPdYpYiU   NaN      4   \n4  submitted_via_web        amr_abx  v7dgbgEbVY8RrodPdYpYiU   NaN      5   \n\n  Unnamed: 375  Unnamed: 376 Unnamed: 377  Unnamed: 378  \n0          NaN           NaN          NaN           NaN  \n1          1.0           0.0          1.0           0.0  \n2          0.0           0.0          0.0           1.0  \n3          NaN           NaN          NaN           NaN  \n4          NaN           NaN          NaN           NaN  \n\n[5 rows x 359 columns]",
      "text/html": "<div>\n<style scoped>\n    .dataframe tbody tr th:only-of-type {\n        vertical-align: middle;\n    }\n\n    .dataframe tbody tr th {\n        vertical-align: top;\n    }\n\n    .dataframe thead th {\n        text-align: right;\n    }\n</style>\n<table border=\"1\" class=\"dataframe\">\n  <thead>\n    <tr style=\"text-align: right;\">\n      <th></th>\n      <th>start</th>\n      <th>end</th>\n      <th>The Ministry of Health, in collaboration with JKUAT, FIND, the global alliance for diagnostics, and GARDP is carrying out an activity to assess AMR diagnostic capacity, antibiotic use and existing antimicrobial stewardship practices in preparation for the introduction of cefiderocol (and other antibiotics) and new low blood culture and molecular Point of care testing (POCT) platforms in Kenya. The activity is taking place at selected levels 4,5 and 6 of health facilities in Isiolo, Laikipia, Vihiga, Nyeri, Nairobi, Kirinyaga, Kericho, Kajiado, Nandi and Kilifi counties. \\nPlease complete this questionnaire for the facilities that you are reporting on, and where indicated, provide additional details on your selected responses.  \\n\\nFindings will be published by MoH, Isiolo, Laikipia, Vihiga, Nyeri, Nairobi, Kirinyaga, Kericho, Kajiado, Nandi and Kilifi Counties, as well as JKUAT, FIND and GARDP.</th>\n      <th>County</th>\n      <th>Sub county</th>\n      <th>Ward</th>\n      <th>Name of health facility</th>\n      <th>Facility code</th>\n      <th>Assessor name</th>\n      <th>GPS coordinates</th>\n      <th>...</th>\n      <th>_notes</th>\n      <th>_status</th>\n      <th>_submitted_by</th>\n      <th>__version__</th>\n      <th>_tags</th>\n      <th>_index</th>\n      <th>Unnamed: 375</th>\n      <th>Unnamed: 376</th>\n      <th>Unnamed: 377</th>\n      <th>Unnamed: 378</th>\n    </tr>\n  </thead>\n  <tbody>\n    <tr>\n      <th>0</th>\n      <td>2023-09-19 09:38:40.129</td>\n      <td>2023-09-19 12:10:07.529</td>\n      <td>NaN</td>\n      <td>Isiolo</td>\n      <td>Isiolo</td>\n      <td>Wabera</td>\n      <td>Isiolo County and Referral Hospital</td>\n      <td>12094</td>\n      <td>GEORGE MUCHIRI NJAU</td>\n      <td>0.3647273 37.5896959 1081.5 25.136</td>\n      <td>...</td>\n      <td>NaN</td>\n      <td>submitted_via_web</td>\n      <td>amr_abx</td>\n      <td>vDeNhdSRZ7scoW8UrHD6hm</td>\n      <td>NaN</td>\n      <td>1</td>\n      <td>NaN</td>\n      <td>NaN</td>\n      <td>NaN</td>\n      <td>NaN</td>\n    </tr>\n    <tr>\n      <th>1</th>\n      <td>2023-09-20 09:14:18.598</td>\n      <td>2023-09-20 11:26:12.117</td>\n      <td>NaN</td>\n      <td>Isiolo</td>\n      <td>Isiolo</td>\n      <td>Bulla Pesa</td>\n      <td>Anka Hospital Isiolo</td>\n      <td>29530</td>\n      <td>GEORGE MUCHIRI NJAU</td>\n      <td>0.3498341 37.5820279 1093.7000732421875 15.5</td>\n      <td>...</td>\n      <td>NaN</td>\n      <td>submitted_via_web</td>\n      <td>amr_abx</td>\n      <td>v7dgbgEbVY8RrodPdYpYiU</td>\n      <td>NaN</td>\n      <td>2</td>\n      <td>1.0</td>\n      <td>0.0</td>\n      <td>1.0</td>\n      <td>0.0</td>\n    </tr>\n    <tr>\n      <th>2</th>\n      <td>2023-09-20 10:28:13.467</td>\n      <td>2023-09-20 15:14:25.455</td>\n      <td>NaN</td>\n      <td>Nairobi</td>\n      <td>Ruaraka</td>\n      <td>Korogocho</td>\n      <td>Mama Margaret Uhuru Hospital</td>\n      <td>28885</td>\n      <td>Peter Kinyanjui</td>\n      <td>-1.2513671 36.8864047 1584.300048828125 20.0</td>\n      <td>...</td>\n      <td>NaN</td>\n      <td>submitted_via_web</td>\n      <td>amr_abx</td>\n      <td>v7dgbgEbVY8RrodPdYpYiU</td>\n      <td>NaN</td>\n      <td>3</td>\n      <td>0.0</td>\n      <td>0.0</td>\n      <td>0.0</td>\n      <td>1.0</td>\n    </tr>\n    <tr>\n      <th>3</th>\n      <td>2023-09-20 10:53:46.163</td>\n      <td>2023-09-20 16:28:45.251</td>\n      <td>NaN</td>\n      <td>Nandi</td>\n      <td>Emgwen</td>\n      <td>Kapsabet</td>\n      <td>Kapsabet County Referral Hospital</td>\n      <td>14749</td>\n      <td>Mmboyi Onesmus</td>\n      <td>0.2021363 35.10287 1985.300048828125 5.0</td>\n      <td>...</td>\n      <td>NaN</td>\n      <td>submitted_via_web</td>\n      <td>amr_abx</td>\n      <td>v7dgbgEbVY8RrodPdYpYiU</td>\n      <td>NaN</td>\n      <td>4</td>\n      <td>NaN</td>\n      <td>NaN</td>\n      <td>NaN</td>\n      <td>NaN</td>\n    </tr>\n    <tr>\n      <th>4</th>\n      <td>2023-09-21 08:15:34.204</td>\n      <td>2023-09-21 09:40:45.038</td>\n      <td>NaN</td>\n      <td>Isiolo</td>\n      <td>Isiolo</td>\n      <td>Bulla Pesa</td>\n      <td>MaterCare Maternity Hospital</td>\n      <td>19912</td>\n      <td>GEORGE MUCHIRI NJAU</td>\n      <td>0.3274352 37.5638683 1190.0 4.957</td>\n      <td>...</td>\n      <td>NaN</td>\n      <td>submitted_via_web</td>\n      <td>amr_abx</td>\n      <td>v7dgbgEbVY8RrodPdYpYiU</td>\n      <td>NaN</td>\n      <td>5</td>\n      <td>NaN</td>\n      <td>NaN</td>\n      <td>NaN</td>\n      <td>NaN</td>\n    </tr>\n  </tbody>\n</table>\n<p>5 rows × 359 columns</p>\n</div>"
     },
     "execution_count": 448,
     "metadata": {},
     "output_type": "execute_result"
    }
   ],
   "source": [
    "# If a column name ends with /string, replace the '1' values with the string and the 0 values with NaN\n",
    "for col in amr_df.columns:\n",
    "    \n",
    "    # Use regex to find the columns that end with /string\n",
    "    if re.search(r'\\/\\w+$', col):\n",
    "        \n",
    "        # Replace the '1' values with the string and the 0 values with NaN\n",
    "        amr_df[col] = amr_df[col].replace({1: col.split('/')[-1], 0: np.nan})\n",
    "        \n",
    "        # Drop the column without the suffix\n",
    "        drop_col = col.split('/')[0]\n",
    "        \n",
    "        if drop_col in amr_df.columns:\n",
    "            amr_df.drop(drop_col, axis=1, inplace=True)\n",
    "        \n",
    "        print(col, col.split('/')[-1])\n",
    "        print('-' * len(col))\n",
    "        print(amr_df[col].unique())\n",
    "        \n",
    "amr_df.head()"
   ],
   "metadata": {
    "collapsed": false,
    "ExecuteTime": {
     "end_time": "2024-01-23T13:41:31.927404500Z",
     "start_time": "2024-01-23T13:41:31.386146500Z"
    }
   },
   "id": "2bed9e8b5c08037f",
   "execution_count": 448
  },
  {
   "cell_type": "code",
   "outputs": [
    {
     "name": "stdout",
     "output_type": "stream",
     "text": [
      "['5g.4 ', 'b5 ', 'f7 ', '7_j3. ', 'b20 ', 'd11 ', 'n3 ', '5d.4 ', 'b12 ', 'b19 ', 'd20 ', '5d.3 ', 'd25 ', '5f.4 ', 'e9 ', '7b.4 ', 'c6 ', 'c7 ', 'd12 ', 'b15 ', 'c5 ', '6c.5 ', 'b18 ', 'd15 ', '5e.3 '] 25\n"
     ]
    }
   ],
   "source": [
    "prefixes = [col.split(' ', 1)[0] + ' ' for col in abx_df.columns if col.count('/') > 0]\n",
    "\n",
    "# Count the number of times each prefix appears\n",
    "prefix_counts = {prefix: prefixes.count(prefix) for prefix in prefixes}\n",
    "\n",
    "# If prefix appears once, remove it from the list\n",
    "prefixes = [prefix for prefix in prefixes if prefix_counts[prefix] > 1]\n",
    "\n",
    "# If prefix does not contain a number, remove it from the list\n",
    "prefixes = [prefix for prefix in prefixes if re.search(r'\\d', prefix)]\n",
    "\n",
    "# Remove duplicates from prefixes\n",
    "prefixes = list(set(prefixes))\n",
    "\n",
    "print(prefixes, len(prefixes))"
   ],
   "metadata": {
    "collapsed": false,
    "ExecuteTime": {
     "end_time": "2024-01-23T13:41:31.982325600Z",
     "start_time": "2024-01-23T13:41:31.870398600Z"
    }
   },
   "id": "cf4c354cba32cf1a",
   "execution_count": 449
  },
  {
   "cell_type": "code",
   "outputs": [
    {
     "name": "stdout",
     "output_type": "stream",
     "text": [
      "{'b5 What guides clinicians to request for a bacteriology test?/Patient clinical signs': 'b5 What guides clinicians to request for a bacteriology test?', 'b5 What guides clinicians to request for a bacteriology test?/Guidelines': 'b5 What guides clinicians to request for a bacteriology test?', 'b5 What guides clinicians to request for a bacteriology test?/Research driven': 'b5 What guides clinicians to request for a bacteriology test?', 'b5 What guides clinicians to request for a bacteriology test?/other': 'b5 What guides clinicians to request for a bacteriology test?', 'b12 Where is the antibiogram available/Clinic (Consultation room)': 'b12 Where is the antibiogram available', 'b12 Where is the antibiogram available/Hospital ward': 'b12 Where is the antibiogram available', 'b12 Where is the antibiogram available/Hospital Pharmacy': 'b12 Where is the antibiogram available', 'b12 Where is the antibiogram available/Available Online': 'b12 Where is the antibiogram available', 'b12 Where is the antibiogram available/other': 'b12 Where is the antibiogram available', 'b15 Who are issued with an antibiogram during orientation?/Nurses': 'b15 Who are issued with an antibiogram during orientation?', 'b15 Who are issued with an antibiogram during orientation?/Medical Officers': 'b15 Who are issued with an antibiogram during orientation?', 'b15 Who are issued with an antibiogram during orientation?/Clinical Officers': 'b15 Who are issued with an antibiogram during orientation?', 'b15 Who are issued with an antibiogram during orientation?/Pharmacists': 'b15 Who are issued with an antibiogram during orientation?', 'b15 Who are issued with an antibiogram during orientation?/Consultants': 'b15 Who are issued with an antibiogram during orientation?', 'b15 Who are issued with an antibiogram during orientation?/Interns': 'b15 Who are issued with an antibiogram during orientation?', 'b15 Who are issued with an antibiogram during orientation?/Lab Personnel': 'b15 Who are issued with an antibiogram during orientation?', 'b18 Select the antibiotics available at the health facility pharmacy from the Access group antibiotics listed/Amikacin': 'b18 Select the antibiotics available at the health facility pharmacy from the Access group antibiotics listed', 'b18 Select the antibiotics available at the health facility pharmacy from the Access group antibiotics listed/Amoxicillin': 'b18 Select the antibiotics available at the health facility pharmacy from the Access group antibiotics listed', 'b18 Select the antibiotics available at the health facility pharmacy from the Access group antibiotics listed/Amoxicillin/clavulanic-acid': 'b18 Select the antibiotics available at the health facility pharmacy from the Access group antibiotics listed', 'b18 Select the antibiotics available at the health facility pharmacy from the Access group antibiotics listed/Ampicillin': 'b18 Select the antibiotics available at the health facility pharmacy from the Access group antibiotics listed', 'b18 Select the antibiotics available at the health facility pharmacy from the Access group antibiotics listed/Ampicillin/sulbactam': 'b18 Select the antibiotics available at the health facility pharmacy from the Access group antibiotics listed', 'b18 Select the antibiotics available at the health facility pharmacy from the Access group antibiotics listed/Azidocillin': 'b18 Select the antibiotics available at the health facility pharmacy from the Access group antibiotics listed', 'b18 Select the antibiotics available at the health facility pharmacy from the Access group antibiotics listed/Bacampicillin': 'b18 Select the antibiotics available at the health facility pharmacy from the Access group antibiotics listed', 'b18 Select the antibiotics available at the health facility pharmacy from the Access group antibiotics listed/Benzathine-benzylpenicillin': 'b18 Select the antibiotics available at the health facility pharmacy from the Access group antibiotics listed', 'b18 Select the antibiotics available at the health facility pharmacy from the Access group antibiotics listed/Benzylpenicillin': 'b18 Select the antibiotics available at the health facility pharmacy from the Access group antibiotics listed', 'b18 Select the antibiotics available at the health facility pharmacy from the Access group antibiotics listed/Brodimoprim': 'b18 Select the antibiotics available at the health facility pharmacy from the Access group antibiotics listed', 'b18 Select the antibiotics available at the health facility pharmacy from the Access group antibiotics listed/Cefacetrile': 'b18 Select the antibiotics available at the health facility pharmacy from the Access group antibiotics listed', 'b18 Select the antibiotics available at the health facility pharmacy from the Access group antibiotics listed/Cefadroxil': 'b18 Select the antibiotics available at the health facility pharmacy from the Access group antibiotics listed', 'b18 Select the antibiotics available at the health facility pharmacy from the Access group antibiotics listed/Cefalexin': 'b18 Select the antibiotics available at the health facility pharmacy from the Access group antibiotics listed', 'b18 Select the antibiotics available at the health facility pharmacy from the Access group antibiotics listed/Cefaloridine': 'b18 Select the antibiotics available at the health facility pharmacy from the Access group antibiotics listed', 'b18 Select the antibiotics available at the health facility pharmacy from the Access group antibiotics listed/Cefalotin': 'b18 Select the antibiotics available at the health facility pharmacy from the Access group antibiotics listed', 'b18 Select the antibiotics available at the health facility pharmacy from the Access group antibiotics listed/Cefapirin': 'b18 Select the antibiotics available at the health facility pharmacy from the Access group antibiotics listed', 'b18 Select the antibiotics available at the health facility pharmacy from the Access group antibiotics listed/Cefatrizine': 'b18 Select the antibiotics available at the health facility pharmacy from the Access group antibiotics listed', 'b18 Select the antibiotics available at the health facility pharmacy from the Access group antibiotics listed/Cefazedone': 'b18 Select the antibiotics available at the health facility pharmacy from the Access group antibiotics listed', 'b18 Select the antibiotics available at the health facility pharmacy from the Access group antibiotics listed/Cefazolin': 'b18 Select the antibiotics available at the health facility pharmacy from the Access group antibiotics listed', 'b18 Select the antibiotics available at the health facility pharmacy from the Access group antibiotics listed/Cefradine': 'b18 Select the antibiotics available at the health facility pharmacy from the Access group antibiotics listed', 'b18 Select the antibiotics available at the health facility pharmacy from the Access group antibiotics listed/Cefroxadine': 'b18 Select the antibiotics available at the health facility pharmacy from the Access group antibiotics listed', 'b18 Select the antibiotics available at the health facility pharmacy from the Access group antibiotics listed/Ceftezole': 'b18 Select the antibiotics available at the health facility pharmacy from the Access group antibiotics listed', 'b18 Select the antibiotics available at the health facility pharmacy from the Access group antibiotics listed/Chloramphenicol': 'b18 Select the antibiotics available at the health facility pharmacy from the Access group antibiotics listed', 'b18 Select the antibiotics available at the health facility pharmacy from the Access group antibiotics listed/Clindamycin': 'b18 Select the antibiotics available at the health facility pharmacy from the Access group antibiotics listed', 'b18 Select the antibiotics available at the health facility pharmacy from the Access group antibiotics listed/Clometocillin': 'b18 Select the antibiotics available at the health facility pharmacy from the Access group antibiotics listed', 'b18 Select the antibiotics available at the health facility pharmacy from the Access group antibiotics listed/Cloxacillin': 'b18 Select the antibiotics available at the health facility pharmacy from the Access group antibiotics listed', 'b18 Select the antibiotics available at the health facility pharmacy from the Access group antibiotics listed/Dicloxacillin': 'b18 Select the antibiotics available at the health facility pharmacy from the Access group antibiotics listed', 'b18 Select the antibiotics available at the health facility pharmacy from the Access group antibiotics listed/Doxycycline': 'b18 Select the antibiotics available at the health facility pharmacy from the Access group antibiotics listed', 'b18 Select the antibiotics available at the health facility pharmacy from the Access group antibiotics listed/Epicillin': 'b18 Select the antibiotics available at the health facility pharmacy from the Access group antibiotics listed', 'b18 Select the antibiotics available at the health facility pharmacy from the Access group antibiotics listed/Flucloxacillin': 'b18 Select the antibiotics available at the health facility pharmacy from the Access group antibiotics listed', 'b18 Select the antibiotics available at the health facility pharmacy from the Access group antibiotics listed/Furazidin': 'b18 Select the antibiotics available at the health facility pharmacy from the Access group antibiotics listed', 'b18 Select the antibiotics available at the health facility pharmacy from the Access group antibiotics listed/Gentamicin': 'b18 Select the antibiotics available at the health facility pharmacy from the Access group antibiotics listed', 'b18 Select the antibiotics available at the health facility pharmacy from the Access group antibiotics listed/Hetacillin': 'b18 Select the antibiotics available at the health facility pharmacy from the Access group antibiotics listed', 'b18 Select the antibiotics available at the health facility pharmacy from the Access group antibiotics listed/Mecillinam': 'b18 Select the antibiotics available at the health facility pharmacy from the Access group antibiotics listed', 'b18 Select the antibiotics available at the health facility pharmacy from the Access group antibiotics listed/Metampicillin': 'b18 Select the antibiotics available at the health facility pharmacy from the Access group antibiotics listed', 'b18 Select the antibiotics available at the health facility pharmacy from the Access group antibiotics listed/Meticillin': 'b18 Select the antibiotics available at the health facility pharmacy from the Access group antibiotics listed', 'b18 Select the antibiotics available at the health facility pharmacy from the Access group antibiotics listed/Metronidazole_IV': 'b18 Select the antibiotics available at the health facility pharmacy from the Access group antibiotics listed', 'b18 Select the antibiotics available at the health facility pharmacy from the Access group antibiotics listed/Metronidazole_oral': 'b18 Select the antibiotics available at the health facility pharmacy from the Access group antibiotics listed', 'b18 Select the antibiotics available at the health facility pharmacy from the Access group antibiotics listed/Nafcillin': 'b18 Select the antibiotics available at the health facility pharmacy from the Access group antibiotics listed', 'b18 Select the antibiotics available at the health facility pharmacy from the Access group antibiotics listed/Nifurtoinol': 'b18 Select the antibiotics available at the health facility pharmacy from the Access group antibiotics listed', 'b18 Select the antibiotics available at the health facility pharmacy from the Access group antibiotics listed/Nitrofurantoin': 'b18 Select the antibiotics available at the health facility pharmacy from the Access group antibiotics listed', 'b18 Select the antibiotics available at the health facility pharmacy from the Access group antibiotics listed/Ornidazole_IV': 'b18 Select the antibiotics available at the health facility pharmacy from the Access group antibiotics listed', 'b18 Select the antibiotics available at the health facility pharmacy from the Access group antibiotics listed/Ornidazole_oral': 'b18 Select the antibiotics available at the health facility pharmacy from the Access group antibiotics listed', 'b18 Select the antibiotics available at the health facility pharmacy from the Access group antibiotics listed/Oxacillin': 'b18 Select the antibiotics available at the health facility pharmacy from the Access group antibiotics listed', 'b18 Select the antibiotics available at the health facility pharmacy from the Access group antibiotics listed/Penamecillin': 'b18 Select the antibiotics available at the health facility pharmacy from the Access group antibiotics listed', 'b18 Select the antibiotics available at the health facility pharmacy from the Access group antibiotics listed/Phenoxymethylpenicillin': 'b18 Select the antibiotics available at the health facility pharmacy from the Access group antibiotics listed', 'b18 Select the antibiotics available at the health facility pharmacy from the Access group antibiotics listed/Pivampicillin': 'b18 Select the antibiotics available at the health facility pharmacy from the Access group antibiotics listed', 'b18 Select the antibiotics available at the health facility pharmacy from the Access group antibiotics listed/Pivmecillinam': 'b18 Select the antibiotics available at the health facility pharmacy from the Access group antibiotics listed', 'b18 Select the antibiotics available at the health facility pharmacy from the Access group antibiotics listed/Procaine-benzylpenicillin': 'b18 Select the antibiotics available at the health facility pharmacy from the Access group antibiotics listed', 'b18 Select the antibiotics available at the health facility pharmacy from the Access group antibiotics listed/Propicillin': 'b18 Select the antibiotics available at the health facility pharmacy from the Access group antibiotics listed', 'b18 Select the antibiotics available at the health facility pharmacy from the Access group antibiotics listed/Secnidazole': 'b18 Select the antibiotics available at the health facility pharmacy from the Access group antibiotics listed', 'b18 Select the antibiotics available at the health facility pharmacy from the Access group antibiotics listed/Spectinomycin': 'b18 Select the antibiotics available at the health facility pharmacy from the Access group antibiotics listed', 'b18 Select the antibiotics available at the health facility pharmacy from the Access group antibiotics listed/Sulbactam': 'b18 Select the antibiotics available at the health facility pharmacy from the Access group antibiotics listed', 'b18 Select the antibiotics available at the health facility pharmacy from the Access group antibiotics listed/Sulfadiazine': 'b18 Select the antibiotics available at the health facility pharmacy from the Access group antibiotics listed', 'b18 Select the antibiotics available at the health facility pharmacy from the Access group antibiotics listed/Sulfadiazine/tetroxoprim': 'b18 Select the antibiotics available at the health facility pharmacy from the Access group antibiotics listed', 'b18 Select the antibiotics available at the health facility pharmacy from the Access group antibiotics listed/Sulfadiazine/trimethoprim': 'b18 Select the antibiotics available at the health facility pharmacy from the Access group antibiotics listed', 'b18 Select the antibiotics available at the health facility pharmacy from the Access group antibiotics listed/Sulfadimethoxine': 'b18 Select the antibiotics available at the health facility pharmacy from the Access group antibiotics listed', 'b18 Select the antibiotics available at the health facility pharmacy from the Access group antibiotics listed/Sulfadimidine': 'b18 Select the antibiotics available at the health facility pharmacy from the Access group antibiotics listed', 'b18 Select the antibiotics available at the health facility pharmacy from the Access group antibiotics listed/Sulfadimidine/trimethoprim': 'b18 Select the antibiotics available at the health facility pharmacy from the Access group antibiotics listed', 'b18 Select the antibiotics available at the health facility pharmacy from the Access group antibiotics listed/Sulfafurazole': 'b18 Select the antibiotics available at the health facility pharmacy from the Access group antibiotics listed', 'b18 Select the antibiotics available at the health facility pharmacy from the Access group antibiotics listed/Sulfaisodimidine': 'b18 Select the antibiotics available at the health facility pharmacy from the Access group antibiotics listed', 'b18 Select the antibiotics available at the health facility pharmacy from the Access group antibiotics listed/Sulfalene': 'b18 Select the antibiotics available at the health facility pharmacy from the Access group antibiotics listed', 'b18 Select the antibiotics available at the health facility pharmacy from the Access group antibiotics listed/Sulfamazone': 'b18 Select the antibiotics available at the health facility pharmacy from the Access group antibiotics listed', 'b18 Select the antibiotics available at the health facility pharmacy from the Access group antibiotics listed/Sulfamerazine': 'b18 Select the antibiotics available at the health facility pharmacy from the Access group antibiotics listed', 'b18 Select the antibiotics available at the health facility pharmacy from the Access group antibiotics listed/Sulfamerazine/trimethoprim': 'b18 Select the antibiotics available at the health facility pharmacy from the Access group antibiotics listed', 'b18 Select the antibiotics available at the health facility pharmacy from the Access group antibiotics listed/Sulfamethizole': 'b18 Select the antibiotics available at the health facility pharmacy from the Access group antibiotics listed', 'b18 Select the antibiotics available at the health facility pharmacy from the Access group antibiotics listed/Sulfamethoxazole': 'b18 Select the antibiotics available at the health facility pharmacy from the Access group antibiotics listed', 'b18 Select the antibiotics available at the health facility pharmacy from the Access group antibiotics listed/Sulfamethoxazole/trimethoprim': 'b18 Select the antibiotics available at the health facility pharmacy from the Access group antibiotics listed', 'b18 Select the antibiotics available at the health facility pharmacy from the Access group antibiotics listed/Sulfamethoxypyridazine': 'b18 Select the antibiotics available at the health facility pharmacy from the Access group antibiotics listed', 'b18 Select the antibiotics available at the health facility pharmacy from the Access group antibiotics listed/Sulfametomidine': 'b18 Select the antibiotics available at the health facility pharmacy from the Access group antibiotics listed', 'b18 Select the antibiotics available at the health facility pharmacy from the Access group antibiotics listed/Sulfametoxydiazine': 'b18 Select the antibiotics available at the health facility pharmacy from the Access group antibiotics listed', 'b18 Select the antibiotics available at the health facility pharmacy from the Access group antibiotics listed/Sulfametrole/trimethoprim': 'b18 Select the antibiotics available at the health facility pharmacy from the Access group antibiotics listed', 'b18 Select the antibiotics available at the health facility pharmacy from the Access group antibiotics listed/Sulfamoxole': 'b18 Select the antibiotics available at the health facility pharmacy from the Access group antibiotics listed', 'b18 Select the antibiotics available at the health facility pharmacy from the Access group antibiotics listed/Sulfamoxole/trimethoprim': 'b18 Select the antibiotics available at the health facility pharmacy from the Access group antibiotics listed', 'b18 Select the antibiotics available at the health facility pharmacy from the Access group antibiotics listed/Sulfanilamide': 'b18 Select the antibiotics available at the health facility pharmacy from the Access group antibiotics listed', 'b18 Select the antibiotics available at the health facility pharmacy from the Access group antibiotics listed/Sulfaperin': 'b18 Select the antibiotics available at the health facility pharmacy from the Access group antibiotics listed', 'b18 Select the antibiotics available at the health facility pharmacy from the Access group antibiotics listed/Sulfaphenazole': 'b18 Select the antibiotics available at the health facility pharmacy from the Access group antibiotics listed', 'b18 Select the antibiotics available at the health facility pharmacy from the Access group antibiotics listed/Sulfapyridine': 'b18 Select the antibiotics available at the health facility pharmacy from the Access group antibiotics listed', 'b18 Select the antibiotics available at the health facility pharmacy from the Access group antibiotics listed/Sulfathiazole': 'b18 Select the antibiotics available at the health facility pharmacy from the Access group antibiotics listed', 'b18 Select the antibiotics available at the health facility pharmacy from the Access group antibiotics listed/Sulfathiourea': 'b18 Select the antibiotics available at the health facility pharmacy from the Access group antibiotics listed', 'b18 Select the antibiotics available at the health facility pharmacy from the Access group antibiotics listed/Sultamicillin': 'b18 Select the antibiotics available at the health facility pharmacy from the Access group antibiotics listed', 'b18 Select the antibiotics available at the health facility pharmacy from the Access group antibiotics listed/Talampicillin': 'b18 Select the antibiotics available at the health facility pharmacy from the Access group antibiotics listed', 'b18 Select the antibiotics available at the health facility pharmacy from the Access group antibiotics listed/Tetracycline': 'b18 Select the antibiotics available at the health facility pharmacy from the Access group antibiotics listed', 'b18 Select the antibiotics available at the health facility pharmacy from the Access group antibiotics listed/Thiamphenicol': 'b18 Select the antibiotics available at the health facility pharmacy from the Access group antibiotics listed', 'b18 Select the antibiotics available at the health facility pharmacy from the Access group antibiotics listed/Tinidazole_IV': 'b18 Select the antibiotics available at the health facility pharmacy from the Access group antibiotics listed', 'b18 Select the antibiotics available at the health facility pharmacy from the Access group antibiotics listed/Tinidazole_oral': 'b18 Select the antibiotics available at the health facility pharmacy from the Access group antibiotics listed', 'b18 Select the antibiotics available at the health facility pharmacy from the Access group antibiotics listed/Trimethoprim': 'b18 Select the antibiotics available at the health facility pharmacy from the Access group antibiotics listed', 'b19 Select the antibiotics available at the health facility pharmacy from the Watch group antibiotics listed/Arbekacin': 'b19 Select the antibiotics available at the health facility pharmacy from the Watch group antibiotics listed', 'b19 Select the antibiotics available at the health facility pharmacy from the Watch group antibiotics listed/Aspoxicillin': 'b19 Select the antibiotics available at the health facility pharmacy from the Watch group antibiotics listed', 'b19 Select the antibiotics available at the health facility pharmacy from the Watch group antibiotics listed/Azithromycin': 'b19 Select the antibiotics available at the health facility pharmacy from the Watch group antibiotics listed', 'b19 Select the antibiotics available at the health facility pharmacy from the Watch group antibiotics listed/Azlocillin': 'b19 Select the antibiotics available at the health facility pharmacy from the Watch group antibiotics listed', 'b19 Select the antibiotics available at the health facility pharmacy from the Watch group antibiotics listed/Bekanamycin': 'b19 Select the antibiotics available at the health facility pharmacy from the Watch group antibiotics listed', 'b19 Select the antibiotics available at the health facility pharmacy from the Watch group antibiotics listed/Biapenem': 'b19 Select the antibiotics available at the health facility pharmacy from the Watch group antibiotics listed', 'b19 Select the antibiotics available at the health facility pharmacy from the Watch group antibiotics listed/Carbenicillin': 'b19 Select the antibiotics available at the health facility pharmacy from the Watch group antibiotics listed', 'b19 Select the antibiotics available at the health facility pharmacy from the Watch group antibiotics listed/Carindacillin': 'b19 Select the antibiotics available at the health facility pharmacy from the Watch group antibiotics listed', 'b19 Select the antibiotics available at the health facility pharmacy from the Watch group antibiotics listed/Cefaclor': 'b19 Select the antibiotics available at the health facility pharmacy from the Watch group antibiotics listed', 'b19 Select the antibiotics available at the health facility pharmacy from the Watch group antibiotics listed/Cefamandole': 'b19 Select the antibiotics available at the health facility pharmacy from the Watch group antibiotics listed', 'b19 Select the antibiotics available at the health facility pharmacy from the Watch group antibiotics listed/Cefbuperazone': 'b19 Select the antibiotics available at the health facility pharmacy from the Watch group antibiotics listed', 'b19 Select the antibiotics available at the health facility pharmacy from the Watch group antibiotics listed/Cefcapene-pivoxil': 'b19 Select the antibiotics available at the health facility pharmacy from the Watch group antibiotics listed', 'b19 Select the antibiotics available at the health facility pharmacy from the Watch group antibiotics listed/Cefdinir': 'b19 Select the antibiotics available at the health facility pharmacy from the Watch group antibiotics listed', 'b19 Select the antibiotics available at the health facility pharmacy from the Watch group antibiotics listed/Cefditoren-pivoxil': 'b19 Select the antibiotics available at the health facility pharmacy from the Watch group antibiotics listed', 'b19 Select the antibiotics available at the health facility pharmacy from the Watch group antibiotics listed/Cefepime': 'b19 Select the antibiotics available at the health facility pharmacy from the Watch group antibiotics listed', 'b19 Select the antibiotics available at the health facility pharmacy from the Watch group antibiotics listed/Cefetamet-pivoxil': 'b19 Select the antibiotics available at the health facility pharmacy from the Watch group antibiotics listed', 'b19 Select the antibiotics available at the health facility pharmacy from the Watch group antibiotics listed/Cefixime': 'b19 Select the antibiotics available at the health facility pharmacy from the Watch group antibiotics listed', 'b19 Select the antibiotics available at the health facility pharmacy from the Watch group antibiotics listed/Cefmenoxime': 'b19 Select the antibiotics available at the health facility pharmacy from the Watch group antibiotics listed', 'b19 Select the antibiotics available at the health facility pharmacy from the Watch group antibiotics listed/Cefmetazole': 'b19 Select the antibiotics available at the health facility pharmacy from the Watch group antibiotics listed', 'b19 Select the antibiotics available at the health facility pharmacy from the Watch group antibiotics listed/Cefminox': 'b19 Select the antibiotics available at the health facility pharmacy from the Watch group antibiotics listed', 'b19 Select the antibiotics available at the health facility pharmacy from the Watch group antibiotics listed/Cefodizime': 'b19 Select the antibiotics available at the health facility pharmacy from the Watch group antibiotics listed', 'b19 Select the antibiotics available at the health facility pharmacy from the Watch group antibiotics listed/Cefonicid': 'b19 Select the antibiotics available at the health facility pharmacy from the Watch group antibiotics listed', 'b19 Select the antibiotics available at the health facility pharmacy from the Watch group antibiotics listed/Cefoperazone': 'b19 Select the antibiotics available at the health facility pharmacy from the Watch group antibiotics listed', 'b19 Select the antibiotics available at the health facility pharmacy from the Watch group antibiotics listed/Ceforanide': 'b19 Select the antibiotics available at the health facility pharmacy from the Watch group antibiotics listed', 'b19 Select the antibiotics available at the health facility pharmacy from the Watch group antibiotics listed/Cefoselis': 'b19 Select the antibiotics available at the health facility pharmacy from the Watch group antibiotics listed', 'b19 Select the antibiotics available at the health facility pharmacy from the Watch group antibiotics listed/Cefotaxime': 'b19 Select the antibiotics available at the health facility pharmacy from the Watch group antibiotics listed', 'b19 Select the antibiotics available at the health facility pharmacy from the Watch group antibiotics listed/Cefotetan': 'b19 Select the antibiotics available at the health facility pharmacy from the Watch group antibiotics listed', 'b19 Select the antibiotics available at the health facility pharmacy from the Watch group antibiotics listed/Cefotiam': 'b19 Select the antibiotics available at the health facility pharmacy from the Watch group antibiotics listed', 'b19 Select the antibiotics available at the health facility pharmacy from the Watch group antibiotics listed/Cefoxitin': 'b19 Select the antibiotics available at the health facility pharmacy from the Watch group antibiotics listed', 'b19 Select the antibiotics available at the health facility pharmacy from the Watch group antibiotics listed/Cefozopran': 'b19 Select the antibiotics available at the health facility pharmacy from the Watch group antibiotics listed', 'b19 Select the antibiotics available at the health facility pharmacy from the Watch group antibiotics listed/Cefpiramide': 'b19 Select the antibiotics available at the health facility pharmacy from the Watch group antibiotics listed', 'b19 Select the antibiotics available at the health facility pharmacy from the Watch group antibiotics listed/Cefpirome': 'b19 Select the antibiotics available at the health facility pharmacy from the Watch group antibiotics listed', 'b19 Select the antibiotics available at the health facility pharmacy from the Watch group antibiotics listed/Cefpodoxime-proxetil': 'b19 Select the antibiotics available at the health facility pharmacy from the Watch group antibiotics listed', 'b19 Select the antibiotics available at the health facility pharmacy from the Watch group antibiotics listed/Cefprozil': 'b19 Select the antibiotics available at the health facility pharmacy from the Watch group antibiotics listed', 'b19 Select the antibiotics available at the health facility pharmacy from the Watch group antibiotics listed/Cefsulodin': 'b19 Select the antibiotics available at the health facility pharmacy from the Watch group antibiotics listed', 'b19 Select the antibiotics available at the health facility pharmacy from the Watch group antibiotics listed/Ceftazidime': 'b19 Select the antibiotics available at the health facility pharmacy from the Watch group antibiotics listed', 'b19 Select the antibiotics available at the health facility pharmacy from the Watch group antibiotics listed/Cefteram-pivoxil': 'b19 Select the antibiotics available at the health facility pharmacy from the Watch group antibiotics listed', 'b19 Select the antibiotics available at the health facility pharmacy from the Watch group antibiotics listed/Ceftibuten': 'b19 Select the antibiotics available at the health facility pharmacy from the Watch group antibiotics listed', 'b19 Select the antibiotics available at the health facility pharmacy from the Watch group antibiotics listed/Ceftizoxime': 'b19 Select the antibiotics available at the health facility pharmacy from the Watch group antibiotics listed', 'b19 Select the antibiotics available at the health facility pharmacy from the Watch group antibiotics listed/Ceftriaxone': 'b19 Select the antibiotics available at the health facility pharmacy from the Watch group antibiotics listed', 'b19 Select the antibiotics available at the health facility pharmacy from the Watch group antibiotics listed/Cefuroxime': 'b19 Select the antibiotics available at the health facility pharmacy from the Watch group antibiotics listed', 'b19 Select the antibiotics available at the health facility pharmacy from the Watch group antibiotics listed/Chlortetracycline': 'b19 Select the antibiotics available at the health facility pharmacy from the Watch group antibiotics listed', 'b19 Select the antibiotics available at the health facility pharmacy from the Watch group antibiotics listed/Cinoxacin': 'b19 Select the antibiotics available at the health facility pharmacy from the Watch group antibiotics listed', 'b19 Select the antibiotics available at the health facility pharmacy from the Watch group antibiotics listed/Ciprofloxacin': 'b19 Select the antibiotics available at the health facility pharmacy from the Watch group antibiotics listed', 'b19 Select the antibiotics available at the health facility pharmacy from the Watch group antibiotics listed/Clarithromycin': 'b19 Select the antibiotics available at the health facility pharmacy from the Watch group antibiotics listed', 'b19 Select the antibiotics available at the health facility pharmacy from the Watch group antibiotics listed/Clofoctol': 'b19 Select the antibiotics available at the health facility pharmacy from the Watch group antibiotics listed', 'b19 Select the antibiotics available at the health facility pharmacy from the Watch group antibiotics listed/Clomocycline': 'b19 Select the antibiotics available at the health facility pharmacy from the Watch group antibiotics listed', 'b19 Select the antibiotics available at the health facility pharmacy from the Watch group antibiotics listed/Delafloxacin': 'b19 Select the antibiotics available at the health facility pharmacy from the Watch group antibiotics listed', 'b19 Select the antibiotics available at the health facility pharmacy from the Watch group antibiotics listed/Demeclocycline': 'b19 Select the antibiotics available at the health facility pharmacy from the Watch group antibiotics listed', 'b19 Select the antibiotics available at the health facility pharmacy from the Watch group antibiotics listed/Dibekacin': 'b19 Select the antibiotics available at the health facility pharmacy from the Watch group antibiotics listed', 'b19 Select the antibiotics available at the health facility pharmacy from the Watch group antibiotics listed/Dirithromycin': 'b19 Select the antibiotics available at the health facility pharmacy from the Watch group antibiotics listed', 'b19 Select the antibiotics available at the health facility pharmacy from the Watch group antibiotics listed/Doripenem': 'b19 Select the antibiotics available at the health facility pharmacy from the Watch group antibiotics listed', 'b19 Select the antibiotics available at the health facility pharmacy from the Watch group antibiotics listed/Enoxacin': 'b19 Select the antibiotics available at the health facility pharmacy from the Watch group antibiotics listed', 'b19 Select the antibiotics available at the health facility pharmacy from the Watch group antibiotics listed/Ertapenem': 'b19 Select the antibiotics available at the health facility pharmacy from the Watch group antibiotics listed', 'b19 Select the antibiotics available at the health facility pharmacy from the Watch group antibiotics listed/Erythromycin': 'b19 Select the antibiotics available at the health facility pharmacy from the Watch group antibiotics listed', 'b19 Select the antibiotics available at the health facility pharmacy from the Watch group antibiotics listed/Fidaxomicin': 'b19 Select the antibiotics available at the health facility pharmacy from the Watch group antibiotics listed', 'b19 Select the antibiotics available at the health facility pharmacy from the Watch group antibiotics listed/Fleroxacin': 'b19 Select the antibiotics available at the health facility pharmacy from the Watch group antibiotics listed', 'b19 Select the antibiotics available at the health facility pharmacy from the Watch group antibiotics listed/Flomoxef': 'b19 Select the antibiotics available at the health facility pharmacy from the Watch group antibiotics listed', 'b19 Select the antibiotics available at the health facility pharmacy from the Watch group antibiotics listed/Flumequine': 'b19 Select the antibiotics available at the health facility pharmacy from the Watch group antibiotics listed', 'b19 Select the antibiotics available at the health facility pharmacy from the Watch group antibiotics listed/Flurithromycin': 'b19 Select the antibiotics available at the health facility pharmacy from the Watch group antibiotics listed', 'b19 Select the antibiotics available at the health facility pharmacy from the Watch group antibiotics listed/Fosfomycin_oral': 'b19 Select the antibiotics available at the health facility pharmacy from the Watch group antibiotics listed', 'b19 Select the antibiotics available at the health facility pharmacy from the Watch group antibiotics listed/Fusidic-acid': 'b19 Select the antibiotics available at the health facility pharmacy from the Watch group antibiotics listed', 'b19 Select the antibiotics available at the health facility pharmacy from the Watch group antibiotics listed/Garenoxacin': 'b19 Select the antibiotics available at the health facility pharmacy from the Watch group antibiotics listed', 'b19 Select the antibiotics available at the health facility pharmacy from the Watch group antibiotics listed/Gatifloxacin': 'b19 Select the antibiotics available at the health facility pharmacy from the Watch group antibiotics listed', 'b19 Select the antibiotics available at the health facility pharmacy from the Watch group antibiotics listed/Gemifloxacin': 'b19 Select the antibiotics available at the health facility pharmacy from the Watch group antibiotics listed', 'b19 Select the antibiotics available at the health facility pharmacy from the Watch group antibiotics listed/Grepafloxacin': 'b19 Select the antibiotics available at the health facility pharmacy from the Watch group antibiotics listed', 'b19 Select the antibiotics available at the health facility pharmacy from the Watch group antibiotics listed/Imipenem/cilastatin': 'b19 Select the antibiotics available at the health facility pharmacy from the Watch group antibiotics listed', 'b19 Select the antibiotics available at the health facility pharmacy from the Watch group antibiotics listed/Isepamicin': 'b19 Select the antibiotics available at the health facility pharmacy from the Watch group antibiotics listed', 'b19 Select the antibiotics available at the health facility pharmacy from the Watch group antibiotics listed/Josamycin': 'b19 Select the antibiotics available at the health facility pharmacy from the Watch group antibiotics listed', 'b19 Select the antibiotics available at the health facility pharmacy from the Watch group antibiotics listed/Kanamycin_IV': 'b19 Select the antibiotics available at the health facility pharmacy from the Watch group antibiotics listed', 'b19 Select the antibiotics available at the health facility pharmacy from the Watch group antibiotics listed/Kanamycin_oral': 'b19 Select the antibiotics available at the health facility pharmacy from the Watch group antibiotics listed', 'b19 Select the antibiotics available at the health facility pharmacy from the Watch group antibiotics listed/Lascufloxacin': 'b19 Select the antibiotics available at the health facility pharmacy from the Watch group antibiotics listed', 'b19 Select the antibiotics available at the health facility pharmacy from the Watch group antibiotics listed/Latamoxef': 'b19 Select the antibiotics available at the health facility pharmacy from the Watch group antibiotics listed', 'b19 Select the antibiotics available at the health facility pharmacy from the Watch group antibiotics listed/Levofloxacin': 'b19 Select the antibiotics available at the health facility pharmacy from the Watch group antibiotics listed', 'b19 Select the antibiotics available at the health facility pharmacy from the Watch group antibiotics listed/Levonadifloxacin': 'b19 Select the antibiotics available at the health facility pharmacy from the Watch group antibiotics listed', 'b19 Select the antibiotics available at the health facility pharmacy from the Watch group antibiotics listed/Lincomycin': 'b19 Select the antibiotics available at the health facility pharmacy from the Watch group antibiotics listed', 'b19 Select the antibiotics available at the health facility pharmacy from the Watch group antibiotics listed/Lomefloxacin': 'b19 Select the antibiotics available at the health facility pharmacy from the Watch group antibiotics listed', 'b19 Select the antibiotics available at the health facility pharmacy from the Watch group antibiotics listed/Loracarbef': 'b19 Select the antibiotics available at the health facility pharmacy from the Watch group antibiotics listed', 'b19 Select the antibiotics available at the health facility pharmacy from the Watch group antibiotics listed/Lymecycline': 'b19 Select the antibiotics available at the health facility pharmacy from the Watch group antibiotics listed', 'b19 Select the antibiotics available at the health facility pharmacy from the Watch group antibiotics listed/Meropenem': 'b19 Select the antibiotics available at the health facility pharmacy from the Watch group antibiotics listed', 'b19 Select the antibiotics available at the health facility pharmacy from the Watch group antibiotics listed/Metacycline': 'b19 Select the antibiotics available at the health facility pharmacy from the Watch group antibiotics listed', 'b19 Select the antibiotics available at the health facility pharmacy from the Watch group antibiotics listed/Mezlocillin': 'b19 Select the antibiotics available at the health facility pharmacy from the Watch group antibiotics listed', 'b19 Select the antibiotics available at the health facility pharmacy from the Watch group antibiotics listed/Micronomicin': 'b19 Select the antibiotics available at the health facility pharmacy from the Watch group antibiotics listed', 'b19 Select the antibiotics available at the health facility pharmacy from the Watch group antibiotics listed/Midecamycin': 'b19 Select the antibiotics available at the health facility pharmacy from the Watch group antibiotics listed', 'b19 Select the antibiotics available at the health facility pharmacy from the Watch group antibiotics listed/Minocycline_oral': 'b19 Select the antibiotics available at the health facility pharmacy from the Watch group antibiotics listed', 'b19 Select the antibiotics available at the health facility pharmacy from the Watch group antibiotics listed/Miocamycin': 'b19 Select the antibiotics available at the health facility pharmacy from the Watch group antibiotics listed', 'b19 Select the antibiotics available at the health facility pharmacy from the Watch group antibiotics listed/Moxifloxacin': 'b19 Select the antibiotics available at the health facility pharmacy from the Watch group antibiotics listed', 'b19 Select the antibiotics available at the health facility pharmacy from the Watch group antibiotics listed/Nemonoxacin': 'b19 Select the antibiotics available at the health facility pharmacy from the Watch group antibiotics listed', 'b19 Select the antibiotics available at the health facility pharmacy from the Watch group antibiotics listed/Neomycin_IV': 'b19 Select the antibiotics available at the health facility pharmacy from the Watch group antibiotics listed', 'b19 Select the antibiotics available at the health facility pharmacy from the Watch group antibiotics listed/Neomycin_oral': 'b19 Select the antibiotics available at the health facility pharmacy from the Watch group antibiotics listed', 'b19 Select the antibiotics available at the health facility pharmacy from the Watch group antibiotics listed/Netilmicin': 'b19 Select the antibiotics available at the health facility pharmacy from the Watch group antibiotics listed', 'b19 Select the antibiotics available at the health facility pharmacy from the Watch group antibiotics listed/Norfloxacin': 'b19 Select the antibiotics available at the health facility pharmacy from the Watch group antibiotics listed', 'b19 Select the antibiotics available at the health facility pharmacy from the Watch group antibiotics listed/Ofloxacin': 'b19 Select the antibiotics available at the health facility pharmacy from the Watch group antibiotics listed', 'b19 Select the antibiotics available at the health facility pharmacy from the Watch group antibiotics listed/Oleandomycin': 'b19 Select the antibiotics available at the health facility pharmacy from the Watch group antibiotics listed', 'b19 Select the antibiotics available at the health facility pharmacy from the Watch group antibiotics listed/Oxolinic-acid': 'b19 Select the antibiotics available at the health facility pharmacy from the Watch group antibiotics listed', 'b19 Select the antibiotics available at the health facility pharmacy from the Watch group antibiotics listed/Oxytetracycline': 'b19 Select the antibiotics available at the health facility pharmacy from the Watch group antibiotics listed', 'b19 Select the antibiotics available at the health facility pharmacy from the Watch group antibiotics listed/Panipenem': 'b19 Select the antibiotics available at the health facility pharmacy from the Watch group antibiotics listed', 'b19 Select the antibiotics available at the health facility pharmacy from the Watch group antibiotics listed/Pazufloxacin': 'b19 Select the antibiotics available at the health facility pharmacy from the Watch group antibiotics listed', 'b19 Select the antibiotics available at the health facility pharmacy from the Watch group antibiotics listed/Pefloxacin': 'b19 Select the antibiotics available at the health facility pharmacy from the Watch group antibiotics listed', 'b19 Select the antibiotics available at the health facility pharmacy from the Watch group antibiotics listed/Penimepicycline': 'b19 Select the antibiotics available at the health facility pharmacy from the Watch group antibiotics listed', 'b19 Select the antibiotics available at the health facility pharmacy from the Watch group antibiotics listed/Pheneticillin': 'b19 Select the antibiotics available at the health facility pharmacy from the Watch group antibiotics listed', 'b19 Select the antibiotics available at the health facility pharmacy from the Watch group antibiotics listed/Pipemidic-acid': 'b19 Select the antibiotics available at the health facility pharmacy from the Watch group antibiotics listed', 'b19 Select the antibiotics available at the health facility pharmacy from the Watch group antibiotics listed/Piperacillin': 'b19 Select the antibiotics available at the health facility pharmacy from the Watch group antibiotics listed', 'b19 Select the antibiotics available at the health facility pharmacy from the Watch group antibiotics listed/Piperacillin/tazobactam': 'b19 Select the antibiotics available at the health facility pharmacy from the Watch group antibiotics listed', 'b19 Select the antibiotics available at the health facility pharmacy from the Watch group antibiotics listed/Piromidic-acid': 'b19 Select the antibiotics available at the health facility pharmacy from the Watch group antibiotics listed', 'b19 Select the antibiotics available at the health facility pharmacy from the Watch group antibiotics listed/Pristinamycin': 'b19 Select the antibiotics available at the health facility pharmacy from the Watch group antibiotics listed', 'b19 Select the antibiotics available at the health facility pharmacy from the Watch group antibiotics listed/Prulifloxacin': 'b19 Select the antibiotics available at the health facility pharmacy from the Watch group antibiotics listed', 'b19 Select the antibiotics available at the health facility pharmacy from the Watch group antibiotics listed/Ribostamycin': 'b19 Select the antibiotics available at the health facility pharmacy from the Watch group antibiotics listed', 'b19 Select the antibiotics available at the health facility pharmacy from the Watch group antibiotics listed/Rifabutin': 'b19 Select the antibiotics available at the health facility pharmacy from the Watch group antibiotics listed', 'b19 Select the antibiotics available at the health facility pharmacy from the Watch group antibiotics listed/Rifampicin': 'b19 Select the antibiotics available at the health facility pharmacy from the Watch group antibiotics listed', 'b19 Select the antibiotics available at the health facility pharmacy from the Watch group antibiotics listed/Rifamycin_IV': 'b19 Select the antibiotics available at the health facility pharmacy from the Watch group antibiotics listed', 'b19 Select the antibiotics available at the health facility pharmacy from the Watch group antibiotics listed/Rifamycin_oral': 'b19 Select the antibiotics available at the health facility pharmacy from the Watch group antibiotics listed', 'b19 Select the antibiotics available at the health facility pharmacy from the Watch group antibiotics listed/Rifaximin': 'b19 Select the antibiotics available at the health facility pharmacy from the Watch group antibiotics listed', 'b19 Select the antibiotics available at the health facility pharmacy from the Watch group antibiotics listed/Rokitamycin': 'b19 Select the antibiotics available at the health facility pharmacy from the Watch group antibiotics listed', 'b19 Select the antibiotics available at the health facility pharmacy from the Watch group antibiotics listed/Rolitetracycline': 'b19 Select the antibiotics available at the health facility pharmacy from the Watch group antibiotics listed', 'b19 Select the antibiotics available at the health facility pharmacy from the Watch group antibiotics listed/Rosoxacin': 'b19 Select the antibiotics available at the health facility pharmacy from the Watch group antibiotics listed', 'b19 Select the antibiotics available at the health facility pharmacy from the Watch group antibiotics listed/Roxithromycin': 'b19 Select the antibiotics available at the health facility pharmacy from the Watch group antibiotics listed', 'b19 Select the antibiotics available at the health facility pharmacy from the Watch group antibiotics listed/Rufloxacin': 'b19 Select the antibiotics available at the health facility pharmacy from the Watch group antibiotics listed', 'b19 Select the antibiotics available at the health facility pharmacy from the Watch group antibiotics listed/Sarecycline': 'b19 Select the antibiotics available at the health facility pharmacy from the Watch group antibiotics listed', 'b19 Select the antibiotics available at the health facility pharmacy from the Watch group antibiotics listed/Sisomicin': 'b19 Select the antibiotics available at the health facility pharmacy from the Watch group antibiotics listed', 'b19 Select the antibiotics available at the health facility pharmacy from the Watch group antibiotics listed/Sitafloxacin': 'b19 Select the antibiotics available at the health facility pharmacy from the Watch group antibiotics listed', 'b19 Select the antibiotics available at the health facility pharmacy from the Watch group antibiotics listed/Solithromycin': 'b19 Select the antibiotics available at the health facility pharmacy from the Watch group antibiotics listed', 'b19 Select the antibiotics available at the health facility pharmacy from the Watch group antibiotics listed/Sparfloxacin': 'b19 Select the antibiotics available at the health facility pharmacy from the Watch group antibiotics listed', 'b19 Select the antibiotics available at the health facility pharmacy from the Watch group antibiotics listed/Spiramycin': 'b19 Select the antibiotics available at the health facility pharmacy from the Watch group antibiotics listed', 'b19 Select the antibiotics available at the health facility pharmacy from the Watch group antibiotics listed/Streptoduocin': 'b19 Select the antibiotics available at the health facility pharmacy from the Watch group antibiotics listed', 'b19 Select the antibiotics available at the health facility pharmacy from the Watch group antibiotics listed/Streptomycin_IV': 'b19 Select the antibiotics available at the health facility pharmacy from the Watch group antibiotics listed', 'b19 Select the antibiotics available at the health facility pharmacy from the Watch group antibiotics listed/Streptomycin_oral': 'b19 Select the antibiotics available at the health facility pharmacy from the Watch group antibiotics listed', 'b19 Select the antibiotics available at the health facility pharmacy from the Watch group antibiotics listed/Sulbenicillin': 'b19 Select the antibiotics available at the health facility pharmacy from the Watch group antibiotics listed', 'b19 Select the antibiotics available at the health facility pharmacy from the Watch group antibiotics listed/Tazobactam': 'b19 Select the antibiotics available at the health facility pharmacy from the Watch group antibiotics listed', 'b19 Select the antibiotics available at the health facility pharmacy from the Watch group antibiotics listed/Tebipenem': 'b19 Select the antibiotics available at the health facility pharmacy from the Watch group antibiotics listed', 'b19 Select the antibiotics available at the health facility pharmacy from the Watch group antibiotics listed/Teicoplanin': 'b19 Select the antibiotics available at the health facility pharmacy from the Watch group antibiotics listed', 'b19 Select the antibiotics available at the health facility pharmacy from the Watch group antibiotics listed/Telithromycin': 'b19 Select the antibiotics available at the health facility pharmacy from the Watch group antibiotics listed', 'b19 Select the antibiotics available at the health facility pharmacy from the Watch group antibiotics listed/Temafloxacin': 'b19 Select the antibiotics available at the health facility pharmacy from the Watch group antibiotics listed', 'b19 Select the antibiotics available at the health facility pharmacy from the Watch group antibiotics listed/Temocillin': 'b19 Select the antibiotics available at the health facility pharmacy from the Watch group antibiotics listed', 'b19 Select the antibiotics available at the health facility pharmacy from the Watch group antibiotics listed/Ticarcillin': 'b19 Select the antibiotics available at the health facility pharmacy from the Watch group antibiotics listed', 'b19 Select the antibiotics available at the health facility pharmacy from the Watch group antibiotics listed/Tobramycin': 'b19 Select the antibiotics available at the health facility pharmacy from the Watch group antibiotics listed', 'b19 Select the antibiotics available at the health facility pharmacy from the Watch group antibiotics listed/Tosufloxacin': 'b19 Select the antibiotics available at the health facility pharmacy from the Watch group antibiotics listed', 'b19 Select the antibiotics available at the health facility pharmacy from the Watch group antibiotics listed/Troleandomycin': 'b19 Select the antibiotics available at the health facility pharmacy from the Watch group antibiotics listed', 'b19 Select the antibiotics available at the health facility pharmacy from the Watch group antibiotics listed/Trovafloxacin': 'b19 Select the antibiotics available at the health facility pharmacy from the Watch group antibiotics listed', 'b19 Select the antibiotics available at the health facility pharmacy from the Watch group antibiotics listed/Vancomycin_IV': 'b19 Select the antibiotics available at the health facility pharmacy from the Watch group antibiotics listed', 'b19 Select the antibiotics available at the health facility pharmacy from the Watch group antibiotics listed/Vancomycin_oral': 'b19 Select the antibiotics available at the health facility pharmacy from the Watch group antibiotics listed', 'b20 Select the antibiotics available at the health facility pharmacy from the Reserve group antibiotics listed/Aztreonam': 'b20 Select the antibiotics available at the health facility pharmacy from the Reserve group antibiotics listed', 'b20 Select the antibiotics available at the health facility pharmacy from the Reserve group antibiotics listed/Carumonam': 'b20 Select the antibiotics available at the health facility pharmacy from the Reserve group antibiotics listed', 'b20 Select the antibiotics available at the health facility pharmacy from the Reserve group antibiotics listed/Cefiderocol': 'b20 Select the antibiotics available at the health facility pharmacy from the Reserve group antibiotics listed', 'b20 Select the antibiotics available at the health facility pharmacy from the Reserve group antibiotics listed/Ceftaroline-fosamil': 'b20 Select the antibiotics available at the health facility pharmacy from the Reserve group antibiotics listed', 'b20 Select the antibiotics available at the health facility pharmacy from the Reserve group antibiotics listed/Ceftazidime/avibactam': 'b20 Select the antibiotics available at the health facility pharmacy from the Reserve group antibiotics listed', 'b20 Select the antibiotics available at the health facility pharmacy from the Reserve group antibiotics listed/Ceftobiprole-medocaril': 'b20 Select the antibiotics available at the health facility pharmacy from the Reserve group antibiotics listed', 'b20 Select the antibiotics available at the health facility pharmacy from the Reserve group antibiotics listed/Ceftolozane/tazobactam': 'b20 Select the antibiotics available at the health facility pharmacy from the Reserve group antibiotics listed', 'b20 Select the antibiotics available at the health facility pharmacy from the Reserve group antibiotics listed/Colistin_IV': 'b20 Select the antibiotics available at the health facility pharmacy from the Reserve group antibiotics listed', 'b20 Select the antibiotics available at the health facility pharmacy from the Reserve group antibiotics listed/Colistin_oral': 'b20 Select the antibiotics available at the health facility pharmacy from the Reserve group antibiotics listed', 'b20 Select the antibiotics available at the health facility pharmacy from the Reserve group antibiotics listed/Dalbavancin': 'b20 Select the antibiotics available at the health facility pharmacy from the Reserve group antibiotics listed', 'b20 Select the antibiotics available at the health facility pharmacy from the Reserve group antibiotics listed/Dalfopristin/quinupristin': 'b20 Select the antibiotics available at the health facility pharmacy from the Reserve group antibiotics listed', 'b20 Select the antibiotics available at the health facility pharmacy from the Reserve group antibiotics listed/Daptomycin': 'b20 Select the antibiotics available at the health facility pharmacy from the Reserve group antibiotics listed', 'b20 Select the antibiotics available at the health facility pharmacy from the Reserve group antibiotics listed/Eravacycline': 'b20 Select the antibiotics available at the health facility pharmacy from the Reserve group antibiotics listed', 'b20 Select the antibiotics available at the health facility pharmacy from the Reserve group antibiotics listed/Faropenem': 'b20 Select the antibiotics available at the health facility pharmacy from the Reserve group antibiotics listed', 'b20 Select the antibiotics available at the health facility pharmacy from the Reserve group antibiotics listed/Fosfomycin_IV': 'b20 Select the antibiotics available at the health facility pharmacy from the Reserve group antibiotics listed', 'b20 Select the antibiotics available at the health facility pharmacy from the Reserve group antibiotics listed/Iclaprim': 'b20 Select the antibiotics available at the health facility pharmacy from the Reserve group antibiotics listed', 'b20 Select the antibiotics available at the health facility pharmacy from the Reserve group antibiotics listed/Imipenem/cilastatin/relebactam': 'b20 Select the antibiotics available at the health facility pharmacy from the Reserve group antibiotics listed', 'b20 Select the antibiotics available at the health facility pharmacy from the Reserve group antibiotics listed/Lefamulin': 'b20 Select the antibiotics available at the health facility pharmacy from the Reserve group antibiotics listed', 'b20 Select the antibiotics available at the health facility pharmacy from the Reserve group antibiotics listed/Linezolid': 'b20 Select the antibiotics available at the health facility pharmacy from the Reserve group antibiotics listed', 'b20 Select the antibiotics available at the health facility pharmacy from the Reserve group antibiotics listed/Meropenem/vaborbactam': 'b20 Select the antibiotics available at the health facility pharmacy from the Reserve group antibiotics listed', 'b20 Select the antibiotics available at the health facility pharmacy from the Reserve group antibiotics listed/Minocycline_IV': 'b20 Select the antibiotics available at the health facility pharmacy from the Reserve group antibiotics listed', 'b20 Select the antibiotics available at the health facility pharmacy from the Reserve group antibiotics listed/Omadacycline': 'b20 Select the antibiotics available at the health facility pharmacy from the Reserve group antibiotics listed', 'b20 Select the antibiotics available at the health facility pharmacy from the Reserve group antibiotics listed/Oritavancin': 'b20 Select the antibiotics available at the health facility pharmacy from the Reserve group antibiotics listed', 'b20 Select the antibiotics available at the health facility pharmacy from the Reserve group antibiotics listed/Plazomicin': 'b20 Select the antibiotics available at the health facility pharmacy from the Reserve group antibiotics listed', 'b20 Select the antibiotics available at the health facility pharmacy from the Reserve group antibiotics listed/Polymyxin-B_IV': 'b20 Select the antibiotics available at the health facility pharmacy from the Reserve group antibiotics listed', 'b20 Select the antibiotics available at the health facility pharmacy from the Reserve group antibiotics listed/Polymyxin-B_oral': 'b20 Select the antibiotics available at the health facility pharmacy from the Reserve group antibiotics listed', 'b20 Select the antibiotics available at the health facility pharmacy from the Reserve group antibiotics listed/Tedizolid': 'b20 Select the antibiotics available at the health facility pharmacy from the Reserve group antibiotics listed', 'b20 Select the antibiotics available at the health facility pharmacy from the Reserve group antibiotics listed/Telavancin': 'b20 Select the antibiotics available at the health facility pharmacy from the Reserve group antibiotics listed', 'b20 Select the antibiotics available at the health facility pharmacy from the Reserve group antibiotics listed/Tigecycline': 'b20 Select the antibiotics available at the health facility pharmacy from the Reserve group antibiotics listed', 'c5 Who does the reconstitution of antibiotics?/Pharmacist': 'c5 Who does the reconstitution of antibiotics?', 'c5 Who does the reconstitution of antibiotics?/Pharmaceutical technologist': 'c5 Who does the reconstitution of antibiotics?', 'c5 Who does the reconstitution of antibiotics?/Nurses': 'c5 Who does the reconstitution of antibiotics?', 'c5 Who does the reconstitution of antibiotics?/Clinicians': 'c5 Who does the reconstitution of antibiotics?', 'c5 Who does the reconstitution of antibiotics?/other': 'c5 Who does the reconstitution of antibiotics?', 'c6 Who provides drug information?/Pharmacist': 'c6 Who provides drug information?', 'c6 Who provides drug information?/Pharmaceutical technologist': 'c6 Who provides drug information?', 'c6 Who provides drug information?/Nurses': 'c6 Who provides drug information?', 'c6 Who provides drug information?/Clinicians': 'c6 Who provides drug information?', 'c6 Who provides drug information?/other': 'c6 Who provides drug information?', 'd11 Who provides preauthorization?/Medical Officers': 'd11 Who provides preauthorization?', 'd11 Who provides preauthorization?/Clinical Officers': 'd11 Who provides preauthorization?', 'd11 Who provides preauthorization?/Pharmacists': 'd11 Who provides preauthorization?', 'd11 Who provides preauthorization?/Consultants': 'd11 Who provides preauthorization?', 'd11 Who provides preauthorization?/Other': 'd11 Who provides preauthorization?', 'd11 Who provides preauthorization?/other': 'd11 Who provides preauthorization?', 'd12 How is preauthorization provided?/Electronically': 'd12 How is preauthorization provided?', 'd12 How is preauthorization provided?/Verbally': 'd12 How is preauthorization provided?', 'd12 How is preauthorization provided?/Manually (written)': 'd12 How is preauthorization provided?', 'd12 How is preauthorization provided?/Other': 'd12 How is preauthorization provided?', 'd12 How is preauthorization provided?/other': 'd12 How is preauthorization provided?', 'd15 For which wards?/Medical Unit': 'd15 For which wards?', 'd15 For which wards?/Surgical Unit': 'd15 For which wards?', 'd15 For which wards?/ICU': 'd15 For which wards?', 'd15 For which wards?/HDU': 'd15 For which wards?', 'd15 For which wards?/other': 'd15 For which wards?', 'd20 Which wards have stewardship rounds?/Medical Unit': 'd20 Which wards have stewardship rounds?', 'd20 Which wards have stewardship rounds?/Surgical Unit': 'd20 Which wards have stewardship rounds?', 'd20 Which wards have stewardship rounds?/ICU': 'd20 Which wards have stewardship rounds?', 'd20 Which wards have stewardship rounds?/HDU': 'd20 Which wards have stewardship rounds?', 'd20 Which wards have stewardship rounds?/other': 'd20 Which wards have stewardship rounds?', 'd25 For which wards?/Medical Unit': 'd25 For which wards?', 'd25 For which wards?/Surgical Unit': 'd25 For which wards?', 'd25 For which wards?/ICU': 'd25 For which wards?', 'd25 For which wards?/HDU': 'd25 For which wards?', 'd25 For which wards?/other': 'd25 For which wards?', 'e9 How are payments for patients made?/Cash': 'e9 How are payments for patients made?', 'e9 How are payments for patients made?/Medical insurance (private)': 'e9 How are payments for patients made?', 'e9 How are payments for patients made?/Government health scheme (NHIF, UHC, ESIC, CGHS)': 'e9 How are payments for patients made?', 'e9 How are payments for patients made?/Free': 'e9 How are payments for patients made?', 'f7 Which guidelines do you use?/National Guidelines': 'f7 Which guidelines do you use?', 'f7 Which guidelines do you use?/WHO Guidelines': 'f7 Which guidelines do you use?', 'f7 Which guidelines do you use?/County Guidelines': 'f7 Which guidelines do you use?', 'f7 Which guidelines do you use?/Hospital Guidelines': 'f7 Which guidelines do you use?', 'f7 Which guidelines do you use?/Other': 'f7 Which guidelines do you use?', 'f7 Which guidelines do you use?/other': 'f7 Which guidelines do you use?', 'n3 Detail out the Challenges/ barriers in implementing the proper Antibiotic usage in your facility./Patient behavior in using antibiotics': 'n3 Detail out the Challenges/ barriers in implementing the proper Antibiotic usage in your facility.', 'n3 Detail out the Challenges/ barriers in implementing the proper Antibiotic usage in your facility./Lack of appropriate implementation of guidelines': 'n3 Detail out the Challenges/ barriers in implementing the proper Antibiotic usage in your facility.', 'n3 Detail out the Challenges/ barriers in implementing the proper Antibiotic usage in your facility./Lack of specific antibiogram for primary care': 'n3 Detail out the Challenges/ barriers in implementing the proper Antibiotic usage in your facility.', 'n3 Detail out the Challenges/ barriers in implementing the proper Antibiotic usage in your facility./Competition amongst clinicians': 'n3 Detail out the Challenges/ barriers in implementing the proper Antibiotic usage in your facility.', 'n3 Detail out the Challenges/ barriers in implementing the proper Antibiotic usage in your facility./Lack of departmental co-ordination': 'n3 Detail out the Challenges/ barriers in implementing the proper Antibiotic usage in your facility.', 'n3 Detail out the Challenges/ barriers in implementing the proper Antibiotic usage in your facility./Unclear clinical presentation': 'n3 Detail out the Challenges/ barriers in implementing the proper Antibiotic usage in your facility.', 'n3 Detail out the Challenges/ barriers in implementing the proper Antibiotic usage in your facility./Lack of diagnostic capability': 'n3 Detail out the Challenges/ barriers in implementing the proper Antibiotic usage in your facility.', 'n3 Detail out the Challenges/ barriers in implementing the proper Antibiotic usage in your facility./Restricted time of consultation': 'n3 Detail out the Challenges/ barriers in implementing the proper Antibiotic usage in your facility.', 'n3 Detail out the Challenges/ barriers in implementing the proper Antibiotic usage in your facility./Clinician knowledge and practices': 'n3 Detail out the Challenges/ barriers in implementing the proper Antibiotic usage in your facility.', 'n3 Detail out the Challenges/ barriers in implementing the proper Antibiotic usage in your facility./Other': 'n3 Detail out the Challenges/ barriers in implementing the proper Antibiotic usage in your facility.', 'n3 Detail out the Challenges/ barriers in implementing the proper Antibiotic usage in your facility./other': 'n3 Detail out the Challenges/ barriers in implementing the proper Antibiotic usage in your facility.', 'c7 Who provides drug information?/Pharmacist': 'c7 Who provides drug information?', 'c7 Who provides drug information?/Pharmaceutical technologist': 'c7 Who provides drug information?', 'c7 Who provides drug information?/Nurses': 'c7 Who provides drug information?', 'c7 Who provides drug information?/Clinicians': 'c7 Who provides drug information?', 'c7 Who provides drug information?/other': 'c7 Who provides drug information?', '5d.3 Who provides preauthorization?/Medical Officers': '5d.3 Who provides preauthorization?', '5d.3 Who provides preauthorization?/Clinical Officers': '5d.3 Who provides preauthorization?', '5d.3 Who provides preauthorization?/Pharmacists': '5d.3 Who provides preauthorization?', '5d.3 Who provides preauthorization?/Consultants': '5d.3 Who provides preauthorization?', '5d.3 Who provides preauthorization?/other': '5d.3 Who provides preauthorization?', '5d.4 How is preauthorization provided?/Electronically': '5d.4 How is preauthorization provided?', '5d.4 How is preauthorization provided?/Verbally': '5d.4 How is preauthorization provided?', '5d.4 How is preauthorization provided?/Manually (written)': '5d.4 How is preauthorization provided?', '5d.4 How is preauthorization provided?/other': '5d.4 How is preauthorization provided?', '5e.3 For which wards?/Medical Unit': '5e.3 For which wards?', '5e.3 For which wards?/Surgical Unit': '5e.3 For which wards?', '5e.3 For which wards?/ICU': '5e.3 For which wards?', '5e.3 For which wards?/HDU': '5e.3 For which wards?', '5f.4 Which wards have stewardship rounds?/Medical Unit': '5f.4 Which wards have stewardship rounds?', '5f.4 Which wards have stewardship rounds?/Surgical Unit': '5f.4 Which wards have stewardship rounds?', '5f.4 Which wards have stewardship rounds?/ICU': '5f.4 Which wards have stewardship rounds?', '5f.4 Which wards have stewardship rounds?/HDU': '5f.4 Which wards have stewardship rounds?', '5g.4 For which wards?/Medical Unit': '5g.4 For which wards?', '5g.4 For which wards?/Surgical Unit': '5g.4 For which wards?', '5g.4 For which wards?/ICU': '5g.4 For which wards?', '5g.4 For which wards?/HDU': '5g.4 For which wards?', '6c.5 How are payments for patients made?/Cash': '6c.5 How are payments for patients made?', '6c.5 How are payments for patients made?/Medical insurance (private)': '6c.5 How are payments for patients made?', '6c.5 How are payments for patients made?/Government health scheme (NHIF, UHC, ESIC, CGHS)': '6c.5 How are payments for patients made?', '6c.5 How are payments for patients made?/Free': '6c.5 How are payments for patients made?', '7b.4 Which guidelines do you use?/National Guidelines': '7b.4 Which guidelines do you use?', '7b.4 Which guidelines do you use?/WHO Guidelines': '7b.4 Which guidelines do you use?', '7b.4 Which guidelines do you use?/County Guidelines': '7b.4 Which guidelines do you use?', '7b.4 Which guidelines do you use?/Hospital Guidelines': '7b.4 Which guidelines do you use?', '7_j3. Detail out the Challenges/ barriers in implementing the proper Antibiotic usage in your facility./Patient behavior in using antibiotics': '7_j3. Detail out the Challenges/ barriers in implementing the proper Antibiotic usage in your facility.', '7_j3. Detail out the Challenges/ barriers in implementing the proper Antibiotic usage in your facility./Lack of appropriate implementation of guidelines': '7_j3. Detail out the Challenges/ barriers in implementing the proper Antibiotic usage in your facility.', '7_j3. Detail out the Challenges/ barriers in implementing the proper Antibiotic usage in your facility./Lack of specific antibiogram for primary care': '7_j3. Detail out the Challenges/ barriers in implementing the proper Antibiotic usage in your facility.', '7_j3. Detail out the Challenges/ barriers in implementing the proper Antibiotic usage in your facility./Competition amongst clinicians': '7_j3. Detail out the Challenges/ barriers in implementing the proper Antibiotic usage in your facility.', '7_j3. Detail out the Challenges/ barriers in implementing the proper Antibiotic usage in your facility./Lack of departmental co-ordination': '7_j3. Detail out the Challenges/ barriers in implementing the proper Antibiotic usage in your facility.', '7_j3. Detail out the Challenges/ barriers in implementing the proper Antibiotic usage in your facility./Unclear clinical presentation': '7_j3. Detail out the Challenges/ barriers in implementing the proper Antibiotic usage in your facility.', '7_j3. Detail out the Challenges/ barriers in implementing the proper Antibiotic usage in your facility./Lack of diagnostic capability': '7_j3. Detail out the Challenges/ barriers in implementing the proper Antibiotic usage in your facility.', '7_j3. Detail out the Challenges/ barriers in implementing the proper Antibiotic usage in your facility./Restricted time of consultation': '7_j3. Detail out the Challenges/ barriers in implementing the proper Antibiotic usage in your facility.', '7_j3. Detail out the Challenges/ barriers in implementing the proper Antibiotic usage in your facility./Clinician knowledge and practices': '7_j3. Detail out the Challenges/ barriers in implementing the proper Antibiotic usage in your facility.', '7_j3. Detail out the Challenges/ barriers in implementing the proper Antibiotic usage in your facility./Other': '7_j3. Detail out the Challenges/ barriers in implementing the proper Antibiotic usage in your facility.'} 374\n",
      "{'b5 What guides clinicians to request for a bacteriology test?/Patient clinical signs': 'Patient clinical signs', 'b5 What guides clinicians to request for a bacteriology test?/Guidelines': 'Guidelines', 'b5 What guides clinicians to request for a bacteriology test?/Research driven': 'Research driven', 'b5 What guides clinicians to request for a bacteriology test?/other': 'other', 'b12 Where is the antibiogram available/Clinic (Consultation room)': 'Clinic (Consultation room)', 'b12 Where is the antibiogram available/Hospital ward': 'Hospital ward', 'b12 Where is the antibiogram available/Hospital Pharmacy': 'Hospital Pharmacy', 'b12 Where is the antibiogram available/Available Online': 'Available Online', 'b12 Where is the antibiogram available/other': 'other', 'b15 Who are issued with an antibiogram during orientation?/Nurses': 'Nurses', 'b15 Who are issued with an antibiogram during orientation?/Medical Officers': 'Medical Officers', 'b15 Who are issued with an antibiogram during orientation?/Clinical Officers': 'Clinical Officers', 'b15 Who are issued with an antibiogram during orientation?/Pharmacists': 'Pharmacists', 'b15 Who are issued with an antibiogram during orientation?/Consultants': 'Consultants', 'b15 Who are issued with an antibiogram during orientation?/Interns': 'Interns', 'b15 Who are issued with an antibiogram during orientation?/Lab Personnel': 'Lab Personnel', 'b18 Select the antibiotics available at the health facility pharmacy from the Access group antibiotics listed/Amikacin': 'Amikacin', 'b18 Select the antibiotics available at the health facility pharmacy from the Access group antibiotics listed/Amoxicillin': 'Amoxicillin', 'b18 Select the antibiotics available at the health facility pharmacy from the Access group antibiotics listed/Amoxicillin/clavulanic-acid': 'Amoxicillin/clavulanic-acid', 'b18 Select the antibiotics available at the health facility pharmacy from the Access group antibiotics listed/Ampicillin': 'Ampicillin', 'b18 Select the antibiotics available at the health facility pharmacy from the Access group antibiotics listed/Ampicillin/sulbactam': 'Ampicillin/sulbactam', 'b18 Select the antibiotics available at the health facility pharmacy from the Access group antibiotics listed/Azidocillin': 'Azidocillin', 'b18 Select the antibiotics available at the health facility pharmacy from the Access group antibiotics listed/Bacampicillin': 'Bacampicillin', 'b18 Select the antibiotics available at the health facility pharmacy from the Access group antibiotics listed/Benzathine-benzylpenicillin': 'Benzathine-benzylpenicillin', 'b18 Select the antibiotics available at the health facility pharmacy from the Access group antibiotics listed/Benzylpenicillin': 'Benzylpenicillin', 'b18 Select the antibiotics available at the health facility pharmacy from the Access group antibiotics listed/Brodimoprim': 'Brodimoprim', 'b18 Select the antibiotics available at the health facility pharmacy from the Access group antibiotics listed/Cefacetrile': 'Cefacetrile', 'b18 Select the antibiotics available at the health facility pharmacy from the Access group antibiotics listed/Cefadroxil': 'Cefadroxil', 'b18 Select the antibiotics available at the health facility pharmacy from the Access group antibiotics listed/Cefalexin': 'Cefalexin', 'b18 Select the antibiotics available at the health facility pharmacy from the Access group antibiotics listed/Cefaloridine': 'Cefaloridine', 'b18 Select the antibiotics available at the health facility pharmacy from the Access group antibiotics listed/Cefalotin': 'Cefalotin', 'b18 Select the antibiotics available at the health facility pharmacy from the Access group antibiotics listed/Cefapirin': 'Cefapirin', 'b18 Select the antibiotics available at the health facility pharmacy from the Access group antibiotics listed/Cefatrizine': 'Cefatrizine', 'b18 Select the antibiotics available at the health facility pharmacy from the Access group antibiotics listed/Cefazedone': 'Cefazedone', 'b18 Select the antibiotics available at the health facility pharmacy from the Access group antibiotics listed/Cefazolin': 'Cefazolin', 'b18 Select the antibiotics available at the health facility pharmacy from the Access group antibiotics listed/Cefradine': 'Cefradine', 'b18 Select the antibiotics available at the health facility pharmacy from the Access group antibiotics listed/Cefroxadine': 'Cefroxadine', 'b18 Select the antibiotics available at the health facility pharmacy from the Access group antibiotics listed/Ceftezole': 'Ceftezole', 'b18 Select the antibiotics available at the health facility pharmacy from the Access group antibiotics listed/Chloramphenicol': 'Chloramphenicol', 'b18 Select the antibiotics available at the health facility pharmacy from the Access group antibiotics listed/Clindamycin': 'Clindamycin', 'b18 Select the antibiotics available at the health facility pharmacy from the Access group antibiotics listed/Clometocillin': 'Clometocillin', 'b18 Select the antibiotics available at the health facility pharmacy from the Access group antibiotics listed/Cloxacillin': 'Cloxacillin', 'b18 Select the antibiotics available at the health facility pharmacy from the Access group antibiotics listed/Dicloxacillin': 'Dicloxacillin', 'b18 Select the antibiotics available at the health facility pharmacy from the Access group antibiotics listed/Doxycycline': 'Doxycycline', 'b18 Select the antibiotics available at the health facility pharmacy from the Access group antibiotics listed/Epicillin': 'Epicillin', 'b18 Select the antibiotics available at the health facility pharmacy from the Access group antibiotics listed/Flucloxacillin': 'Flucloxacillin', 'b18 Select the antibiotics available at the health facility pharmacy from the Access group antibiotics listed/Furazidin': 'Furazidin', 'b18 Select the antibiotics available at the health facility pharmacy from the Access group antibiotics listed/Gentamicin': 'Gentamicin', 'b18 Select the antibiotics available at the health facility pharmacy from the Access group antibiotics listed/Hetacillin': 'Hetacillin', 'b18 Select the antibiotics available at the health facility pharmacy from the Access group antibiotics listed/Mecillinam': 'Mecillinam', 'b18 Select the antibiotics available at the health facility pharmacy from the Access group antibiotics listed/Metampicillin': 'Metampicillin', 'b18 Select the antibiotics available at the health facility pharmacy from the Access group antibiotics listed/Meticillin': 'Meticillin', 'b18 Select the antibiotics available at the health facility pharmacy from the Access group antibiotics listed/Metronidazole_IV': 'Metronidazole_IV', 'b18 Select the antibiotics available at the health facility pharmacy from the Access group antibiotics listed/Metronidazole_oral': 'Metronidazole_oral', 'b18 Select the antibiotics available at the health facility pharmacy from the Access group antibiotics listed/Nafcillin': 'Nafcillin', 'b18 Select the antibiotics available at the health facility pharmacy from the Access group antibiotics listed/Nifurtoinol': 'Nifurtoinol', 'b18 Select the antibiotics available at the health facility pharmacy from the Access group antibiotics listed/Nitrofurantoin': 'Nitrofurantoin', 'b18 Select the antibiotics available at the health facility pharmacy from the Access group antibiotics listed/Ornidazole_IV': 'Ornidazole_IV', 'b18 Select the antibiotics available at the health facility pharmacy from the Access group antibiotics listed/Ornidazole_oral': 'Ornidazole_oral', 'b18 Select the antibiotics available at the health facility pharmacy from the Access group antibiotics listed/Oxacillin': 'Oxacillin', 'b18 Select the antibiotics available at the health facility pharmacy from the Access group antibiotics listed/Penamecillin': 'Penamecillin', 'b18 Select the antibiotics available at the health facility pharmacy from the Access group antibiotics listed/Phenoxymethylpenicillin': 'Phenoxymethylpenicillin', 'b18 Select the antibiotics available at the health facility pharmacy from the Access group antibiotics listed/Pivampicillin': 'Pivampicillin', 'b18 Select the antibiotics available at the health facility pharmacy from the Access group antibiotics listed/Pivmecillinam': 'Pivmecillinam', 'b18 Select the antibiotics available at the health facility pharmacy from the Access group antibiotics listed/Procaine-benzylpenicillin': 'Procaine-benzylpenicillin', 'b18 Select the antibiotics available at the health facility pharmacy from the Access group antibiotics listed/Propicillin': 'Propicillin', 'b18 Select the antibiotics available at the health facility pharmacy from the Access group antibiotics listed/Secnidazole': 'Secnidazole', 'b18 Select the antibiotics available at the health facility pharmacy from the Access group antibiotics listed/Spectinomycin': 'Spectinomycin', 'b18 Select the antibiotics available at the health facility pharmacy from the Access group antibiotics listed/Sulbactam': 'Sulbactam', 'b18 Select the antibiotics available at the health facility pharmacy from the Access group antibiotics listed/Sulfadiazine': 'Sulfadiazine', 'b18 Select the antibiotics available at the health facility pharmacy from the Access group antibiotics listed/Sulfadiazine/tetroxoprim': 'Sulfadiazine/tetroxoprim', 'b18 Select the antibiotics available at the health facility pharmacy from the Access group antibiotics listed/Sulfadiazine/trimethoprim': 'Sulfadiazine/trimethoprim', 'b18 Select the antibiotics available at the health facility pharmacy from the Access group antibiotics listed/Sulfadimethoxine': 'Sulfadimethoxine', 'b18 Select the antibiotics available at the health facility pharmacy from the Access group antibiotics listed/Sulfadimidine': 'Sulfadimidine', 'b18 Select the antibiotics available at the health facility pharmacy from the Access group antibiotics listed/Sulfadimidine/trimethoprim': 'Sulfadimidine/trimethoprim', 'b18 Select the antibiotics available at the health facility pharmacy from the Access group antibiotics listed/Sulfafurazole': 'Sulfafurazole', 'b18 Select the antibiotics available at the health facility pharmacy from the Access group antibiotics listed/Sulfaisodimidine': 'Sulfaisodimidine', 'b18 Select the antibiotics available at the health facility pharmacy from the Access group antibiotics listed/Sulfalene': 'Sulfalene', 'b18 Select the antibiotics available at the health facility pharmacy from the Access group antibiotics listed/Sulfamazone': 'Sulfamazone', 'b18 Select the antibiotics available at the health facility pharmacy from the Access group antibiotics listed/Sulfamerazine': 'Sulfamerazine', 'b18 Select the antibiotics available at the health facility pharmacy from the Access group antibiotics listed/Sulfamerazine/trimethoprim': 'Sulfamerazine/trimethoprim', 'b18 Select the antibiotics available at the health facility pharmacy from the Access group antibiotics listed/Sulfamethizole': 'Sulfamethizole', 'b18 Select the antibiotics available at the health facility pharmacy from the Access group antibiotics listed/Sulfamethoxazole': 'Sulfamethoxazole', 'b18 Select the antibiotics available at the health facility pharmacy from the Access group antibiotics listed/Sulfamethoxazole/trimethoprim': 'Sulfamethoxazole/trimethoprim', 'b18 Select the antibiotics available at the health facility pharmacy from the Access group antibiotics listed/Sulfamethoxypyridazine': 'Sulfamethoxypyridazine', 'b18 Select the antibiotics available at the health facility pharmacy from the Access group antibiotics listed/Sulfametomidine': 'Sulfametomidine', 'b18 Select the antibiotics available at the health facility pharmacy from the Access group antibiotics listed/Sulfametoxydiazine': 'Sulfametoxydiazine', 'b18 Select the antibiotics available at the health facility pharmacy from the Access group antibiotics listed/Sulfametrole/trimethoprim': 'Sulfametrole/trimethoprim', 'b18 Select the antibiotics available at the health facility pharmacy from the Access group antibiotics listed/Sulfamoxole': 'Sulfamoxole', 'b18 Select the antibiotics available at the health facility pharmacy from the Access group antibiotics listed/Sulfamoxole/trimethoprim': 'Sulfamoxole/trimethoprim', 'b18 Select the antibiotics available at the health facility pharmacy from the Access group antibiotics listed/Sulfanilamide': 'Sulfanilamide', 'b18 Select the antibiotics available at the health facility pharmacy from the Access group antibiotics listed/Sulfaperin': 'Sulfaperin', 'b18 Select the antibiotics available at the health facility pharmacy from the Access group antibiotics listed/Sulfaphenazole': 'Sulfaphenazole', 'b18 Select the antibiotics available at the health facility pharmacy from the Access group antibiotics listed/Sulfapyridine': 'Sulfapyridine', 'b18 Select the antibiotics available at the health facility pharmacy from the Access group antibiotics listed/Sulfathiazole': 'Sulfathiazole', 'b18 Select the antibiotics available at the health facility pharmacy from the Access group antibiotics listed/Sulfathiourea': 'Sulfathiourea', 'b18 Select the antibiotics available at the health facility pharmacy from the Access group antibiotics listed/Sultamicillin': 'Sultamicillin', 'b18 Select the antibiotics available at the health facility pharmacy from the Access group antibiotics listed/Talampicillin': 'Talampicillin', 'b18 Select the antibiotics available at the health facility pharmacy from the Access group antibiotics listed/Tetracycline': 'Tetracycline', 'b18 Select the antibiotics available at the health facility pharmacy from the Access group antibiotics listed/Thiamphenicol': 'Thiamphenicol', 'b18 Select the antibiotics available at the health facility pharmacy from the Access group antibiotics listed/Tinidazole_IV': 'Tinidazole_IV', 'b18 Select the antibiotics available at the health facility pharmacy from the Access group antibiotics listed/Tinidazole_oral': 'Tinidazole_oral', 'b18 Select the antibiotics available at the health facility pharmacy from the Access group antibiotics listed/Trimethoprim': 'Trimethoprim', 'b19 Select the antibiotics available at the health facility pharmacy from the Watch group antibiotics listed/Arbekacin': 'Arbekacin', 'b19 Select the antibiotics available at the health facility pharmacy from the Watch group antibiotics listed/Aspoxicillin': 'Aspoxicillin', 'b19 Select the antibiotics available at the health facility pharmacy from the Watch group antibiotics listed/Azithromycin': 'Azithromycin', 'b19 Select the antibiotics available at the health facility pharmacy from the Watch group antibiotics listed/Azlocillin': 'Azlocillin', 'b19 Select the antibiotics available at the health facility pharmacy from the Watch group antibiotics listed/Bekanamycin': 'Bekanamycin', 'b19 Select the antibiotics available at the health facility pharmacy from the Watch group antibiotics listed/Biapenem': 'Biapenem', 'b19 Select the antibiotics available at the health facility pharmacy from the Watch group antibiotics listed/Carbenicillin': 'Carbenicillin', 'b19 Select the antibiotics available at the health facility pharmacy from the Watch group antibiotics listed/Carindacillin': 'Carindacillin', 'b19 Select the antibiotics available at the health facility pharmacy from the Watch group antibiotics listed/Cefaclor': 'Cefaclor', 'b19 Select the antibiotics available at the health facility pharmacy from the Watch group antibiotics listed/Cefamandole': 'Cefamandole', 'b19 Select the antibiotics available at the health facility pharmacy from the Watch group antibiotics listed/Cefbuperazone': 'Cefbuperazone', 'b19 Select the antibiotics available at the health facility pharmacy from the Watch group antibiotics listed/Cefcapene-pivoxil': 'Cefcapene-pivoxil', 'b19 Select the antibiotics available at the health facility pharmacy from the Watch group antibiotics listed/Cefdinir': 'Cefdinir', 'b19 Select the antibiotics available at the health facility pharmacy from the Watch group antibiotics listed/Cefditoren-pivoxil': 'Cefditoren-pivoxil', 'b19 Select the antibiotics available at the health facility pharmacy from the Watch group antibiotics listed/Cefepime': 'Cefepime', 'b19 Select the antibiotics available at the health facility pharmacy from the Watch group antibiotics listed/Cefetamet-pivoxil': 'Cefetamet-pivoxil', 'b19 Select the antibiotics available at the health facility pharmacy from the Watch group antibiotics listed/Cefixime': 'Cefixime', 'b19 Select the antibiotics available at the health facility pharmacy from the Watch group antibiotics listed/Cefmenoxime': 'Cefmenoxime', 'b19 Select the antibiotics available at the health facility pharmacy from the Watch group antibiotics listed/Cefmetazole': 'Cefmetazole', 'b19 Select the antibiotics available at the health facility pharmacy from the Watch group antibiotics listed/Cefminox': 'Cefminox', 'b19 Select the antibiotics available at the health facility pharmacy from the Watch group antibiotics listed/Cefodizime': 'Cefodizime', 'b19 Select the antibiotics available at the health facility pharmacy from the Watch group antibiotics listed/Cefonicid': 'Cefonicid', 'b19 Select the antibiotics available at the health facility pharmacy from the Watch group antibiotics listed/Cefoperazone': 'Cefoperazone', 'b19 Select the antibiotics available at the health facility pharmacy from the Watch group antibiotics listed/Ceforanide': 'Ceforanide', 'b19 Select the antibiotics available at the health facility pharmacy from the Watch group antibiotics listed/Cefoselis': 'Cefoselis', 'b19 Select the antibiotics available at the health facility pharmacy from the Watch group antibiotics listed/Cefotaxime': 'Cefotaxime', 'b19 Select the antibiotics available at the health facility pharmacy from the Watch group antibiotics listed/Cefotetan': 'Cefotetan', 'b19 Select the antibiotics available at the health facility pharmacy from the Watch group antibiotics listed/Cefotiam': 'Cefotiam', 'b19 Select the antibiotics available at the health facility pharmacy from the Watch group antibiotics listed/Cefoxitin': 'Cefoxitin', 'b19 Select the antibiotics available at the health facility pharmacy from the Watch group antibiotics listed/Cefozopran': 'Cefozopran', 'b19 Select the antibiotics available at the health facility pharmacy from the Watch group antibiotics listed/Cefpiramide': 'Cefpiramide', 'b19 Select the antibiotics available at the health facility pharmacy from the Watch group antibiotics listed/Cefpirome': 'Cefpirome', 'b19 Select the antibiotics available at the health facility pharmacy from the Watch group antibiotics listed/Cefpodoxime-proxetil': 'Cefpodoxime-proxetil', 'b19 Select the antibiotics available at the health facility pharmacy from the Watch group antibiotics listed/Cefprozil': 'Cefprozil', 'b19 Select the antibiotics available at the health facility pharmacy from the Watch group antibiotics listed/Cefsulodin': 'Cefsulodin', 'b19 Select the antibiotics available at the health facility pharmacy from the Watch group antibiotics listed/Ceftazidime': 'Ceftazidime', 'b19 Select the antibiotics available at the health facility pharmacy from the Watch group antibiotics listed/Cefteram-pivoxil': 'Cefteram-pivoxil', 'b19 Select the antibiotics available at the health facility pharmacy from the Watch group antibiotics listed/Ceftibuten': 'Ceftibuten', 'b19 Select the antibiotics available at the health facility pharmacy from the Watch group antibiotics listed/Ceftizoxime': 'Ceftizoxime', 'b19 Select the antibiotics available at the health facility pharmacy from the Watch group antibiotics listed/Ceftriaxone': 'Ceftriaxone', 'b19 Select the antibiotics available at the health facility pharmacy from the Watch group antibiotics listed/Cefuroxime': 'Cefuroxime', 'b19 Select the antibiotics available at the health facility pharmacy from the Watch group antibiotics listed/Chlortetracycline': 'Chlortetracycline', 'b19 Select the antibiotics available at the health facility pharmacy from the Watch group antibiotics listed/Cinoxacin': 'Cinoxacin', 'b19 Select the antibiotics available at the health facility pharmacy from the Watch group antibiotics listed/Ciprofloxacin': 'Ciprofloxacin', 'b19 Select the antibiotics available at the health facility pharmacy from the Watch group antibiotics listed/Clarithromycin': 'Clarithromycin', 'b19 Select the antibiotics available at the health facility pharmacy from the Watch group antibiotics listed/Clofoctol': 'Clofoctol', 'b19 Select the antibiotics available at the health facility pharmacy from the Watch group antibiotics listed/Clomocycline': 'Clomocycline', 'b19 Select the antibiotics available at the health facility pharmacy from the Watch group antibiotics listed/Delafloxacin': 'Delafloxacin', 'b19 Select the antibiotics available at the health facility pharmacy from the Watch group antibiotics listed/Demeclocycline': 'Demeclocycline', 'b19 Select the antibiotics available at the health facility pharmacy from the Watch group antibiotics listed/Dibekacin': 'Dibekacin', 'b19 Select the antibiotics available at the health facility pharmacy from the Watch group antibiotics listed/Dirithromycin': 'Dirithromycin', 'b19 Select the antibiotics available at the health facility pharmacy from the Watch group antibiotics listed/Doripenem': 'Doripenem', 'b19 Select the antibiotics available at the health facility pharmacy from the Watch group antibiotics listed/Enoxacin': 'Enoxacin', 'b19 Select the antibiotics available at the health facility pharmacy from the Watch group antibiotics listed/Ertapenem': 'Ertapenem', 'b19 Select the antibiotics available at the health facility pharmacy from the Watch group antibiotics listed/Erythromycin': 'Erythromycin', 'b19 Select the antibiotics available at the health facility pharmacy from the Watch group antibiotics listed/Fidaxomicin': 'Fidaxomicin', 'b19 Select the antibiotics available at the health facility pharmacy from the Watch group antibiotics listed/Fleroxacin': 'Fleroxacin', 'b19 Select the antibiotics available at the health facility pharmacy from the Watch group antibiotics listed/Flomoxef': 'Flomoxef', 'b19 Select the antibiotics available at the health facility pharmacy from the Watch group antibiotics listed/Flumequine': 'Flumequine', 'b19 Select the antibiotics available at the health facility pharmacy from the Watch group antibiotics listed/Flurithromycin': 'Flurithromycin', 'b19 Select the antibiotics available at the health facility pharmacy from the Watch group antibiotics listed/Fosfomycin_oral': 'Fosfomycin_oral', 'b19 Select the antibiotics available at the health facility pharmacy from the Watch group antibiotics listed/Fusidic-acid': 'Fusidic-acid', 'b19 Select the antibiotics available at the health facility pharmacy from the Watch group antibiotics listed/Garenoxacin': 'Garenoxacin', 'b19 Select the antibiotics available at the health facility pharmacy from the Watch group antibiotics listed/Gatifloxacin': 'Gatifloxacin', 'b19 Select the antibiotics available at the health facility pharmacy from the Watch group antibiotics listed/Gemifloxacin': 'Gemifloxacin', 'b19 Select the antibiotics available at the health facility pharmacy from the Watch group antibiotics listed/Grepafloxacin': 'Grepafloxacin', 'b19 Select the antibiotics available at the health facility pharmacy from the Watch group antibiotics listed/Imipenem/cilastatin': 'Imipenem/cilastatin', 'b19 Select the antibiotics available at the health facility pharmacy from the Watch group antibiotics listed/Isepamicin': 'Isepamicin', 'b19 Select the antibiotics available at the health facility pharmacy from the Watch group antibiotics listed/Josamycin': 'Josamycin', 'b19 Select the antibiotics available at the health facility pharmacy from the Watch group antibiotics listed/Kanamycin_IV': 'Kanamycin_IV', 'b19 Select the antibiotics available at the health facility pharmacy from the Watch group antibiotics listed/Kanamycin_oral': 'Kanamycin_oral', 'b19 Select the antibiotics available at the health facility pharmacy from the Watch group antibiotics listed/Lascufloxacin': 'Lascufloxacin', 'b19 Select the antibiotics available at the health facility pharmacy from the Watch group antibiotics listed/Latamoxef': 'Latamoxef', 'b19 Select the antibiotics available at the health facility pharmacy from the Watch group antibiotics listed/Levofloxacin': 'Levofloxacin', 'b19 Select the antibiotics available at the health facility pharmacy from the Watch group antibiotics listed/Levonadifloxacin': 'Levonadifloxacin', 'b19 Select the antibiotics available at the health facility pharmacy from the Watch group antibiotics listed/Lincomycin': 'Lincomycin', 'b19 Select the antibiotics available at the health facility pharmacy from the Watch group antibiotics listed/Lomefloxacin': 'Lomefloxacin', 'b19 Select the antibiotics available at the health facility pharmacy from the Watch group antibiotics listed/Loracarbef': 'Loracarbef', 'b19 Select the antibiotics available at the health facility pharmacy from the Watch group antibiotics listed/Lymecycline': 'Lymecycline', 'b19 Select the antibiotics available at the health facility pharmacy from the Watch group antibiotics listed/Meropenem': 'Meropenem', 'b19 Select the antibiotics available at the health facility pharmacy from the Watch group antibiotics listed/Metacycline': 'Metacycline', 'b19 Select the antibiotics available at the health facility pharmacy from the Watch group antibiotics listed/Mezlocillin': 'Mezlocillin', 'b19 Select the antibiotics available at the health facility pharmacy from the Watch group antibiotics listed/Micronomicin': 'Micronomicin', 'b19 Select the antibiotics available at the health facility pharmacy from the Watch group antibiotics listed/Midecamycin': 'Midecamycin', 'b19 Select the antibiotics available at the health facility pharmacy from the Watch group antibiotics listed/Minocycline_oral': 'Minocycline_oral', 'b19 Select the antibiotics available at the health facility pharmacy from the Watch group antibiotics listed/Miocamycin': 'Miocamycin', 'b19 Select the antibiotics available at the health facility pharmacy from the Watch group antibiotics listed/Moxifloxacin': 'Moxifloxacin', 'b19 Select the antibiotics available at the health facility pharmacy from the Watch group antibiotics listed/Nemonoxacin': 'Nemonoxacin', 'b19 Select the antibiotics available at the health facility pharmacy from the Watch group antibiotics listed/Neomycin_IV': 'Neomycin_IV', 'b19 Select the antibiotics available at the health facility pharmacy from the Watch group antibiotics listed/Neomycin_oral': 'Neomycin_oral', 'b19 Select the antibiotics available at the health facility pharmacy from the Watch group antibiotics listed/Netilmicin': 'Netilmicin', 'b19 Select the antibiotics available at the health facility pharmacy from the Watch group antibiotics listed/Norfloxacin': 'Norfloxacin', 'b19 Select the antibiotics available at the health facility pharmacy from the Watch group antibiotics listed/Ofloxacin': 'Ofloxacin', 'b19 Select the antibiotics available at the health facility pharmacy from the Watch group antibiotics listed/Oleandomycin': 'Oleandomycin', 'b19 Select the antibiotics available at the health facility pharmacy from the Watch group antibiotics listed/Oxolinic-acid': 'Oxolinic-acid', 'b19 Select the antibiotics available at the health facility pharmacy from the Watch group antibiotics listed/Oxytetracycline': 'Oxytetracycline', 'b19 Select the antibiotics available at the health facility pharmacy from the Watch group antibiotics listed/Panipenem': 'Panipenem', 'b19 Select the antibiotics available at the health facility pharmacy from the Watch group antibiotics listed/Pazufloxacin': 'Pazufloxacin', 'b19 Select the antibiotics available at the health facility pharmacy from the Watch group antibiotics listed/Pefloxacin': 'Pefloxacin', 'b19 Select the antibiotics available at the health facility pharmacy from the Watch group antibiotics listed/Penimepicycline': 'Penimepicycline', 'b19 Select the antibiotics available at the health facility pharmacy from the Watch group antibiotics listed/Pheneticillin': 'Pheneticillin', 'b19 Select the antibiotics available at the health facility pharmacy from the Watch group antibiotics listed/Pipemidic-acid': 'Pipemidic-acid', 'b19 Select the antibiotics available at the health facility pharmacy from the Watch group antibiotics listed/Piperacillin': 'Piperacillin', 'b19 Select the antibiotics available at the health facility pharmacy from the Watch group antibiotics listed/Piperacillin/tazobactam': 'Piperacillin/tazobactam', 'b19 Select the antibiotics available at the health facility pharmacy from the Watch group antibiotics listed/Piromidic-acid': 'Piromidic-acid', 'b19 Select the antibiotics available at the health facility pharmacy from the Watch group antibiotics listed/Pristinamycin': 'Pristinamycin', 'b19 Select the antibiotics available at the health facility pharmacy from the Watch group antibiotics listed/Prulifloxacin': 'Prulifloxacin', 'b19 Select the antibiotics available at the health facility pharmacy from the Watch group antibiotics listed/Ribostamycin': 'Ribostamycin', 'b19 Select the antibiotics available at the health facility pharmacy from the Watch group antibiotics listed/Rifabutin': 'Rifabutin', 'b19 Select the antibiotics available at the health facility pharmacy from the Watch group antibiotics listed/Rifampicin': 'Rifampicin', 'b19 Select the antibiotics available at the health facility pharmacy from the Watch group antibiotics listed/Rifamycin_IV': 'Rifamycin_IV', 'b19 Select the antibiotics available at the health facility pharmacy from the Watch group antibiotics listed/Rifamycin_oral': 'Rifamycin_oral', 'b19 Select the antibiotics available at the health facility pharmacy from the Watch group antibiotics listed/Rifaximin': 'Rifaximin', 'b19 Select the antibiotics available at the health facility pharmacy from the Watch group antibiotics listed/Rokitamycin': 'Rokitamycin', 'b19 Select the antibiotics available at the health facility pharmacy from the Watch group antibiotics listed/Rolitetracycline': 'Rolitetracycline', 'b19 Select the antibiotics available at the health facility pharmacy from the Watch group antibiotics listed/Rosoxacin': 'Rosoxacin', 'b19 Select the antibiotics available at the health facility pharmacy from the Watch group antibiotics listed/Roxithromycin': 'Roxithromycin', 'b19 Select the antibiotics available at the health facility pharmacy from the Watch group antibiotics listed/Rufloxacin': 'Rufloxacin', 'b19 Select the antibiotics available at the health facility pharmacy from the Watch group antibiotics listed/Sarecycline': 'Sarecycline', 'b19 Select the antibiotics available at the health facility pharmacy from the Watch group antibiotics listed/Sisomicin': 'Sisomicin', 'b19 Select the antibiotics available at the health facility pharmacy from the Watch group antibiotics listed/Sitafloxacin': 'Sitafloxacin', 'b19 Select the antibiotics available at the health facility pharmacy from the Watch group antibiotics listed/Solithromycin': 'Solithromycin', 'b19 Select the antibiotics available at the health facility pharmacy from the Watch group antibiotics listed/Sparfloxacin': 'Sparfloxacin', 'b19 Select the antibiotics available at the health facility pharmacy from the Watch group antibiotics listed/Spiramycin': 'Spiramycin', 'b19 Select the antibiotics available at the health facility pharmacy from the Watch group antibiotics listed/Streptoduocin': 'Streptoduocin', 'b19 Select the antibiotics available at the health facility pharmacy from the Watch group antibiotics listed/Streptomycin_IV': 'Streptomycin_IV', 'b19 Select the antibiotics available at the health facility pharmacy from the Watch group antibiotics listed/Streptomycin_oral': 'Streptomycin_oral', 'b19 Select the antibiotics available at the health facility pharmacy from the Watch group antibiotics listed/Sulbenicillin': 'Sulbenicillin', 'b19 Select the antibiotics available at the health facility pharmacy from the Watch group antibiotics listed/Tazobactam': 'Tazobactam', 'b19 Select the antibiotics available at the health facility pharmacy from the Watch group antibiotics listed/Tebipenem': 'Tebipenem', 'b19 Select the antibiotics available at the health facility pharmacy from the Watch group antibiotics listed/Teicoplanin': 'Teicoplanin', 'b19 Select the antibiotics available at the health facility pharmacy from the Watch group antibiotics listed/Telithromycin': 'Telithromycin', 'b19 Select the antibiotics available at the health facility pharmacy from the Watch group antibiotics listed/Temafloxacin': 'Temafloxacin', 'b19 Select the antibiotics available at the health facility pharmacy from the Watch group antibiotics listed/Temocillin': 'Temocillin', 'b19 Select the antibiotics available at the health facility pharmacy from the Watch group antibiotics listed/Ticarcillin': 'Ticarcillin', 'b19 Select the antibiotics available at the health facility pharmacy from the Watch group antibiotics listed/Tobramycin': 'Tobramycin', 'b19 Select the antibiotics available at the health facility pharmacy from the Watch group antibiotics listed/Tosufloxacin': 'Tosufloxacin', 'b19 Select the antibiotics available at the health facility pharmacy from the Watch group antibiotics listed/Troleandomycin': 'Troleandomycin', 'b19 Select the antibiotics available at the health facility pharmacy from the Watch group antibiotics listed/Trovafloxacin': 'Trovafloxacin', 'b19 Select the antibiotics available at the health facility pharmacy from the Watch group antibiotics listed/Vancomycin_IV': 'Vancomycin_IV', 'b19 Select the antibiotics available at the health facility pharmacy from the Watch group antibiotics listed/Vancomycin_oral': 'Vancomycin_oral', 'b20 Select the antibiotics available at the health facility pharmacy from the Reserve group antibiotics listed/Aztreonam': 'Aztreonam', 'b20 Select the antibiotics available at the health facility pharmacy from the Reserve group antibiotics listed/Carumonam': 'Carumonam', 'b20 Select the antibiotics available at the health facility pharmacy from the Reserve group antibiotics listed/Cefiderocol': 'Cefiderocol', 'b20 Select the antibiotics available at the health facility pharmacy from the Reserve group antibiotics listed/Ceftaroline-fosamil': 'Ceftaroline-fosamil', 'b20 Select the antibiotics available at the health facility pharmacy from the Reserve group antibiotics listed/Ceftazidime/avibactam': 'Ceftazidime/avibactam', 'b20 Select the antibiotics available at the health facility pharmacy from the Reserve group antibiotics listed/Ceftobiprole-medocaril': 'Ceftobiprole-medocaril', 'b20 Select the antibiotics available at the health facility pharmacy from the Reserve group antibiotics listed/Ceftolozane/tazobactam': 'Ceftolozane/tazobactam', 'b20 Select the antibiotics available at the health facility pharmacy from the Reserve group antibiotics listed/Colistin_IV': 'Colistin_IV', 'b20 Select the antibiotics available at the health facility pharmacy from the Reserve group antibiotics listed/Colistin_oral': 'Colistin_oral', 'b20 Select the antibiotics available at the health facility pharmacy from the Reserve group antibiotics listed/Dalbavancin': 'Dalbavancin', 'b20 Select the antibiotics available at the health facility pharmacy from the Reserve group antibiotics listed/Dalfopristin/quinupristin': 'Dalfopristin/quinupristin', 'b20 Select the antibiotics available at the health facility pharmacy from the Reserve group antibiotics listed/Daptomycin': 'Daptomycin', 'b20 Select the antibiotics available at the health facility pharmacy from the Reserve group antibiotics listed/Eravacycline': 'Eravacycline', 'b20 Select the antibiotics available at the health facility pharmacy from the Reserve group antibiotics listed/Faropenem': 'Faropenem', 'b20 Select the antibiotics available at the health facility pharmacy from the Reserve group antibiotics listed/Fosfomycin_IV': 'Fosfomycin_IV', 'b20 Select the antibiotics available at the health facility pharmacy from the Reserve group antibiotics listed/Iclaprim': 'Iclaprim', 'b20 Select the antibiotics available at the health facility pharmacy from the Reserve group antibiotics listed/Imipenem/cilastatin/relebactam': 'Imipenem/cilastatin/relebactam', 'b20 Select the antibiotics available at the health facility pharmacy from the Reserve group antibiotics listed/Lefamulin': 'Lefamulin', 'b20 Select the antibiotics available at the health facility pharmacy from the Reserve group antibiotics listed/Linezolid': 'Linezolid', 'b20 Select the antibiotics available at the health facility pharmacy from the Reserve group antibiotics listed/Meropenem/vaborbactam': 'Meropenem/vaborbactam', 'b20 Select the antibiotics available at the health facility pharmacy from the Reserve group antibiotics listed/Minocycline_IV': 'Minocycline_IV', 'b20 Select the antibiotics available at the health facility pharmacy from the Reserve group antibiotics listed/Omadacycline': 'Omadacycline', 'b20 Select the antibiotics available at the health facility pharmacy from the Reserve group antibiotics listed/Oritavancin': 'Oritavancin', 'b20 Select the antibiotics available at the health facility pharmacy from the Reserve group antibiotics listed/Plazomicin': 'Plazomicin', 'b20 Select the antibiotics available at the health facility pharmacy from the Reserve group antibiotics listed/Polymyxin-B_IV': 'Polymyxin-B_IV', 'b20 Select the antibiotics available at the health facility pharmacy from the Reserve group antibiotics listed/Polymyxin-B_oral': 'Polymyxin-B_oral', 'b20 Select the antibiotics available at the health facility pharmacy from the Reserve group antibiotics listed/Tedizolid': 'Tedizolid', 'b20 Select the antibiotics available at the health facility pharmacy from the Reserve group antibiotics listed/Telavancin': 'Telavancin', 'b20 Select the antibiotics available at the health facility pharmacy from the Reserve group antibiotics listed/Tigecycline': 'Tigecycline', 'c5 Who does the reconstitution of antibiotics?/Pharmacist': 'Pharmacist', 'c5 Who does the reconstitution of antibiotics?/Pharmaceutical technologist': 'Pharmaceutical technologist', 'c5 Who does the reconstitution of antibiotics?/Nurses': 'Nurses', 'c5 Who does the reconstitution of antibiotics?/Clinicians': 'Clinicians', 'c5 Who does the reconstitution of antibiotics?/other': 'other', 'c6 Who provides drug information?/Pharmacist': 'Pharmacist', 'c6 Who provides drug information?/Pharmaceutical technologist': 'Pharmaceutical technologist', 'c6 Who provides drug information?/Nurses': 'Nurses', 'c6 Who provides drug information?/Clinicians': 'Clinicians', 'c6 Who provides drug information?/other': 'other', 'd11 Who provides preauthorization?/Medical Officers': 'Medical Officers', 'd11 Who provides preauthorization?/Clinical Officers': 'Clinical Officers', 'd11 Who provides preauthorization?/Pharmacists': 'Pharmacists', 'd11 Who provides preauthorization?/Consultants': 'Consultants', 'd11 Who provides preauthorization?/Other': 'Other', 'd11 Who provides preauthorization?/other': 'other', 'd12 How is preauthorization provided?/Electronically': 'Electronically', 'd12 How is preauthorization provided?/Verbally': 'Verbally', 'd12 How is preauthorization provided?/Manually (written)': 'Manually (written)', 'd12 How is preauthorization provided?/Other': 'Other', 'd12 How is preauthorization provided?/other': 'other', 'd15 For which wards?/Medical Unit': 'Medical Unit', 'd15 For which wards?/Surgical Unit': 'Surgical Unit', 'd15 For which wards?/ICU': 'ICU', 'd15 For which wards?/HDU': 'HDU', 'd15 For which wards?/other': 'other', 'd20 Which wards have stewardship rounds?/Medical Unit': 'Medical Unit', 'd20 Which wards have stewardship rounds?/Surgical Unit': 'Surgical Unit', 'd20 Which wards have stewardship rounds?/ICU': 'ICU', 'd20 Which wards have stewardship rounds?/HDU': 'HDU', 'd20 Which wards have stewardship rounds?/other': 'other', 'd25 For which wards?/Medical Unit': 'Medical Unit', 'd25 For which wards?/Surgical Unit': 'Surgical Unit', 'd25 For which wards?/ICU': 'ICU', 'd25 For which wards?/HDU': 'HDU', 'd25 For which wards?/other': 'other', 'e9 How are payments for patients made?/Cash': 'Cash', 'e9 How are payments for patients made?/Medical insurance (private)': 'Medical insurance (private)', 'e9 How are payments for patients made?/Government health scheme (NHIF, UHC, ESIC, CGHS)': 'Government health scheme (NHIF, UHC, ESIC, CGHS)', 'e9 How are payments for patients made?/Free': 'Free', 'f7 Which guidelines do you use?/National Guidelines': 'National Guidelines', 'f7 Which guidelines do you use?/WHO Guidelines': 'WHO Guidelines', 'f7 Which guidelines do you use?/County Guidelines': 'County Guidelines', 'f7 Which guidelines do you use?/Hospital Guidelines': 'Hospital Guidelines', 'f7 Which guidelines do you use?/Other': 'Other', 'f7 Which guidelines do you use?/other': 'other', 'n3 Detail out the Challenges/ barriers in implementing the proper Antibiotic usage in your facility./Patient behavior in using antibiotics': 'Patient behavior in using antibiotics', 'n3 Detail out the Challenges/ barriers in implementing the proper Antibiotic usage in your facility./Lack of appropriate implementation of guidelines': 'Lack of appropriate implementation of guidelines', 'n3 Detail out the Challenges/ barriers in implementing the proper Antibiotic usage in your facility./Lack of specific antibiogram for primary care': 'Lack of specific antibiogram for primary care', 'n3 Detail out the Challenges/ barriers in implementing the proper Antibiotic usage in your facility./Competition amongst clinicians': 'Competition amongst clinicians', 'n3 Detail out the Challenges/ barriers in implementing the proper Antibiotic usage in your facility./Lack of departmental co-ordination': 'Lack of departmental co-ordination', 'n3 Detail out the Challenges/ barriers in implementing the proper Antibiotic usage in your facility./Unclear clinical presentation': 'Unclear clinical presentation', 'n3 Detail out the Challenges/ barriers in implementing the proper Antibiotic usage in your facility./Lack of diagnostic capability': 'Lack of diagnostic capability', 'n3 Detail out the Challenges/ barriers in implementing the proper Antibiotic usage in your facility./Restricted time of consultation': 'Restricted time of consultation', 'n3 Detail out the Challenges/ barriers in implementing the proper Antibiotic usage in your facility./Clinician knowledge and practices': 'Clinician knowledge and practices', 'n3 Detail out the Challenges/ barriers in implementing the proper Antibiotic usage in your facility./Other': 'Other', 'n3 Detail out the Challenges/ barriers in implementing the proper Antibiotic usage in your facility./other': 'other', 'c7 Who provides drug information?/Pharmacist': 'Pharmacist', 'c7 Who provides drug information?/Pharmaceutical technologist': 'Pharmaceutical technologist', 'c7 Who provides drug information?/Nurses': 'Nurses', 'c7 Who provides drug information?/Clinicians': 'Clinicians', 'c7 Who provides drug information?/other': 'other', '5d.3 Who provides preauthorization?/Medical Officers': 'Medical Officers', '5d.3 Who provides preauthorization?/Clinical Officers': 'Clinical Officers', '5d.3 Who provides preauthorization?/Pharmacists': 'Pharmacists', '5d.3 Who provides preauthorization?/Consultants': 'Consultants', '5d.3 Who provides preauthorization?/other': 'other', '5d.4 How is preauthorization provided?/Electronically': 'Electronically', '5d.4 How is preauthorization provided?/Verbally': 'Verbally', '5d.4 How is preauthorization provided?/Manually (written)': 'Manually (written)', '5d.4 How is preauthorization provided?/other': 'other', '5e.3 For which wards?/Medical Unit': 'Medical Unit', '5e.3 For which wards?/Surgical Unit': 'Surgical Unit', '5e.3 For which wards?/ICU': 'ICU', '5e.3 For which wards?/HDU': 'HDU', '5f.4 Which wards have stewardship rounds?/Medical Unit': 'Medical Unit', '5f.4 Which wards have stewardship rounds?/Surgical Unit': 'Surgical Unit', '5f.4 Which wards have stewardship rounds?/ICU': 'ICU', '5f.4 Which wards have stewardship rounds?/HDU': 'HDU', '5g.4 For which wards?/Medical Unit': 'Medical Unit', '5g.4 For which wards?/Surgical Unit': 'Surgical Unit', '5g.4 For which wards?/ICU': 'ICU', '5g.4 For which wards?/HDU': 'HDU', '6c.5 How are payments for patients made?/Cash': 'Cash', '6c.5 How are payments for patients made?/Medical insurance (private)': 'Medical insurance (private)', '6c.5 How are payments for patients made?/Government health scheme (NHIF, UHC, ESIC, CGHS)': 'Government health scheme (NHIF, UHC, ESIC, CGHS)', '6c.5 How are payments for patients made?/Free': 'Free', '7b.4 Which guidelines do you use?/National Guidelines': 'National Guidelines', '7b.4 Which guidelines do you use?/WHO Guidelines': 'WHO Guidelines', '7b.4 Which guidelines do you use?/County Guidelines': 'County Guidelines', '7b.4 Which guidelines do you use?/Hospital Guidelines': 'Hospital Guidelines', '7_j3. Detail out the Challenges/ barriers in implementing the proper Antibiotic usage in your facility./Patient behavior in using antibiotics': 'Patient behavior in using antibiotics', '7_j3. Detail out the Challenges/ barriers in implementing the proper Antibiotic usage in your facility./Lack of appropriate implementation of guidelines': 'Lack of appropriate implementation of guidelines', '7_j3. Detail out the Challenges/ barriers in implementing the proper Antibiotic usage in your facility./Lack of specific antibiogram for primary care': 'Lack of specific antibiogram for primary care', '7_j3. Detail out the Challenges/ barriers in implementing the proper Antibiotic usage in your facility./Competition amongst clinicians': 'Competition amongst clinicians', '7_j3. Detail out the Challenges/ barriers in implementing the proper Antibiotic usage in your facility./Lack of departmental co-ordination': 'Lack of departmental co-ordination', '7_j3. Detail out the Challenges/ barriers in implementing the proper Antibiotic usage in your facility./Unclear clinical presentation': 'Unclear clinical presentation', '7_j3. Detail out the Challenges/ barriers in implementing the proper Antibiotic usage in your facility./Lack of diagnostic capability': 'Lack of diagnostic capability', '7_j3. Detail out the Challenges/ barriers in implementing the proper Antibiotic usage in your facility./Restricted time of consultation': 'Restricted time of consultation', '7_j3. Detail out the Challenges/ barriers in implementing the proper Antibiotic usage in your facility./Clinician knowledge and practices': 'Clinician knowledge and practices', '7_j3. Detail out the Challenges/ barriers in implementing the proper Antibiotic usage in your facility./Other': 'Other'} 374\n"
     ]
    }
   ],
   "source": [
    "interest_cols = []\n",
    "\n",
    "for col in abx_df.columns:        \n",
    "        for prefix in prefixes:            \n",
    "            if col.startswith(prefix):                \n",
    "                interest_cols.append(col)\n",
    "                \n",
    "interest_cols_ = []\n",
    "\n",
    "for prefix in prefixes:    \n",
    "    for col in abx_df.columns:        \n",
    "        if col.startswith(prefix):            \n",
    "            interest_cols_.append(col)\n",
    "            break\n",
    "            \n",
    "interest_cols = [col for col in interest_cols if col not in interest_cols_]\n",
    "\n",
    "interest_cols__ = {}\n",
    "\n",
    "for col in interest_cols:    \n",
    "    pf = col.split(' ', 1)[0] + ' '    \n",
    "    for col_ in interest_cols_:        \n",
    "        if col_.startswith(pf):            \n",
    "            interest_cols__[col] = col_\n",
    "            break\n",
    "            \n",
    "new_col_names = {}\n",
    "\n",
    "for k, v in interest_cols__.items():\n",
    "    new_col_names[k] = k.replace(v, '')\n",
    "    \n",
    "for k, v in new_col_names.items():\n",
    "    if v.startswith('/'):\n",
    "        new_col_names[k] = v[1:]\n",
    "        \n",
    "\n",
    "        \n",
    "            \n",
    "print(interest_cols__, len(interest_cols__))\n",
    "print(new_col_names, len(new_col_names))\n",
    "\n",
    "# print(interest_cols, len(interest_cols))            \n",
    "# print(interest_cols_, len(interest_cols_))"
   ],
   "metadata": {
    "collapsed": false,
    "ExecuteTime": {
     "end_time": "2024-01-23T13:41:32.196963200Z",
     "start_time": "2024-01-23T13:41:31.986754700Z"
    }
   },
   "id": "d335c1be68c14416",
   "execution_count": 450
  },
  {
   "cell_type": "code",
   "outputs": [
    {
     "ename": "MemoryError",
     "evalue": "Unable to allocate 35.7 MiB for an array with shape (6, 779520) and data type int64",
     "output_type": "error",
     "traceback": [
      "\u001B[1;31m---------------------------------------------------------------------------\u001B[0m",
      "\u001B[1;31mMemoryError\u001B[0m                               Traceback (most recent call last)",
      "Cell \u001B[1;32mIn[451], line 9\u001B[0m\n\u001B[0;32m      7\u001B[0m \u001B[38;5;28;01mfor\u001B[39;00m i \u001B[38;5;129;01min\u001B[39;00m prefixes:\n\u001B[0;32m      8\u001B[0m     cols_to_melt \u001B[38;5;241m=\u001B[39m [col \u001B[38;5;28;01mfor\u001B[39;00m col \u001B[38;5;129;01min\u001B[39;00m abx_df\u001B[38;5;241m.\u001B[39mcolumns \u001B[38;5;28;01mif\u001B[39;00m col\u001B[38;5;241m.\u001B[39mstartswith(i)]\n\u001B[1;32m----> 9\u001B[0m     abx_df \u001B[38;5;241m=\u001B[39m \u001B[43mabx_df\u001B[49m\u001B[38;5;241;43m.\u001B[39;49m\u001B[43mmelt\u001B[49m\u001B[43m(\u001B[49m\u001B[43mid_vars\u001B[49m\u001B[38;5;241;43m=\u001B[39;49m\u001B[43m[\u001B[49m\u001B[43mcol\u001B[49m\u001B[43m \u001B[49m\u001B[38;5;28;43;01mfor\u001B[39;49;00m\u001B[43m \u001B[49m\u001B[43mcol\u001B[49m\u001B[43m \u001B[49m\u001B[38;5;129;43;01min\u001B[39;49;00m\u001B[43m \u001B[49m\u001B[43mabx_df\u001B[49m\u001B[38;5;241;43m.\u001B[39;49m\u001B[43mcolumns\u001B[49m\u001B[43m \u001B[49m\u001B[38;5;28;43;01mif\u001B[39;49;00m\u001B[43m \u001B[49m\u001B[43mcol\u001B[49m\u001B[43m \u001B[49m\u001B[38;5;129;43;01mnot\u001B[39;49;00m\u001B[43m \u001B[49m\u001B[38;5;129;43;01min\u001B[39;49;00m\u001B[43m \u001B[49m\u001B[43mcols_to_melt\u001B[49m\u001B[43m]\u001B[49m\u001B[43m,\u001B[49m\n\u001B[0;32m     10\u001B[0m \u001B[43m                         \u001B[49m\u001B[43mvalue_vars\u001B[49m\u001B[38;5;241;43m=\u001B[39;49m\u001B[43mcols_to_melt\u001B[49m\u001B[43m,\u001B[49m\n\u001B[0;32m     11\u001B[0m \u001B[43m                         \u001B[49m\u001B[43mvar_name\u001B[49m\u001B[38;5;241;43m=\u001B[39;49m\u001B[43mi\u001B[49m\u001B[43m,\u001B[49m\n\u001B[0;32m     12\u001B[0m \u001B[43m                         \u001B[49m\u001B[43mvalue_name\u001B[49m\u001B[38;5;241;43m=\u001B[39;49m\u001B[43mi\u001B[49m\u001B[43m \u001B[49m\u001B[38;5;241;43m+\u001B[39;49m\u001B[43m \u001B[49m\u001B[38;5;124;43m'\u001B[39;49m\u001B[38;5;124;43mvalue\u001B[39;49m\u001B[38;5;124;43m'\u001B[39;49m\u001B[43m)\u001B[49m\n\u001B[0;32m     14\u001B[0m \u001B[38;5;66;03m# Subset columns that start with 'b5 '\u001B[39;00m\n\u001B[0;32m     15\u001B[0m \u001B[38;5;66;03m# b5_cols = [col for col in abx_df.columns if col.startswith('b5 ')]\u001B[39;00m\n\u001B[0;32m     16\u001B[0m \u001B[38;5;66;03m# \u001B[39;00m\n\u001B[1;32m   (...)\u001B[0m\n\u001B[0;32m     19\u001B[0m \u001B[38;5;66;03m#                      var_name='b5',\u001B[39;00m\n\u001B[0;32m     20\u001B[0m \u001B[38;5;66;03m#                      value_name='b5_value')\u001B[39;00m\n\u001B[0;32m     22\u001B[0m abx_df\n",
      "File \u001B[1;32m~\\AppData\\Local\\Programs\\Python\\Python311\\Lib\\site-packages\\pandas\\core\\frame.py:9915\u001B[0m, in \u001B[0;36mDataFrame.melt\u001B[1;34m(self, id_vars, value_vars, var_name, value_name, col_level, ignore_index)\u001B[0m\n\u001B[0;32m   9905\u001B[0m \u001B[38;5;129m@Appender\u001B[39m(_shared_docs[\u001B[38;5;124m\"\u001B[39m\u001B[38;5;124mmelt\u001B[39m\u001B[38;5;124m\"\u001B[39m] \u001B[38;5;241m%\u001B[39m {\u001B[38;5;124m\"\u001B[39m\u001B[38;5;124mcaller\u001B[39m\u001B[38;5;124m\"\u001B[39m: \u001B[38;5;124m\"\u001B[39m\u001B[38;5;124mdf.melt(\u001B[39m\u001B[38;5;124m\"\u001B[39m, \u001B[38;5;124m\"\u001B[39m\u001B[38;5;124mother\u001B[39m\u001B[38;5;124m\"\u001B[39m: \u001B[38;5;124m\"\u001B[39m\u001B[38;5;124mmelt\u001B[39m\u001B[38;5;124m\"\u001B[39m})\n\u001B[0;32m   9906\u001B[0m \u001B[38;5;28;01mdef\u001B[39;00m \u001B[38;5;21mmelt\u001B[39m(\n\u001B[0;32m   9907\u001B[0m     \u001B[38;5;28mself\u001B[39m,\n\u001B[1;32m   (...)\u001B[0m\n\u001B[0;32m   9913\u001B[0m     ignore_index: \u001B[38;5;28mbool\u001B[39m \u001B[38;5;241m=\u001B[39m \u001B[38;5;28;01mTrue\u001B[39;00m,\n\u001B[0;32m   9914\u001B[0m ) \u001B[38;5;241m-\u001B[39m\u001B[38;5;241m>\u001B[39m DataFrame:\n\u001B[1;32m-> 9915\u001B[0m     \u001B[38;5;28;01mreturn\u001B[39;00m \u001B[43mmelt\u001B[49m\u001B[43m(\u001B[49m\n\u001B[0;32m   9916\u001B[0m \u001B[43m        \u001B[49m\u001B[38;5;28;43mself\u001B[39;49m\u001B[43m,\u001B[49m\n\u001B[0;32m   9917\u001B[0m \u001B[43m        \u001B[49m\u001B[43mid_vars\u001B[49m\u001B[38;5;241;43m=\u001B[39;49m\u001B[43mid_vars\u001B[49m\u001B[43m,\u001B[49m\n\u001B[0;32m   9918\u001B[0m \u001B[43m        \u001B[49m\u001B[43mvalue_vars\u001B[49m\u001B[38;5;241;43m=\u001B[39;49m\u001B[43mvalue_vars\u001B[49m\u001B[43m,\u001B[49m\n\u001B[0;32m   9919\u001B[0m \u001B[43m        \u001B[49m\u001B[43mvar_name\u001B[49m\u001B[38;5;241;43m=\u001B[39;49m\u001B[43mvar_name\u001B[49m\u001B[43m,\u001B[49m\n\u001B[0;32m   9920\u001B[0m \u001B[43m        \u001B[49m\u001B[43mvalue_name\u001B[49m\u001B[38;5;241;43m=\u001B[39;49m\u001B[43mvalue_name\u001B[49m\u001B[43m,\u001B[49m\n\u001B[0;32m   9921\u001B[0m \u001B[43m        \u001B[49m\u001B[43mcol_level\u001B[49m\u001B[38;5;241;43m=\u001B[39;49m\u001B[43mcol_level\u001B[49m\u001B[43m,\u001B[49m\n\u001B[0;32m   9922\u001B[0m \u001B[43m        \u001B[49m\u001B[43mignore_index\u001B[49m\u001B[38;5;241;43m=\u001B[39;49m\u001B[43mignore_index\u001B[49m\u001B[43m,\u001B[49m\n\u001B[0;32m   9923\u001B[0m \u001B[43m    \u001B[49m\u001B[43m)\u001B[49m\u001B[38;5;241m.\u001B[39m__finalize__(\u001B[38;5;28mself\u001B[39m, method\u001B[38;5;241m=\u001B[39m\u001B[38;5;124m\"\u001B[39m\u001B[38;5;124mmelt\u001B[39m\u001B[38;5;124m\"\u001B[39m)\n",
      "File \u001B[1;32m~\\AppData\\Local\\Programs\\Python\\Python311\\Lib\\site-packages\\pandas\\core\\reshape\\melt.py:118\u001B[0m, in \u001B[0;36mmelt\u001B[1;34m(frame, id_vars, value_vars, var_name, value_name, col_level, ignore_index)\u001B[0m\n\u001B[0;32m    116\u001B[0m             mdata[col] \u001B[38;5;241m=\u001B[39m \u001B[38;5;28mtype\u001B[39m(id_data)([], name\u001B[38;5;241m=\u001B[39mid_data\u001B[38;5;241m.\u001B[39mname, dtype\u001B[38;5;241m=\u001B[39mid_data\u001B[38;5;241m.\u001B[39mdtype)\n\u001B[0;32m    117\u001B[0m     \u001B[38;5;28;01melse\u001B[39;00m:\n\u001B[1;32m--> 118\u001B[0m         mdata[col] \u001B[38;5;241m=\u001B[39m \u001B[43mnp\u001B[49m\u001B[38;5;241;43m.\u001B[39;49m\u001B[43mtile\u001B[49m\u001B[43m(\u001B[49m\u001B[43mid_data\u001B[49m\u001B[38;5;241;43m.\u001B[39;49m\u001B[43m_values\u001B[49m\u001B[43m,\u001B[49m\u001B[43m \u001B[49m\u001B[43mnum_cols_adjusted\u001B[49m\u001B[43m)\u001B[49m\n\u001B[0;32m    120\u001B[0m mcolumns \u001B[38;5;241m=\u001B[39m id_vars \u001B[38;5;241m+\u001B[39m var_name \u001B[38;5;241m+\u001B[39m [value_name]\n\u001B[0;32m    122\u001B[0m \u001B[38;5;28;01mif\u001B[39;00m frame\u001B[38;5;241m.\u001B[39mshape[\u001B[38;5;241m1\u001B[39m] \u001B[38;5;241m>\u001B[39m \u001B[38;5;241m0\u001B[39m \u001B[38;5;129;01mand\u001B[39;00m \u001B[38;5;129;01mnot\u001B[39;00m \u001B[38;5;28many\u001B[39m(\n\u001B[0;32m    123\u001B[0m     \u001B[38;5;129;01mnot\u001B[39;00m \u001B[38;5;28misinstance\u001B[39m(dt, np\u001B[38;5;241m.\u001B[39mdtype) \u001B[38;5;129;01mand\u001B[39;00m dt\u001B[38;5;241m.\u001B[39m_supports_2d \u001B[38;5;28;01mfor\u001B[39;00m dt \u001B[38;5;129;01min\u001B[39;00m frame\u001B[38;5;241m.\u001B[39mdtypes\n\u001B[0;32m    124\u001B[0m ):\n",
      "File \u001B[1;32m~\\AppData\\Local\\Programs\\Python\\Python311\\Lib\\site-packages\\numpy\\lib\\shape_base.py:1272\u001B[0m, in \u001B[0;36mtile\u001B[1;34m(A, reps)\u001B[0m\n\u001B[0;32m   1270\u001B[0m     \u001B[38;5;28;01mfor\u001B[39;00m dim_in, nrep \u001B[38;5;129;01min\u001B[39;00m \u001B[38;5;28mzip\u001B[39m(c\u001B[38;5;241m.\u001B[39mshape, tup):\n\u001B[0;32m   1271\u001B[0m         \u001B[38;5;28;01mif\u001B[39;00m nrep \u001B[38;5;241m!=\u001B[39m \u001B[38;5;241m1\u001B[39m:\n\u001B[1;32m-> 1272\u001B[0m             c \u001B[38;5;241m=\u001B[39m \u001B[43mc\u001B[49m\u001B[38;5;241;43m.\u001B[39;49m\u001B[43mreshape\u001B[49m\u001B[43m(\u001B[49m\u001B[38;5;241;43m-\u001B[39;49m\u001B[38;5;241;43m1\u001B[39;49m\u001B[43m,\u001B[49m\u001B[43m \u001B[49m\u001B[43mn\u001B[49m\u001B[43m)\u001B[49m\u001B[38;5;241;43m.\u001B[39;49m\u001B[43mrepeat\u001B[49m\u001B[43m(\u001B[49m\u001B[43mnrep\u001B[49m\u001B[43m,\u001B[49m\u001B[43m \u001B[49m\u001B[38;5;241;43m0\u001B[39;49m\u001B[43m)\u001B[49m\n\u001B[0;32m   1273\u001B[0m         n \u001B[38;5;241m/\u001B[39m\u001B[38;5;241m/\u001B[39m\u001B[38;5;241m=\u001B[39m dim_in\n\u001B[0;32m   1274\u001B[0m \u001B[38;5;28;01mreturn\u001B[39;00m c\u001B[38;5;241m.\u001B[39mreshape(shape_out)\n",
      "\u001B[1;31mMemoryError\u001B[0m: Unable to allocate 35.7 MiB for an array with shape (6, 779520) and data type int64"
     ]
    }
   ],
   "source": [
    "for col in interest_cols:\n",
    "    abx_df[col] = abx_df[col].replace({1: new_col_names[col], 0: 'Not ' + new_col_names[col]})\n",
    "    \n",
    "# Drop the columns in interest_cols_\n",
    "abx_df.drop(interest_cols_, axis=1, inplace=True)\n",
    "\n",
    "for i in prefixes:\n",
    "    cols_to_melt = [col for col in abx_df.columns if col.startswith(i)]\n",
    "    abx_df = abx_df.melt(id_vars=[col for col in abx_df.columns if col not in cols_to_melt],\n",
    "                         value_vars=cols_to_melt,\n",
    "                         var_name=i,\n",
    "                         value_name=i + 'value')\n",
    "\n",
    "# Subset columns that start with 'b5 '\n",
    "# b5_cols = [col for col in abx_df.columns if col.startswith('b5 ')]\n",
    "# \n",
    "# abx_df = abx_df.melt(id_vars=[col for col in abx_df.columns if col not in b5_cols],\n",
    "#                      value_vars=b5_cols,\n",
    "#                      var_name='b5',\n",
    "#                      value_name='b5_value')\n",
    "\n",
    "abx_df"
   ],
   "metadata": {
    "collapsed": false,
    "ExecuteTime": {
     "end_time": "2024-01-23T13:43:28.033174300Z",
     "start_time": "2024-01-23T13:41:32.105468500Z"
    }
   },
   "id": "12b9071633bc2319",
   "execution_count": 451
  },
  {
   "cell_type": "code",
   "outputs": [
    {
     "data": {
      "text/plain": "   b5 What guides clinicians to request for a bacteriology test?/Patient clinical signs  \\\n0                              Patient clinical signs                                     \n1                              Patient clinical signs                                     \n2                              Patient clinical signs                                     \n3                              Patient clinical signs                                     \n4                              Patient clinical signs                                     \n5                              Patient clinical signs                                     \n6                              Patient clinical signs                                     \n7                              Patient clinical signs                                     \n8                              Patient clinical signs                                     \n9                              Patient clinical signs                                     \n10                             Patient clinical signs                                     \n11                             Patient clinical signs                                     \n12                             Patient clinical signs                                     \n13                             Patient clinical signs                                     \n14                             Patient clinical signs                                     \n15                             Patient clinical signs                                     \n16                             Patient clinical signs                                     \n17                             Patient clinical signs                                     \n18                             Patient clinical signs                                     \n19                             Patient clinical signs                                     \n20                         Not Patient clinical signs                                     \n21                             Patient clinical signs                                     \n22                             Patient clinical signs                                     \n23                             Patient clinical signs                                     \n24                             Patient clinical signs                                     \n25                             Patient clinical signs                                     \n26                             Patient clinical signs                                     \n27                             Patient clinical signs                                     \n\n   b5 What guides clinicians to request for a bacteriology test?/Guidelines  \\\n0                                      Not Guidelines                         \n1                                      Not Guidelines                         \n2                                          Guidelines                         \n3                                      Not Guidelines                         \n4                                      Not Guidelines                         \n5                                      Not Guidelines                         \n6                                      Not Guidelines                         \n7                                          Guidelines                         \n8                                      Not Guidelines                         \n9                                      Not Guidelines                         \n10                                     Not Guidelines                         \n11                                         Guidelines                         \n12                                     Not Guidelines                         \n13                                     Not Guidelines                         \n14                                         Guidelines                         \n15                                     Not Guidelines                         \n16                                     Not Guidelines                         \n17                                         Guidelines                         \n18                                         Guidelines                         \n19                                         Guidelines                         \n20                                     Not Guidelines                         \n21                                     Not Guidelines                         \n22                                         Guidelines                         \n23                                     Not Guidelines                         \n24                                         Guidelines                         \n25                                     Not Guidelines                         \n26                                     Not Guidelines                         \n27                                         Guidelines                         \n\n   b5 What guides clinicians to request for a bacteriology test?/Research driven  \\\n0                                 Not Research driven                              \n1                                 Not Research driven                              \n2                                 Not Research driven                              \n3                                 Not Research driven                              \n4                                 Not Research driven                              \n5                                 Not Research driven                              \n6                                 Not Research driven                              \n7                                 Not Research driven                              \n8                                 Not Research driven                              \n9                                 Not Research driven                              \n10                                Not Research driven                              \n11                                Not Research driven                              \n12                                Not Research driven                              \n13                                Not Research driven                              \n14                                Not Research driven                              \n15                                Not Research driven                              \n16                                Not Research driven                              \n17                                Not Research driven                              \n18                                Not Research driven                              \n19                                    Research driven                              \n20                                Not Research driven                              \n21                                Not Research driven                              \n22                                Not Research driven                              \n23                                Not Research driven                              \n24                                Not Research driven                              \n25                                Not Research driven                              \n26                                Not Research driven                              \n27                                Not Research driven                              \n\n   b5 What guides clinicians to request for a bacteriology test?/other  \\\n0                                           Not other                    \n1                                           Not other                    \n2                                           Not other                    \n3                                           Not other                    \n4                                           Not other                    \n5                                           Not other                    \n6                                           Not other                    \n7                                           Not other                    \n8                                           Not other                    \n9                                           Not other                    \n10                                          Not other                    \n11                                          Not other                    \n12                                          Not other                    \n13                                          Not other                    \n14                                          Not other                    \n15                                          Not other                    \n16                                          Not other                    \n17                                          Not other                    \n18                                          Not other                    \n19                                          Not other                    \n20                                              other                    \n21                                          Not other                    \n22                                          Not other                    \n23                                          Not other                    \n24                                          Not other                    \n25                                          Not other                    \n26                                          Not other                    \n27                                          Not other                    \n\n   b12 Where is the antibiogram available/Clinic (Consultation room)  \\\n0                                                 NaN                  \n1                                                 NaN                  \n2                                                 NaN                  \n3                                                 NaN                  \n4                                                 NaN                  \n5                                                 NaN                  \n6                          Clinic (Consultation room)                  \n7                                                 NaN                  \n8                                                 NaN                  \n9                                                 NaN                  \n10                                                NaN                  \n11                                                NaN                  \n12                                                NaN                  \n13                                                NaN                  \n14                                                NaN                  \n15                                                NaN                  \n16                                                NaN                  \n17                                                NaN                  \n18                                                NaN                  \n19                                                NaN                  \n20                                                NaN                  \n21                                                NaN                  \n22                                                NaN                  \n23                                                NaN                  \n24                         Clinic (Consultation room)                  \n25                                                NaN                  \n26                                                NaN                  \n27                                                NaN                  \n\n   b12 Where is the antibiogram available/Hospital ward  \\\n0                                                 NaN     \n1                                                 NaN     \n2                                                 NaN     \n3                                                 NaN     \n4                                                 NaN     \n5                                                 NaN     \n6                                       Hospital ward     \n7                                                 NaN     \n8                                                 NaN     \n9                                                 NaN     \n10                                                NaN     \n11                                                NaN     \n12                                                NaN     \n13                                                NaN     \n14                                                NaN     \n15                                                NaN     \n16                                                NaN     \n17                                                NaN     \n18                                                NaN     \n19                                                NaN     \n20                                                NaN     \n21                                                NaN     \n22                                                NaN     \n23                                                NaN     \n24                                      Hospital ward     \n25                                                NaN     \n26                                                NaN     \n27                                                NaN     \n\n   b12 Where is the antibiogram available/Hospital Pharmacy  \\\n0                                                 NaN         \n1                                                 NaN         \n2                                                 NaN         \n3                                                 NaN         \n4                                                 NaN         \n5                                                 NaN         \n6                                   Hospital Pharmacy         \n7                                                 NaN         \n8                                                 NaN         \n9                                                 NaN         \n10                                                NaN         \n11                                                NaN         \n12                                                NaN         \n13                                                NaN         \n14                                                NaN         \n15                                                NaN         \n16                                                NaN         \n17                                                NaN         \n18                                                NaN         \n19                                                NaN         \n20                                                NaN         \n21                                                NaN         \n22                                                NaN         \n23                                                NaN         \n24                                  Hospital Pharmacy         \n25                                                NaN         \n26                                                NaN         \n27                                                NaN         \n\n   b12 Where is the antibiogram available/Available Online  \\\n0                                                 NaN        \n1                                                 NaN        \n2                                                 NaN        \n3                                                 NaN        \n4                                                 NaN        \n5                                                 NaN        \n6                                Not Available Online        \n7                                                 NaN        \n8                                                 NaN        \n9                                                 NaN        \n10                                                NaN        \n11                                                NaN        \n12                                                NaN        \n13                                                NaN        \n14                                                NaN        \n15                                                NaN        \n16                                                NaN        \n17                                                NaN        \n18                                                NaN        \n19                                                NaN        \n20                                                NaN        \n21                                                NaN        \n22                                                NaN        \n23                                                NaN        \n24                                   Available Online        \n25                                                NaN        \n26                                                NaN        \n27                                                NaN        \n\n   b12 Where is the antibiogram available/other  \\\n0                                           NaN   \n1                                           NaN   \n2                                           NaN   \n3                                           NaN   \n4                                           NaN   \n5                                           NaN   \n6                                         other   \n7                                           NaN   \n8                                           NaN   \n9                                           NaN   \n10                                          NaN   \n11                                          NaN   \n12                                          NaN   \n13                                          NaN   \n14                                          NaN   \n15                                          NaN   \n16                                          NaN   \n17                                          NaN   \n18                                          NaN   \n19                                          NaN   \n20                                          NaN   \n21                                          NaN   \n22                                          NaN   \n23                                          NaN   \n24                                    Not other   \n25                                          NaN   \n26                                          NaN   \n27                                          NaN   \n\n   b15 Who are issued with an antibiogram during orientation?/Nurses  ...  \\\n0                                                 NaN                 ...   \n1                                                 NaN                 ...   \n2                                                 NaN                 ...   \n3                                                 NaN                 ...   \n4                                                 NaN                 ...   \n5                                                 NaN                 ...   \n6                                                 NaN                 ...   \n7                                                 NaN                 ...   \n8                                                 NaN                 ...   \n9                                                 NaN                 ...   \n10                                                NaN                 ...   \n11                                                NaN                 ...   \n12                                                NaN                 ...   \n13                                                NaN                 ...   \n14                                                NaN                 ...   \n15                                                NaN                 ...   \n16                                                NaN                 ...   \n17                                                NaN                 ...   \n18                                                NaN                 ...   \n19                                                NaN                 ...   \n20                                                NaN                 ...   \n21                                                NaN                 ...   \n22                                                NaN                 ...   \n23                                                NaN                 ...   \n24                                             Nurses                 ...   \n25                                                NaN                 ...   \n26                                                NaN                 ...   \n27                                                NaN                 ...   \n\n   7_j3. Detail out the Challenges/ barriers in implementing the proper Antibiotic usage in your facility./Patient behavior in using antibiotics  \\\n0                                                 NaN                                                                                              \n1                                                 NaN                                                                                              \n2                                                 NaN                                                                                              \n3                                                 NaN                                                                                              \n4                                                 NaN                                                                                              \n5                                                 NaN                                                                                              \n6                                                 NaN                                                                                              \n7                                                 NaN                                                                                              \n8                                                 NaN                                                                                              \n9                                                 NaN                                                                                              \n10                                                NaN                                                                                              \n11                                                NaN                                                                                              \n12                                                NaN                                                                                              \n13                                                NaN                                                                                              \n14                                                NaN                                                                                              \n15                                                NaN                                                                                              \n16                                                NaN                                                                                              \n17                                                NaN                                                                                              \n18                                                NaN                                                                                              \n19                                                NaN                                                                                              \n20                                                NaN                                                                                              \n21                                                NaN                                                                                              \n22                                                NaN                                                                                              \n23                                                NaN                                                                                              \n24                                                NaN                                                                                              \n25                                                NaN                                                                                              \n26                                                NaN                                                                                              \n27                                                NaN                                                                                              \n\n   7_j3. Detail out the Challenges/ barriers in implementing the proper Antibiotic usage in your facility./Lack of appropriate implementation of guidelines  \\\n0                                                 NaN                                                                                                         \n1                                                 NaN                                                                                                         \n2                                                 NaN                                                                                                         \n3                                                 NaN                                                                                                         \n4                                                 NaN                                                                                                         \n5                                                 NaN                                                                                                         \n6                                                 NaN                                                                                                         \n7                                                 NaN                                                                                                         \n8                                                 NaN                                                                                                         \n9                                                 NaN                                                                                                         \n10                                                NaN                                                                                                         \n11                                                NaN                                                                                                         \n12                                                NaN                                                                                                         \n13                                                NaN                                                                                                         \n14                                                NaN                                                                                                         \n15                                                NaN                                                                                                         \n16                                                NaN                                                                                                         \n17                                                NaN                                                                                                         \n18                                                NaN                                                                                                         \n19                                                NaN                                                                                                         \n20                                                NaN                                                                                                         \n21                                                NaN                                                                                                         \n22                                                NaN                                                                                                         \n23                                                NaN                                                                                                         \n24                                                NaN                                                                                                         \n25                                                NaN                                                                                                         \n26                                                NaN                                                                                                         \n27                                                NaN                                                                                                         \n\n   7_j3. Detail out the Challenges/ barriers in implementing the proper Antibiotic usage in your facility./Lack of specific antibiogram for primary care  \\\n0                                                 NaN                                                                                                      \n1                                                 NaN                                                                                                      \n2                                                 NaN                                                                                                      \n3                                                 NaN                                                                                                      \n4                                                 NaN                                                                                                      \n5                                                 NaN                                                                                                      \n6                                                 NaN                                                                                                      \n7                                                 NaN                                                                                                      \n8                                                 NaN                                                                                                      \n9                                                 NaN                                                                                                      \n10                                                NaN                                                                                                      \n11                                                NaN                                                                                                      \n12                                                NaN                                                                                                      \n13                                                NaN                                                                                                      \n14                                                NaN                                                                                                      \n15                                                NaN                                                                                                      \n16                                                NaN                                                                                                      \n17                                                NaN                                                                                                      \n18                                                NaN                                                                                                      \n19                                                NaN                                                                                                      \n20                                                NaN                                                                                                      \n21                                                NaN                                                                                                      \n22                                                NaN                                                                                                      \n23                                                NaN                                                                                                      \n24                                                NaN                                                                                                      \n25                                                NaN                                                                                                      \n26                                                NaN                                                                                                      \n27                                                NaN                                                                                                      \n\n   7_j3. Detail out the Challenges/ barriers in implementing the proper Antibiotic usage in your facility./Competition amongst clinicians  \\\n0                                                 NaN                                                                                       \n1                                                 NaN                                                                                       \n2                                                 NaN                                                                                       \n3                                                 NaN                                                                                       \n4                                                 NaN                                                                                       \n5                                                 NaN                                                                                       \n6                                                 NaN                                                                                       \n7                                                 NaN                                                                                       \n8                                                 NaN                                                                                       \n9                                                 NaN                                                                                       \n10                                                NaN                                                                                       \n11                                                NaN                                                                                       \n12                                                NaN                                                                                       \n13                                                NaN                                                                                       \n14                                                NaN                                                                                       \n15                                                NaN                                                                                       \n16                                                NaN                                                                                       \n17                                                NaN                                                                                       \n18                                                NaN                                                                                       \n19                                                NaN                                                                                       \n20                                                NaN                                                                                       \n21                                                NaN                                                                                       \n22                                                NaN                                                                                       \n23                                                NaN                                                                                       \n24                                                NaN                                                                                       \n25                                                NaN                                                                                       \n26                                                NaN                                                                                       \n27                                                NaN                                                                                       \n\n   7_j3. Detail out the Challenges/ barriers in implementing the proper Antibiotic usage in your facility./Lack of departmental co-ordination  \\\n0                                                 NaN                                                                                           \n1                                                 NaN                                                                                           \n2                                                 NaN                                                                                           \n3                                                 NaN                                                                                           \n4                                                 NaN                                                                                           \n5                                                 NaN                                                                                           \n6                                                 NaN                                                                                           \n7                                                 NaN                                                                                           \n8                                                 NaN                                                                                           \n9                                                 NaN                                                                                           \n10                                                NaN                                                                                           \n11                                                NaN                                                                                           \n12                                                NaN                                                                                           \n13                                                NaN                                                                                           \n14                                                NaN                                                                                           \n15                                                NaN                                                                                           \n16                                                NaN                                                                                           \n17                                                NaN                                                                                           \n18                                                NaN                                                                                           \n19                                                NaN                                                                                           \n20                                                NaN                                                                                           \n21                                                NaN                                                                                           \n22                                                NaN                                                                                           \n23                                                NaN                                                                                           \n24                                                NaN                                                                                           \n25                                                NaN                                                                                           \n26                                                NaN                                                                                           \n27                                                NaN                                                                                           \n\n   7_j3. Detail out the Challenges/ barriers in implementing the proper Antibiotic usage in your facility./Unclear clinical presentation  \\\n0                                                 NaN                                                                                      \n1                                                 NaN                                                                                      \n2                                                 NaN                                                                                      \n3                                                 NaN                                                                                      \n4                                                 NaN                                                                                      \n5                                                 NaN                                                                                      \n6                                                 NaN                                                                                      \n7                                                 NaN                                                                                      \n8                                                 NaN                                                                                      \n9                                                 NaN                                                                                      \n10                                                NaN                                                                                      \n11                                                NaN                                                                                      \n12                                                NaN                                                                                      \n13                                                NaN                                                                                      \n14                                                NaN                                                                                      \n15                                                NaN                                                                                      \n16                                                NaN                                                                                      \n17                                                NaN                                                                                      \n18                                                NaN                                                                                      \n19                                                NaN                                                                                      \n20                                                NaN                                                                                      \n21                                                NaN                                                                                      \n22                                                NaN                                                                                      \n23                                                NaN                                                                                      \n24                                                NaN                                                                                      \n25                                                NaN                                                                                      \n26                                                NaN                                                                                      \n27                                                NaN                                                                                      \n\n   7_j3. Detail out the Challenges/ barriers in implementing the proper Antibiotic usage in your facility./Lack of diagnostic capability  \\\n0                                                 NaN                                                                                      \n1                                                 NaN                                                                                      \n2                                                 NaN                                                                                      \n3                                                 NaN                                                                                      \n4                                                 NaN                                                                                      \n5                                                 NaN                                                                                      \n6                                                 NaN                                                                                      \n7                                                 NaN                                                                                      \n8                                                 NaN                                                                                      \n9                                                 NaN                                                                                      \n10                                                NaN                                                                                      \n11                                                NaN                                                                                      \n12                                                NaN                                                                                      \n13                                                NaN                                                                                      \n14                                                NaN                                                                                      \n15                                                NaN                                                                                      \n16                                                NaN                                                                                      \n17                                                NaN                                                                                      \n18                                                NaN                                                                                      \n19                                                NaN                                                                                      \n20                                                NaN                                                                                      \n21                                                NaN                                                                                      \n22                                                NaN                                                                                      \n23                                                NaN                                                                                      \n24                                                NaN                                                                                      \n25                                                NaN                                                                                      \n26                                                NaN                                                                                      \n27                                                NaN                                                                                      \n\n   7_j3. Detail out the Challenges/ barriers in implementing the proper Antibiotic usage in your facility./Restricted time of consultation  \\\n0                                                 NaN                                                                                        \n1                                                 NaN                                                                                        \n2                                                 NaN                                                                                        \n3                                                 NaN                                                                                        \n4                                                 NaN                                                                                        \n5                                                 NaN                                                                                        \n6                                                 NaN                                                                                        \n7                                                 NaN                                                                                        \n8                                                 NaN                                                                                        \n9                                                 NaN                                                                                        \n10                                                NaN                                                                                        \n11                                                NaN                                                                                        \n12                                                NaN                                                                                        \n13                                                NaN                                                                                        \n14                                                NaN                                                                                        \n15                                                NaN                                                                                        \n16                                                NaN                                                                                        \n17                                                NaN                                                                                        \n18                                                NaN                                                                                        \n19                                                NaN                                                                                        \n20                                                NaN                                                                                        \n21                                                NaN                                                                                        \n22                                                NaN                                                                                        \n23                                                NaN                                                                                        \n24                                                NaN                                                                                        \n25                                                NaN                                                                                        \n26                                                NaN                                                                                        \n27                                                NaN                                                                                        \n\n   7_j3. Detail out the Challenges/ barriers in implementing the proper Antibiotic usage in your facility./Clinician knowledge and practices  \\\n0                                                 NaN                                                                                          \n1                                                 NaN                                                                                          \n2                                                 NaN                                                                                          \n3                                                 NaN                                                                                          \n4                                                 NaN                                                                                          \n5                                                 NaN                                                                                          \n6                                                 NaN                                                                                          \n7                                                 NaN                                                                                          \n8                                                 NaN                                                                                          \n9                                                 NaN                                                                                          \n10                                                NaN                                                                                          \n11                                                NaN                                                                                          \n12                                                NaN                                                                                          \n13                                                NaN                                                                                          \n14                                                NaN                                                                                          \n15                                                NaN                                                                                          \n16                                                NaN                                                                                          \n17                                                NaN                                                                                          \n18                                                NaN                                                                                          \n19                                                NaN                                                                                          \n20                                                NaN                                                                                          \n21                                                NaN                                                                                          \n22                                                NaN                                                                                          \n23                                                NaN                                                                                          \n24                                                NaN                                                                                          \n25                                                NaN                                                                                          \n26                                                NaN                                                                                          \n27                                                NaN                                                                                          \n\n   7_j3. Detail out the Challenges/ barriers in implementing the proper Antibiotic usage in your facility./Other  \n0                                           481187654                                                             \n1                                           481626944                                                             \n2                                           481697532                                                             \n3                                           481768260                                                             \n4                                           482014005                                                             \n5                                           482082946                                                             \n6                                           482084564                                                             \n7                                           482224599                                                             \n8                                           482335324                                                             \n9                                           482339093                                                             \n10                                          482471501                                                             \n11                                          482775769                                                             \n12                                          483670599                                                             \n13                                          483796186                                                             \n14                                          483858830                                                             \n15                                          484056211                                                             \n16                                          484539499                                                             \n17                                          484565258                                                             \n18                                          484608953                                                             \n19                                          485099950                                                             \n20                                          485405921                                                             \n21                                          486845076                                                             \n22                                          486900927                                                             \n23                                          487039354                                                             \n24                                          487244192                                                             \n25                                          487530344                                                             \n26                                          487530351                                                             \n27                                          487999428                                                             \n\n[28 rows x 374 columns]",
      "text/html": "<div>\n<style scoped>\n    .dataframe tbody tr th:only-of-type {\n        vertical-align: middle;\n    }\n\n    .dataframe tbody tr th {\n        vertical-align: top;\n    }\n\n    .dataframe thead th {\n        text-align: right;\n    }\n</style>\n<table border=\"1\" class=\"dataframe\">\n  <thead>\n    <tr style=\"text-align: right;\">\n      <th></th>\n      <th>b5 What guides clinicians to request for a bacteriology test?/Patient clinical signs</th>\n      <th>b5 What guides clinicians to request for a bacteriology test?/Guidelines</th>\n      <th>b5 What guides clinicians to request for a bacteriology test?/Research driven</th>\n      <th>b5 What guides clinicians to request for a bacteriology test?/other</th>\n      <th>b12 Where is the antibiogram available/Clinic (Consultation room)</th>\n      <th>b12 Where is the antibiogram available/Hospital ward</th>\n      <th>b12 Where is the antibiogram available/Hospital Pharmacy</th>\n      <th>b12 Where is the antibiogram available/Available Online</th>\n      <th>b12 Where is the antibiogram available/other</th>\n      <th>b15 Who are issued with an antibiogram during orientation?/Nurses</th>\n      <th>...</th>\n      <th>7_j3. Detail out the Challenges/ barriers in implementing the proper Antibiotic usage in your facility./Patient behavior in using antibiotics</th>\n      <th>7_j3. Detail out the Challenges/ barriers in implementing the proper Antibiotic usage in your facility./Lack of appropriate implementation of guidelines</th>\n      <th>7_j3. Detail out the Challenges/ barriers in implementing the proper Antibiotic usage in your facility./Lack of specific antibiogram for primary care</th>\n      <th>7_j3. Detail out the Challenges/ barriers in implementing the proper Antibiotic usage in your facility./Competition amongst clinicians</th>\n      <th>7_j3. Detail out the Challenges/ barriers in implementing the proper Antibiotic usage in your facility./Lack of departmental co-ordination</th>\n      <th>7_j3. Detail out the Challenges/ barriers in implementing the proper Antibiotic usage in your facility./Unclear clinical presentation</th>\n      <th>7_j3. Detail out the Challenges/ barriers in implementing the proper Antibiotic usage in your facility./Lack of diagnostic capability</th>\n      <th>7_j3. Detail out the Challenges/ barriers in implementing the proper Antibiotic usage in your facility./Restricted time of consultation</th>\n      <th>7_j3. Detail out the Challenges/ barriers in implementing the proper Antibiotic usage in your facility./Clinician knowledge and practices</th>\n      <th>7_j3. Detail out the Challenges/ barriers in implementing the proper Antibiotic usage in your facility./Other</th>\n    </tr>\n  </thead>\n  <tbody>\n    <tr>\n      <th>0</th>\n      <td>Patient clinical signs</td>\n      <td>Not Guidelines</td>\n      <td>Not Research driven</td>\n      <td>Not other</td>\n      <td>NaN</td>\n      <td>NaN</td>\n      <td>NaN</td>\n      <td>NaN</td>\n      <td>NaN</td>\n      <td>NaN</td>\n      <td>...</td>\n      <td>NaN</td>\n      <td>NaN</td>\n      <td>NaN</td>\n      <td>NaN</td>\n      <td>NaN</td>\n      <td>NaN</td>\n      <td>NaN</td>\n      <td>NaN</td>\n      <td>NaN</td>\n      <td>481187654</td>\n    </tr>\n    <tr>\n      <th>1</th>\n      <td>Patient clinical signs</td>\n      <td>Not Guidelines</td>\n      <td>Not Research driven</td>\n      <td>Not other</td>\n      <td>NaN</td>\n      <td>NaN</td>\n      <td>NaN</td>\n      <td>NaN</td>\n      <td>NaN</td>\n      <td>NaN</td>\n      <td>...</td>\n      <td>NaN</td>\n      <td>NaN</td>\n      <td>NaN</td>\n      <td>NaN</td>\n      <td>NaN</td>\n      <td>NaN</td>\n      <td>NaN</td>\n      <td>NaN</td>\n      <td>NaN</td>\n      <td>481626944</td>\n    </tr>\n    <tr>\n      <th>2</th>\n      <td>Patient clinical signs</td>\n      <td>Guidelines</td>\n      <td>Not Research driven</td>\n      <td>Not other</td>\n      <td>NaN</td>\n      <td>NaN</td>\n      <td>NaN</td>\n      <td>NaN</td>\n      <td>NaN</td>\n      <td>NaN</td>\n      <td>...</td>\n      <td>NaN</td>\n      <td>NaN</td>\n      <td>NaN</td>\n      <td>NaN</td>\n      <td>NaN</td>\n      <td>NaN</td>\n      <td>NaN</td>\n      <td>NaN</td>\n      <td>NaN</td>\n      <td>481697532</td>\n    </tr>\n    <tr>\n      <th>3</th>\n      <td>Patient clinical signs</td>\n      <td>Not Guidelines</td>\n      <td>Not Research driven</td>\n      <td>Not other</td>\n      <td>NaN</td>\n      <td>NaN</td>\n      <td>NaN</td>\n      <td>NaN</td>\n      <td>NaN</td>\n      <td>NaN</td>\n      <td>...</td>\n      <td>NaN</td>\n      <td>NaN</td>\n      <td>NaN</td>\n      <td>NaN</td>\n      <td>NaN</td>\n      <td>NaN</td>\n      <td>NaN</td>\n      <td>NaN</td>\n      <td>NaN</td>\n      <td>481768260</td>\n    </tr>\n    <tr>\n      <th>4</th>\n      <td>Patient clinical signs</td>\n      <td>Not Guidelines</td>\n      <td>Not Research driven</td>\n      <td>Not other</td>\n      <td>NaN</td>\n      <td>NaN</td>\n      <td>NaN</td>\n      <td>NaN</td>\n      <td>NaN</td>\n      <td>NaN</td>\n      <td>...</td>\n      <td>NaN</td>\n      <td>NaN</td>\n      <td>NaN</td>\n      <td>NaN</td>\n      <td>NaN</td>\n      <td>NaN</td>\n      <td>NaN</td>\n      <td>NaN</td>\n      <td>NaN</td>\n      <td>482014005</td>\n    </tr>\n    <tr>\n      <th>5</th>\n      <td>Patient clinical signs</td>\n      <td>Not Guidelines</td>\n      <td>Not Research driven</td>\n      <td>Not other</td>\n      <td>NaN</td>\n      <td>NaN</td>\n      <td>NaN</td>\n      <td>NaN</td>\n      <td>NaN</td>\n      <td>NaN</td>\n      <td>...</td>\n      <td>NaN</td>\n      <td>NaN</td>\n      <td>NaN</td>\n      <td>NaN</td>\n      <td>NaN</td>\n      <td>NaN</td>\n      <td>NaN</td>\n      <td>NaN</td>\n      <td>NaN</td>\n      <td>482082946</td>\n    </tr>\n    <tr>\n      <th>6</th>\n      <td>Patient clinical signs</td>\n      <td>Not Guidelines</td>\n      <td>Not Research driven</td>\n      <td>Not other</td>\n      <td>Clinic (Consultation room)</td>\n      <td>Hospital ward</td>\n      <td>Hospital Pharmacy</td>\n      <td>Not Available Online</td>\n      <td>other</td>\n      <td>NaN</td>\n      <td>...</td>\n      <td>NaN</td>\n      <td>NaN</td>\n      <td>NaN</td>\n      <td>NaN</td>\n      <td>NaN</td>\n      <td>NaN</td>\n      <td>NaN</td>\n      <td>NaN</td>\n      <td>NaN</td>\n      <td>482084564</td>\n    </tr>\n    <tr>\n      <th>7</th>\n      <td>Patient clinical signs</td>\n      <td>Guidelines</td>\n      <td>Not Research driven</td>\n      <td>Not other</td>\n      <td>NaN</td>\n      <td>NaN</td>\n      <td>NaN</td>\n      <td>NaN</td>\n      <td>NaN</td>\n      <td>NaN</td>\n      <td>...</td>\n      <td>NaN</td>\n      <td>NaN</td>\n      <td>NaN</td>\n      <td>NaN</td>\n      <td>NaN</td>\n      <td>NaN</td>\n      <td>NaN</td>\n      <td>NaN</td>\n      <td>NaN</td>\n      <td>482224599</td>\n    </tr>\n    <tr>\n      <th>8</th>\n      <td>Patient clinical signs</td>\n      <td>Not Guidelines</td>\n      <td>Not Research driven</td>\n      <td>Not other</td>\n      <td>NaN</td>\n      <td>NaN</td>\n      <td>NaN</td>\n      <td>NaN</td>\n      <td>NaN</td>\n      <td>NaN</td>\n      <td>...</td>\n      <td>NaN</td>\n      <td>NaN</td>\n      <td>NaN</td>\n      <td>NaN</td>\n      <td>NaN</td>\n      <td>NaN</td>\n      <td>NaN</td>\n      <td>NaN</td>\n      <td>NaN</td>\n      <td>482335324</td>\n    </tr>\n    <tr>\n      <th>9</th>\n      <td>Patient clinical signs</td>\n      <td>Not Guidelines</td>\n      <td>Not Research driven</td>\n      <td>Not other</td>\n      <td>NaN</td>\n      <td>NaN</td>\n      <td>NaN</td>\n      <td>NaN</td>\n      <td>NaN</td>\n      <td>NaN</td>\n      <td>...</td>\n      <td>NaN</td>\n      <td>NaN</td>\n      <td>NaN</td>\n      <td>NaN</td>\n      <td>NaN</td>\n      <td>NaN</td>\n      <td>NaN</td>\n      <td>NaN</td>\n      <td>NaN</td>\n      <td>482339093</td>\n    </tr>\n    <tr>\n      <th>10</th>\n      <td>Patient clinical signs</td>\n      <td>Not Guidelines</td>\n      <td>Not Research driven</td>\n      <td>Not other</td>\n      <td>NaN</td>\n      <td>NaN</td>\n      <td>NaN</td>\n      <td>NaN</td>\n      <td>NaN</td>\n      <td>NaN</td>\n      <td>...</td>\n      <td>NaN</td>\n      <td>NaN</td>\n      <td>NaN</td>\n      <td>NaN</td>\n      <td>NaN</td>\n      <td>NaN</td>\n      <td>NaN</td>\n      <td>NaN</td>\n      <td>NaN</td>\n      <td>482471501</td>\n    </tr>\n    <tr>\n      <th>11</th>\n      <td>Patient clinical signs</td>\n      <td>Guidelines</td>\n      <td>Not Research driven</td>\n      <td>Not other</td>\n      <td>NaN</td>\n      <td>NaN</td>\n      <td>NaN</td>\n      <td>NaN</td>\n      <td>NaN</td>\n      <td>NaN</td>\n      <td>...</td>\n      <td>NaN</td>\n      <td>NaN</td>\n      <td>NaN</td>\n      <td>NaN</td>\n      <td>NaN</td>\n      <td>NaN</td>\n      <td>NaN</td>\n      <td>NaN</td>\n      <td>NaN</td>\n      <td>482775769</td>\n    </tr>\n    <tr>\n      <th>12</th>\n      <td>Patient clinical signs</td>\n      <td>Not Guidelines</td>\n      <td>Not Research driven</td>\n      <td>Not other</td>\n      <td>NaN</td>\n      <td>NaN</td>\n      <td>NaN</td>\n      <td>NaN</td>\n      <td>NaN</td>\n      <td>NaN</td>\n      <td>...</td>\n      <td>NaN</td>\n      <td>NaN</td>\n      <td>NaN</td>\n      <td>NaN</td>\n      <td>NaN</td>\n      <td>NaN</td>\n      <td>NaN</td>\n      <td>NaN</td>\n      <td>NaN</td>\n      <td>483670599</td>\n    </tr>\n    <tr>\n      <th>13</th>\n      <td>Patient clinical signs</td>\n      <td>Not Guidelines</td>\n      <td>Not Research driven</td>\n      <td>Not other</td>\n      <td>NaN</td>\n      <td>NaN</td>\n      <td>NaN</td>\n      <td>NaN</td>\n      <td>NaN</td>\n      <td>NaN</td>\n      <td>...</td>\n      <td>NaN</td>\n      <td>NaN</td>\n      <td>NaN</td>\n      <td>NaN</td>\n      <td>NaN</td>\n      <td>NaN</td>\n      <td>NaN</td>\n      <td>NaN</td>\n      <td>NaN</td>\n      <td>483796186</td>\n    </tr>\n    <tr>\n      <th>14</th>\n      <td>Patient clinical signs</td>\n      <td>Guidelines</td>\n      <td>Not Research driven</td>\n      <td>Not other</td>\n      <td>NaN</td>\n      <td>NaN</td>\n      <td>NaN</td>\n      <td>NaN</td>\n      <td>NaN</td>\n      <td>NaN</td>\n      <td>...</td>\n      <td>NaN</td>\n      <td>NaN</td>\n      <td>NaN</td>\n      <td>NaN</td>\n      <td>NaN</td>\n      <td>NaN</td>\n      <td>NaN</td>\n      <td>NaN</td>\n      <td>NaN</td>\n      <td>483858830</td>\n    </tr>\n    <tr>\n      <th>15</th>\n      <td>Patient clinical signs</td>\n      <td>Not Guidelines</td>\n      <td>Not Research driven</td>\n      <td>Not other</td>\n      <td>NaN</td>\n      <td>NaN</td>\n      <td>NaN</td>\n      <td>NaN</td>\n      <td>NaN</td>\n      <td>NaN</td>\n      <td>...</td>\n      <td>NaN</td>\n      <td>NaN</td>\n      <td>NaN</td>\n      <td>NaN</td>\n      <td>NaN</td>\n      <td>NaN</td>\n      <td>NaN</td>\n      <td>NaN</td>\n      <td>NaN</td>\n      <td>484056211</td>\n    </tr>\n    <tr>\n      <th>16</th>\n      <td>Patient clinical signs</td>\n      <td>Not Guidelines</td>\n      <td>Not Research driven</td>\n      <td>Not other</td>\n      <td>NaN</td>\n      <td>NaN</td>\n      <td>NaN</td>\n      <td>NaN</td>\n      <td>NaN</td>\n      <td>NaN</td>\n      <td>...</td>\n      <td>NaN</td>\n      <td>NaN</td>\n      <td>NaN</td>\n      <td>NaN</td>\n      <td>NaN</td>\n      <td>NaN</td>\n      <td>NaN</td>\n      <td>NaN</td>\n      <td>NaN</td>\n      <td>484539499</td>\n    </tr>\n    <tr>\n      <th>17</th>\n      <td>Patient clinical signs</td>\n      <td>Guidelines</td>\n      <td>Not Research driven</td>\n      <td>Not other</td>\n      <td>NaN</td>\n      <td>NaN</td>\n      <td>NaN</td>\n      <td>NaN</td>\n      <td>NaN</td>\n      <td>NaN</td>\n      <td>...</td>\n      <td>NaN</td>\n      <td>NaN</td>\n      <td>NaN</td>\n      <td>NaN</td>\n      <td>NaN</td>\n      <td>NaN</td>\n      <td>NaN</td>\n      <td>NaN</td>\n      <td>NaN</td>\n      <td>484565258</td>\n    </tr>\n    <tr>\n      <th>18</th>\n      <td>Patient clinical signs</td>\n      <td>Guidelines</td>\n      <td>Not Research driven</td>\n      <td>Not other</td>\n      <td>NaN</td>\n      <td>NaN</td>\n      <td>NaN</td>\n      <td>NaN</td>\n      <td>NaN</td>\n      <td>NaN</td>\n      <td>...</td>\n      <td>NaN</td>\n      <td>NaN</td>\n      <td>NaN</td>\n      <td>NaN</td>\n      <td>NaN</td>\n      <td>NaN</td>\n      <td>NaN</td>\n      <td>NaN</td>\n      <td>NaN</td>\n      <td>484608953</td>\n    </tr>\n    <tr>\n      <th>19</th>\n      <td>Patient clinical signs</td>\n      <td>Guidelines</td>\n      <td>Research driven</td>\n      <td>Not other</td>\n      <td>NaN</td>\n      <td>NaN</td>\n      <td>NaN</td>\n      <td>NaN</td>\n      <td>NaN</td>\n      <td>NaN</td>\n      <td>...</td>\n      <td>NaN</td>\n      <td>NaN</td>\n      <td>NaN</td>\n      <td>NaN</td>\n      <td>NaN</td>\n      <td>NaN</td>\n      <td>NaN</td>\n      <td>NaN</td>\n      <td>NaN</td>\n      <td>485099950</td>\n    </tr>\n    <tr>\n      <th>20</th>\n      <td>Not Patient clinical signs</td>\n      <td>Not Guidelines</td>\n      <td>Not Research driven</td>\n      <td>other</td>\n      <td>NaN</td>\n      <td>NaN</td>\n      <td>NaN</td>\n      <td>NaN</td>\n      <td>NaN</td>\n      <td>NaN</td>\n      <td>...</td>\n      <td>NaN</td>\n      <td>NaN</td>\n      <td>NaN</td>\n      <td>NaN</td>\n      <td>NaN</td>\n      <td>NaN</td>\n      <td>NaN</td>\n      <td>NaN</td>\n      <td>NaN</td>\n      <td>485405921</td>\n    </tr>\n    <tr>\n      <th>21</th>\n      <td>Patient clinical signs</td>\n      <td>Not Guidelines</td>\n      <td>Not Research driven</td>\n      <td>Not other</td>\n      <td>NaN</td>\n      <td>NaN</td>\n      <td>NaN</td>\n      <td>NaN</td>\n      <td>NaN</td>\n      <td>NaN</td>\n      <td>...</td>\n      <td>NaN</td>\n      <td>NaN</td>\n      <td>NaN</td>\n      <td>NaN</td>\n      <td>NaN</td>\n      <td>NaN</td>\n      <td>NaN</td>\n      <td>NaN</td>\n      <td>NaN</td>\n      <td>486845076</td>\n    </tr>\n    <tr>\n      <th>22</th>\n      <td>Patient clinical signs</td>\n      <td>Guidelines</td>\n      <td>Not Research driven</td>\n      <td>Not other</td>\n      <td>NaN</td>\n      <td>NaN</td>\n      <td>NaN</td>\n      <td>NaN</td>\n      <td>NaN</td>\n      <td>NaN</td>\n      <td>...</td>\n      <td>NaN</td>\n      <td>NaN</td>\n      <td>NaN</td>\n      <td>NaN</td>\n      <td>NaN</td>\n      <td>NaN</td>\n      <td>NaN</td>\n      <td>NaN</td>\n      <td>NaN</td>\n      <td>486900927</td>\n    </tr>\n    <tr>\n      <th>23</th>\n      <td>Patient clinical signs</td>\n      <td>Not Guidelines</td>\n      <td>Not Research driven</td>\n      <td>Not other</td>\n      <td>NaN</td>\n      <td>NaN</td>\n      <td>NaN</td>\n      <td>NaN</td>\n      <td>NaN</td>\n      <td>NaN</td>\n      <td>...</td>\n      <td>NaN</td>\n      <td>NaN</td>\n      <td>NaN</td>\n      <td>NaN</td>\n      <td>NaN</td>\n      <td>NaN</td>\n      <td>NaN</td>\n      <td>NaN</td>\n      <td>NaN</td>\n      <td>487039354</td>\n    </tr>\n    <tr>\n      <th>24</th>\n      <td>Patient clinical signs</td>\n      <td>Guidelines</td>\n      <td>Not Research driven</td>\n      <td>Not other</td>\n      <td>Clinic (Consultation room)</td>\n      <td>Hospital ward</td>\n      <td>Hospital Pharmacy</td>\n      <td>Available Online</td>\n      <td>Not other</td>\n      <td>Nurses</td>\n      <td>...</td>\n      <td>NaN</td>\n      <td>NaN</td>\n      <td>NaN</td>\n      <td>NaN</td>\n      <td>NaN</td>\n      <td>NaN</td>\n      <td>NaN</td>\n      <td>NaN</td>\n      <td>NaN</td>\n      <td>487244192</td>\n    </tr>\n    <tr>\n      <th>25</th>\n      <td>Patient clinical signs</td>\n      <td>Not Guidelines</td>\n      <td>Not Research driven</td>\n      <td>Not other</td>\n      <td>NaN</td>\n      <td>NaN</td>\n      <td>NaN</td>\n      <td>NaN</td>\n      <td>NaN</td>\n      <td>NaN</td>\n      <td>...</td>\n      <td>NaN</td>\n      <td>NaN</td>\n      <td>NaN</td>\n      <td>NaN</td>\n      <td>NaN</td>\n      <td>NaN</td>\n      <td>NaN</td>\n      <td>NaN</td>\n      <td>NaN</td>\n      <td>487530344</td>\n    </tr>\n    <tr>\n      <th>26</th>\n      <td>Patient clinical signs</td>\n      <td>Not Guidelines</td>\n      <td>Not Research driven</td>\n      <td>Not other</td>\n      <td>NaN</td>\n      <td>NaN</td>\n      <td>NaN</td>\n      <td>NaN</td>\n      <td>NaN</td>\n      <td>NaN</td>\n      <td>...</td>\n      <td>NaN</td>\n      <td>NaN</td>\n      <td>NaN</td>\n      <td>NaN</td>\n      <td>NaN</td>\n      <td>NaN</td>\n      <td>NaN</td>\n      <td>NaN</td>\n      <td>NaN</td>\n      <td>487530351</td>\n    </tr>\n    <tr>\n      <th>27</th>\n      <td>Patient clinical signs</td>\n      <td>Guidelines</td>\n      <td>Not Research driven</td>\n      <td>Not other</td>\n      <td>NaN</td>\n      <td>NaN</td>\n      <td>NaN</td>\n      <td>NaN</td>\n      <td>NaN</td>\n      <td>NaN</td>\n      <td>...</td>\n      <td>NaN</td>\n      <td>NaN</td>\n      <td>NaN</td>\n      <td>NaN</td>\n      <td>NaN</td>\n      <td>NaN</td>\n      <td>NaN</td>\n      <td>NaN</td>\n      <td>NaN</td>\n      <td>487999428</td>\n    </tr>\n  </tbody>\n</table>\n<p>28 rows × 374 columns</p>\n</div>"
     },
     "execution_count": 418,
     "metadata": {},
     "output_type": "execute_result"
    }
   ],
   "source": [
    "# Drop the columns in interest_cols_\n",
    "\n",
    "# Validate that all columns in interest_cols are boolean\n",
    "abx_df[interest_cols]"
   ],
   "metadata": {
    "collapsed": false,
    "ExecuteTime": {
     "end_time": "2024-01-23T13:24:27.362103300Z",
     "start_time": "2024-01-23T13:24:27.292648900Z"
    }
   },
   "id": "87f0971d29c11450",
   "execution_count": 418
  },
  {
   "cell_type": "code",
   "outputs": [],
   "source": [
    "\n",
    "\n",
    "\n",
    "\n",
    "for col in abx_df.columns:\n",
    "    \n",
    "    if col.count('/') > 0:\n",
    "        \n",
    "        prefix = col.split(' ', 1)[0] + ' '\n",
    "        prefixes.append(prefix)\n",
    "        \n",
    "        value = col.rsplit('/', 1)[-1]        \n",
    "        new_col = col.rsplit('/', 1)[0]\n",
    "        \n",
    "        if not new_col.endswith('?') and not new_col.endswith('.'):\n",
    "            new_col += '?'\n",
    "            # value.replace('?', '')\n",
    "            \n",
    "        # print(col, '- ' + col.split('/')[-1].strip())\n",
    "        # print(new_col)"
   ],
   "metadata": {
    "collapsed": false,
    "ExecuteTime": {
     "end_time": "2024-01-23T11:38:16.342897500Z",
     "start_time": "2024-01-23T11:38:16.018262300Z"
    }
   },
   "id": "3cf0c6d12ba24939",
   "execution_count": 172
  },
  {
   "cell_type": "code",
   "outputs": [
    {
     "name": "stdout",
     "output_type": "stream",
     "text": [
      "['h6 ', '5g.4 ', 'b5 ', 'f7 ', '7_j3. ', 'b20 ', 'd11 ', 'h2 ', '7d.6 ', '7d.4 ', 'n3 ', '7d.2 ', '5d.4 ', 'b12 ', 'b19 ', 'd20 ', '5d.3 ', 'd25 ', '5f.4 ', '7d.8 ', 'e9 ', '7b.4 ', 'c6 ', 'c7 ', 'd12 ', 'b15 ', 'c5 ', 'h8 ', '6c.5 ', 'b18 ', 'd15 ', '5e.3 ', 'b13 ', 'h4 '] 34\n"
     ]
    }
   ],
   "source": [
    "prefixes = []\n",
    "\n",
    "for col in abx_df.columns:\n",
    "    \n",
    "    if col.count('/') > 0:\n",
    "        \n",
    "        prefix = col.split(' ', 1)[0] + ' '\n",
    "        prefixes.append(prefix)\n",
    "        \n",
    "        value = col.rsplit('/', 1)[-1]        \n",
    "        new_col = col.rsplit('/', 1)[0]\n",
    "        \n",
    "        if not new_col.endswith('?') and not new_col.endswith('.'):\n",
    "            new_col += '?'\n",
    "            # value.replace('?', '')\n",
    "            \n",
    "        # print(col, '- ' + col.split('/')[-1].strip())\n",
    "        # print(new_col)\n",
    "        \n",
    "# Drop duplicates from prefixes\n",
    "prefixes = list(set(prefixes))\n",
    "print(prefixes, len(prefixes))"
   ],
   "metadata": {
    "collapsed": false,
    "ExecuteTime": {
     "end_time": "2024-01-23T11:38:16.423688400Z",
     "start_time": "2024-01-23T11:38:16.033144700Z"
    }
   },
   "id": "2b5adaeab4e29899",
   "execution_count": 174
  },
  {
   "cell_type": "code",
   "outputs": [
    {
     "name": "stdout",
     "output_type": "stream",
     "text": [
      "b5 What guides clinicians to request for a bacteriology test?/Guidelines Guidelines\n",
      "------------------------------------------------------------------------\n",
      "[nan 'Guidelines']\n",
      "b5 What guides clinicians to request for a bacteriology test?/other other\n",
      "-------------------------------------------------------------------\n",
      "[nan 'other']\n",
      "b12 Where is the antibiogram available/other other\n",
      "--------------------------------------------\n",
      "[nan 'other']\n",
      "b15 Who are issued with an antibiogram during orientation?/Nurses Nurses\n",
      "-----------------------------------------------------------------\n",
      "[nan 'Nurses']\n",
      "b15 Who are issued with an antibiogram during orientation?/Pharmacists Pharmacists\n",
      "----------------------------------------------------------------------\n",
      "[nan 'Pharmacists']\n",
      "b15 Who are issued with an antibiogram during orientation?/Consultants Consultants\n",
      "----------------------------------------------------------------------\n",
      "[nan 'Consultants']\n",
      "b15 Who are issued with an antibiogram during orientation?/Interns Interns\n",
      "------------------------------------------------------------------\n",
      "[nan 'Interns']\n",
      "b18 Select the antibiotics available at the health facility pharmacy from the Access group antibiotics listed/Amikacin Amikacin\n",
      "----------------------------------------------------------------------------------------------------------------------\n",
      "[nan 'Amikacin']\n",
      "b18 Select the antibiotics available at the health facility pharmacy from the Access group antibiotics listed/Amoxicillin Amoxicillin\n",
      "-------------------------------------------------------------------------------------------------------------------------\n",
      "['Amoxicillin']\n",
      "b18 Select the antibiotics available at the health facility pharmacy from the Access group antibiotics listed/Ampicillin Ampicillin\n",
      "------------------------------------------------------------------------------------------------------------------------\n",
      "[nan 'Ampicillin']\n",
      "b18 Select the antibiotics available at the health facility pharmacy from the Access group antibiotics listed/Ampicillin/sulbactam sulbactam\n",
      "----------------------------------------------------------------------------------------------------------------------------------\n",
      "[nan 'sulbactam']\n",
      "b18 Select the antibiotics available at the health facility pharmacy from the Access group antibiotics listed/Azidocillin Azidocillin\n",
      "-------------------------------------------------------------------------------------------------------------------------\n",
      "[nan]\n",
      "b18 Select the antibiotics available at the health facility pharmacy from the Access group antibiotics listed/Bacampicillin Bacampicillin\n",
      "---------------------------------------------------------------------------------------------------------------------------\n",
      "[nan]\n",
      "b18 Select the antibiotics available at the health facility pharmacy from the Access group antibiotics listed/Benzylpenicillin Benzylpenicillin\n",
      "------------------------------------------------------------------------------------------------------------------------------\n",
      "['Benzylpenicillin']\n",
      "b18 Select the antibiotics available at the health facility pharmacy from the Access group antibiotics listed/Brodimoprim Brodimoprim\n",
      "-------------------------------------------------------------------------------------------------------------------------\n",
      "[nan]\n",
      "b18 Select the antibiotics available at the health facility pharmacy from the Access group antibiotics listed/Cefacetrile Cefacetrile\n",
      "-------------------------------------------------------------------------------------------------------------------------\n",
      "[nan]\n",
      "b18 Select the antibiotics available at the health facility pharmacy from the Access group antibiotics listed/Cefadroxil Cefadroxil\n",
      "------------------------------------------------------------------------------------------------------------------------\n",
      "[nan 'Cefadroxil']\n",
      "b18 Select the antibiotics available at the health facility pharmacy from the Access group antibiotics listed/Cefalexin Cefalexin\n",
      "-----------------------------------------------------------------------------------------------------------------------\n",
      "[nan 'Cefalexin']\n",
      "b18 Select the antibiotics available at the health facility pharmacy from the Access group antibiotics listed/Cefaloridine Cefaloridine\n",
      "--------------------------------------------------------------------------------------------------------------------------\n",
      "[nan]\n",
      "b18 Select the antibiotics available at the health facility pharmacy from the Access group antibiotics listed/Cefalotin Cefalotin\n",
      "-----------------------------------------------------------------------------------------------------------------------\n",
      "[nan]\n",
      "b18 Select the antibiotics available at the health facility pharmacy from the Access group antibiotics listed/Cefapirin Cefapirin\n",
      "-----------------------------------------------------------------------------------------------------------------------\n",
      "[nan]\n",
      "b18 Select the antibiotics available at the health facility pharmacy from the Access group antibiotics listed/Cefatrizine Cefatrizine\n",
      "-------------------------------------------------------------------------------------------------------------------------\n",
      "[nan]\n",
      "b18 Select the antibiotics available at the health facility pharmacy from the Access group antibiotics listed/Cefazedone Cefazedone\n",
      "------------------------------------------------------------------------------------------------------------------------\n",
      "[nan]\n",
      "b18 Select the antibiotics available at the health facility pharmacy from the Access group antibiotics listed/Cefazolin Cefazolin\n",
      "-----------------------------------------------------------------------------------------------------------------------\n",
      "[nan 'Cefazolin']\n",
      "b18 Select the antibiotics available at the health facility pharmacy from the Access group antibiotics listed/Cefradine Cefradine\n",
      "-----------------------------------------------------------------------------------------------------------------------\n",
      "[nan]\n",
      "b18 Select the antibiotics available at the health facility pharmacy from the Access group antibiotics listed/Cefroxadine Cefroxadine\n",
      "-------------------------------------------------------------------------------------------------------------------------\n",
      "[nan 'Cefroxadine']\n",
      "b18 Select the antibiotics available at the health facility pharmacy from the Access group antibiotics listed/Ceftezole Ceftezole\n",
      "-----------------------------------------------------------------------------------------------------------------------\n",
      "[nan]\n",
      "b18 Select the antibiotics available at the health facility pharmacy from the Access group antibiotics listed/Chloramphenicol Chloramphenicol\n",
      "-----------------------------------------------------------------------------------------------------------------------------\n",
      "[nan 'Chloramphenicol']\n",
      "b18 Select the antibiotics available at the health facility pharmacy from the Access group antibiotics listed/Clindamycin Clindamycin\n",
      "-------------------------------------------------------------------------------------------------------------------------\n",
      "['Clindamycin' nan]\n",
      "b18 Select the antibiotics available at the health facility pharmacy from the Access group antibiotics listed/Clometocillin Clometocillin\n",
      "---------------------------------------------------------------------------------------------------------------------------\n",
      "[nan]\n",
      "b18 Select the antibiotics available at the health facility pharmacy from the Access group antibiotics listed/Cloxacillin Cloxacillin\n",
      "-------------------------------------------------------------------------------------------------------------------------\n",
      "[nan 'Cloxacillin']\n",
      "b18 Select the antibiotics available at the health facility pharmacy from the Access group antibiotics listed/Dicloxacillin Dicloxacillin\n",
      "---------------------------------------------------------------------------------------------------------------------------\n",
      "[nan]\n",
      "b18 Select the antibiotics available at the health facility pharmacy from the Access group antibiotics listed/Doxycycline Doxycycline\n",
      "-------------------------------------------------------------------------------------------------------------------------\n",
      "['Doxycycline' nan]\n",
      "b18 Select the antibiotics available at the health facility pharmacy from the Access group antibiotics listed/Epicillin Epicillin\n",
      "-----------------------------------------------------------------------------------------------------------------------\n",
      "[nan]\n",
      "b18 Select the antibiotics available at the health facility pharmacy from the Access group antibiotics listed/Flucloxacillin Flucloxacillin\n",
      "----------------------------------------------------------------------------------------------------------------------------\n",
      "['Flucloxacillin']\n",
      "b18 Select the antibiotics available at the health facility pharmacy from the Access group antibiotics listed/Furazidin Furazidin\n",
      "-----------------------------------------------------------------------------------------------------------------------\n",
      "[nan]\n",
      "b18 Select the antibiotics available at the health facility pharmacy from the Access group antibiotics listed/Gentamicin Gentamicin\n",
      "------------------------------------------------------------------------------------------------------------------------\n",
      "['Gentamicin' nan]\n",
      "b18 Select the antibiotics available at the health facility pharmacy from the Access group antibiotics listed/Hetacillin Hetacillin\n",
      "------------------------------------------------------------------------------------------------------------------------\n",
      "[nan]\n",
      "b18 Select the antibiotics available at the health facility pharmacy from the Access group antibiotics listed/Mecillinam Mecillinam\n",
      "------------------------------------------------------------------------------------------------------------------------\n",
      "[nan]\n",
      "b18 Select the antibiotics available at the health facility pharmacy from the Access group antibiotics listed/Metampicillin Metampicillin\n",
      "---------------------------------------------------------------------------------------------------------------------------\n",
      "[nan]\n",
      "b18 Select the antibiotics available at the health facility pharmacy from the Access group antibiotics listed/Meticillin Meticillin\n",
      "------------------------------------------------------------------------------------------------------------------------\n",
      "[nan]\n",
      "b18 Select the antibiotics available at the health facility pharmacy from the Access group antibiotics listed/Metronidazole_IV Metronidazole_IV\n",
      "------------------------------------------------------------------------------------------------------------------------------\n",
      "['Metronidazole_IV']\n",
      "b18 Select the antibiotics available at the health facility pharmacy from the Access group antibiotics listed/Metronidazole_oral Metronidazole_oral\n",
      "--------------------------------------------------------------------------------------------------------------------------------\n",
      "['Metronidazole_oral' nan]\n",
      "b18 Select the antibiotics available at the health facility pharmacy from the Access group antibiotics listed/Nafcillin Nafcillin\n",
      "-----------------------------------------------------------------------------------------------------------------------\n",
      "[nan]\n",
      "b18 Select the antibiotics available at the health facility pharmacy from the Access group antibiotics listed/Nifurtoinol Nifurtoinol\n",
      "-------------------------------------------------------------------------------------------------------------------------\n",
      "[nan]\n",
      "b18 Select the antibiotics available at the health facility pharmacy from the Access group antibiotics listed/Nitrofurantoin Nitrofurantoin\n",
      "----------------------------------------------------------------------------------------------------------------------------\n",
      "['Nitrofurantoin' nan]\n",
      "b18 Select the antibiotics available at the health facility pharmacy from the Access group antibiotics listed/Ornidazole_IV Ornidazole_IV\n",
      "---------------------------------------------------------------------------------------------------------------------------\n",
      "[nan]\n",
      "b18 Select the antibiotics available at the health facility pharmacy from the Access group antibiotics listed/Ornidazole_oral Ornidazole_oral\n",
      "-----------------------------------------------------------------------------------------------------------------------------\n",
      "[nan 'Ornidazole_oral']\n",
      "b18 Select the antibiotics available at the health facility pharmacy from the Access group antibiotics listed/Oxacillin Oxacillin\n",
      "-----------------------------------------------------------------------------------------------------------------------\n",
      "[nan]\n",
      "b18 Select the antibiotics available at the health facility pharmacy from the Access group antibiotics listed/Penamecillin Penamecillin\n",
      "--------------------------------------------------------------------------------------------------------------------------\n",
      "[nan]\n",
      "b18 Select the antibiotics available at the health facility pharmacy from the Access group antibiotics listed/Phenoxymethylpenicillin Phenoxymethylpenicillin\n",
      "-------------------------------------------------------------------------------------------------------------------------------------\n",
      "[nan 'Phenoxymethylpenicillin']\n",
      "b18 Select the antibiotics available at the health facility pharmacy from the Access group antibiotics listed/Pivampicillin Pivampicillin\n",
      "---------------------------------------------------------------------------------------------------------------------------\n",
      "[nan]\n",
      "b18 Select the antibiotics available at the health facility pharmacy from the Access group antibiotics listed/Pivmecillinam Pivmecillinam\n",
      "---------------------------------------------------------------------------------------------------------------------------\n",
      "[nan]\n",
      "b18 Select the antibiotics available at the health facility pharmacy from the Access group antibiotics listed/Propicillin Propicillin\n",
      "-------------------------------------------------------------------------------------------------------------------------\n",
      "[nan]\n",
      "b18 Select the antibiotics available at the health facility pharmacy from the Access group antibiotics listed/Secnidazole Secnidazole\n",
      "-------------------------------------------------------------------------------------------------------------------------\n",
      "[nan 'Secnidazole']\n",
      "b18 Select the antibiotics available at the health facility pharmacy from the Access group antibiotics listed/Spectinomycin Spectinomycin\n",
      "---------------------------------------------------------------------------------------------------------------------------\n",
      "[nan 'Spectinomycin']\n",
      "b18 Select the antibiotics available at the health facility pharmacy from the Access group antibiotics listed/Sulbactam Sulbactam\n",
      "-----------------------------------------------------------------------------------------------------------------------\n",
      "[nan 'Sulbactam']\n",
      "b18 Select the antibiotics available at the health facility pharmacy from the Access group antibiotics listed/Sulfadiazine Sulfadiazine\n",
      "--------------------------------------------------------------------------------------------------------------------------\n",
      "[nan 'Sulfadiazine']\n",
      "b18 Select the antibiotics available at the health facility pharmacy from the Access group antibiotics listed/Sulfadiazine/tetroxoprim tetroxoprim\n",
      "--------------------------------------------------------------------------------------------------------------------------------------\n",
      "[nan]\n",
      "b18 Select the antibiotics available at the health facility pharmacy from the Access group antibiotics listed/Sulfadiazine/trimethoprim trimethoprim\n",
      "---------------------------------------------------------------------------------------------------------------------------------------\n",
      "[nan 'trimethoprim']\n",
      "b18 Select the antibiotics available at the health facility pharmacy from the Access group antibiotics listed/Sulfadimethoxine Sulfadimethoxine\n",
      "------------------------------------------------------------------------------------------------------------------------------\n",
      "[nan]\n",
      "b18 Select the antibiotics available at the health facility pharmacy from the Access group antibiotics listed/Sulfadimidine Sulfadimidine\n",
      "---------------------------------------------------------------------------------------------------------------------------\n",
      "[nan]\n",
      "b18 Select the antibiotics available at the health facility pharmacy from the Access group antibiotics listed/Sulfadimidine/trimethoprim trimethoprim\n",
      "----------------------------------------------------------------------------------------------------------------------------------------\n",
      "[nan]\n",
      "b18 Select the antibiotics available at the health facility pharmacy from the Access group antibiotics listed/Sulfafurazole Sulfafurazole\n",
      "---------------------------------------------------------------------------------------------------------------------------\n",
      "[nan]\n",
      "b18 Select the antibiotics available at the health facility pharmacy from the Access group antibiotics listed/Sulfaisodimidine Sulfaisodimidine\n",
      "------------------------------------------------------------------------------------------------------------------------------\n",
      "[nan]\n",
      "b18 Select the antibiotics available at the health facility pharmacy from the Access group antibiotics listed/Sulfalene Sulfalene\n",
      "-----------------------------------------------------------------------------------------------------------------------\n",
      "[nan]\n",
      "b18 Select the antibiotics available at the health facility pharmacy from the Access group antibiotics listed/Sulfamazone Sulfamazone\n",
      "-------------------------------------------------------------------------------------------------------------------------\n",
      "[nan]\n",
      "b18 Select the antibiotics available at the health facility pharmacy from the Access group antibiotics listed/Sulfamerazine Sulfamerazine\n",
      "---------------------------------------------------------------------------------------------------------------------------\n",
      "[nan]\n",
      "b18 Select the antibiotics available at the health facility pharmacy from the Access group antibiotics listed/Sulfamerazine/trimethoprim trimethoprim\n",
      "----------------------------------------------------------------------------------------------------------------------------------------\n",
      "[nan]\n",
      "b18 Select the antibiotics available at the health facility pharmacy from the Access group antibiotics listed/Sulfamethizole Sulfamethizole\n",
      "----------------------------------------------------------------------------------------------------------------------------\n",
      "[nan]\n",
      "b18 Select the antibiotics available at the health facility pharmacy from the Access group antibiotics listed/Sulfamethoxazole Sulfamethoxazole\n",
      "------------------------------------------------------------------------------------------------------------------------------\n",
      "[nan]\n",
      "b18 Select the antibiotics available at the health facility pharmacy from the Access group antibiotics listed/Sulfamethoxazole/trimethoprim trimethoprim\n",
      "-------------------------------------------------------------------------------------------------------------------------------------------\n",
      "['trimethoprim' nan]\n",
      "b18 Select the antibiotics available at the health facility pharmacy from the Access group antibiotics listed/Sulfamethoxypyridazine Sulfamethoxypyridazine\n",
      "------------------------------------------------------------------------------------------------------------------------------------\n",
      "[nan]\n",
      "b18 Select the antibiotics available at the health facility pharmacy from the Access group antibiotics listed/Sulfametomidine Sulfametomidine\n",
      "-----------------------------------------------------------------------------------------------------------------------------\n",
      "[nan]\n",
      "b18 Select the antibiotics available at the health facility pharmacy from the Access group antibiotics listed/Sulfametoxydiazine Sulfametoxydiazine\n",
      "--------------------------------------------------------------------------------------------------------------------------------\n",
      "[nan]\n",
      "b18 Select the antibiotics available at the health facility pharmacy from the Access group antibiotics listed/Sulfametrole/trimethoprim trimethoprim\n",
      "---------------------------------------------------------------------------------------------------------------------------------------\n",
      "[nan]\n",
      "b18 Select the antibiotics available at the health facility pharmacy from the Access group antibiotics listed/Sulfamoxole Sulfamoxole\n",
      "-------------------------------------------------------------------------------------------------------------------------\n",
      "[nan]\n",
      "b18 Select the antibiotics available at the health facility pharmacy from the Access group antibiotics listed/Sulfamoxole/trimethoprim trimethoprim\n",
      "--------------------------------------------------------------------------------------------------------------------------------------\n",
      "[nan]\n",
      "b18 Select the antibiotics available at the health facility pharmacy from the Access group antibiotics listed/Sulfanilamide Sulfanilamide\n",
      "---------------------------------------------------------------------------------------------------------------------------\n",
      "[nan]\n",
      "b18 Select the antibiotics available at the health facility pharmacy from the Access group antibiotics listed/Sulfaperin Sulfaperin\n",
      "------------------------------------------------------------------------------------------------------------------------\n",
      "[nan]\n",
      "b18 Select the antibiotics available at the health facility pharmacy from the Access group antibiotics listed/Sulfaphenazole Sulfaphenazole\n",
      "----------------------------------------------------------------------------------------------------------------------------\n",
      "[nan]\n",
      "b18 Select the antibiotics available at the health facility pharmacy from the Access group antibiotics listed/Sulfapyridine Sulfapyridine\n",
      "---------------------------------------------------------------------------------------------------------------------------\n",
      "[nan]\n",
      "b18 Select the antibiotics available at the health facility pharmacy from the Access group antibiotics listed/Sulfathiazole Sulfathiazole\n",
      "---------------------------------------------------------------------------------------------------------------------------\n",
      "[nan]\n",
      "b18 Select the antibiotics available at the health facility pharmacy from the Access group antibiotics listed/Sulfathiourea Sulfathiourea\n",
      "---------------------------------------------------------------------------------------------------------------------------\n",
      "[nan]\n",
      "b18 Select the antibiotics available at the health facility pharmacy from the Access group antibiotics listed/Sultamicillin Sultamicillin\n",
      "---------------------------------------------------------------------------------------------------------------------------\n",
      "[nan]\n",
      "b18 Select the antibiotics available at the health facility pharmacy from the Access group antibiotics listed/Talampicillin Talampicillin\n",
      "---------------------------------------------------------------------------------------------------------------------------\n",
      "[nan]\n",
      "b18 Select the antibiotics available at the health facility pharmacy from the Access group antibiotics listed/Tetracycline Tetracycline\n",
      "--------------------------------------------------------------------------------------------------------------------------\n",
      "[nan 'Tetracycline']\n",
      "b18 Select the antibiotics available at the health facility pharmacy from the Access group antibiotics listed/Thiamphenicol Thiamphenicol\n",
      "---------------------------------------------------------------------------------------------------------------------------\n",
      "[nan]\n",
      "b18 Select the antibiotics available at the health facility pharmacy from the Access group antibiotics listed/Tinidazole_IV Tinidazole_IV\n",
      "---------------------------------------------------------------------------------------------------------------------------\n",
      "[nan]\n",
      "b18 Select the antibiotics available at the health facility pharmacy from the Access group antibiotics listed/Tinidazole_oral Tinidazole_oral\n",
      "-----------------------------------------------------------------------------------------------------------------------------\n",
      "['Tinidazole_oral' nan]\n",
      "b18 Select the antibiotics available at the health facility pharmacy from the Access group antibiotics listed/Trimethoprim Trimethoprim\n",
      "--------------------------------------------------------------------------------------------------------------------------\n",
      "[nan]\n",
      "b19 Select the antibiotics available at the health facility pharmacy from the Watch group antibiotics listed/Arbekacin Arbekacin\n",
      "----------------------------------------------------------------------------------------------------------------------\n",
      "[nan]\n",
      "b19 Select the antibiotics available at the health facility pharmacy from the Watch group antibiotics listed/Aspoxicillin Aspoxicillin\n",
      "-------------------------------------------------------------------------------------------------------------------------\n",
      "[nan]\n",
      "b19 Select the antibiotics available at the health facility pharmacy from the Watch group antibiotics listed/Azithromycin Azithromycin\n",
      "-------------------------------------------------------------------------------------------------------------------------\n",
      "['Azithromycin']\n",
      "b19 Select the antibiotics available at the health facility pharmacy from the Watch group antibiotics listed/Azlocillin Azlocillin\n",
      "-----------------------------------------------------------------------------------------------------------------------\n",
      "[nan]\n",
      "b19 Select the antibiotics available at the health facility pharmacy from the Watch group antibiotics listed/Bekanamycin Bekanamycin\n",
      "------------------------------------------------------------------------------------------------------------------------\n",
      "[nan]\n",
      "b19 Select the antibiotics available at the health facility pharmacy from the Watch group antibiotics listed/Biapenem Biapenem\n",
      "---------------------------------------------------------------------------------------------------------------------\n",
      "[nan]\n",
      "b19 Select the antibiotics available at the health facility pharmacy from the Watch group antibiotics listed/Carbenicillin Carbenicillin\n",
      "--------------------------------------------------------------------------------------------------------------------------\n",
      "[nan]\n",
      "b19 Select the antibiotics available at the health facility pharmacy from the Watch group antibiotics listed/Carindacillin Carindacillin\n",
      "--------------------------------------------------------------------------------------------------------------------------\n",
      "[nan]\n",
      "b19 Select the antibiotics available at the health facility pharmacy from the Watch group antibiotics listed/Cefaclor Cefaclor\n",
      "---------------------------------------------------------------------------------------------------------------------\n",
      "[nan 'Cefaclor']\n",
      "b19 Select the antibiotics available at the health facility pharmacy from the Watch group antibiotics listed/Cefamandole Cefamandole\n",
      "------------------------------------------------------------------------------------------------------------------------\n",
      "[nan]\n",
      "b19 Select the antibiotics available at the health facility pharmacy from the Watch group antibiotics listed/Cefbuperazone Cefbuperazone\n",
      "--------------------------------------------------------------------------------------------------------------------------\n",
      "[nan]\n",
      "b19 Select the antibiotics available at the health facility pharmacy from the Watch group antibiotics listed/Cefdinir Cefdinir\n",
      "---------------------------------------------------------------------------------------------------------------------\n",
      "[nan]\n",
      "b19 Select the antibiotics available at the health facility pharmacy from the Watch group antibiotics listed/Cefepime Cefepime\n",
      "---------------------------------------------------------------------------------------------------------------------\n",
      "[nan 'Cefepime']\n",
      "b19 Select the antibiotics available at the health facility pharmacy from the Watch group antibiotics listed/Cefixime Cefixime\n",
      "---------------------------------------------------------------------------------------------------------------------\n",
      "['Cefixime' nan]\n",
      "b19 Select the antibiotics available at the health facility pharmacy from the Watch group antibiotics listed/Cefmenoxime Cefmenoxime\n",
      "------------------------------------------------------------------------------------------------------------------------\n",
      "[nan]\n",
      "b19 Select the antibiotics available at the health facility pharmacy from the Watch group antibiotics listed/Cefmetazole Cefmetazole\n",
      "------------------------------------------------------------------------------------------------------------------------\n",
      "[nan]\n",
      "b19 Select the antibiotics available at the health facility pharmacy from the Watch group antibiotics listed/Cefminox Cefminox\n",
      "---------------------------------------------------------------------------------------------------------------------\n",
      "[nan]\n",
      "b19 Select the antibiotics available at the health facility pharmacy from the Watch group antibiotics listed/Cefodizime Cefodizime\n",
      "-----------------------------------------------------------------------------------------------------------------------\n",
      "[nan]\n",
      "b19 Select the antibiotics available at the health facility pharmacy from the Watch group antibiotics listed/Cefonicid Cefonicid\n",
      "----------------------------------------------------------------------------------------------------------------------\n",
      "[nan]\n",
      "b19 Select the antibiotics available at the health facility pharmacy from the Watch group antibiotics listed/Cefoperazone Cefoperazone\n",
      "-------------------------------------------------------------------------------------------------------------------------\n",
      "[nan 'Cefoperazone']\n",
      "b19 Select the antibiotics available at the health facility pharmacy from the Watch group antibiotics listed/Ceforanide Ceforanide\n",
      "-----------------------------------------------------------------------------------------------------------------------\n",
      "[nan]\n",
      "b19 Select the antibiotics available at the health facility pharmacy from the Watch group antibiotics listed/Cefoselis Cefoselis\n",
      "----------------------------------------------------------------------------------------------------------------------\n",
      "[nan]\n",
      "b19 Select the antibiotics available at the health facility pharmacy from the Watch group antibiotics listed/Cefotaxime Cefotaxime\n",
      "-----------------------------------------------------------------------------------------------------------------------\n",
      "[nan 'Cefotaxime']\n",
      "b19 Select the antibiotics available at the health facility pharmacy from the Watch group antibiotics listed/Cefotetan Cefotetan\n",
      "----------------------------------------------------------------------------------------------------------------------\n",
      "[nan]\n",
      "b19 Select the antibiotics available at the health facility pharmacy from the Watch group antibiotics listed/Cefotiam Cefotiam\n",
      "---------------------------------------------------------------------------------------------------------------------\n",
      "[nan]\n",
      "b19 Select the antibiotics available at the health facility pharmacy from the Watch group antibiotics listed/Cefoxitin Cefoxitin\n",
      "----------------------------------------------------------------------------------------------------------------------\n",
      "[nan]\n",
      "b19 Select the antibiotics available at the health facility pharmacy from the Watch group antibiotics listed/Cefozopran Cefozopran\n",
      "-----------------------------------------------------------------------------------------------------------------------\n",
      "[nan]\n",
      "b19 Select the antibiotics available at the health facility pharmacy from the Watch group antibiotics listed/Cefpiramide Cefpiramide\n",
      "------------------------------------------------------------------------------------------------------------------------\n",
      "[nan]\n",
      "b19 Select the antibiotics available at the health facility pharmacy from the Watch group antibiotics listed/Cefpirome Cefpirome\n",
      "----------------------------------------------------------------------------------------------------------------------\n",
      "[nan]\n",
      "b19 Select the antibiotics available at the health facility pharmacy from the Watch group antibiotics listed/Cefprozil Cefprozil\n",
      "----------------------------------------------------------------------------------------------------------------------\n",
      "[nan]\n",
      "b19 Select the antibiotics available at the health facility pharmacy from the Watch group antibiotics listed/Cefsulodin Cefsulodin\n",
      "-----------------------------------------------------------------------------------------------------------------------\n",
      "[nan]\n",
      "b19 Select the antibiotics available at the health facility pharmacy from the Watch group antibiotics listed/Ceftazidime Ceftazidime\n",
      "------------------------------------------------------------------------------------------------------------------------\n",
      "[nan 'Ceftazidime']\n",
      "b19 Select the antibiotics available at the health facility pharmacy from the Watch group antibiotics listed/Ceftibuten Ceftibuten\n",
      "-----------------------------------------------------------------------------------------------------------------------\n",
      "[nan]\n",
      "b19 Select the antibiotics available at the health facility pharmacy from the Watch group antibiotics listed/Ceftizoxime Ceftizoxime\n",
      "------------------------------------------------------------------------------------------------------------------------\n",
      "[nan]\n",
      "b19 Select the antibiotics available at the health facility pharmacy from the Watch group antibiotics listed/Ceftriaxone Ceftriaxone\n",
      "------------------------------------------------------------------------------------------------------------------------\n",
      "['Ceftriaxone' nan]\n",
      "b19 Select the antibiotics available at the health facility pharmacy from the Watch group antibiotics listed/Cefuroxime Cefuroxime\n",
      "-----------------------------------------------------------------------------------------------------------------------\n",
      "[nan 'Cefuroxime']\n",
      "b19 Select the antibiotics available at the health facility pharmacy from the Watch group antibiotics listed/Chlortetracycline Chlortetracycline\n",
      "------------------------------------------------------------------------------------------------------------------------------\n",
      "[nan]\n",
      "b19 Select the antibiotics available at the health facility pharmacy from the Watch group antibiotics listed/Cinoxacin Cinoxacin\n",
      "----------------------------------------------------------------------------------------------------------------------\n",
      "[nan]\n",
      "b19 Select the antibiotics available at the health facility pharmacy from the Watch group antibiotics listed/Ciprofloxacin Ciprofloxacin\n",
      "--------------------------------------------------------------------------------------------------------------------------\n",
      "['Ciprofloxacin' nan]\n",
      "b19 Select the antibiotics available at the health facility pharmacy from the Watch group antibiotics listed/Clarithromycin Clarithromycin\n",
      "---------------------------------------------------------------------------------------------------------------------------\n",
      "[nan 'Clarithromycin']\n",
      "b19 Select the antibiotics available at the health facility pharmacy from the Watch group antibiotics listed/Clofoctol Clofoctol\n",
      "----------------------------------------------------------------------------------------------------------------------\n",
      "[nan]\n",
      "b19 Select the antibiotics available at the health facility pharmacy from the Watch group antibiotics listed/Clomocycline Clomocycline\n",
      "-------------------------------------------------------------------------------------------------------------------------\n",
      "[nan]\n",
      "b19 Select the antibiotics available at the health facility pharmacy from the Watch group antibiotics listed/Delafloxacin Delafloxacin\n",
      "-------------------------------------------------------------------------------------------------------------------------\n",
      "[nan]\n",
      "b19 Select the antibiotics available at the health facility pharmacy from the Watch group antibiotics listed/Demeclocycline Demeclocycline\n",
      "---------------------------------------------------------------------------------------------------------------------------\n",
      "[nan]\n",
      "b19 Select the antibiotics available at the health facility pharmacy from the Watch group antibiotics listed/Dibekacin Dibekacin\n",
      "----------------------------------------------------------------------------------------------------------------------\n",
      "[nan]\n",
      "b19 Select the antibiotics available at the health facility pharmacy from the Watch group antibiotics listed/Dirithromycin Dirithromycin\n",
      "--------------------------------------------------------------------------------------------------------------------------\n",
      "[nan]\n",
      "b19 Select the antibiotics available at the health facility pharmacy from the Watch group antibiotics listed/Doripenem Doripenem\n",
      "----------------------------------------------------------------------------------------------------------------------\n",
      "[nan 'Doripenem']\n",
      "b19 Select the antibiotics available at the health facility pharmacy from the Watch group antibiotics listed/Enoxacin Enoxacin\n",
      "---------------------------------------------------------------------------------------------------------------------\n",
      "[nan]\n",
      "b19 Select the antibiotics available at the health facility pharmacy from the Watch group antibiotics listed/Ertapenem Ertapenem\n",
      "----------------------------------------------------------------------------------------------------------------------\n",
      "[nan 'Ertapenem']\n",
      "b19 Select the antibiotics available at the health facility pharmacy from the Watch group antibiotics listed/Erythromycin Erythromycin\n",
      "-------------------------------------------------------------------------------------------------------------------------\n",
      "['Erythromycin' nan]\n",
      "b19 Select the antibiotics available at the health facility pharmacy from the Watch group antibiotics listed/Fidaxomicin Fidaxomicin\n",
      "------------------------------------------------------------------------------------------------------------------------\n",
      "[nan]\n",
      "b19 Select the antibiotics available at the health facility pharmacy from the Watch group antibiotics listed/Fleroxacin Fleroxacin\n",
      "-----------------------------------------------------------------------------------------------------------------------\n",
      "[nan]\n",
      "b19 Select the antibiotics available at the health facility pharmacy from the Watch group antibiotics listed/Flomoxef Flomoxef\n",
      "---------------------------------------------------------------------------------------------------------------------\n",
      "[nan]\n",
      "b19 Select the antibiotics available at the health facility pharmacy from the Watch group antibiotics listed/Flumequine Flumequine\n",
      "-----------------------------------------------------------------------------------------------------------------------\n",
      "[nan]\n",
      "b19 Select the antibiotics available at the health facility pharmacy from the Watch group antibiotics listed/Flurithromycin Flurithromycin\n",
      "---------------------------------------------------------------------------------------------------------------------------\n",
      "[nan]\n",
      "b19 Select the antibiotics available at the health facility pharmacy from the Watch group antibiotics listed/Fosfomycin_oral Fosfomycin_oral\n",
      "----------------------------------------------------------------------------------------------------------------------------\n",
      "[nan 'Fosfomycin_oral']\n",
      "b19 Select the antibiotics available at the health facility pharmacy from the Watch group antibiotics listed/Garenoxacin Garenoxacin\n",
      "------------------------------------------------------------------------------------------------------------------------\n",
      "[nan]\n",
      "b19 Select the antibiotics available at the health facility pharmacy from the Watch group antibiotics listed/Gatifloxacin Gatifloxacin\n",
      "-------------------------------------------------------------------------------------------------------------------------\n",
      "[nan]\n",
      "b19 Select the antibiotics available at the health facility pharmacy from the Watch group antibiotics listed/Gemifloxacin Gemifloxacin\n",
      "-------------------------------------------------------------------------------------------------------------------------\n",
      "[nan]\n",
      "b19 Select the antibiotics available at the health facility pharmacy from the Watch group antibiotics listed/Grepafloxacin Grepafloxacin\n",
      "--------------------------------------------------------------------------------------------------------------------------\n",
      "[nan]\n",
      "b19 Select the antibiotics available at the health facility pharmacy from the Watch group antibiotics listed/Imipenem/cilastatin cilastatin\n",
      "--------------------------------------------------------------------------------------------------------------------------------\n",
      "[nan 'cilastatin']\n",
      "b19 Select the antibiotics available at the health facility pharmacy from the Watch group antibiotics listed/Isepamicin Isepamicin\n",
      "-----------------------------------------------------------------------------------------------------------------------\n",
      "[nan]\n",
      "b19 Select the antibiotics available at the health facility pharmacy from the Watch group antibiotics listed/Josamycin Josamycin\n",
      "----------------------------------------------------------------------------------------------------------------------\n",
      "[nan]\n",
      "b19 Select the antibiotics available at the health facility pharmacy from the Watch group antibiotics listed/Kanamycin_IV Kanamycin_IV\n",
      "-------------------------------------------------------------------------------------------------------------------------\n",
      "[nan 'Kanamycin_IV']\n",
      "b19 Select the antibiotics available at the health facility pharmacy from the Watch group antibiotics listed/Kanamycin_oral Kanamycin_oral\n",
      "---------------------------------------------------------------------------------------------------------------------------\n",
      "[nan 'Kanamycin_oral']\n",
      "b19 Select the antibiotics available at the health facility pharmacy from the Watch group antibiotics listed/Lascufloxacin Lascufloxacin\n",
      "--------------------------------------------------------------------------------------------------------------------------\n",
      "[nan]\n",
      "b19 Select the antibiotics available at the health facility pharmacy from the Watch group antibiotics listed/Latamoxef Latamoxef\n",
      "----------------------------------------------------------------------------------------------------------------------\n",
      "[nan]\n",
      "b19 Select the antibiotics available at the health facility pharmacy from the Watch group antibiotics listed/Levofloxacin Levofloxacin\n",
      "-------------------------------------------------------------------------------------------------------------------------\n",
      "[nan 'Levofloxacin']\n",
      "b19 Select the antibiotics available at the health facility pharmacy from the Watch group antibiotics listed/Levonadifloxacin Levonadifloxacin\n",
      "-----------------------------------------------------------------------------------------------------------------------------\n",
      "[nan]\n",
      "b19 Select the antibiotics available at the health facility pharmacy from the Watch group antibiotics listed/Lincomycin Lincomycin\n",
      "-----------------------------------------------------------------------------------------------------------------------\n",
      "[nan 'Lincomycin']\n",
      "b19 Select the antibiotics available at the health facility pharmacy from the Watch group antibiotics listed/Lomefloxacin Lomefloxacin\n",
      "-------------------------------------------------------------------------------------------------------------------------\n",
      "[nan]\n",
      "b19 Select the antibiotics available at the health facility pharmacy from the Watch group antibiotics listed/Loracarbef Loracarbef\n",
      "-----------------------------------------------------------------------------------------------------------------------\n",
      "[nan]\n",
      "b19 Select the antibiotics available at the health facility pharmacy from the Watch group antibiotics listed/Lymecycline Lymecycline\n",
      "------------------------------------------------------------------------------------------------------------------------\n",
      "[nan 'Lymecycline']\n",
      "b19 Select the antibiotics available at the health facility pharmacy from the Watch group antibiotics listed/Meropenem Meropenem\n",
      "----------------------------------------------------------------------------------------------------------------------\n",
      "[nan 'Meropenem']\n",
      "b19 Select the antibiotics available at the health facility pharmacy from the Watch group antibiotics listed/Metacycline Metacycline\n",
      "------------------------------------------------------------------------------------------------------------------------\n",
      "[nan]\n",
      "b19 Select the antibiotics available at the health facility pharmacy from the Watch group antibiotics listed/Mezlocillin Mezlocillin\n",
      "------------------------------------------------------------------------------------------------------------------------\n",
      "[nan]\n",
      "b19 Select the antibiotics available at the health facility pharmacy from the Watch group antibiotics listed/Micronomicin Micronomicin\n",
      "-------------------------------------------------------------------------------------------------------------------------\n",
      "[nan]\n",
      "b19 Select the antibiotics available at the health facility pharmacy from the Watch group antibiotics listed/Midecamycin Midecamycin\n",
      "------------------------------------------------------------------------------------------------------------------------\n",
      "[nan]\n",
      "b19 Select the antibiotics available at the health facility pharmacy from the Watch group antibiotics listed/Minocycline_oral Minocycline_oral\n",
      "-----------------------------------------------------------------------------------------------------------------------------\n",
      "[nan]\n",
      "b19 Select the antibiotics available at the health facility pharmacy from the Watch group antibiotics listed/Miocamycin Miocamycin\n",
      "-----------------------------------------------------------------------------------------------------------------------\n",
      "[nan]\n",
      "b19 Select the antibiotics available at the health facility pharmacy from the Watch group antibiotics listed/Moxifloxacin Moxifloxacin\n",
      "-------------------------------------------------------------------------------------------------------------------------\n",
      "[nan 'Moxifloxacin']\n",
      "b19 Select the antibiotics available at the health facility pharmacy from the Watch group antibiotics listed/Nemonoxacin Nemonoxacin\n",
      "------------------------------------------------------------------------------------------------------------------------\n",
      "[nan]\n",
      "b19 Select the antibiotics available at the health facility pharmacy from the Watch group antibiotics listed/Neomycin_IV Neomycin_IV\n",
      "------------------------------------------------------------------------------------------------------------------------\n",
      "[nan]\n",
      "b19 Select the antibiotics available at the health facility pharmacy from the Watch group antibiotics listed/Neomycin_oral Neomycin_oral\n",
      "--------------------------------------------------------------------------------------------------------------------------\n",
      "[nan 'Neomycin_oral']\n",
      "b19 Select the antibiotics available at the health facility pharmacy from the Watch group antibiotics listed/Netilmicin Netilmicin\n",
      "-----------------------------------------------------------------------------------------------------------------------\n",
      "[nan]\n",
      "b19 Select the antibiotics available at the health facility pharmacy from the Watch group antibiotics listed/Norfloxacin Norfloxacin\n",
      "------------------------------------------------------------------------------------------------------------------------\n",
      "[nan 'Norfloxacin']\n",
      "b19 Select the antibiotics available at the health facility pharmacy from the Watch group antibiotics listed/Ofloxacin Ofloxacin\n",
      "----------------------------------------------------------------------------------------------------------------------\n",
      "[nan 'Ofloxacin']\n",
      "b19 Select the antibiotics available at the health facility pharmacy from the Watch group antibiotics listed/Oleandomycin Oleandomycin\n",
      "-------------------------------------------------------------------------------------------------------------------------\n",
      "[nan]\n",
      "b19 Select the antibiotics available at the health facility pharmacy from the Watch group antibiotics listed/Oxytetracycline Oxytetracycline\n",
      "----------------------------------------------------------------------------------------------------------------------------\n",
      "[nan]\n",
      "b19 Select the antibiotics available at the health facility pharmacy from the Watch group antibiotics listed/Panipenem Panipenem\n",
      "----------------------------------------------------------------------------------------------------------------------\n",
      "[nan]\n",
      "b19 Select the antibiotics available at the health facility pharmacy from the Watch group antibiotics listed/Pazufloxacin Pazufloxacin\n",
      "-------------------------------------------------------------------------------------------------------------------------\n",
      "[nan]\n",
      "b19 Select the antibiotics available at the health facility pharmacy from the Watch group antibiotics listed/Pefloxacin Pefloxacin\n",
      "-----------------------------------------------------------------------------------------------------------------------\n",
      "[nan]\n",
      "b19 Select the antibiotics available at the health facility pharmacy from the Watch group antibiotics listed/Penimepicycline Penimepicycline\n",
      "----------------------------------------------------------------------------------------------------------------------------\n",
      "[nan]\n",
      "b19 Select the antibiotics available at the health facility pharmacy from the Watch group antibiotics listed/Pheneticillin Pheneticillin\n",
      "--------------------------------------------------------------------------------------------------------------------------\n",
      "[nan]\n",
      "b19 Select the antibiotics available at the health facility pharmacy from the Watch group antibiotics listed/Piperacillin Piperacillin\n",
      "-------------------------------------------------------------------------------------------------------------------------\n",
      "[nan]\n",
      "b19 Select the antibiotics available at the health facility pharmacy from the Watch group antibiotics listed/Piperacillin/tazobactam tazobactam\n",
      "------------------------------------------------------------------------------------------------------------------------------------\n",
      "[nan 'tazobactam']\n",
      "b19 Select the antibiotics available at the health facility pharmacy from the Watch group antibiotics listed/Pristinamycin Pristinamycin\n",
      "--------------------------------------------------------------------------------------------------------------------------\n",
      "[nan]\n",
      "b19 Select the antibiotics available at the health facility pharmacy from the Watch group antibiotics listed/Prulifloxacin Prulifloxacin\n",
      "--------------------------------------------------------------------------------------------------------------------------\n",
      "[nan]\n",
      "b19 Select the antibiotics available at the health facility pharmacy from the Watch group antibiotics listed/Ribostamycin Ribostamycin\n",
      "-------------------------------------------------------------------------------------------------------------------------\n",
      "[nan]\n",
      "b19 Select the antibiotics available at the health facility pharmacy from the Watch group antibiotics listed/Rifabutin Rifabutin\n",
      "----------------------------------------------------------------------------------------------------------------------\n",
      "[nan 'Rifabutin']\n",
      "b19 Select the antibiotics available at the health facility pharmacy from the Watch group antibiotics listed/Rifampicin Rifampicin\n",
      "-----------------------------------------------------------------------------------------------------------------------\n",
      "[nan 'Rifampicin']\n",
      "b19 Select the antibiotics available at the health facility pharmacy from the Watch group antibiotics listed/Rifamycin_IV Rifamycin_IV\n",
      "-------------------------------------------------------------------------------------------------------------------------\n",
      "[nan]\n",
      "b19 Select the antibiotics available at the health facility pharmacy from the Watch group antibiotics listed/Rifamycin_oral Rifamycin_oral\n",
      "---------------------------------------------------------------------------------------------------------------------------\n",
      "[nan 'Rifamycin_oral']\n",
      "b19 Select the antibiotics available at the health facility pharmacy from the Watch group antibiotics listed/Rifaximin Rifaximin\n",
      "----------------------------------------------------------------------------------------------------------------------\n",
      "[nan 'Rifaximin']\n",
      "b19 Select the antibiotics available at the health facility pharmacy from the Watch group antibiotics listed/Rokitamycin Rokitamycin\n",
      "------------------------------------------------------------------------------------------------------------------------\n",
      "[nan]\n",
      "b19 Select the antibiotics available at the health facility pharmacy from the Watch group antibiotics listed/Rolitetracycline Rolitetracycline\n",
      "-----------------------------------------------------------------------------------------------------------------------------\n",
      "[nan]\n",
      "b19 Select the antibiotics available at the health facility pharmacy from the Watch group antibiotics listed/Rosoxacin Rosoxacin\n",
      "----------------------------------------------------------------------------------------------------------------------\n",
      "[nan]\n",
      "b19 Select the antibiotics available at the health facility pharmacy from the Watch group antibiotics listed/Roxithromycin Roxithromycin\n",
      "--------------------------------------------------------------------------------------------------------------------------\n",
      "[nan]\n",
      "b19 Select the antibiotics available at the health facility pharmacy from the Watch group antibiotics listed/Rufloxacin Rufloxacin\n",
      "-----------------------------------------------------------------------------------------------------------------------\n",
      "[nan]\n",
      "b19 Select the antibiotics available at the health facility pharmacy from the Watch group antibiotics listed/Sarecycline Sarecycline\n",
      "------------------------------------------------------------------------------------------------------------------------\n",
      "[nan]\n",
      "b19 Select the antibiotics available at the health facility pharmacy from the Watch group antibiotics listed/Sisomicin Sisomicin\n",
      "----------------------------------------------------------------------------------------------------------------------\n",
      "[nan]\n",
      "b19 Select the antibiotics available at the health facility pharmacy from the Watch group antibiotics listed/Sitafloxacin Sitafloxacin\n",
      "-------------------------------------------------------------------------------------------------------------------------\n",
      "[nan]\n",
      "b19 Select the antibiotics available at the health facility pharmacy from the Watch group antibiotics listed/Solithromycin Solithromycin\n",
      "--------------------------------------------------------------------------------------------------------------------------\n",
      "[nan]\n",
      "b19 Select the antibiotics available at the health facility pharmacy from the Watch group antibiotics listed/Sparfloxacin Sparfloxacin\n",
      "-------------------------------------------------------------------------------------------------------------------------\n",
      "[nan]\n",
      "b19 Select the antibiotics available at the health facility pharmacy from the Watch group antibiotics listed/Spiramycin Spiramycin\n",
      "-----------------------------------------------------------------------------------------------------------------------\n",
      "[nan]\n",
      "b19 Select the antibiotics available at the health facility pharmacy from the Watch group antibiotics listed/Streptoduocin Streptoduocin\n",
      "--------------------------------------------------------------------------------------------------------------------------\n",
      "[nan]\n",
      "b19 Select the antibiotics available at the health facility pharmacy from the Watch group antibiotics listed/Streptomycin_IV Streptomycin_IV\n",
      "----------------------------------------------------------------------------------------------------------------------------\n",
      "[nan 'Streptomycin_IV']\n",
      "b19 Select the antibiotics available at the health facility pharmacy from the Watch group antibiotics listed/Streptomycin_oral Streptomycin_oral\n",
      "------------------------------------------------------------------------------------------------------------------------------\n",
      "[nan]\n",
      "b19 Select the antibiotics available at the health facility pharmacy from the Watch group antibiotics listed/Sulbenicillin Sulbenicillin\n",
      "--------------------------------------------------------------------------------------------------------------------------\n",
      "[nan]\n",
      "b19 Select the antibiotics available at the health facility pharmacy from the Watch group antibiotics listed/Tazobactam Tazobactam\n",
      "-----------------------------------------------------------------------------------------------------------------------\n",
      "[nan 'Tazobactam']\n",
      "b19 Select the antibiotics available at the health facility pharmacy from the Watch group antibiotics listed/Tebipenem Tebipenem\n",
      "----------------------------------------------------------------------------------------------------------------------\n",
      "[nan]\n",
      "b19 Select the antibiotics available at the health facility pharmacy from the Watch group antibiotics listed/Teicoplanin Teicoplanin\n",
      "------------------------------------------------------------------------------------------------------------------------\n",
      "[nan 'Teicoplanin']\n",
      "b19 Select the antibiotics available at the health facility pharmacy from the Watch group antibiotics listed/Telithromycin Telithromycin\n",
      "--------------------------------------------------------------------------------------------------------------------------\n",
      "[nan]\n",
      "b19 Select the antibiotics available at the health facility pharmacy from the Watch group antibiotics listed/Temafloxacin Temafloxacin\n",
      "-------------------------------------------------------------------------------------------------------------------------\n",
      "[nan]\n",
      "b19 Select the antibiotics available at the health facility pharmacy from the Watch group antibiotics listed/Temocillin Temocillin\n",
      "-----------------------------------------------------------------------------------------------------------------------\n",
      "[nan]\n",
      "b19 Select the antibiotics available at the health facility pharmacy from the Watch group antibiotics listed/Ticarcillin Ticarcillin\n",
      "------------------------------------------------------------------------------------------------------------------------\n",
      "[nan]\n",
      "b19 Select the antibiotics available at the health facility pharmacy from the Watch group antibiotics listed/Tobramycin Tobramycin\n",
      "-----------------------------------------------------------------------------------------------------------------------\n",
      "[nan 'Tobramycin']\n",
      "b19 Select the antibiotics available at the health facility pharmacy from the Watch group antibiotics listed/Tosufloxacin Tosufloxacin\n",
      "-------------------------------------------------------------------------------------------------------------------------\n",
      "[nan]\n",
      "b19 Select the antibiotics available at the health facility pharmacy from the Watch group antibiotics listed/Troleandomycin Troleandomycin\n",
      "---------------------------------------------------------------------------------------------------------------------------\n",
      "[nan]\n",
      "b19 Select the antibiotics available at the health facility pharmacy from the Watch group antibiotics listed/Trovafloxacin Trovafloxacin\n",
      "--------------------------------------------------------------------------------------------------------------------------\n",
      "[nan]\n",
      "b19 Select the antibiotics available at the health facility pharmacy from the Watch group antibiotics listed/Vancomycin_IV Vancomycin_IV\n",
      "--------------------------------------------------------------------------------------------------------------------------\n",
      "['Vancomycin_IV' nan]\n",
      "b19 Select the antibiotics available at the health facility pharmacy from the Watch group antibiotics listed/Vancomycin_oral Vancomycin_oral\n",
      "----------------------------------------------------------------------------------------------------------------------------\n",
      "[nan 'Vancomycin_oral']\n",
      "b20 Select the antibiotics available at the health facility pharmacy from the Reserve group antibiotics listed/Aztreonam Aztreonam\n",
      "------------------------------------------------------------------------------------------------------------------------\n",
      "[nan]\n",
      "b20 Select the antibiotics available at the health facility pharmacy from the Reserve group antibiotics listed/Carumonam Carumonam\n",
      "------------------------------------------------------------------------------------------------------------------------\n",
      "[nan]\n",
      "b20 Select the antibiotics available at the health facility pharmacy from the Reserve group antibiotics listed/Cefiderocol Cefiderocol\n",
      "--------------------------------------------------------------------------------------------------------------------------\n",
      "[nan]\n",
      "b20 Select the antibiotics available at the health facility pharmacy from the Reserve group antibiotics listed/Ceftazidime/avibactam avibactam\n",
      "------------------------------------------------------------------------------------------------------------------------------------\n",
      "[nan]\n",
      "b20 Select the antibiotics available at the health facility pharmacy from the Reserve group antibiotics listed/Ceftolozane/tazobactam tazobactam\n",
      "-------------------------------------------------------------------------------------------------------------------------------------\n",
      "[nan]\n",
      "b20 Select the antibiotics available at the health facility pharmacy from the Reserve group antibiotics listed/Colistin_IV Colistin_IV\n",
      "--------------------------------------------------------------------------------------------------------------------------\n",
      "[nan 'Colistin_IV']\n",
      "b20 Select the antibiotics available at the health facility pharmacy from the Reserve group antibiotics listed/Colistin_oral Colistin_oral\n",
      "----------------------------------------------------------------------------------------------------------------------------\n",
      "[nan]\n",
      "b20 Select the antibiotics available at the health facility pharmacy from the Reserve group antibiotics listed/Dalbavancin Dalbavancin\n",
      "--------------------------------------------------------------------------------------------------------------------------\n",
      "[nan]\n",
      "b20 Select the antibiotics available at the health facility pharmacy from the Reserve group antibiotics listed/Dalfopristin/quinupristin quinupristin\n",
      "----------------------------------------------------------------------------------------------------------------------------------------\n",
      "[nan]\n",
      "b20 Select the antibiotics available at the health facility pharmacy from the Reserve group antibiotics listed/Daptomycin Daptomycin\n",
      "-------------------------------------------------------------------------------------------------------------------------\n",
      "[nan 'Daptomycin']\n",
      "b20 Select the antibiotics available at the health facility pharmacy from the Reserve group antibiotics listed/Eravacycline Eravacycline\n",
      "---------------------------------------------------------------------------------------------------------------------------\n",
      "[nan]\n",
      "b20 Select the antibiotics available at the health facility pharmacy from the Reserve group antibiotics listed/Faropenem Faropenem\n",
      "------------------------------------------------------------------------------------------------------------------------\n",
      "[nan]\n",
      "b20 Select the antibiotics available at the health facility pharmacy from the Reserve group antibiotics listed/Fosfomycin_IV Fosfomycin_IV\n",
      "----------------------------------------------------------------------------------------------------------------------------\n",
      "[nan 'Fosfomycin_IV']\n",
      "b20 Select the antibiotics available at the health facility pharmacy from the Reserve group antibiotics listed/Iclaprim Iclaprim\n",
      "-----------------------------------------------------------------------------------------------------------------------\n",
      "[nan]\n",
      "b20 Select the antibiotics available at the health facility pharmacy from the Reserve group antibiotics listed/Imipenem/cilastatin/relebactam relebactam\n",
      "---------------------------------------------------------------------------------------------------------------------------------------------\n",
      "[nan]\n",
      "b20 Select the antibiotics available at the health facility pharmacy from the Reserve group antibiotics listed/Lefamulin Lefamulin\n",
      "------------------------------------------------------------------------------------------------------------------------\n",
      "[nan]\n",
      "b20 Select the antibiotics available at the health facility pharmacy from the Reserve group antibiotics listed/Linezolid Linezolid\n",
      "------------------------------------------------------------------------------------------------------------------------\n",
      "[nan 'Linezolid']\n",
      "b20 Select the antibiotics available at the health facility pharmacy from the Reserve group antibiotics listed/Meropenem/vaborbactam vaborbactam\n",
      "------------------------------------------------------------------------------------------------------------------------------------\n",
      "[nan]\n",
      "b20 Select the antibiotics available at the health facility pharmacy from the Reserve group antibiotics listed/Minocycline_IV Minocycline_IV\n",
      "-----------------------------------------------------------------------------------------------------------------------------\n",
      "[nan]\n",
      "b20 Select the antibiotics available at the health facility pharmacy from the Reserve group antibiotics listed/Omadacycline Omadacycline\n",
      "---------------------------------------------------------------------------------------------------------------------------\n",
      "[nan]\n",
      "b20 Select the antibiotics available at the health facility pharmacy from the Reserve group antibiotics listed/Oritavancin Oritavancin\n",
      "--------------------------------------------------------------------------------------------------------------------------\n",
      "[nan]\n",
      "b20 Select the antibiotics available at the health facility pharmacy from the Reserve group antibiotics listed/Plazomicin Plazomicin\n",
      "-------------------------------------------------------------------------------------------------------------------------\n",
      "[nan]\n",
      "b20 Select the antibiotics available at the health facility pharmacy from the Reserve group antibiotics listed/Tedizolid Tedizolid\n",
      "------------------------------------------------------------------------------------------------------------------------\n",
      "[nan]\n",
      "b20 Select the antibiotics available at the health facility pharmacy from the Reserve group antibiotics listed/Telavancin Telavancin\n",
      "-------------------------------------------------------------------------------------------------------------------------\n",
      "[nan]\n",
      "b20 Select the antibiotics available at the health facility pharmacy from the Reserve group antibiotics listed/Tigecycline Tigecycline\n",
      "--------------------------------------------------------------------------------------------------------------------------\n",
      "[nan 'Tigecycline']\n",
      "c5 Who does the reconstitution of antibiotics?/Pharmacist Pharmacist\n",
      "---------------------------------------------------------\n",
      "[nan 'Pharmacist']\n",
      "c5 Who does the reconstitution of antibiotics?/Nurses Nurses\n",
      "-----------------------------------------------------\n",
      "['Nurses' nan]\n",
      "c5 Who does the reconstitution of antibiotics?/Clinicians Clinicians\n",
      "---------------------------------------------------------\n",
      "[nan 'Clinicians']\n",
      "c5 Who does the reconstitution of antibiotics?/other other\n",
      "----------------------------------------------------\n",
      "[nan 'other']\n",
      "c6 Who provides drug information?/Pharmacist Pharmacist\n",
      "--------------------------------------------\n",
      "[nan 'Pharmacist']\n",
      "c6 Who provides drug information?/Nurses Nurses\n",
      "----------------------------------------\n",
      "[nan 'Nurses']\n",
      "c6 Who provides drug information?/Clinicians Clinicians\n",
      "--------------------------------------------\n",
      "[nan 'Clinicians']\n",
      "c6 Who provides drug information?/other other\n",
      "---------------------------------------\n",
      "['other' nan]\n",
      "d11 Who provides preauthorization?/Pharmacists Pharmacists\n",
      "----------------------------------------------\n",
      "[nan 'Pharmacists']\n",
      "d11 Who provides preauthorization?/Consultants Consultants\n",
      "----------------------------------------------\n",
      "[nan 'Consultants']\n",
      "d11 Who provides preauthorization?/Other Other\n",
      "----------------------------------------\n",
      "[nan]\n",
      "d11 Who provides preauthorization?/other other\n",
      "----------------------------------------\n",
      "[nan]\n",
      "d12 How is preauthorization provided?/Electronically Electronically\n",
      "----------------------------------------------------\n",
      "[nan 'Electronically']\n",
      "d12 How is preauthorization provided?/Verbally Verbally\n",
      "----------------------------------------------\n",
      "[nan 'Verbally']\n",
      "d12 How is preauthorization provided?/Other Other\n",
      "-------------------------------------------\n",
      "[nan]\n",
      "d12 How is preauthorization provided?/other other\n",
      "-------------------------------------------\n",
      "[nan]\n",
      "d15 For which wards?/ICU ICU\n",
      "------------------------\n",
      "[nan 'ICU']\n",
      "d15 For which wards?/HDU HDU\n",
      "------------------------\n",
      "[nan 'HDU']\n",
      "d15 For which wards?/other other\n",
      "--------------------------\n",
      "[nan 'Paediatric ward' 'Paediatric' 'Pediatrics, maternity '\n",
      " 'Paediatric, Maternity,  NBU']\n",
      "d20 Which wards have stewardship rounds?/ICU ICU\n",
      "--------------------------------------------\n",
      "[nan 'ICU']\n",
      "d20 Which wards have stewardship rounds?/HDU HDU\n",
      "--------------------------------------------\n",
      "[nan 'HDU']\n",
      "d20 Which wards have stewardship rounds?/other other\n",
      "----------------------------------------------\n",
      "[nan 'Paediatric ' 'Pediatrics wards' 'Pediatrics, maternity ']\n",
      "d25 For which wards?/ICU ICU\n",
      "------------------------\n",
      "[nan]\n",
      "d25 For which wards?/HDU HDU\n",
      "------------------------\n",
      "[nan 'HDU']\n",
      "d25 For which wards?/other other\n",
      "--------------------------\n",
      "[nan 'Outpatient department ' 'Pediatrics ward' 'Pediatrics, maternity '\n",
      " 'Outpatient' 'Obs/gyn, paediatrics ']\n",
      "e9 How are payments for patients made?/Cash Cash\n",
      "-------------------------------------------\n",
      "[nan 'Cash']\n",
      "e9 How are payments for patients made?/Free Free\n",
      "-------------------------------------------\n",
      "['General' 'No physician ' 'Family' 'Intensive care' 'Internal medicine'\n",
      " 'No physician,  one Medical officer '\n",
      " 'Epidemiologist infectious disease specialist'\n",
      " 'No physician-the Clinical officer double up as the Clinician of the facility'\n",
      " 'Consultant surgeon who doubles up as a medical officer'\n",
      " 'Infectious disease specialist' 'General physician ' 'Family medicine'\n",
      " '0'\n",
      " 'No physcians ,however there are consultant surgeon. There are also medical officers who stand in for the physician'\n",
      " 'Internal Medicine ' 'Pediatrics' 'Infectious disease '\n",
      " 'Internal medicine endocrinology' 'Physicians ']\n",
      "f7 Which guidelines do you use?/Other Other\n",
      "-------------------------------------\n",
      "[nan 'Other']\n",
      "f7 Which guidelines do you use?/other other\n",
      "-------------------------------------\n",
      "[nan 'Upto date, medscape'\n",
      " 'British society for antimicrobial chemotherapy, CDC' 'Sanford']\n",
      "n3 Detail out the Challenges/ barriers in implementing the proper Antibiotic usage in your facility./Other Other\n",
      "----------------------------------------------------------------------------------------------------------\n",
      "[nan 'Lack of chosen antibiotic in the pharmacy'\n",
      " 'High treatment cost to the patient' 'Lack of some atbs in our facility'\n",
      " 'Clinical pharmacist needs to  be engaged. \\nAntibiotic stock outs '\n",
      " 'Private facilities mismanagement (including initiation of broad spectrum antibiotics) then refer to the hospital \\nIncreased instances of MDR from the above referrals'\n",
      " 'Inadequate resources to avail antibiotics needed \\nInfluence by medical representatives '\n",
      " 'High staff turnover'\n",
      " 'Inadequate number of pharmacy staff to conduct ward rounds in all wards']\n",
      "n3 Detail out the Challenges/ barriers in implementing the proper Antibiotic usage in your facility./other other\n",
      "----------------------------------------------------------------------------------------------------------\n",
      "[nan]\n",
      "c7 Who provides drug information?/Pharmacist Pharmacist\n",
      "--------------------------------------------\n",
      "['Pharmacist' nan]\n",
      "c7 Who provides drug information?/Nurses Nurses\n",
      "----------------------------------------\n",
      "[nan]\n",
      "c7 Who provides drug information?/Clinicians Clinicians\n",
      "--------------------------------------------\n",
      "[nan]\n",
      "c7 Who provides drug information?/other other\n",
      "---------------------------------------\n",
      "[nan]\n",
      "5d.3 Who provides preauthorization?/Pharmacists Pharmacists\n",
      "-----------------------------------------------\n",
      "[nan]\n",
      "5d.3 Who provides preauthorization?/Consultants Consultants\n",
      "-----------------------------------------------\n",
      "[nan]\n",
      "5d.3 Who provides preauthorization?/other other\n",
      "-----------------------------------------\n",
      "[nan]\n",
      "5d.4 How is preauthorization provided?/Electronically Electronically\n",
      "-----------------------------------------------------\n",
      "[nan]\n",
      "5d.4 How is preauthorization provided?/Verbally Verbally\n",
      "-----------------------------------------------\n",
      "[nan]\n",
      "5d.4 How is preauthorization provided?/other other\n",
      "--------------------------------------------\n",
      "[nan]\n",
      "5e.3 For which wards?/ICU ICU\n",
      "-------------------------\n",
      "[nan]\n",
      "5e.3 For which wards?/HDU HDU\n",
      "-------------------------\n",
      "[nan]\n",
      "5f.4 Which wards have stewardship rounds?/ICU ICU\n",
      "---------------------------------------------\n",
      "[nan]\n",
      "5f.4 Which wards have stewardship rounds?/HDU HDU\n",
      "---------------------------------------------\n",
      "[nan]\n",
      "5g.4 For which wards?/ICU ICU\n",
      "-------------------------\n",
      "[nan]\n",
      "5g.4 For which wards?/HDU HDU\n",
      "-------------------------\n",
      "[nan]\n",
      "6c.5 How are payments for patients made?/Cash Cash\n",
      "---------------------------------------------\n",
      "[nan]\n",
      "6c.5 How are payments for patients made?/Free Free\n",
      "---------------------------------------------\n",
      "[nan]\n",
      "7_j3. Detail out the Challenges/ barriers in implementing the proper Antibiotic usage in your facility./Other Other\n",
      "-------------------------------------------------------------------------------------------------------------\n",
      "[481187654 481626944 481697532 481768260 482014005 482082946 482084564\n",
      " 482224599 482335324 482339093 482471501 482775769 483670599 483796186\n",
      " 483858830 484056211 484539499 484565258 484608953 485099950 485405921\n",
      " 486845076 486900927 487039354 487244192 487530344 487530351 487999428]\n"
     ]
    },
    {
     "data": {
      "text/plain": "    The Ministry of Health, in collaboration with FIND, the global alliance for diagnostics, GARDP and JKUAT  is carrying out an activity to assess AMR diagnostic capacity, antibiotic use and existing antimicrobial stewardship practices in preparation for the introduction of cefiderocol (and other antibiotics) and new low blood culture and molecular Point of care testing (POCT) platforms in Kenya. The activity is taking place at selected levels 4,5 and 6 of health facilities in Isiolo, Laikipia, Vihiga, Nyeri, Nairobi, Kirinyaga, Kericho, Kajiado, Nandi and Kilifi counties. \\nPlease complete this questionnaire for the facilities that you are reporting on, and where indicated, provide additional details on your selected responses.  \\n\\nFindings will be published by MoH, Isiolo, Laikipia, Vihiga, Nyeri, Nairobi, Kirinyaga, Kericho, Kajiado, Nandi and Kilifi Counties, as well as JKUAT, FIND and GARDP.  \\\n0                                                 NaN                                                                                                                                                                                                                                                                                                                                                                                                                                                                                                                                                                                                                                                                                                                                                                                                                                                                                             \n1                                                 NaN                                                                                                                                                                                                                                                                                                                                                                                                                                                                                                                                                                                                                                                                                                                                                                                                                                                                                             \n2                                                 NaN                                                                                                                                                                                                                                                                                                                                                                                                                                                                                                                                                                                                                                                                                                                                                                                                                                                                                             \n3                                                 NaN                                                                                                                                                                                                                                                                                                                                                                                                                                                                                                                                                                                                                                                                                                                                                                                                                                                                                             \n4                                                 NaN                                                                                                                                                                                                                                                                                                                                                                                                                                                                                                                                                                                                                                                                                                                                                                                                                                                                                             \n5                                                 NaN                                                                                                                                                                                                                                                                                                                                                                                                                                                                                                                                                                                                                                                                                                                                                                                                                                                                                             \n6                                                 NaN                                                                                                                                                                                                                                                                                                                                                                                                                                                                                                                                                                                                                                                                                                                                                                                                                                                                                             \n7                                                 NaN                                                                                                                                                                                                                                                                                                                                                                                                                                                                                                                                                                                                                                                                                                                                                                                                                                                                                             \n8                                                 NaN                                                                                                                                                                                                                                                                                                                                                                                                                                                                                                                                                                                                                                                                                                                                                                                                                                                                                             \n9                                                 NaN                                                                                                                                                                                                                                                                                                                                                                                                                                                                                                                                                                                                                                                                                                                                                                                                                                                                                             \n10                                                NaN                                                                                                                                                                                                                                                                                                                                                                                                                                                                                                                                                                                                                                                                                                                                                                                                                                                                                             \n11                                                NaN                                                                                                                                                                                                                                                                                                                                                                                                                                                                                                                                                                                                                                                                                                                                                                                                                                                                                             \n12                                                NaN                                                                                                                                                                                                                                                                                                                                                                                                                                                                                                                                                                                                                                                                                                                                                                                                                                                                                             \n13                                                NaN                                                                                                                                                                                                                                                                                                                                                                                                                                                                                                                                                                                                                                                                                                                                                                                                                                                                                             \n14                                                NaN                                                                                                                                                                                                                                                                                                                                                                                                                                                                                                                                                                                                                                                                                                                                                                                                                                                                                             \n15                                                NaN                                                                                                                                                                                                                                                                                                                                                                                                                                                                                                                                                                                                                                                                                                                                                                                                                                                                                             \n16                                                NaN                                                                                                                                                                                                                                                                                                                                                                                                                                                                                                                                                                                                                                                                                                                                                                                                                                                                                             \n17                                                NaN                                                                                                                                                                                                                                                                                                                                                                                                                                                                                                                                                                                                                                                                                                                                                                                                                                                                                             \n18                                                NaN                                                                                                                                                                                                                                                                                                                                                                                                                                                                                                                                                                                                                                                                                                                                                                                                                                                                                             \n19                                                NaN                                                                                                                                                                                                                                                                                                                                                                                                                                                                                                                                                                                                                                                                                                                                                                                                                                                                                             \n20                                                NaN                                                                                                                                                                                                                                                                                                                                                                                                                                                                                                                                                                                                                                                                                                                                                                                                                                                                                             \n21                                                NaN                                                                                                                                                                                                                                                                                                                                                                                                                                                                                                                                                                                                                                                                                                                                                                                                                                                                                             \n22                                                NaN                                                                                                                                                                                                                                                                                                                                                                                                                                                                                                                                                                                                                                                                                                                                                                                                                                                                                             \n23                                                NaN                                                                                                                                                                                                                                                                                                                                                                                                                                                                                                                                                                                                                                                                                                                                                                                                                                                                                             \n24                                                NaN                                                                                                                                                                                                                                                                                                                                                                                                                                                                                                                                                                                                                                                                                                                                                                                                                                                                                             \n25                                                NaN                                                                                                                                                                                                                                                                                                                                                                                                                                                                                                                                                                                                                                                                                                                                                                                                                                                                                             \n26                                                NaN                                                                                                                                                                                                                                                                                                                                                                                                                                                                                                                                                                                                                                                                                                                                                                                                                                                                                             \n27                                                NaN                                                                                                                                                                                                                                                                                                                                                                                                                                                                                                                                                                                                                                                                                                                                                                                                                                                                                             \n\n       County         Sub county                   Ward  \\\n0      Isiolo             Isiolo                 Wabera   \n1      Isiolo             Isiolo             Bulla Pesa   \n2     Nairobi            Ruaraka              Korogocho   \n3       Nandi             Emgwen               Kapsabet   \n4   Kirinyaga  Kirinyaga Central               Kerugoya   \n5   Kirinyaga  Kirinyaga Central               Kerugoya   \n6      Isiolo             Isiolo             Bulla Pesa   \n7     Nairobi   Embakasi Central               Komarock   \n8       Nandi              Mosop             Chepterwai   \n9       Nandi           Chesumei  Chemundu/Kapng'etunyi   \n10  Kirinyaga    Kirinyaga South                 Tebere   \n11    Nairobi     Dagoreti North               Kilimani   \n12   Laikipia      Laikipia west               Igwamiti   \n13     Vihiga             Vihiga        Lugaga-wamuluma   \n14    Kericho             Bureti                 Litein   \n15     Vihiga             Luanda               Emabungo   \n16     Vihiga             Hamisi                  Shiru   \n17      Nyeri        Nyeri South               Iria-ini   \n18    Kericho            Ainamoi              Kipchebor   \n19   Laikipia      Laikipia East                Nanyuki   \n20    Kajiado      Kajiado North                  Ngong   \n21     Kilifi            Malindi                 Barani   \n22    Kajiado    Kajiado Central                Ildamat   \n23    Kajiado       Kajiado East              Kitengela   \n24    Nairobi            Starehe          Nairobi South   \n25     Kilifi           Kaloleni              Mariakani   \n26     Kilifi       Kilifi North                 Sokoni   \n27    Nairobi           Roysambu                 Kahawa   \n\n                              Name of health facility  Facility code  \\\n0                 Isiolo County and Referral Hospital          12094   \n1                                Anka Hospital Isiolo          29530   \n2                        Mama Margaret Uhuru Hospital          28885   \n3                   Kapsabet County Referral Hospital          14749   \n4                   Kerugoya County Refferal Hospital          10520   \n5                             Mt Kenya (ACK) Hospital          10738   \n6                        MaterCare Maternity Hospital          19912   \n7                Mama Lucy Kibaki Hospital (Embakasi)          17411   \n8                      Chepterwai Sub-County Hospital          14369   \n9                         Kapsabet Health Care Centre          17632   \n10                           Afya Link Medical Centre          22887   \n11                                    Coptic Hospital          12905   \n12                         Pope Benedict XVI Hospital          10056   \n13                    Vihiga County Referral Hospital          16157   \n14                        AIC Litein Mission Hospital          14178   \n15               Emuhaya Sub County Referral Hospital          15876   \n16                    Jumuia Mission Hospital Kaimosi          15913   \n17                                   KNH Othaya Annex          10922   \n18                   Kericho County Referral Hospital          14831   \n19             Nanyuki teaching and Referral Hospital          15305   \n20                          Ngong Sub-County Hospital          15351   \n21                                    Tawfiq Hospital          11843   \n22                   Kajiado County Referral Hospital          14652   \n23                         Kitengela Medical Services          14951   \n24          The Mater Misericordiae Hospital (Mukuru)          13074   \n25                      Mariakani Sub County Hospital          11566   \n26                             Kilifi County Hospital          11474   \n27  Kenyatta University Teaching Refferal and Rese...          24979   \n\n    Name of assessor                                  GPS coordinates  \\\n0      Robert Mwangi      0.3648593 37.5894629 1081.300048828125 22.5   \n1     Robert Mwangi      0.3498041 37.5820205 1093.7000732421875 23.6   \n2         Jill Mutua                                              NaN   \n3         Edna kubai       0.2021236 35.1027124 1985.300048828125 3.7   \n4      Bettinah Ngei     -0.5048047 37.2816151 1504.5999755859375 4.8   \n5      Bettinah Ngei               -0.4918374 37.2648367 1598.2 4.966   \n6     Robert Mwangi      0.3273347 37.5639202 1163.2000732421875 20.0   \n7         Jill Mutua                                              NaN   \n8         Edna kubai                0.5228328 34.9272041 2111.5 3.601   \n9         Edna kubai     0.2024871 35.0928024 1967.4000244140625 4.66   \n10     Bettinan Ngei   -0.6840609 37.3577425 1149.3999999999999 4.883   \n11        Jill Mutua                                              NaN   \n12    Robert Mwangi                   0.0393489 36.3316936 0.0 2400.0   \n13        Edna kubai     0.0789445 34.7226809 1616.5999755859375 4.94   \n14      GAVIN ORANGI               -0.5883787 35.1888942 1947.5 3.566   \n15        Edna kubai     0.0376647 34.6263094 1553.300048828125 4.983   \n16        Edna kubai     0.1260574 34.844988 1673.1000000000001 3.569   \n17    Robert Mwangi     -0.5421446 36.9415183 1858.0999755859375 20.0   \n18      GAVIN ORANGI     -0.371057 35.2801426 1980.9000244140625 4.65   \n19    Robert Mwangi      0.0205625 37.0726616 1915.0999755859375 20.0   \n20  Dr. Gavin Orangi     -1.3648673 36.6544168 1974.7000732421875 4.3   \n21     Bettinah Ngei  -3.2210517 40.1125373 -25.700000762939453 104.1   \n22  Dr. ORANGI GAVIN    -1.857839 36.7720905 1687.7000732421875 4.366   \n23  Dr. ORANGI GAVIN    -1.4710942 36.9633958 1548.7000732421875 4.55   \n24        Jill Mutua                                              NaN   \n25     Bettinah Ngei      -3.8638396 39.4721948 83.9000015258789 20.0   \n26     Bettinah Ngei                 -3.6317789 39.8573438 0.5 15.345   \n27   DR.GAVIN ORANGI    -1.1778628 36.9163527 1539.0999755859375 4.15   \n\n    latitude  longitude  ...                 _id  _uuid _submission_time  \\\n0   0.364859  37.589463  ... 2023-09-19 10:23:18    NaN              NaN   \n1   0.349804  37.582020  ... 2023-09-20 09:10:22    NaN              NaN   \n2        NaN        NaN  ... 2023-09-20 11:23:31    NaN              NaN   \n3   0.202124  35.102712  ... 2023-09-20 13:35:56    NaN              NaN   \n4  -0.504805  37.281615  ... 2023-09-21 06:45:48    NaN              NaN   \n5  -0.491837  37.264837  ... 2023-09-21 09:26:29    NaN              NaN   \n6   0.327335  37.563920  ... 2023-09-21 09:30:16    NaN              NaN   \n7        NaN        NaN  ... 2023-09-21 13:43:02    NaN              NaN   \n8   0.522833  34.927204  ... 2023-09-21 17:14:54    NaN              NaN   \n9   0.202487  35.092802  ... 2023-09-21 17:27:25    NaN              NaN   \n10 -0.684061  37.357743  ... 2023-09-22 07:34:51    NaN              NaN   \n11       NaN        NaN  ... 2023-09-23 04:45:58    NaN              NaN   \n12  0.039349  36.331694  ... 2023-09-25 12:51:14    NaN              NaN   \n13  0.078945  34.722681  ... 2023-09-25 16:37:55    NaN              NaN   \n14 -0.588379  35.188894  ... 2023-09-25 20:06:54    NaN              NaN   \n15  0.037665  34.626309  ... 2023-09-26 10:14:41    NaN              NaN   \n16  0.126057  34.844988  ... 2023-09-27 10:54:08    NaN              NaN   \n17 -0.542145  36.941518  ... 2023-09-27 11:47:30    NaN              NaN   \n18 -0.371057  35.280143  ... 2023-09-27 13:15:30    NaN              NaN   \n19  0.020563  37.072662  ... 2023-09-28 14:24:37    NaN              NaN   \n20 -1.364867  36.654417  ... 2023-09-29 11:09:21    NaN              NaN   \n21 -3.221052  40.112537  ... 2023-10-03 03:50:32    NaN              NaN   \n22 -1.857839  36.772090  ... 2023-10-03 07:08:37    NaN              NaN   \n23 -1.471094  36.963396  ... 2023-10-03 11:45:10    NaN              NaN   \n24       NaN        NaN  ... 2023-10-03 18:02:51    NaN              NaN   \n25 -3.863840  39.472195  ... 2023-10-04 11:29:06    NaN              NaN   \n26 -3.631779  39.857344  ... 2023-10-04 11:29:07    NaN              NaN   \n27 -1.177863  36.916353  ... 2023-10-05 11:37:32    NaN              NaN   \n\n    _validation_status   _notes                 _status  _submitted_by  \\\n0    submitted_via_web  amr_abx  vNBX3rx7DgMhoSCacYCHKF            NaN   \n1    submitted_via_web  amr_abx  vGF5BaecH7dbx7nXfyW5uj            NaN   \n2    submitted_via_web  amr_abx  vGF5BaecH7dbx7nXfyW5uj            NaN   \n3    submitted_via_web  amr_abx  vGF5BaecH7dbx7nXfyW5uj            NaN   \n4    submitted_via_web  amr_abx  vGF5BaecH7dbx7nXfyW5uj            NaN   \n5    submitted_via_web  amr_abx  vGF5BaecH7dbx7nXfyW5uj            NaN   \n6    submitted_via_web  amr_abx  vQAQb94SUWzqLJNxCWcEaW            NaN   \n7    submitted_via_web  amr_abx  vGF5BaecH7dbx7nXfyW5uj            NaN   \n8    submitted_via_web  amr_abx  vQAQb94SUWzqLJNxCWcEaW            NaN   \n9    submitted_via_web  amr_abx  vQAQb94SUWzqLJNxCWcEaW            NaN   \n10   submitted_via_web  amr_abx  vGF5BaecH7dbx7nXfyW5uj            NaN   \n11   submitted_via_web  amr_abx  vGF5BaecH7dbx7nXfyW5uj            NaN   \n12   submitted_via_web  amr_abx  vCMUppsh9DVvK4o4J4MkfJ            NaN   \n13   submitted_via_web  amr_abx  vCMUppsh9DVvK4o4J4MkfJ            NaN   \n14   submitted_via_web  amr_abx  vCMUppsh9DVvK4o4J4MkfJ            NaN   \n15   submitted_via_web  amr_abx  vCMUppsh9DVvK4o4J4MkfJ            NaN   \n16   submitted_via_web  amr_abx  vCMUppsh9DVvK4o4J4MkfJ            NaN   \n17   submitted_via_web  amr_abx  vCkJdk2rBaY2BYoGSiRHLQ            NaN   \n18   submitted_via_web  amr_abx  vCMUppsh9DVvK4o4J4MkfJ            NaN   \n19   submitted_via_web  amr_abx  vCkJdk2rBaY2BYoGSiRHLQ            NaN   \n20   submitted_via_web  amr_abx  vCMUppsh9DVvK4o4J4MkfJ            NaN   \n21   submitted_via_web  amr_abx  v3meaYzjbiXzrYSehRwwzi            NaN   \n22   submitted_via_web  amr_abx  v3meaYzjbiXzrYSehRwwzi            NaN   \n23   submitted_via_web  amr_abx  vPGkWLgF94YD9Fcv3PeELf            NaN   \n24   submitted_via_web  amr_abx  vGF5BaecH7dbx7nXfyW5uj            NaN   \n25   submitted_via_web  amr_abx  vPGkWLgF94YD9Fcv3PeELf            NaN   \n26   submitted_via_web  amr_abx  vPGkWLgF94YD9Fcv3PeELf            NaN   \n27   submitted_via_web  amr_abx  vPGkWLgF94YD9Fcv3PeELf            NaN   \n\n    __version__  _tags _index  \n0             1    NaN    NaN  \n1             2    NaN    NaN  \n2             3    NaN    NaN  \n3             4    NaN    NaN  \n4             5    NaN    NaN  \n5             6    NaN    NaN  \n6             7    NaN    NaN  \n7             8    NaN    NaN  \n8             9    NaN    NaN  \n9            10    NaN    NaN  \n10           11    NaN    NaN  \n11           12    NaN    NaN  \n12           13    NaN    NaN  \n13           14    NaN    NaN  \n14           15    NaN    NaN  \n15           16    NaN    NaN  \n16           17    NaN    NaN  \n17           18    NaN    NaN  \n18           19    NaN    NaN  \n19           20    NaN    NaN  \n20           21    NaN    NaN  \n21           22    NaN    NaN  \n22           23    NaN    NaN  \n23           24    NaN    NaN  \n24           25    NaN    NaN  \n25           26    NaN    NaN  \n26           27    NaN    NaN  \n27           28    NaN    NaN  \n\n[28 rows x 673 columns]",
      "text/html": "<div>\n<style scoped>\n    .dataframe tbody tr th:only-of-type {\n        vertical-align: middle;\n    }\n\n    .dataframe tbody tr th {\n        vertical-align: top;\n    }\n\n    .dataframe thead th {\n        text-align: right;\n    }\n</style>\n<table border=\"1\" class=\"dataframe\">\n  <thead>\n    <tr style=\"text-align: right;\">\n      <th></th>\n      <th>The Ministry of Health, in collaboration with FIND, the global alliance for diagnostics, GARDP and JKUAT  is carrying out an activity to assess AMR diagnostic capacity, antibiotic use and existing antimicrobial stewardship practices in preparation for the introduction of cefiderocol (and other antibiotics) and new low blood culture and molecular Point of care testing (POCT) platforms in Kenya. The activity is taking place at selected levels 4,5 and 6 of health facilities in Isiolo, Laikipia, Vihiga, Nyeri, Nairobi, Kirinyaga, Kericho, Kajiado, Nandi and Kilifi counties. \\nPlease complete this questionnaire for the facilities that you are reporting on, and where indicated, provide additional details on your selected responses.  \\n\\nFindings will be published by MoH, Isiolo, Laikipia, Vihiga, Nyeri, Nairobi, Kirinyaga, Kericho, Kajiado, Nandi and Kilifi Counties, as well as JKUAT, FIND and GARDP.</th>\n      <th>County</th>\n      <th>Sub county</th>\n      <th>Ward</th>\n      <th>Name of health facility</th>\n      <th>Facility code</th>\n      <th>Name of assessor</th>\n      <th>GPS coordinates</th>\n      <th>latitude</th>\n      <th>longitude</th>\n      <th>...</th>\n      <th>_id</th>\n      <th>_uuid</th>\n      <th>_submission_time</th>\n      <th>_validation_status</th>\n      <th>_notes</th>\n      <th>_status</th>\n      <th>_submitted_by</th>\n      <th>__version__</th>\n      <th>_tags</th>\n      <th>_index</th>\n    </tr>\n  </thead>\n  <tbody>\n    <tr>\n      <th>0</th>\n      <td>NaN</td>\n      <td>Isiolo</td>\n      <td>Isiolo</td>\n      <td>Wabera</td>\n      <td>Isiolo County and Referral Hospital</td>\n      <td>12094</td>\n      <td>Robert Mwangi</td>\n      <td>0.3648593 37.5894629 1081.300048828125 22.5</td>\n      <td>0.364859</td>\n      <td>37.589463</td>\n      <td>...</td>\n      <td>2023-09-19 10:23:18</td>\n      <td>NaN</td>\n      <td>NaN</td>\n      <td>submitted_via_web</td>\n      <td>amr_abx</td>\n      <td>vNBX3rx7DgMhoSCacYCHKF</td>\n      <td>NaN</td>\n      <td>1</td>\n      <td>NaN</td>\n      <td>NaN</td>\n    </tr>\n    <tr>\n      <th>1</th>\n      <td>NaN</td>\n      <td>Isiolo</td>\n      <td>Isiolo</td>\n      <td>Bulla Pesa</td>\n      <td>Anka Hospital Isiolo</td>\n      <td>29530</td>\n      <td>Robert Mwangi</td>\n      <td>0.3498041 37.5820205 1093.7000732421875 23.6</td>\n      <td>0.349804</td>\n      <td>37.582020</td>\n      <td>...</td>\n      <td>2023-09-20 09:10:22</td>\n      <td>NaN</td>\n      <td>NaN</td>\n      <td>submitted_via_web</td>\n      <td>amr_abx</td>\n      <td>vGF5BaecH7dbx7nXfyW5uj</td>\n      <td>NaN</td>\n      <td>2</td>\n      <td>NaN</td>\n      <td>NaN</td>\n    </tr>\n    <tr>\n      <th>2</th>\n      <td>NaN</td>\n      <td>Nairobi</td>\n      <td>Ruaraka</td>\n      <td>Korogocho</td>\n      <td>Mama Margaret Uhuru Hospital</td>\n      <td>28885</td>\n      <td>Jill Mutua</td>\n      <td>NaN</td>\n      <td>NaN</td>\n      <td>NaN</td>\n      <td>...</td>\n      <td>2023-09-20 11:23:31</td>\n      <td>NaN</td>\n      <td>NaN</td>\n      <td>submitted_via_web</td>\n      <td>amr_abx</td>\n      <td>vGF5BaecH7dbx7nXfyW5uj</td>\n      <td>NaN</td>\n      <td>3</td>\n      <td>NaN</td>\n      <td>NaN</td>\n    </tr>\n    <tr>\n      <th>3</th>\n      <td>NaN</td>\n      <td>Nandi</td>\n      <td>Emgwen</td>\n      <td>Kapsabet</td>\n      <td>Kapsabet County Referral Hospital</td>\n      <td>14749</td>\n      <td>Edna kubai</td>\n      <td>0.2021236 35.1027124 1985.300048828125 3.7</td>\n      <td>0.202124</td>\n      <td>35.102712</td>\n      <td>...</td>\n      <td>2023-09-20 13:35:56</td>\n      <td>NaN</td>\n      <td>NaN</td>\n      <td>submitted_via_web</td>\n      <td>amr_abx</td>\n      <td>vGF5BaecH7dbx7nXfyW5uj</td>\n      <td>NaN</td>\n      <td>4</td>\n      <td>NaN</td>\n      <td>NaN</td>\n    </tr>\n    <tr>\n      <th>4</th>\n      <td>NaN</td>\n      <td>Kirinyaga</td>\n      <td>Kirinyaga Central</td>\n      <td>Kerugoya</td>\n      <td>Kerugoya County Refferal Hospital</td>\n      <td>10520</td>\n      <td>Bettinah Ngei</td>\n      <td>-0.5048047 37.2816151 1504.5999755859375 4.8</td>\n      <td>-0.504805</td>\n      <td>37.281615</td>\n      <td>...</td>\n      <td>2023-09-21 06:45:48</td>\n      <td>NaN</td>\n      <td>NaN</td>\n      <td>submitted_via_web</td>\n      <td>amr_abx</td>\n      <td>vGF5BaecH7dbx7nXfyW5uj</td>\n      <td>NaN</td>\n      <td>5</td>\n      <td>NaN</td>\n      <td>NaN</td>\n    </tr>\n    <tr>\n      <th>5</th>\n      <td>NaN</td>\n      <td>Kirinyaga</td>\n      <td>Kirinyaga Central</td>\n      <td>Kerugoya</td>\n      <td>Mt Kenya (ACK) Hospital</td>\n      <td>10738</td>\n      <td>Bettinah Ngei</td>\n      <td>-0.4918374 37.2648367 1598.2 4.966</td>\n      <td>-0.491837</td>\n      <td>37.264837</td>\n      <td>...</td>\n      <td>2023-09-21 09:26:29</td>\n      <td>NaN</td>\n      <td>NaN</td>\n      <td>submitted_via_web</td>\n      <td>amr_abx</td>\n      <td>vGF5BaecH7dbx7nXfyW5uj</td>\n      <td>NaN</td>\n      <td>6</td>\n      <td>NaN</td>\n      <td>NaN</td>\n    </tr>\n    <tr>\n      <th>6</th>\n      <td>NaN</td>\n      <td>Isiolo</td>\n      <td>Isiolo</td>\n      <td>Bulla Pesa</td>\n      <td>MaterCare Maternity Hospital</td>\n      <td>19912</td>\n      <td>Robert Mwangi</td>\n      <td>0.3273347 37.5639202 1163.2000732421875 20.0</td>\n      <td>0.327335</td>\n      <td>37.563920</td>\n      <td>...</td>\n      <td>2023-09-21 09:30:16</td>\n      <td>NaN</td>\n      <td>NaN</td>\n      <td>submitted_via_web</td>\n      <td>amr_abx</td>\n      <td>vQAQb94SUWzqLJNxCWcEaW</td>\n      <td>NaN</td>\n      <td>7</td>\n      <td>NaN</td>\n      <td>NaN</td>\n    </tr>\n    <tr>\n      <th>7</th>\n      <td>NaN</td>\n      <td>Nairobi</td>\n      <td>Embakasi Central</td>\n      <td>Komarock</td>\n      <td>Mama Lucy Kibaki Hospital (Embakasi)</td>\n      <td>17411</td>\n      <td>Jill Mutua</td>\n      <td>NaN</td>\n      <td>NaN</td>\n      <td>NaN</td>\n      <td>...</td>\n      <td>2023-09-21 13:43:02</td>\n      <td>NaN</td>\n      <td>NaN</td>\n      <td>submitted_via_web</td>\n      <td>amr_abx</td>\n      <td>vGF5BaecH7dbx7nXfyW5uj</td>\n      <td>NaN</td>\n      <td>8</td>\n      <td>NaN</td>\n      <td>NaN</td>\n    </tr>\n    <tr>\n      <th>8</th>\n      <td>NaN</td>\n      <td>Nandi</td>\n      <td>Mosop</td>\n      <td>Chepterwai</td>\n      <td>Chepterwai Sub-County Hospital</td>\n      <td>14369</td>\n      <td>Edna kubai</td>\n      <td>0.5228328 34.9272041 2111.5 3.601</td>\n      <td>0.522833</td>\n      <td>34.927204</td>\n      <td>...</td>\n      <td>2023-09-21 17:14:54</td>\n      <td>NaN</td>\n      <td>NaN</td>\n      <td>submitted_via_web</td>\n      <td>amr_abx</td>\n      <td>vQAQb94SUWzqLJNxCWcEaW</td>\n      <td>NaN</td>\n      <td>9</td>\n      <td>NaN</td>\n      <td>NaN</td>\n    </tr>\n    <tr>\n      <th>9</th>\n      <td>NaN</td>\n      <td>Nandi</td>\n      <td>Chesumei</td>\n      <td>Chemundu/Kapng'etunyi</td>\n      <td>Kapsabet Health Care Centre</td>\n      <td>17632</td>\n      <td>Edna kubai</td>\n      <td>0.2024871 35.0928024 1967.4000244140625 4.66</td>\n      <td>0.202487</td>\n      <td>35.092802</td>\n      <td>...</td>\n      <td>2023-09-21 17:27:25</td>\n      <td>NaN</td>\n      <td>NaN</td>\n      <td>submitted_via_web</td>\n      <td>amr_abx</td>\n      <td>vQAQb94SUWzqLJNxCWcEaW</td>\n      <td>NaN</td>\n      <td>10</td>\n      <td>NaN</td>\n      <td>NaN</td>\n    </tr>\n    <tr>\n      <th>10</th>\n      <td>NaN</td>\n      <td>Kirinyaga</td>\n      <td>Kirinyaga South</td>\n      <td>Tebere</td>\n      <td>Afya Link Medical Centre</td>\n      <td>22887</td>\n      <td>Bettinan Ngei</td>\n      <td>-0.6840609 37.3577425 1149.3999999999999 4.883</td>\n      <td>-0.684061</td>\n      <td>37.357743</td>\n      <td>...</td>\n      <td>2023-09-22 07:34:51</td>\n      <td>NaN</td>\n      <td>NaN</td>\n      <td>submitted_via_web</td>\n      <td>amr_abx</td>\n      <td>vGF5BaecH7dbx7nXfyW5uj</td>\n      <td>NaN</td>\n      <td>11</td>\n      <td>NaN</td>\n      <td>NaN</td>\n    </tr>\n    <tr>\n      <th>11</th>\n      <td>NaN</td>\n      <td>Nairobi</td>\n      <td>Dagoreti North</td>\n      <td>Kilimani</td>\n      <td>Coptic Hospital</td>\n      <td>12905</td>\n      <td>Jill Mutua</td>\n      <td>NaN</td>\n      <td>NaN</td>\n      <td>NaN</td>\n      <td>...</td>\n      <td>2023-09-23 04:45:58</td>\n      <td>NaN</td>\n      <td>NaN</td>\n      <td>submitted_via_web</td>\n      <td>amr_abx</td>\n      <td>vGF5BaecH7dbx7nXfyW5uj</td>\n      <td>NaN</td>\n      <td>12</td>\n      <td>NaN</td>\n      <td>NaN</td>\n    </tr>\n    <tr>\n      <th>12</th>\n      <td>NaN</td>\n      <td>Laikipia</td>\n      <td>Laikipia west</td>\n      <td>Igwamiti</td>\n      <td>Pope Benedict XVI Hospital</td>\n      <td>10056</td>\n      <td>Robert Mwangi</td>\n      <td>0.0393489 36.3316936 0.0 2400.0</td>\n      <td>0.039349</td>\n      <td>36.331694</td>\n      <td>...</td>\n      <td>2023-09-25 12:51:14</td>\n      <td>NaN</td>\n      <td>NaN</td>\n      <td>submitted_via_web</td>\n      <td>amr_abx</td>\n      <td>vCMUppsh9DVvK4o4J4MkfJ</td>\n      <td>NaN</td>\n      <td>13</td>\n      <td>NaN</td>\n      <td>NaN</td>\n    </tr>\n    <tr>\n      <th>13</th>\n      <td>NaN</td>\n      <td>Vihiga</td>\n      <td>Vihiga</td>\n      <td>Lugaga-wamuluma</td>\n      <td>Vihiga County Referral Hospital</td>\n      <td>16157</td>\n      <td>Edna kubai</td>\n      <td>0.0789445 34.7226809 1616.5999755859375 4.94</td>\n      <td>0.078945</td>\n      <td>34.722681</td>\n      <td>...</td>\n      <td>2023-09-25 16:37:55</td>\n      <td>NaN</td>\n      <td>NaN</td>\n      <td>submitted_via_web</td>\n      <td>amr_abx</td>\n      <td>vCMUppsh9DVvK4o4J4MkfJ</td>\n      <td>NaN</td>\n      <td>14</td>\n      <td>NaN</td>\n      <td>NaN</td>\n    </tr>\n    <tr>\n      <th>14</th>\n      <td>NaN</td>\n      <td>Kericho</td>\n      <td>Bureti</td>\n      <td>Litein</td>\n      <td>AIC Litein Mission Hospital</td>\n      <td>14178</td>\n      <td>GAVIN ORANGI</td>\n      <td>-0.5883787 35.1888942 1947.5 3.566</td>\n      <td>-0.588379</td>\n      <td>35.188894</td>\n      <td>...</td>\n      <td>2023-09-25 20:06:54</td>\n      <td>NaN</td>\n      <td>NaN</td>\n      <td>submitted_via_web</td>\n      <td>amr_abx</td>\n      <td>vCMUppsh9DVvK4o4J4MkfJ</td>\n      <td>NaN</td>\n      <td>15</td>\n      <td>NaN</td>\n      <td>NaN</td>\n    </tr>\n    <tr>\n      <th>15</th>\n      <td>NaN</td>\n      <td>Vihiga</td>\n      <td>Luanda</td>\n      <td>Emabungo</td>\n      <td>Emuhaya Sub County Referral Hospital</td>\n      <td>15876</td>\n      <td>Edna kubai</td>\n      <td>0.0376647 34.6263094 1553.300048828125 4.983</td>\n      <td>0.037665</td>\n      <td>34.626309</td>\n      <td>...</td>\n      <td>2023-09-26 10:14:41</td>\n      <td>NaN</td>\n      <td>NaN</td>\n      <td>submitted_via_web</td>\n      <td>amr_abx</td>\n      <td>vCMUppsh9DVvK4o4J4MkfJ</td>\n      <td>NaN</td>\n      <td>16</td>\n      <td>NaN</td>\n      <td>NaN</td>\n    </tr>\n    <tr>\n      <th>16</th>\n      <td>NaN</td>\n      <td>Vihiga</td>\n      <td>Hamisi</td>\n      <td>Shiru</td>\n      <td>Jumuia Mission Hospital Kaimosi</td>\n      <td>15913</td>\n      <td>Edna kubai</td>\n      <td>0.1260574 34.844988 1673.1000000000001 3.569</td>\n      <td>0.126057</td>\n      <td>34.844988</td>\n      <td>...</td>\n      <td>2023-09-27 10:54:08</td>\n      <td>NaN</td>\n      <td>NaN</td>\n      <td>submitted_via_web</td>\n      <td>amr_abx</td>\n      <td>vCMUppsh9DVvK4o4J4MkfJ</td>\n      <td>NaN</td>\n      <td>17</td>\n      <td>NaN</td>\n      <td>NaN</td>\n    </tr>\n    <tr>\n      <th>17</th>\n      <td>NaN</td>\n      <td>Nyeri</td>\n      <td>Nyeri South</td>\n      <td>Iria-ini</td>\n      <td>KNH Othaya Annex</td>\n      <td>10922</td>\n      <td>Robert Mwangi</td>\n      <td>-0.5421446 36.9415183 1858.0999755859375 20.0</td>\n      <td>-0.542145</td>\n      <td>36.941518</td>\n      <td>...</td>\n      <td>2023-09-27 11:47:30</td>\n      <td>NaN</td>\n      <td>NaN</td>\n      <td>submitted_via_web</td>\n      <td>amr_abx</td>\n      <td>vCkJdk2rBaY2BYoGSiRHLQ</td>\n      <td>NaN</td>\n      <td>18</td>\n      <td>NaN</td>\n      <td>NaN</td>\n    </tr>\n    <tr>\n      <th>18</th>\n      <td>NaN</td>\n      <td>Kericho</td>\n      <td>Ainamoi</td>\n      <td>Kipchebor</td>\n      <td>Kericho County Referral Hospital</td>\n      <td>14831</td>\n      <td>GAVIN ORANGI</td>\n      <td>-0.371057 35.2801426 1980.9000244140625 4.65</td>\n      <td>-0.371057</td>\n      <td>35.280143</td>\n      <td>...</td>\n      <td>2023-09-27 13:15:30</td>\n      <td>NaN</td>\n      <td>NaN</td>\n      <td>submitted_via_web</td>\n      <td>amr_abx</td>\n      <td>vCMUppsh9DVvK4o4J4MkfJ</td>\n      <td>NaN</td>\n      <td>19</td>\n      <td>NaN</td>\n      <td>NaN</td>\n    </tr>\n    <tr>\n      <th>19</th>\n      <td>NaN</td>\n      <td>Laikipia</td>\n      <td>Laikipia East</td>\n      <td>Nanyuki</td>\n      <td>Nanyuki teaching and Referral Hospital</td>\n      <td>15305</td>\n      <td>Robert Mwangi</td>\n      <td>0.0205625 37.0726616 1915.0999755859375 20.0</td>\n      <td>0.020563</td>\n      <td>37.072662</td>\n      <td>...</td>\n      <td>2023-09-28 14:24:37</td>\n      <td>NaN</td>\n      <td>NaN</td>\n      <td>submitted_via_web</td>\n      <td>amr_abx</td>\n      <td>vCkJdk2rBaY2BYoGSiRHLQ</td>\n      <td>NaN</td>\n      <td>20</td>\n      <td>NaN</td>\n      <td>NaN</td>\n    </tr>\n    <tr>\n      <th>20</th>\n      <td>NaN</td>\n      <td>Kajiado</td>\n      <td>Kajiado North</td>\n      <td>Ngong</td>\n      <td>Ngong Sub-County Hospital</td>\n      <td>15351</td>\n      <td>Dr. Gavin Orangi</td>\n      <td>-1.3648673 36.6544168 1974.7000732421875 4.3</td>\n      <td>-1.364867</td>\n      <td>36.654417</td>\n      <td>...</td>\n      <td>2023-09-29 11:09:21</td>\n      <td>NaN</td>\n      <td>NaN</td>\n      <td>submitted_via_web</td>\n      <td>amr_abx</td>\n      <td>vCMUppsh9DVvK4o4J4MkfJ</td>\n      <td>NaN</td>\n      <td>21</td>\n      <td>NaN</td>\n      <td>NaN</td>\n    </tr>\n    <tr>\n      <th>21</th>\n      <td>NaN</td>\n      <td>Kilifi</td>\n      <td>Malindi</td>\n      <td>Barani</td>\n      <td>Tawfiq Hospital</td>\n      <td>11843</td>\n      <td>Bettinah Ngei</td>\n      <td>-3.2210517 40.1125373 -25.700000762939453 104.1</td>\n      <td>-3.221052</td>\n      <td>40.112537</td>\n      <td>...</td>\n      <td>2023-10-03 03:50:32</td>\n      <td>NaN</td>\n      <td>NaN</td>\n      <td>submitted_via_web</td>\n      <td>amr_abx</td>\n      <td>v3meaYzjbiXzrYSehRwwzi</td>\n      <td>NaN</td>\n      <td>22</td>\n      <td>NaN</td>\n      <td>NaN</td>\n    </tr>\n    <tr>\n      <th>22</th>\n      <td>NaN</td>\n      <td>Kajiado</td>\n      <td>Kajiado Central</td>\n      <td>Ildamat</td>\n      <td>Kajiado County Referral Hospital</td>\n      <td>14652</td>\n      <td>Dr. ORANGI GAVIN</td>\n      <td>-1.857839 36.7720905 1687.7000732421875 4.366</td>\n      <td>-1.857839</td>\n      <td>36.772090</td>\n      <td>...</td>\n      <td>2023-10-03 07:08:37</td>\n      <td>NaN</td>\n      <td>NaN</td>\n      <td>submitted_via_web</td>\n      <td>amr_abx</td>\n      <td>v3meaYzjbiXzrYSehRwwzi</td>\n      <td>NaN</td>\n      <td>23</td>\n      <td>NaN</td>\n      <td>NaN</td>\n    </tr>\n    <tr>\n      <th>23</th>\n      <td>NaN</td>\n      <td>Kajiado</td>\n      <td>Kajiado East</td>\n      <td>Kitengela</td>\n      <td>Kitengela Medical Services</td>\n      <td>14951</td>\n      <td>Dr. ORANGI GAVIN</td>\n      <td>-1.4710942 36.9633958 1548.7000732421875 4.55</td>\n      <td>-1.471094</td>\n      <td>36.963396</td>\n      <td>...</td>\n      <td>2023-10-03 11:45:10</td>\n      <td>NaN</td>\n      <td>NaN</td>\n      <td>submitted_via_web</td>\n      <td>amr_abx</td>\n      <td>vPGkWLgF94YD9Fcv3PeELf</td>\n      <td>NaN</td>\n      <td>24</td>\n      <td>NaN</td>\n      <td>NaN</td>\n    </tr>\n    <tr>\n      <th>24</th>\n      <td>NaN</td>\n      <td>Nairobi</td>\n      <td>Starehe</td>\n      <td>Nairobi South</td>\n      <td>The Mater Misericordiae Hospital (Mukuru)</td>\n      <td>13074</td>\n      <td>Jill Mutua</td>\n      <td>NaN</td>\n      <td>NaN</td>\n      <td>NaN</td>\n      <td>...</td>\n      <td>2023-10-03 18:02:51</td>\n      <td>NaN</td>\n      <td>NaN</td>\n      <td>submitted_via_web</td>\n      <td>amr_abx</td>\n      <td>vGF5BaecH7dbx7nXfyW5uj</td>\n      <td>NaN</td>\n      <td>25</td>\n      <td>NaN</td>\n      <td>NaN</td>\n    </tr>\n    <tr>\n      <th>25</th>\n      <td>NaN</td>\n      <td>Kilifi</td>\n      <td>Kaloleni</td>\n      <td>Mariakani</td>\n      <td>Mariakani Sub County Hospital</td>\n      <td>11566</td>\n      <td>Bettinah Ngei</td>\n      <td>-3.8638396 39.4721948 83.9000015258789 20.0</td>\n      <td>-3.863840</td>\n      <td>39.472195</td>\n      <td>...</td>\n      <td>2023-10-04 11:29:06</td>\n      <td>NaN</td>\n      <td>NaN</td>\n      <td>submitted_via_web</td>\n      <td>amr_abx</td>\n      <td>vPGkWLgF94YD9Fcv3PeELf</td>\n      <td>NaN</td>\n      <td>26</td>\n      <td>NaN</td>\n      <td>NaN</td>\n    </tr>\n    <tr>\n      <th>26</th>\n      <td>NaN</td>\n      <td>Kilifi</td>\n      <td>Kilifi North</td>\n      <td>Sokoni</td>\n      <td>Kilifi County Hospital</td>\n      <td>11474</td>\n      <td>Bettinah Ngei</td>\n      <td>-3.6317789 39.8573438 0.5 15.345</td>\n      <td>-3.631779</td>\n      <td>39.857344</td>\n      <td>...</td>\n      <td>2023-10-04 11:29:07</td>\n      <td>NaN</td>\n      <td>NaN</td>\n      <td>submitted_via_web</td>\n      <td>amr_abx</td>\n      <td>vPGkWLgF94YD9Fcv3PeELf</td>\n      <td>NaN</td>\n      <td>27</td>\n      <td>NaN</td>\n      <td>NaN</td>\n    </tr>\n    <tr>\n      <th>27</th>\n      <td>NaN</td>\n      <td>Nairobi</td>\n      <td>Roysambu</td>\n      <td>Kahawa</td>\n      <td>Kenyatta University Teaching Refferal and Rese...</td>\n      <td>24979</td>\n      <td>DR.GAVIN ORANGI</td>\n      <td>-1.1778628 36.9163527 1539.0999755859375 4.15</td>\n      <td>-1.177863</td>\n      <td>36.916353</td>\n      <td>...</td>\n      <td>2023-10-05 11:37:32</td>\n      <td>NaN</td>\n      <td>NaN</td>\n      <td>submitted_via_web</td>\n      <td>amr_abx</td>\n      <td>vPGkWLgF94YD9Fcv3PeELf</td>\n      <td>NaN</td>\n      <td>28</td>\n      <td>NaN</td>\n      <td>NaN</td>\n    </tr>\n  </tbody>\n</table>\n<p>28 rows × 673 columns</p>\n</div>"
     },
     "execution_count": 175,
     "metadata": {},
     "output_type": "execute_result"
    }
   ],
   "source": [
    "for col in abx_df.columns:\n",
    "    \n",
    "    # Use regex to find the columns that end with /string\n",
    "    if re.search(r'\\/\\w+$', col):\n",
    "        \n",
    "        value_counts = abx_df[col].value_counts()\n",
    "        \n",
    "        # Replace the '1' values with the string and the 0 values with NaN\n",
    "        abx_df[col] = abx_df[col].replace({1: col.split('/')[-1], 0: np.nan})\n",
    "        \n",
    "        # Drop the column without the suffix\n",
    "        drop_col = col.split('/')[0]\n",
    "        \n",
    "        if drop_col in abx_df.columns:\n",
    "            abx_df.drop(drop_col, axis=1, inplace=True)\n",
    "        \n",
    "        print(col, col.split('/')[-1])\n",
    "        print('-' * len(col))\n",
    "        print(abx_df[col].unique())\n",
    "        \n",
    "abx_df"
   ],
   "metadata": {
    "collapsed": false,
    "ExecuteTime": {
     "end_time": "2024-01-23T11:38:16.992000100Z",
     "start_time": "2024-01-23T11:38:16.042422Z"
    }
   },
   "id": "cfdf095e2679f8f5",
   "execution_count": 175
  }
 ],
 "metadata": {
  "kernelspec": {
   "display_name": "Python 3",
   "language": "python",
   "name": "python3"
  },
  "language_info": {
   "codemirror_mode": {
    "name": "ipython",
    "version": 2
   },
   "file_extension": ".py",
   "mimetype": "text/x-python",
   "name": "python",
   "nbconvert_exporter": "python",
   "pygments_lexer": "ipython2",
   "version": "2.7.6"
  }
 },
 "nbformat": 4,
 "nbformat_minor": 5
}
