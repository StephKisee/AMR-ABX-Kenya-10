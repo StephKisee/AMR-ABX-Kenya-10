{
 "cells": [
  {
   "cell_type": "code",
   "execution_count": 1,
   "id": "initial_id",
   "metadata": {
    "collapsed": true,
    "ExecuteTime": {
     "end_time": "2024-01-25T07:53:36.329436600Z",
     "start_time": "2024-01-25T07:53:31.818813Z"
    }
   },
   "outputs": [],
   "source": [
    "from src import *"
   ]
  },
  {
   "cell_type": "code",
   "outputs": [
    {
     "data": {
      "text/plain": "                    start                     end  \\\n0 2023-09-19 09:38:40.129 2023-09-19 12:10:07.529   \n1 2023-09-20 09:14:18.598 2023-09-20 11:26:12.117   \n2 2023-09-20 10:28:13.467 2023-09-20 15:14:25.455   \n3 2023-09-20 10:53:46.163 2023-09-20 16:28:45.251   \n4 2023-09-21 08:15:34.204 2023-09-21 09:40:45.038   \n\n   The Ministry of Health, in collaboration with JKUAT, FIND, the global alliance for diagnostics, and GARDP is carrying out an activity to assess AMR diagnostic capacity, antibiotic use and existing antimicrobial stewardship practices in preparation for the introduction of cefiderocol (and other antibiotics) and new low blood culture and molecular Point of care testing (POCT) platforms in Kenya. The activity is taking place at selected levels 4,5 and 6 of health facilities in Isiolo, Laikipia, Vihiga, Nyeri, Nairobi, Kirinyaga, Kericho, Kajiado, Nandi and Kilifi counties. \\nPlease complete this questionnaire for the facilities that you are reporting on, and where indicated, provide additional details on your selected responses.  \\n\\nFindings will be published by MoH, Isiolo, Laikipia, Vihiga, Nyeri, Nairobi, Kirinyaga, Kericho, Kajiado, Nandi and Kilifi Counties, as well as JKUAT, FIND and GARDP.  \\\n0                                                NaN                                                                                                                                                                                                                                                                                                                                                                                                                                                                                                                                                                                                                                                                                                                                                                                                                                                                                             \n1                                                NaN                                                                                                                                                                                                                                                                                                                                                                                                                                                                                                                                                                                                                                                                                                                                                                                                                                                                                             \n2                                                NaN                                                                                                                                                                                                                                                                                                                                                                                                                                                                                                                                                                                                                                                                                                                                                                                                                                                                                             \n3                                                NaN                                                                                                                                                                                                                                                                                                                                                                                                                                                                                                                                                                                                                                                                                                                                                                                                                                                                                             \n4                                                NaN                                                                                                                                                                                                                                                                                                                                                                                                                                                                                                                                                                                                                                                                                                                                                                                                                                                                                             \n\n    County Sub county        Ward              Name of health facility  \\\n0   Isiolo     Isiolo      Wabera  Isiolo County and Referral Hospital   \n1   Isiolo     Isiolo  Bulla Pesa                 Anka Hospital Isiolo   \n2  Nairobi    Ruaraka   Korogocho         Mama Margaret Uhuru Hospital   \n3    Nandi     Emgwen    Kapsabet    Kapsabet County Referral Hospital   \n4   Isiolo     Isiolo  Bulla Pesa         MaterCare Maternity Hospital   \n\n   Facility code        Assessor name  \\\n0          12094  GEORGE MUCHIRI NJAU   \n1          29530  GEORGE MUCHIRI NJAU   \n2          28885      Peter Kinyanjui   \n3          14749       Mmboyi Onesmus   \n4          19912  GEORGE MUCHIRI NJAU   \n\n                                GPS coordinates  ...  _notes  \\\n0            0.3647273 37.5896959 1081.5 25.136  ...     NaN   \n1  0.3498341 37.5820279 1093.7000732421875 15.5  ...     NaN   \n2  -1.2513671 36.8864047 1584.300048828125 20.0  ...     NaN   \n3      0.2021363 35.10287 1985.300048828125 5.0  ...     NaN   \n4             0.3274352 37.5638683 1190.0 4.957  ...     NaN   \n\n             _status  _submitted_by             __version__ _tags _index  \\\n0  submitted_via_web        amr_abx  vDeNhdSRZ7scoW8UrHD6hm   NaN      1   \n1  submitted_via_web        amr_abx  v7dgbgEbVY8RrodPdYpYiU   NaN      2   \n2  submitted_via_web        amr_abx  v7dgbgEbVY8RrodPdYpYiU   NaN      3   \n3  submitted_via_web        amr_abx  v7dgbgEbVY8RrodPdYpYiU   NaN      4   \n4  submitted_via_web        amr_abx  v7dgbgEbVY8RrodPdYpYiU   NaN      5   \n\n  Unnamed: 375  Unnamed: 376 Unnamed: 377  Unnamed: 378  \n0          NaN           NaN          NaN           NaN  \n1          1.0           0.0          1.0           0.0  \n2          0.0           0.0          0.0           1.0  \n3          NaN           NaN          NaN           NaN  \n4          NaN           NaN          NaN           NaN  \n\n[5 rows x 379 columns]",
      "text/html": "<div>\n<style scoped>\n    .dataframe tbody tr th:only-of-type {\n        vertical-align: middle;\n    }\n\n    .dataframe tbody tr th {\n        vertical-align: top;\n    }\n\n    .dataframe thead th {\n        text-align: right;\n    }\n</style>\n<table border=\"1\" class=\"dataframe\">\n  <thead>\n    <tr style=\"text-align: right;\">\n      <th></th>\n      <th>start</th>\n      <th>end</th>\n      <th>The Ministry of Health, in collaboration with JKUAT, FIND, the global alliance for diagnostics, and GARDP is carrying out an activity to assess AMR diagnostic capacity, antibiotic use and existing antimicrobial stewardship practices in preparation for the introduction of cefiderocol (and other antibiotics) and new low blood culture and molecular Point of care testing (POCT) platforms in Kenya. The activity is taking place at selected levels 4,5 and 6 of health facilities in Isiolo, Laikipia, Vihiga, Nyeri, Nairobi, Kirinyaga, Kericho, Kajiado, Nandi and Kilifi counties. \\nPlease complete this questionnaire for the facilities that you are reporting on, and where indicated, provide additional details on your selected responses.  \\n\\nFindings will be published by MoH, Isiolo, Laikipia, Vihiga, Nyeri, Nairobi, Kirinyaga, Kericho, Kajiado, Nandi and Kilifi Counties, as well as JKUAT, FIND and GARDP.</th>\n      <th>County</th>\n      <th>Sub county</th>\n      <th>Ward</th>\n      <th>Name of health facility</th>\n      <th>Facility code</th>\n      <th>Assessor name</th>\n      <th>GPS coordinates</th>\n      <th>...</th>\n      <th>_notes</th>\n      <th>_status</th>\n      <th>_submitted_by</th>\n      <th>__version__</th>\n      <th>_tags</th>\n      <th>_index</th>\n      <th>Unnamed: 375</th>\n      <th>Unnamed: 376</th>\n      <th>Unnamed: 377</th>\n      <th>Unnamed: 378</th>\n    </tr>\n  </thead>\n  <tbody>\n    <tr>\n      <th>0</th>\n      <td>2023-09-19 09:38:40.129</td>\n      <td>2023-09-19 12:10:07.529</td>\n      <td>NaN</td>\n      <td>Isiolo</td>\n      <td>Isiolo</td>\n      <td>Wabera</td>\n      <td>Isiolo County and Referral Hospital</td>\n      <td>12094</td>\n      <td>GEORGE MUCHIRI NJAU</td>\n      <td>0.3647273 37.5896959 1081.5 25.136</td>\n      <td>...</td>\n      <td>NaN</td>\n      <td>submitted_via_web</td>\n      <td>amr_abx</td>\n      <td>vDeNhdSRZ7scoW8UrHD6hm</td>\n      <td>NaN</td>\n      <td>1</td>\n      <td>NaN</td>\n      <td>NaN</td>\n      <td>NaN</td>\n      <td>NaN</td>\n    </tr>\n    <tr>\n      <th>1</th>\n      <td>2023-09-20 09:14:18.598</td>\n      <td>2023-09-20 11:26:12.117</td>\n      <td>NaN</td>\n      <td>Isiolo</td>\n      <td>Isiolo</td>\n      <td>Bulla Pesa</td>\n      <td>Anka Hospital Isiolo</td>\n      <td>29530</td>\n      <td>GEORGE MUCHIRI NJAU</td>\n      <td>0.3498341 37.5820279 1093.7000732421875 15.5</td>\n      <td>...</td>\n      <td>NaN</td>\n      <td>submitted_via_web</td>\n      <td>amr_abx</td>\n      <td>v7dgbgEbVY8RrodPdYpYiU</td>\n      <td>NaN</td>\n      <td>2</td>\n      <td>1.0</td>\n      <td>0.0</td>\n      <td>1.0</td>\n      <td>0.0</td>\n    </tr>\n    <tr>\n      <th>2</th>\n      <td>2023-09-20 10:28:13.467</td>\n      <td>2023-09-20 15:14:25.455</td>\n      <td>NaN</td>\n      <td>Nairobi</td>\n      <td>Ruaraka</td>\n      <td>Korogocho</td>\n      <td>Mama Margaret Uhuru Hospital</td>\n      <td>28885</td>\n      <td>Peter Kinyanjui</td>\n      <td>-1.2513671 36.8864047 1584.300048828125 20.0</td>\n      <td>...</td>\n      <td>NaN</td>\n      <td>submitted_via_web</td>\n      <td>amr_abx</td>\n      <td>v7dgbgEbVY8RrodPdYpYiU</td>\n      <td>NaN</td>\n      <td>3</td>\n      <td>0.0</td>\n      <td>0.0</td>\n      <td>0.0</td>\n      <td>1.0</td>\n    </tr>\n    <tr>\n      <th>3</th>\n      <td>2023-09-20 10:53:46.163</td>\n      <td>2023-09-20 16:28:45.251</td>\n      <td>NaN</td>\n      <td>Nandi</td>\n      <td>Emgwen</td>\n      <td>Kapsabet</td>\n      <td>Kapsabet County Referral Hospital</td>\n      <td>14749</td>\n      <td>Mmboyi Onesmus</td>\n      <td>0.2021363 35.10287 1985.300048828125 5.0</td>\n      <td>...</td>\n      <td>NaN</td>\n      <td>submitted_via_web</td>\n      <td>amr_abx</td>\n      <td>v7dgbgEbVY8RrodPdYpYiU</td>\n      <td>NaN</td>\n      <td>4</td>\n      <td>NaN</td>\n      <td>NaN</td>\n      <td>NaN</td>\n      <td>NaN</td>\n    </tr>\n    <tr>\n      <th>4</th>\n      <td>2023-09-21 08:15:34.204</td>\n      <td>2023-09-21 09:40:45.038</td>\n      <td>NaN</td>\n      <td>Isiolo</td>\n      <td>Isiolo</td>\n      <td>Bulla Pesa</td>\n      <td>MaterCare Maternity Hospital</td>\n      <td>19912</td>\n      <td>GEORGE MUCHIRI NJAU</td>\n      <td>0.3274352 37.5638683 1190.0 4.957</td>\n      <td>...</td>\n      <td>NaN</td>\n      <td>submitted_via_web</td>\n      <td>amr_abx</td>\n      <td>v7dgbgEbVY8RrodPdYpYiU</td>\n      <td>NaN</td>\n      <td>5</td>\n      <td>NaN</td>\n      <td>NaN</td>\n      <td>NaN</td>\n      <td>NaN</td>\n    </tr>\n  </tbody>\n</table>\n<p>5 rows × 379 columns</p>\n</div>"
     },
     "execution_count": 2,
     "metadata": {},
     "output_type": "execute_result"
    }
   ],
   "source": [
    "# Set path to file\n",
    "amr_path = '../data/AMR24_Dx_Capacity_assessment_in_counties_-_all_versions_-_labels_-_2023-10-24-09-26-34.xlsx'\n",
    "\n",
    "# Load data\n",
    "amr_df = pd.read_excel(amr_path)\n",
    "\n",
    "# Inspect\n",
    "amr_df.head()"
   ],
   "metadata": {
    "collapsed": false,
    "ExecuteTime": {
     "end_time": "2024-01-25T07:53:37.127258300Z",
     "start_time": "2024-01-25T07:53:36.331692200Z"
    }
   },
   "id": "259530e9789f5d97",
   "execution_count": 2
  },
  {
   "cell_type": "code",
   "outputs": [],
   "source": [
    "def get_prefixes(df: pd.DataFrame) -> tuple:\n",
    "    prefixes = [col.split(' ', 1)[0] + ' ' for col in df.columns if col.count('/') > 0]\n",
    "    prefix_counts = {prefix: prefixes.count(prefix) for prefix in prefixes}\n",
    "    prefixes = [prefix for prefix in prefixes if prefix_counts[prefix] > 1]\n",
    "    n_prefixes = len(prefixes)\n",
    "    unique_prefixes = list(set(prefixes))\n",
    "    n_unique_prefixes = len(unique_prefixes)\n",
    "\n",
    "    return prefixes, unique_prefixes, n_prefixes, n_unique_prefixes\n",
    "\n",
    "\n",
    "def assign_cols(df: pd.DataFrame, prefixes: list) -> tuple:\n",
    "    initial_cols = []\n",
    "\n",
    "    for prefix in prefixes:\n",
    "        for col in df.columns:\n",
    "            if col.startswith(prefix):\n",
    "                initial_cols.append(col)\n",
    "                break\n",
    "\n",
    "    encoded_cols = []\n",
    "\n",
    "    for col in df.columns:\n",
    "        for prefix in prefixes:\n",
    "            if col.startswith(prefix):\n",
    "                encoded_cols.append(col)\n",
    "\n",
    "    encoded_cols = [col for col in encoded_cols if col not in initial_cols]\n",
    "\n",
    "    return initial_cols, encoded_cols\n",
    "\n",
    "\n",
    "def create_col_dict(initial_cols: list, encoded_cols: list) -> dict:\n",
    "    col_dict = {}\n",
    "\n",
    "    for col in encoded_cols:\n",
    "        prefix = col.split(' ', 1)[0] + ' '\n",
    "        for col_ in initial_cols:\n",
    "            if col_.startswith(prefix):\n",
    "                col_dict[col] = col_\n",
    "                break\n",
    "\n",
    "    return col_dict\n",
    "\n",
    "\n",
    "def create_values_replace_map(col_dict: dict) -> dict:\n",
    "    val_dict = {}\n",
    "\n",
    "    for k, v in col_dict.items():\n",
    "        val_dict[k] = k.replace(v, '')\n",
    "\n",
    "    for k, v in val_dict.items():\n",
    "        if v.startswith('/'):\n",
    "            val_dict[k] = v[1:]\n",
    "\n",
    "    return val_dict\n",
    "\n",
    "\n",
    "def create_names_replace_map(initial_cols: list, unique_prefixes: list) -> dict:\n",
    "    names_dict = {}\n",
    "\n",
    "    old = [prefix + 'value' for prefix in unique_prefixes]\n",
    "\n",
    "    for i in old:\n",
    "        for col in initial_cols:\n",
    "            if i.split(' ', 1)[0] in col:\n",
    "                names_dict[i] = col\n",
    "                break\n",
    "\n",
    "    return names_dict\n",
    "\n",
    "\n",
    "def replace_values(df: pd.DataFrame, initial_cols: list, encoded_cols: list, val_dict: dict):\n",
    "    for col in encoded_cols:\n",
    "        df[col] = df[col].replace({1:val_dict[col], 0:np.nan})\n",
    "    \n",
    "    # TODO remove operation (can be performed independently)\n",
    "    df = df.drop(initial_cols, axis=1)\n",
    "    \n",
    "    return df\n",
    "\n",
    "\n",
    "def melt_cols(df: pd.DataFrame, prefixes: list):\n",
    "    if not isinstance(prefixes, list):\n",
    "        prefixes = list(prefixes)\n",
    "\n",
    "    for prefix in prefixes:\n",
    "        cols = [col for col in df.columns if col.startswith(prefix)]\n",
    "        df = df.melt(id_vars=[col for col in df.columns if col not in cols],\n",
    "                     value_vars=cols,\n",
    "                     var_name=prefix,\n",
    "                     value_name=prefix + 'value')\n",
    "        \n",
    "    df = df.drop(prefixes, axis=1).drop_duplicates()\n",
    "\n",
    "    return df\n",
    "\n",
    "\n",
    "# def clean_up_df()"
   ],
   "metadata": {
    "collapsed": false,
    "ExecuteTime": {
     "end_time": "2024-01-25T07:53:37.215297300Z",
     "start_time": "2024-01-25T07:53:37.135631600Z"
    }
   },
   "id": "1374944c0f2a7f0d",
   "execution_count": 3
  },
  {
   "cell_type": "code",
   "outputs": [
    {
     "data": {
      "text/plain": "       i2 value                          h1. value      f1. value  \\\n0           NaN                                NaN  Out-of-pocket   \n1           NaN                                NaN  Out-of-pocket   \n2           NaN                                NaN            NaN   \n3           NaN                     SLIPTA program  Out-of-pocket   \n4           NaN                                NaN  Out-of-pocket   \n...         ...                                ...            ...   \n121117    other                      SLMTA program           Free   \n121145      NaN                                NaN           Free   \n121313    other                                NaN           Free   \n121537      NaN  SLIPTA program enrollment ongoing           Free   \n121705    other  SLIPTA program enrollment ongoing           Free   \n\n            e2. value d9. value  \n0                 NaN       NaN  \n1                 NaN       NaN  \n2                 NaN       NaN  \n3                 NaN       NaN  \n4                 NaN       NaN  \n...               ...       ...  \n121117  Lab Personnel       NaN  \n121145  Lab Personnel       NaN  \n121313  Lab Personnel       NaN  \n121537  Lab Personnel       NaN  \n121705  Lab Personnel       NaN  \n\n[626 rows x 5 columns]",
      "text/html": "<div>\n<style scoped>\n    .dataframe tbody tr th:only-of-type {\n        vertical-align: middle;\n    }\n\n    .dataframe tbody tr th {\n        vertical-align: top;\n    }\n\n    .dataframe thead th {\n        text-align: right;\n    }\n</style>\n<table border=\"1\" class=\"dataframe\">\n  <thead>\n    <tr style=\"text-align: right;\">\n      <th></th>\n      <th>i2 value</th>\n      <th>h1. value</th>\n      <th>f1. value</th>\n      <th>e2. value</th>\n      <th>d9. value</th>\n    </tr>\n  </thead>\n  <tbody>\n    <tr>\n      <th>0</th>\n      <td>NaN</td>\n      <td>NaN</td>\n      <td>Out-of-pocket</td>\n      <td>NaN</td>\n      <td>NaN</td>\n    </tr>\n    <tr>\n      <th>1</th>\n      <td>NaN</td>\n      <td>NaN</td>\n      <td>Out-of-pocket</td>\n      <td>NaN</td>\n      <td>NaN</td>\n    </tr>\n    <tr>\n      <th>2</th>\n      <td>NaN</td>\n      <td>NaN</td>\n      <td>NaN</td>\n      <td>NaN</td>\n      <td>NaN</td>\n    </tr>\n    <tr>\n      <th>3</th>\n      <td>NaN</td>\n      <td>SLIPTA program</td>\n      <td>Out-of-pocket</td>\n      <td>NaN</td>\n      <td>NaN</td>\n    </tr>\n    <tr>\n      <th>4</th>\n      <td>NaN</td>\n      <td>NaN</td>\n      <td>Out-of-pocket</td>\n      <td>NaN</td>\n      <td>NaN</td>\n    </tr>\n    <tr>\n      <th>...</th>\n      <td>...</td>\n      <td>...</td>\n      <td>...</td>\n      <td>...</td>\n      <td>...</td>\n    </tr>\n    <tr>\n      <th>121117</th>\n      <td>other</td>\n      <td>SLMTA program</td>\n      <td>Free</td>\n      <td>Lab Personnel</td>\n      <td>NaN</td>\n    </tr>\n    <tr>\n      <th>121145</th>\n      <td>NaN</td>\n      <td>NaN</td>\n      <td>Free</td>\n      <td>Lab Personnel</td>\n      <td>NaN</td>\n    </tr>\n    <tr>\n      <th>121313</th>\n      <td>other</td>\n      <td>NaN</td>\n      <td>Free</td>\n      <td>Lab Personnel</td>\n      <td>NaN</td>\n    </tr>\n    <tr>\n      <th>121537</th>\n      <td>NaN</td>\n      <td>SLIPTA program enrollment ongoing</td>\n      <td>Free</td>\n      <td>Lab Personnel</td>\n      <td>NaN</td>\n    </tr>\n    <tr>\n      <th>121705</th>\n      <td>other</td>\n      <td>SLIPTA program enrollment ongoing</td>\n      <td>Free</td>\n      <td>Lab Personnel</td>\n      <td>NaN</td>\n    </tr>\n  </tbody>\n</table>\n<p>626 rows × 5 columns</p>\n</div>"
     },
     "execution_count": 4,
     "metadata": {},
     "output_type": "execute_result"
    }
   ],
   "source": [
    "prefixes, unique_prefixes, n_prefixes, n_unique_prefixes = get_prefixes(amr_df)\n",
    "initial_cols, encoded_cols = assign_cols(amr_df, unique_prefixes)\n",
    "col_dict = create_col_dict(initial_cols, encoded_cols)\n",
    "val_dict = create_values_replace_map(col_dict)\n",
    "names_map = create_names_replace_map(initial_cols, unique_prefixes)\n",
    "amr = replace_values(amr_df, initial_cols, encoded_cols, val_dict)\n",
    "amr = melt_cols(amr, sorted(unique_prefixes, reverse=True)[:5])\n",
    "# amr.rename(columns=names_map, inplace=True)\n",
    "amr.iloc[:,-5:]"
   ],
   "metadata": {
    "collapsed": false,
    "ExecuteTime": {
     "end_time": "2024-01-25T07:53:52.417183Z",
     "start_time": "2024-01-25T07:53:37.168905500Z"
    }
   },
   "id": "228aacf179c0f7a9",
   "execution_count": 4
  },
  {
   "cell_type": "code",
   "outputs": [
    {
     "data": {
      "text/plain": "       d80 value  d8. value d71 value d42 value       d41 value\n0            NaN        NaN       NaN       NaN             NaN\n1            NaN        NaN       NaN       NaN             NaN\n2            NaN        NaN       NaN       NaN             NaN\n3            NaN        NaN       NaN       NaN  Disk diffusion\n4            NaN        NaN       NaN       NaN  Disk diffusion\n...          ...        ...       ...       ...             ...\n427465       NaN  Automated       NaN       NaN   Agar dilution\n427475       NaN  Automated       NaN       NaN   Agar dilution\n427477       NaN  Automated       NaN       NaN   Agar dilution\n427478       NaN  Automated       NaN       NaN   Agar dilution\n427479       NaN  Automated       NaN       NaN   Agar dilution\n\n[12660 rows x 5 columns]",
      "text/html": "<div>\n<style scoped>\n    .dataframe tbody tr th:only-of-type {\n        vertical-align: middle;\n    }\n\n    .dataframe tbody tr th {\n        vertical-align: top;\n    }\n\n    .dataframe thead th {\n        text-align: right;\n    }\n</style>\n<table border=\"1\" class=\"dataframe\">\n  <thead>\n    <tr style=\"text-align: right;\">\n      <th></th>\n      <th>d80 value</th>\n      <th>d8. value</th>\n      <th>d71 value</th>\n      <th>d42 value</th>\n      <th>d41 value</th>\n    </tr>\n  </thead>\n  <tbody>\n    <tr>\n      <th>0</th>\n      <td>NaN</td>\n      <td>NaN</td>\n      <td>NaN</td>\n      <td>NaN</td>\n      <td>NaN</td>\n    </tr>\n    <tr>\n      <th>1</th>\n      <td>NaN</td>\n      <td>NaN</td>\n      <td>NaN</td>\n      <td>NaN</td>\n      <td>NaN</td>\n    </tr>\n    <tr>\n      <th>2</th>\n      <td>NaN</td>\n      <td>NaN</td>\n      <td>NaN</td>\n      <td>NaN</td>\n      <td>NaN</td>\n    </tr>\n    <tr>\n      <th>3</th>\n      <td>NaN</td>\n      <td>NaN</td>\n      <td>NaN</td>\n      <td>NaN</td>\n      <td>Disk diffusion</td>\n    </tr>\n    <tr>\n      <th>4</th>\n      <td>NaN</td>\n      <td>NaN</td>\n      <td>NaN</td>\n      <td>NaN</td>\n      <td>Disk diffusion</td>\n    </tr>\n    <tr>\n      <th>...</th>\n      <td>...</td>\n      <td>...</td>\n      <td>...</td>\n      <td>...</td>\n      <td>...</td>\n    </tr>\n    <tr>\n      <th>427465</th>\n      <td>NaN</td>\n      <td>Automated</td>\n      <td>NaN</td>\n      <td>NaN</td>\n      <td>Agar dilution</td>\n    </tr>\n    <tr>\n      <th>427475</th>\n      <td>NaN</td>\n      <td>Automated</td>\n      <td>NaN</td>\n      <td>NaN</td>\n      <td>Agar dilution</td>\n    </tr>\n    <tr>\n      <th>427477</th>\n      <td>NaN</td>\n      <td>Automated</td>\n      <td>NaN</td>\n      <td>NaN</td>\n      <td>Agar dilution</td>\n    </tr>\n    <tr>\n      <th>427478</th>\n      <td>NaN</td>\n      <td>Automated</td>\n      <td>NaN</td>\n      <td>NaN</td>\n      <td>Agar dilution</td>\n    </tr>\n    <tr>\n      <th>427479</th>\n      <td>NaN</td>\n      <td>Automated</td>\n      <td>NaN</td>\n      <td>NaN</td>\n      <td>Agar dilution</td>\n    </tr>\n  </tbody>\n</table>\n<p>12660 rows × 5 columns</p>\n</div>"
     },
     "execution_count": 5,
     "metadata": {},
     "output_type": "execute_result"
    }
   ],
   "source": [
    "amr = melt_cols(amr, sorted(unique_prefixes, reverse=True)[5:10])\n",
    "# amr.rename(columns=names_map, inplace=True)\n",
    "amr.iloc[:,-5:]"
   ],
   "metadata": {
    "collapsed": false,
    "ExecuteTime": {
     "end_time": "2024-01-25T07:54:30.772206200Z",
     "start_time": "2024-01-25T07:53:52.450562Z"
    }
   },
   "id": "e385ed67f82c039b",
   "execution_count": 5
  },
  {
   "cell_type": "code",
   "outputs": [
    {
     "ename": "MemoryError",
     "evalue": "Unable to allocate 417. MiB for an array with shape (9, 6076800) and data type float64",
     "output_type": "error",
     "traceback": [
      "\u001B[1;31m---------------------------------------------------------------------------\u001B[0m",
      "\u001B[1;31mMemoryError\u001B[0m                               Traceback (most recent call last)",
      "Cell \u001B[1;32mIn[6], line 1\u001B[0m\n\u001B[1;32m----> 1\u001B[0m amr \u001B[38;5;241m=\u001B[39m \u001B[43mmelt_cols\u001B[49m\u001B[43m(\u001B[49m\u001B[43mamr\u001B[49m\u001B[43m,\u001B[49m\u001B[43m \u001B[49m\u001B[38;5;28;43msorted\u001B[39;49m\u001B[43m(\u001B[49m\u001B[43munique_prefixes\u001B[49m\u001B[43m,\u001B[49m\u001B[43m \u001B[49m\u001B[43mreverse\u001B[49m\u001B[38;5;241;43m=\u001B[39;49m\u001B[38;5;28;43;01mTrue\u001B[39;49;00m\u001B[43m)\u001B[49m\u001B[43m[\u001B[49m\u001B[38;5;241;43m10\u001B[39;49m\u001B[43m:\u001B[49m\u001B[38;5;241;43m15\u001B[39;49m\u001B[43m]\u001B[49m\u001B[43m)\u001B[49m\n\u001B[0;32m      2\u001B[0m \u001B[38;5;66;03m# amr.rename(columns=names_map, inplace=True)\u001B[39;00m\n\u001B[0;32m      3\u001B[0m amr\u001B[38;5;241m.\u001B[39miloc[:,\u001B[38;5;241m-\u001B[39m\u001B[38;5;241m5\u001B[39m:]\n",
      "Cell \u001B[1;32mIn[3], line 89\u001B[0m, in \u001B[0;36mmelt_cols\u001B[1;34m(df, prefixes)\u001B[0m\n\u001B[0;32m     87\u001B[0m \u001B[38;5;28;01mfor\u001B[39;00m prefix \u001B[38;5;129;01min\u001B[39;00m prefixes:\n\u001B[0;32m     88\u001B[0m     cols \u001B[38;5;241m=\u001B[39m [col \u001B[38;5;28;01mfor\u001B[39;00m col \u001B[38;5;129;01min\u001B[39;00m df\u001B[38;5;241m.\u001B[39mcolumns \u001B[38;5;28;01mif\u001B[39;00m col\u001B[38;5;241m.\u001B[39mstartswith(prefix)]\n\u001B[1;32m---> 89\u001B[0m     df \u001B[38;5;241m=\u001B[39m \u001B[43mdf\u001B[49m\u001B[38;5;241;43m.\u001B[39;49m\u001B[43mmelt\u001B[49m\u001B[43m(\u001B[49m\u001B[43mid_vars\u001B[49m\u001B[38;5;241;43m=\u001B[39;49m\u001B[43m[\u001B[49m\u001B[43mcol\u001B[49m\u001B[43m \u001B[49m\u001B[38;5;28;43;01mfor\u001B[39;49;00m\u001B[43m \u001B[49m\u001B[43mcol\u001B[49m\u001B[43m \u001B[49m\u001B[38;5;129;43;01min\u001B[39;49;00m\u001B[43m \u001B[49m\u001B[43mdf\u001B[49m\u001B[38;5;241;43m.\u001B[39;49m\u001B[43mcolumns\u001B[49m\u001B[43m \u001B[49m\u001B[38;5;28;43;01mif\u001B[39;49;00m\u001B[43m \u001B[49m\u001B[43mcol\u001B[49m\u001B[43m \u001B[49m\u001B[38;5;129;43;01mnot\u001B[39;49;00m\u001B[43m \u001B[49m\u001B[38;5;129;43;01min\u001B[39;49;00m\u001B[43m \u001B[49m\u001B[43mcols\u001B[49m\u001B[43m]\u001B[49m\u001B[43m,\u001B[49m\n\u001B[0;32m     90\u001B[0m \u001B[43m                 \u001B[49m\u001B[43mvalue_vars\u001B[49m\u001B[38;5;241;43m=\u001B[39;49m\u001B[43mcols\u001B[49m\u001B[43m,\u001B[49m\n\u001B[0;32m     91\u001B[0m \u001B[43m                 \u001B[49m\u001B[43mvar_name\u001B[49m\u001B[38;5;241;43m=\u001B[39;49m\u001B[43mprefix\u001B[49m\u001B[43m,\u001B[49m\n\u001B[0;32m     92\u001B[0m \u001B[43m                 \u001B[49m\u001B[43mvalue_name\u001B[49m\u001B[38;5;241;43m=\u001B[39;49m\u001B[43mprefix\u001B[49m\u001B[43m \u001B[49m\u001B[38;5;241;43m+\u001B[39;49m\u001B[43m \u001B[49m\u001B[38;5;124;43m'\u001B[39;49m\u001B[38;5;124;43mvalue\u001B[39;49m\u001B[38;5;124;43m'\u001B[39;49m\u001B[43m)\u001B[49m\n\u001B[0;32m     94\u001B[0m df \u001B[38;5;241m=\u001B[39m df\u001B[38;5;241m.\u001B[39mdrop(prefixes, axis\u001B[38;5;241m=\u001B[39m\u001B[38;5;241m1\u001B[39m)\u001B[38;5;241m.\u001B[39mdrop_duplicates()\n\u001B[0;32m     96\u001B[0m \u001B[38;5;28;01mreturn\u001B[39;00m df\n",
      "File \u001B[1;32m~\\AppData\\Local\\Programs\\Python\\Python311\\Lib\\site-packages\\pandas\\core\\frame.py:9915\u001B[0m, in \u001B[0;36mDataFrame.melt\u001B[1;34m(self, id_vars, value_vars, var_name, value_name, col_level, ignore_index)\u001B[0m\n\u001B[0;32m   9905\u001B[0m \u001B[38;5;129m@Appender\u001B[39m(_shared_docs[\u001B[38;5;124m\"\u001B[39m\u001B[38;5;124mmelt\u001B[39m\u001B[38;5;124m\"\u001B[39m] \u001B[38;5;241m%\u001B[39m {\u001B[38;5;124m\"\u001B[39m\u001B[38;5;124mcaller\u001B[39m\u001B[38;5;124m\"\u001B[39m: \u001B[38;5;124m\"\u001B[39m\u001B[38;5;124mdf.melt(\u001B[39m\u001B[38;5;124m\"\u001B[39m, \u001B[38;5;124m\"\u001B[39m\u001B[38;5;124mother\u001B[39m\u001B[38;5;124m\"\u001B[39m: \u001B[38;5;124m\"\u001B[39m\u001B[38;5;124mmelt\u001B[39m\u001B[38;5;124m\"\u001B[39m})\n\u001B[0;32m   9906\u001B[0m \u001B[38;5;28;01mdef\u001B[39;00m \u001B[38;5;21mmelt\u001B[39m(\n\u001B[0;32m   9907\u001B[0m     \u001B[38;5;28mself\u001B[39m,\n\u001B[1;32m   (...)\u001B[0m\n\u001B[0;32m   9913\u001B[0m     ignore_index: \u001B[38;5;28mbool\u001B[39m \u001B[38;5;241m=\u001B[39m \u001B[38;5;28;01mTrue\u001B[39;00m,\n\u001B[0;32m   9914\u001B[0m ) \u001B[38;5;241m-\u001B[39m\u001B[38;5;241m>\u001B[39m DataFrame:\n\u001B[1;32m-> 9915\u001B[0m     \u001B[38;5;28;01mreturn\u001B[39;00m \u001B[43mmelt\u001B[49m\u001B[43m(\u001B[49m\n\u001B[0;32m   9916\u001B[0m \u001B[43m        \u001B[49m\u001B[38;5;28;43mself\u001B[39;49m\u001B[43m,\u001B[49m\n\u001B[0;32m   9917\u001B[0m \u001B[43m        \u001B[49m\u001B[43mid_vars\u001B[49m\u001B[38;5;241;43m=\u001B[39;49m\u001B[43mid_vars\u001B[49m\u001B[43m,\u001B[49m\n\u001B[0;32m   9918\u001B[0m \u001B[43m        \u001B[49m\u001B[43mvalue_vars\u001B[49m\u001B[38;5;241;43m=\u001B[39;49m\u001B[43mvalue_vars\u001B[49m\u001B[43m,\u001B[49m\n\u001B[0;32m   9919\u001B[0m \u001B[43m        \u001B[49m\u001B[43mvar_name\u001B[49m\u001B[38;5;241;43m=\u001B[39;49m\u001B[43mvar_name\u001B[49m\u001B[43m,\u001B[49m\n\u001B[0;32m   9920\u001B[0m \u001B[43m        \u001B[49m\u001B[43mvalue_name\u001B[49m\u001B[38;5;241;43m=\u001B[39;49m\u001B[43mvalue_name\u001B[49m\u001B[43m,\u001B[49m\n\u001B[0;32m   9921\u001B[0m \u001B[43m        \u001B[49m\u001B[43mcol_level\u001B[49m\u001B[38;5;241;43m=\u001B[39;49m\u001B[43mcol_level\u001B[49m\u001B[43m,\u001B[49m\n\u001B[0;32m   9922\u001B[0m \u001B[43m        \u001B[49m\u001B[43mignore_index\u001B[49m\u001B[38;5;241;43m=\u001B[39;49m\u001B[43mignore_index\u001B[49m\u001B[43m,\u001B[49m\n\u001B[0;32m   9923\u001B[0m \u001B[43m    \u001B[49m\u001B[43m)\u001B[49m\u001B[38;5;241m.\u001B[39m__finalize__(\u001B[38;5;28mself\u001B[39m, method\u001B[38;5;241m=\u001B[39m\u001B[38;5;124m\"\u001B[39m\u001B[38;5;124mmelt\u001B[39m\u001B[38;5;124m\"\u001B[39m)\n",
      "File \u001B[1;32m~\\AppData\\Local\\Programs\\Python\\Python311\\Lib\\site-packages\\pandas\\core\\reshape\\melt.py:133\u001B[0m, in \u001B[0;36mmelt\u001B[1;34m(frame, id_vars, value_vars, var_name, value_name, col_level, ignore_index)\u001B[0m\n\u001B[0;32m    130\u001B[0m \u001B[38;5;28;01mfor\u001B[39;00m i, col \u001B[38;5;129;01min\u001B[39;00m \u001B[38;5;28menumerate\u001B[39m(var_name):\n\u001B[0;32m    131\u001B[0m     mdata[col] \u001B[38;5;241m=\u001B[39m frame\u001B[38;5;241m.\u001B[39mcolumns\u001B[38;5;241m.\u001B[39m_get_level_values(i)\u001B[38;5;241m.\u001B[39mrepeat(num_rows)\n\u001B[1;32m--> 133\u001B[0m result \u001B[38;5;241m=\u001B[39m \u001B[43mframe\u001B[49m\u001B[38;5;241;43m.\u001B[39;49m\u001B[43m_constructor\u001B[49m\u001B[43m(\u001B[49m\u001B[43mmdata\u001B[49m\u001B[43m,\u001B[49m\u001B[43m \u001B[49m\u001B[43mcolumns\u001B[49m\u001B[38;5;241;43m=\u001B[39;49m\u001B[43mmcolumns\u001B[49m\u001B[43m)\u001B[49m\n\u001B[0;32m    135\u001B[0m \u001B[38;5;28;01mif\u001B[39;00m \u001B[38;5;129;01mnot\u001B[39;00m ignore_index:\n\u001B[0;32m    136\u001B[0m     result\u001B[38;5;241m.\u001B[39mindex \u001B[38;5;241m=\u001B[39m tile_compat(frame\u001B[38;5;241m.\u001B[39mindex, num_cols_adjusted)\n",
      "File \u001B[1;32m~\\AppData\\Local\\Programs\\Python\\Python311\\Lib\\site-packages\\pandas\\core\\frame.py:767\u001B[0m, in \u001B[0;36mDataFrame.__init__\u001B[1;34m(self, data, index, columns, dtype, copy)\u001B[0m\n\u001B[0;32m    761\u001B[0m     mgr \u001B[38;5;241m=\u001B[39m \u001B[38;5;28mself\u001B[39m\u001B[38;5;241m.\u001B[39m_init_mgr(\n\u001B[0;32m    762\u001B[0m         data, axes\u001B[38;5;241m=\u001B[39m{\u001B[38;5;124m\"\u001B[39m\u001B[38;5;124mindex\u001B[39m\u001B[38;5;124m\"\u001B[39m: index, \u001B[38;5;124m\"\u001B[39m\u001B[38;5;124mcolumns\u001B[39m\u001B[38;5;124m\"\u001B[39m: columns}, dtype\u001B[38;5;241m=\u001B[39mdtype, copy\u001B[38;5;241m=\u001B[39mcopy\n\u001B[0;32m    763\u001B[0m     )\n\u001B[0;32m    765\u001B[0m \u001B[38;5;28;01melif\u001B[39;00m \u001B[38;5;28misinstance\u001B[39m(data, \u001B[38;5;28mdict\u001B[39m):\n\u001B[0;32m    766\u001B[0m     \u001B[38;5;66;03m# GH#38939 de facto copy defaults to False only in non-dict cases\u001B[39;00m\n\u001B[1;32m--> 767\u001B[0m     mgr \u001B[38;5;241m=\u001B[39m \u001B[43mdict_to_mgr\u001B[49m\u001B[43m(\u001B[49m\u001B[43mdata\u001B[49m\u001B[43m,\u001B[49m\u001B[43m \u001B[49m\u001B[43mindex\u001B[49m\u001B[43m,\u001B[49m\u001B[43m \u001B[49m\u001B[43mcolumns\u001B[49m\u001B[43m,\u001B[49m\u001B[43m \u001B[49m\u001B[43mdtype\u001B[49m\u001B[38;5;241;43m=\u001B[39;49m\u001B[43mdtype\u001B[49m\u001B[43m,\u001B[49m\u001B[43m \u001B[49m\u001B[43mcopy\u001B[49m\u001B[38;5;241;43m=\u001B[39;49m\u001B[43mcopy\u001B[49m\u001B[43m,\u001B[49m\u001B[43m \u001B[49m\u001B[43mtyp\u001B[49m\u001B[38;5;241;43m=\u001B[39;49m\u001B[43mmanager\u001B[49m\u001B[43m)\u001B[49m\n\u001B[0;32m    768\u001B[0m \u001B[38;5;28;01melif\u001B[39;00m \u001B[38;5;28misinstance\u001B[39m(data, ma\u001B[38;5;241m.\u001B[39mMaskedArray):\n\u001B[0;32m    769\u001B[0m     \u001B[38;5;28;01mfrom\u001B[39;00m \u001B[38;5;21;01mnumpy\u001B[39;00m\u001B[38;5;21;01m.\u001B[39;00m\u001B[38;5;21;01mma\u001B[39;00m \u001B[38;5;28;01mimport\u001B[39;00m mrecords\n",
      "File \u001B[1;32m~\\AppData\\Local\\Programs\\Python\\Python311\\Lib\\site-packages\\pandas\\core\\internals\\construction.py:503\u001B[0m, in \u001B[0;36mdict_to_mgr\u001B[1;34m(data, index, columns, dtype, typ, copy)\u001B[0m\n\u001B[0;32m    499\u001B[0m     \u001B[38;5;28;01melse\u001B[39;00m:\n\u001B[0;32m    500\u001B[0m         \u001B[38;5;66;03m# dtype check to exclude e.g. range objects, scalars\u001B[39;00m\n\u001B[0;32m    501\u001B[0m         arrays \u001B[38;5;241m=\u001B[39m [x\u001B[38;5;241m.\u001B[39mcopy() \u001B[38;5;28;01mif\u001B[39;00m \u001B[38;5;28mhasattr\u001B[39m(x, \u001B[38;5;124m\"\u001B[39m\u001B[38;5;124mdtype\u001B[39m\u001B[38;5;124m\"\u001B[39m) \u001B[38;5;28;01melse\u001B[39;00m x \u001B[38;5;28;01mfor\u001B[39;00m x \u001B[38;5;129;01min\u001B[39;00m arrays]\n\u001B[1;32m--> 503\u001B[0m \u001B[38;5;28;01mreturn\u001B[39;00m \u001B[43marrays_to_mgr\u001B[49m\u001B[43m(\u001B[49m\u001B[43marrays\u001B[49m\u001B[43m,\u001B[49m\u001B[43m \u001B[49m\u001B[43mcolumns\u001B[49m\u001B[43m,\u001B[49m\u001B[43m \u001B[49m\u001B[43mindex\u001B[49m\u001B[43m,\u001B[49m\u001B[43m \u001B[49m\u001B[43mdtype\u001B[49m\u001B[38;5;241;43m=\u001B[39;49m\u001B[43mdtype\u001B[49m\u001B[43m,\u001B[49m\u001B[43m \u001B[49m\u001B[43mtyp\u001B[49m\u001B[38;5;241;43m=\u001B[39;49m\u001B[43mtyp\u001B[49m\u001B[43m,\u001B[49m\u001B[43m \u001B[49m\u001B[43mconsolidate\u001B[49m\u001B[38;5;241;43m=\u001B[39;49m\u001B[43mcopy\u001B[49m\u001B[43m)\u001B[49m\n",
      "File \u001B[1;32m~\\AppData\\Local\\Programs\\Python\\Python311\\Lib\\site-packages\\pandas\\core\\internals\\construction.py:152\u001B[0m, in \u001B[0;36marrays_to_mgr\u001B[1;34m(arrays, columns, index, dtype, verify_integrity, typ, consolidate)\u001B[0m\n\u001B[0;32m    149\u001B[0m axes \u001B[38;5;241m=\u001B[39m [columns, index]\n\u001B[0;32m    151\u001B[0m \u001B[38;5;28;01mif\u001B[39;00m typ \u001B[38;5;241m==\u001B[39m \u001B[38;5;124m\"\u001B[39m\u001B[38;5;124mblock\u001B[39m\u001B[38;5;124m\"\u001B[39m:\n\u001B[1;32m--> 152\u001B[0m     \u001B[38;5;28;01mreturn\u001B[39;00m \u001B[43mcreate_block_manager_from_column_arrays\u001B[49m\u001B[43m(\u001B[49m\n\u001B[0;32m    153\u001B[0m \u001B[43m        \u001B[49m\u001B[43marrays\u001B[49m\u001B[43m,\u001B[49m\u001B[43m \u001B[49m\u001B[43maxes\u001B[49m\u001B[43m,\u001B[49m\u001B[43m \u001B[49m\u001B[43mconsolidate\u001B[49m\u001B[38;5;241;43m=\u001B[39;49m\u001B[43mconsolidate\u001B[49m\u001B[43m,\u001B[49m\u001B[43m \u001B[49m\u001B[43mrefs\u001B[49m\u001B[38;5;241;43m=\u001B[39;49m\u001B[43mrefs\u001B[49m\n\u001B[0;32m    154\u001B[0m \u001B[43m    \u001B[49m\u001B[43m)\u001B[49m\n\u001B[0;32m    155\u001B[0m \u001B[38;5;28;01melif\u001B[39;00m typ \u001B[38;5;241m==\u001B[39m \u001B[38;5;124m\"\u001B[39m\u001B[38;5;124marray\u001B[39m\u001B[38;5;124m\"\u001B[39m:\n\u001B[0;32m    156\u001B[0m     \u001B[38;5;28;01mreturn\u001B[39;00m ArrayManager(arrays, [index, columns])\n",
      "File \u001B[1;32m~\\AppData\\Local\\Programs\\Python\\Python311\\Lib\\site-packages\\pandas\\core\\internals\\managers.py:2138\u001B[0m, in \u001B[0;36mcreate_block_manager_from_column_arrays\u001B[1;34m(arrays, axes, consolidate, refs)\u001B[0m\n\u001B[0;32m   2120\u001B[0m \u001B[38;5;28;01mdef\u001B[39;00m \u001B[38;5;21mcreate_block_manager_from_column_arrays\u001B[39m(\n\u001B[0;32m   2121\u001B[0m     arrays: \u001B[38;5;28mlist\u001B[39m[ArrayLike],\n\u001B[0;32m   2122\u001B[0m     axes: \u001B[38;5;28mlist\u001B[39m[Index],\n\u001B[1;32m   (...)\u001B[0m\n\u001B[0;32m   2134\u001B[0m     \u001B[38;5;66;03m# These last three are sufficient to allow us to safely pass\u001B[39;00m\n\u001B[0;32m   2135\u001B[0m     \u001B[38;5;66;03m#  verify_integrity=False below.\u001B[39;00m\n\u001B[0;32m   2137\u001B[0m     \u001B[38;5;28;01mtry\u001B[39;00m:\n\u001B[1;32m-> 2138\u001B[0m         blocks \u001B[38;5;241m=\u001B[39m \u001B[43m_form_blocks\u001B[49m\u001B[43m(\u001B[49m\u001B[43marrays\u001B[49m\u001B[43m,\u001B[49m\u001B[43m \u001B[49m\u001B[43mconsolidate\u001B[49m\u001B[43m,\u001B[49m\u001B[43m \u001B[49m\u001B[43mrefs\u001B[49m\u001B[43m)\u001B[49m\n\u001B[0;32m   2139\u001B[0m         mgr \u001B[38;5;241m=\u001B[39m BlockManager(blocks, axes, verify_integrity\u001B[38;5;241m=\u001B[39m\u001B[38;5;28;01mFalse\u001B[39;00m)\n\u001B[0;32m   2140\u001B[0m     \u001B[38;5;28;01mexcept\u001B[39;00m \u001B[38;5;167;01mValueError\u001B[39;00m \u001B[38;5;28;01mas\u001B[39;00m e:\n",
      "File \u001B[1;32m~\\AppData\\Local\\Programs\\Python\\Python311\\Lib\\site-packages\\pandas\\core\\internals\\managers.py:2211\u001B[0m, in \u001B[0;36m_form_blocks\u001B[1;34m(arrays, consolidate, refs)\u001B[0m\n\u001B[0;32m   2208\u001B[0m \u001B[38;5;28;01mif\u001B[39;00m \u001B[38;5;28missubclass\u001B[39m(dtype\u001B[38;5;241m.\u001B[39mtype, (\u001B[38;5;28mstr\u001B[39m, \u001B[38;5;28mbytes\u001B[39m)):\n\u001B[0;32m   2209\u001B[0m     dtype \u001B[38;5;241m=\u001B[39m np\u001B[38;5;241m.\u001B[39mdtype(\u001B[38;5;28mobject\u001B[39m)\n\u001B[1;32m-> 2211\u001B[0m values, placement \u001B[38;5;241m=\u001B[39m \u001B[43m_stack_arrays\u001B[49m\u001B[43m(\u001B[49m\u001B[38;5;28;43mlist\u001B[39;49m\u001B[43m(\u001B[49m\u001B[43mtup_block\u001B[49m\u001B[43m)\u001B[49m\u001B[43m,\u001B[49m\u001B[43m \u001B[49m\u001B[43mdtype\u001B[49m\u001B[43m)\u001B[49m\n\u001B[0;32m   2212\u001B[0m \u001B[38;5;28;01mif\u001B[39;00m is_dtlike:\n\u001B[0;32m   2213\u001B[0m     values \u001B[38;5;241m=\u001B[39m ensure_wrapped_if_datetimelike(values)\n",
      "File \u001B[1;32m~\\AppData\\Local\\Programs\\Python\\Python311\\Lib\\site-packages\\pandas\\core\\internals\\managers.py:2251\u001B[0m, in \u001B[0;36m_stack_arrays\u001B[1;34m(tuples, dtype)\u001B[0m\n\u001B[0;32m   2248\u001B[0m first \u001B[38;5;241m=\u001B[39m arrays[\u001B[38;5;241m0\u001B[39m]\n\u001B[0;32m   2249\u001B[0m shape \u001B[38;5;241m=\u001B[39m (\u001B[38;5;28mlen\u001B[39m(arrays),) \u001B[38;5;241m+\u001B[39m first\u001B[38;5;241m.\u001B[39mshape\n\u001B[1;32m-> 2251\u001B[0m stacked \u001B[38;5;241m=\u001B[39m np\u001B[38;5;241m.\u001B[39mempty(shape, dtype\u001B[38;5;241m=\u001B[39mdtype)\n\u001B[0;32m   2252\u001B[0m \u001B[38;5;28;01mfor\u001B[39;00m i, arr \u001B[38;5;129;01min\u001B[39;00m \u001B[38;5;28menumerate\u001B[39m(arrays):\n\u001B[0;32m   2253\u001B[0m     stacked[i] \u001B[38;5;241m=\u001B[39m arr\n",
      "\u001B[1;31mMemoryError\u001B[0m: Unable to allocate 417. MiB for an array with shape (9, 6076800) and data type float64"
     ]
    }
   ],
   "source": [
    "amr = melt_cols(amr, sorted(unique_prefixes, reverse=True)[10:15])\n",
    "# amr.rename(columns=names_map, inplace=True)\n",
    "amr.iloc[:,-5:]"
   ],
   "metadata": {
    "collapsed": false,
    "ExecuteTime": {
     "end_time": "2024-01-25T07:56:38.553961500Z",
     "start_time": "2024-01-25T07:54:30.640237500Z"
    }
   },
   "id": "58ed11ab71c57753",
   "execution_count": 6
  },
  {
   "cell_type": "code",
   "outputs": [],
   "source": [
    "amr = melt_cols(amr, sorted(unique_prefixes, reverse=True)[15:20])\n",
    "# amr.rename(columns=names_map, inplace=True)\n",
    "amr.iloc[:,-5:]"
   ],
   "metadata": {
    "collapsed": false,
    "ExecuteTime": {
     "start_time": "2024-01-25T07:56:38.432356800Z"
    }
   },
   "id": "b54784be9998d862"
  },
  {
   "cell_type": "code",
   "outputs": [],
   "source": [
    "amr = melt_cols(amr, sorted(unique_prefixes, reverse=True)[20:23])\n",
    "# amr.rename(columns=names_map, inplace=True)\n",
    "amr.iloc[:,-5:]"
   ],
   "metadata": {
    "collapsed": false,
    "ExecuteTime": {
     "start_time": "2024-01-25T07:56:38.482684200Z"
    }
   },
   "id": "a26a2c1703dad5e4"
  },
  {
   "cell_type": "code",
   "outputs": [],
   "source": [
    "# Get the unique values for each of the last 5 columns\n",
    "for col in amr.iloc[:,-23:]:\n",
    "    print(col)\n",
    "    print('-' * len(col))\n",
    "    print(amr[col].value_counts())"
   ],
   "metadata": {
    "collapsed": false,
    "ExecuteTime": {
     "start_time": "2024-01-25T07:56:38.490368400Z"
    }
   },
   "id": "350230072b835bb3",
   "execution_count": null
  },
  {
   "cell_type": "code",
   "outputs": [],
   "source": [
    "amr.iloc[:,-5:] = amr.iloc[:,-5:].replace({'None.1': 'None',\n",
    "                                           'other': 'Other',\n",
    "                                           }).drop_duplicates()\n",
    "\n",
    "amr.iloc[:,-5:]"
   ],
   "metadata": {
    "collapsed": false,
    "ExecuteTime": {
     "start_time": "2024-01-25T07:56:38.491416800Z"
    }
   },
   "id": "f6971dcba3912d78",
   "execution_count": null
  },
  {
   "cell_type": "code",
   "outputs": [],
   "source": [
    "plt.figure(figsize=(15, 10))\n",
    "sns.countplot(amr, x='Name of health facility', hue='h1. value', legend=True, palette=palette, orient='h')\n",
    "plt.xticks(rotation=90)\n",
    "plt.show()"
   ],
   "metadata": {
    "collapsed": false,
    "ExecuteTime": {
     "start_time": "2024-01-25T07:56:38.492576900Z"
    }
   },
   "id": "cb7259a0a92b4eec",
   "execution_count": null
  },
  {
   "cell_type": "code",
   "outputs": [],
   "source": [
    "print(sorted(unique_prefixes))"
   ],
   "metadata": {
    "collapsed": false,
    "ExecuteTime": {
     "start_time": "2024-01-25T07:56:38.493618500Z"
    }
   },
   "id": "7c02388cbdb355c5",
   "execution_count": null
  },
  {
   "cell_type": "code",
   "outputs": [],
   "source": [
    "print(len(prefixes), len(unique_prefixes))"
   ],
   "metadata": {
    "collapsed": false,
    "ExecuteTime": {
     "start_time": "2024-01-25T07:56:38.494627300Z"
    }
   },
   "id": "b1c507051c650d2f",
   "execution_count": null
  }
 ],
 "metadata": {
  "kernelspec": {
   "display_name": "Python 3",
   "language": "python",
   "name": "python3"
  },
  "language_info": {
   "codemirror_mode": {
    "name": "ipython",
    "version": 2
   },
   "file_extension": ".py",
   "mimetype": "text/x-python",
   "name": "python",
   "nbconvert_exporter": "python",
   "pygments_lexer": "ipython2",
   "version": "2.7.6"
  }
 },
 "nbformat": 4,
 "nbformat_minor": 5
}
